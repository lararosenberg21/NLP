{
  "cells": [
    {
      "cell_type": "markdown",
      "metadata": {
        "id": "sZd5yLnnHOK0"
      },
      "source": [
        "#### DESAFIO Nº2\n",
        "\n",
        "Alumna: Lara Rosenberg"
      ]
    },
    {
      "cell_type": "markdown",
      "metadata": {
        "id": "vA7nqkumo9z9"
      },
      "source": [
        "#### CONSIGNA\n",
        "Crear sus propios vectores con Gensim basado en lo visto en clase con otro dataset.\n",
        "Probar términos de interés y explicar similitudes en el espacio de embeddings.\n",
        "Intentar plantear y probar tests de analogías.\n",
        "Graficar los embeddings resultantes.\n",
        "Sacar conclusiones."
      ]
    },
    {
      "cell_type": "code",
      "source": [
        "pip install python-docx"
      ],
      "metadata": {
        "colab": {
          "base_uri": "https://localhost:8080/"
        },
        "id": "mlUqS0uL5ml6",
        "outputId": "41595501-6eb5-4e7c-eabe-14621c3aa857"
      },
      "execution_count": 1,
      "outputs": [
        {
          "output_type": "stream",
          "name": "stdout",
          "text": [
            "Requirement already satisfied: python-docx in /usr/local/lib/python3.10/dist-packages (1.1.2)\n",
            "Requirement already satisfied: lxml>=3.1.0 in /usr/local/lib/python3.10/dist-packages (from python-docx) (5.3.0)\n",
            "Requirement already satisfied: typing-extensions>=4.9.0 in /usr/local/lib/python3.10/dist-packages (from python-docx) (4.12.2)\n"
          ]
        }
      ]
    },
    {
      "cell_type": "code",
      "source": [
        "pip install unidecode"
      ],
      "metadata": {
        "colab": {
          "base_uri": "https://localhost:8080/"
        },
        "id": "IPJrq13X5nw4",
        "outputId": "611017c5-17a1-427f-a76c-ef41dd4981f6"
      },
      "execution_count": 2,
      "outputs": [
        {
          "output_type": "stream",
          "name": "stdout",
          "text": [
            "Requirement already satisfied: unidecode in /usr/local/lib/python3.10/dist-packages (1.3.8)\n"
          ]
        }
      ]
    },
    {
      "cell_type": "code",
      "execution_count": 1,
      "metadata": {
        "id": "lFToQs5FK5uZ",
        "colab": {
          "base_uri": "https://localhost:8080/"
        },
        "outputId": "8fdccf88-b373-4830-c186-df7c866c6b4b"
      },
      "outputs": [
        {
          "output_type": "stream",
          "name": "stderr",
          "text": [
            "[nltk_data] Downloading package stopwords to /root/nltk_data...\n",
            "[nltk_data]   Package stopwords is already up-to-date!\n"
          ]
        }
      ],
      "source": [
        "# Importamos las librerias necesarias\n",
        "import pandas as pd\n",
        "import numpy as np\n",
        "import matplotlib.pyplot as plt\n",
        "import seaborn as sns\n",
        "import multiprocessing\n",
        "from gensim.models import Word2Vec\n",
        "from tensorflow.keras.preprocessing.text import text_to_word_sequence\n",
        "from nltk.corpus import stopwords\n",
        "import nltk\n",
        "nltk.download('stopwords')\n",
        "from unidecode import unidecode\n",
        "from gensim.models.callbacks import CallbackAny2Vec\n",
        "from docx import Document\n",
        "from sklearn.manifold import TSNE\n",
        "import plotly.graph_objects as go\n",
        "import plotly.express as px"
      ]
    },
    {
      "cell_type": "markdown",
      "source": [
        "Para este trabajo, decidí trabajar con un resumen del libro Harry Potter y la piedra filosofal, de J.K. Rowling."
      ],
      "metadata": {
        "id": "Sv1MUY3M4mw_"
      }
    },
    {
      "cell_type": "code",
      "execution_count": 2,
      "metadata": {
        "colab": {
          "base_uri": "https://localhost:8080/"
        },
        "id": "LqFkpmOsDdDs",
        "outputId": "78a20b83-b6a8-40fb-a616-c0fae047e39a"
      },
      "outputs": [
        {
          "output_type": "stream",
          "name": "stdout",
          "text": [
            "La novela comienza con la descripción de los Dursley, una familia de clase media que vive en el numero cuatro de Privet Drive, en Little Whinging, Surrey. Vernon y Petunia Dursley están constantemente preocupados de que alguien pueda enterarse de que la hermana de Petunia, Lily, es una bruja, y estos temores son puestos a prueba cuando el hijo de ella, Harry, es dejado en la puerta de su casa junto a una carta. Lily y su esposo, James Potter, han sido asesinados por Voldemort, un Mago Oscuro, pero cuando este ha intentado matar a Harry, su poder por alguna razón se quebró. Harry se transforma entonces en la única persona que ha sobrevivido a la maldición asesina, y el único signo que ha quedado de su encuentro con Voldemort es su cicatriz en forma de rayo en la frente. Como Harry no tiene ningún otro pariente, Albus Dumbledore, el director del colegio Hogwarts de Magia y Hechicería, decide dejarlo con los Dursley hasta que Harry sea lo suficientemente mayor para concurrir a Hogwarts. Tanto Petunia como Vernon y Dudley son muggle (personas que no son magas).\n",
            "\n",
            "Diez años después, Harry ha crecido hasta transformarse en un niño flaco y pálido, con pelo negro y desenmarañado y ojos verdes y brillantes. Desde una temprana edad, los Dursley le cuentan que sus padres han muerto en un accidente de autos y no le dan más información al respecto. El primo de Harry, Dudley, domina el hogar y se la pasa maltratando a su primo junto a su banda de amigos muggle, todos malcriados por Vernon y Petunia. Mientras que Dudley tiene dos dormitorios, Harry debe dormir en la alacena debajo de las escaleras. A pesar de que Harry evita llamar la atención, no puede evitar que cosas extrañas pasen a su alrededor. Esto sucede porque Harry es un mago pero aun no lo sabe.\n",
            "\n",
            "El día del cumpleaños número once de Dudley, Harry acompaña a la familia al zoológico. Cuando están en el serpentario, el vidrio de la pecera de la boa constrictora desaparece repentinamente. Harry no puede explicar lo que ha pasado, pero el tío Vernon lo castiga y lo deja encerrado hasta el comienzo de las vacaciones de verano. \n",
            "\n",
            "Un día, llega una carta misteriosa para Harry, pero Vernon se niega a entregársela. A partir de ese momento, cada día llegan más y más cartas, hasta que todos los intentos de Vernon por evitarlo fracasan. Entonces, la familia abandona la casa y se esconden en un hotel. Sin embargo, las cartas siguen llegando de a cientos, por lo que Vernon alquila una lúgubre cabaña en el medio del mar y se encierra allí con el objetivo de que no puedan encontarlos para seguir enviándoles aquellas cartas.\n",
            "\n",
            "La noche en que Harry cumple los once años, un gigante llamado Hagrid tira abajo la puerta de la cabaña y se presenta con una torta de cumpleaños y la carta que, hasta ese momento, no había llegado a manos de Harry. Hagrid se presenta como el Guardian de las llaves y los Terrenos de Hogwarts y luego le explica a Harry que él es un mago, y que ha sido admitido en el colegio Hogwarts, de Magia y Hechicería. Harry descubre también que los Dursley siempre han conocido su trasfondo mágico y que han mentido sobre la muerte de sus padres. \n",
            "\n",
            "Al día siguiente, Hagrid lleva a Harry a Diagon Alley, en Londres, donde Harry podrá comprar todo lo que necesita para ir a Hogwarts. Su primera parada es el banco de los magos, Gringotts, donde Harry tiene acceso a la fortuna de sus padres. Luego se dirigen a la bóveda 713, de la que Hagrid retira un paquete que debe llevar a Hogwarts, pero no le puede contar nada a Harry porque se trata de un \"asunto confidencial\". En la siguiente parada, mientras Harry se prueba las túnicas de mago, se encuentra con Draco Malfoy, un niño desagradable que también asistirá a Hogwarts por primera vez. Dado que es el cumpleaños de Harry, Hagrid le regala una lechuza, a la que Harry llamará Hedwig. La última parada del día la realizan en la tienda de varitas mágicas de Ollivander. El viejo propietario de la tienda le dice a Harry que siempre es la varita la que elige al mago y que resulta muy curioso, puesto que la varita que lo elige a él es hermana gemela de la varita de Voldemort, la que le ha causado la cicatriz en la frente.\n",
            "\n",
            "El mes siguiente Harry se presenta en King's Cross para tomar el Expreso de Hogwarts, en la Plataforma 9 y 3/4. Para encontrar la plataforma mágica recibe ayuda de Molly Weasley, la madre de Ron y del resto de Weasleys, que serán todos amigos de Harry. Una vez en el tren, Harry se hace amigo de Ron y conoce a Hermione Granger, otra estudiante que, como ellos, será elegida para la casa de Gryffindor. Tanto Ron como Hermione se muestran ansiosos y angustiados por la ceremonia de elección que se lleva a cabo al llegar a Hogwarts. En el viaje, Harry también conoce a Neville, un muchacho torpe y olvidadizo con el que trabará amistad en el futuro, y a Malfoy y sus secuaces, quienes serán los antagonistas a lo largo de toda la saga.\n",
            "\n",
            "Cuando llegan a Hogwarts, los estudiantes de primer año son llevados en bote al castillo y preparados para la Ceremonia de Selección, en la que se les asignará una de las cuatro casas: Gryffindor, Hufflepuf, Slytherin o Ravenclaw. Harry está preocupado por no pertenecer a Slytherin, que es la casa que ha albergado a Voldemort, y así se lo pide al Sombrero Seleccionador. Este toma en consideración el pedido de Harry y lo envía a Gryffindor, casa a la que también pertenecen Ron, Hermione y Neville.\n",
            "\n",
            "Al comenzar el año escolar, Harry recibe más atención de la que ha recibido en toda su vida, especialmente cuando otros estudiantes se cruzan con él y ven la cicatriz en forma de rayo en su frente. A pesar de que disfruta de casi todas sus clases, Snape, el profesor de pociones, parece determinado a burlarse de Harry y tratarlo mal. Harry también nota que su cicatriz comienza a arderle levemente cuando Snape lo observa. Después de la primera clase de pociones, Harry y Ron visitan a Hagrid en su cabaña cerca del Bosque Prohibido. Hagrid revela accidentalmente que alguien ha tratado de robar el contenido de la bóveda 713 el mismo día que ellos han retirado el paquete.\n",
            "\n",
            "Durante la primera lección de vuelo, Harry y Malfoy se enfrentan cuando este último quiere esconder la Recordadora de Neville en un árbol. Montado en su escoba, Harry persigue la esfera que es arrojada por Malfoy y logra atraparla antes de que toque el suelo. McGonagall contempla la situación, y en vez de suspender a Harry por haber roto las reglas, lo propone como el próximo buscador para el equipo de Quidditch de Gryffindor. Resentido, Malfoy busca problemas los días siguientes y desafía a Harry a un duelo a la medianoche, en el salón de trofeos. Harry se presenta, acompañado por Ron y por Hermione, que se les ha sumado tratando de detenerlos, pero Malfoy no está allí, sino que les tendió una trampa y le avisó a Filch, el celador. Escapando, los niños terminan accidentalmente en el corredor prohibido del tercer piso, donde descubren que hay un enorme perro de tres cabezas custodiando una puerta trampa. Reflexionando sobre lo que puede estar escondido tras la puerta, los tres amigos concluyen en que debe tratarse del paquete que estaba en la bóveda 713.\n",
            "\n",
            "La noche de Halloween, mientras festejan en el Gran Salón, el Profesor Quirrell avisa de la presencia de un troll en el castillo, y los estudiantes son escoltados a sus respectivas casas. Harry y Ron se escabullen para encontrar a Hermione, que está en el baño de chicas y no ha escuchado la advertencia. Luego de encerrar accidentalmente al troll en el mismo baño, Ron y Harry lo atacan y logran dejarlo inconsciente. Hermione se responsabiliza por los hechos frente a los profesores, y así los tres se hacen buenos amigos. Al poco tiempo, Harry participa por primera vez en un partido de Quidditch. Mientras busca la Snitch alguien hechiza su escoba, que comienza a dar tumbos tratando de derribarlo. Hermione sospecha de Snape y se prende fuego la ropa para romper su concentración. Harry recupera así el control y, minutos después, captura la Snitch y gana el partido.\n",
            "\n",
            "Durante la Navidad, Harry y Ron se quedan en Hogwats y tratan de averiguar quién es Nicolas Flamel, un mago que Hagrid ha mencionado accidentalmente en conexión con el paquete secreto. La mañana de Navidad, Harry Potter se asombra de haber recibido regalos. Entre ellos, encuentra una capa de invisibilidad junto a una nota misteriosa en la que le dicen que pertenecía a su padre, y le recomiendan que la use con responsabilidad. Esa noche, Harry prueba la capa de invisibilidad y accidentalmente se encuentra con un gran espejo en el medio de una sala. Cuando se mira al espejo, se ve con sus padres muertos y otros familiares que lo acompañan. Harry vuelve las noches siguientes hasta que se encuentra con Dumbledore en la sala. El profesor parece haberlo estado esperando, y le explica que el Espejo de Oesed revela los deseos más profundos, pero no otorga conocimientos ni verdades. También le dice que el espejo será reubicado, y que Harry no debe tratar de encontrarlo.\n",
            "\n",
            "Después de las vacaciones, los niños descubren quién es Nicolas Flamel: se trata de un alquimista que ha logrado obtener la piedra filosofal, que puede convertir el metal en oro y producir el elixir de la vida. Entonces comprenden que el perro de tres cabezas está custodiando la piedra, y Harry sospecha de que Snape está planeando robarla. Los tres amigos también descubren que Hagrid está criando un dragón nacido de un huevo que le ha ganado a un extraño encapuchado en una partida de cartas, a quien Hagrid le ha hablado del perro de tres cabezas. Los niños ayudan a Hagrid a deshacerse del dragón y se lo envían a Charlie, el hermano de Ron, que trabaja con dragones en Rumania. Esa noche, al regresar a la sala común, Harry y Hermione son atrapados por la Profesora McGonagall y castigados, junto a Malfoy y a Neville, con una suspensión que implica acompañar a Hagrid al Bosque Prohibido.\n",
            "\n",
            "En el Bosque, Hagrid separa a los niños en dos grupos para seguir los rastros de un unicornio herido. Harry y Malfoy se encuenran con el unicornio muerto, justo en el momento en que una criatura encapuchada está bebiendo su sangre. Malfoy grita y escapa, pero Harry está paralizado por un dolor lacerante que comienza a expandirse desde su cicatriz. Cuando la figura se mueve hacia él, un centauro salta sobre Harry y lo protege. El centauro le deja entrever a Harry que la figura no es otro que Voldemor, y que toma sangre de unicornio para mantenerse vivo mientras trata de robar la piedra filosofal.\n",
            "\n",
            "Harry entonces decide obener la piedra antes de que lo logre Voldemort. Los tres niños se dirigen al corredor prohibido y sortean al perro de tres cabezas al tocar una melodía con la flauta, ya que el animal se duerme con la música, tal como ha revelado Hagrid. Cuando atraviesan la puerta trampa son atrapados por una enredadera mágica, que Hermione hace retroceder gracias a la luminosidad de un fuego que conjura. El siguiente desafío al que se enfrentan es encontrar la llave, para abrir la siguiente puerta, entre las cientos que vuelan por toda la sala. Harry usa una escoba voladora y sus habilidades como buscador para dar con ella y abrir la puerta. La siguiente sala contiene un ajedrez gigante y encantado que solo los dejará pasar si logran ganar la partida. Gracias a la habilidad de Ron, Harry y Hermione acceden a la siguiente sala, en la que los espera un acertijo preparado sobre siete pociones. La inteligencia de Hermione le permite descifrar el acertijo, pero solo una persona puede seguir adelante. Entonces, Hermione regresa para buscar a Dumbledore y cuidar a Ron, y Harry abre la última puerta.\n",
            "\n",
            "Harry se sorprende al no encontrar en la última sala ni al Profesor Snape ni a Voldemort, sino al Profesor Quirrell, el tartamudo profesor de Defensa contra las Artes Oscuras. Quirrell está parado frente al Espejo de Oesed y atrapa sin esfuerzo a Harry con cuerdas mágicas que hace aparecer. Teniendo al niño prisionero, Quirrell revela que es él y no Snape quien ha estado sirviendo a Voldemort durante todo el año. Ahora, en el último desafío, necesita obtener la piedra filosofal del Espejo de Oesed, y para eso le pide ayuda a su maestro. Harry escucha una voz incorpórea que habla desde el propio Quirrell, y que le dice al profesor que debe usar al niño para obtenerla. Quirrell entonces suelta a Harry, lo coloca frente al Espejo y le pregunta qué es lo que ve. Determinado a evitar que Voldemort obtenga la piedra, Harry miente y dice que se ve a sí mismo ganando la copa de Quidditch para Gryffindor, cuando en verdad se ve a sí mismo con la piedra en la mano y se la guarda en el bolsillo. Al darse cuenta que de pronto la piedra Filosofal realmente está en su bolsillo, Harry trata de ganar tiempo para poder huir, pero Voldemort sabe que miente y le dice a Quirrell que lo ponga cara a cara con el niño. Quirrell entonces se quita el turbante y da la espalda a Harry, quien puede ver el rostro de Voldemort emergiendo en la nuca de su profesor. Voldemort ordena entonces a su sirviente que atrape a Harry, pero cuando Quirrell lo toca sus manos se ampollan como si las estuviera poniendo al fuego. Harry aprovecha esto y presiona con ambas manos la cabeza de su profesor, quien comienza a gritar de dolor. Mientras mantiene el contacto, el dolor que comienza a sentir en su cicatriz se hace tan potente que Harry termina por desmayarse.\n",
            "\n",
            "Cuando se despierta, Harry está en el hospital, junto a Dumbledore. El director le cuenta que lo encontró justo para evitar que Quirrell lo matara, aunque Voldemort ha vuelto a escapar. Dumbledore también le explica que Quirrell no podía tocar la piel de Harry por la protección que le dejó el amor de su madre. El anciano profesor sabía que solo Harry sería capaz de obtener la piedra filosofal del Espejo, porque, al contrario que Quirrell o Voldemort, Harry no quería encontrarla para usarla personalmente, sino para protegerla. A pesar de que Voldemort no ha sido destruido, las acciones de Harry han contribuido a que el mago oscuro no recupere su poder, al menos por el momento.\n",
            "\n",
            "Al final del banquete anual, los miembros de Slytherin están celebrando el triunfo de su casa, pero, repentinamente, Dumbledore anuncia que debe otorgar algunos puntos de último momento. Premia la valentía de Harry, Ron, Hermione y Neville otorgándole a Gryffindor 170 puntos adicionales, con los cuales esta pasa a ser la casa victoriosa, sobre Slytherin. Harry piensa que esa es la noche más feliz de su vida; aunque tenga que volver a pasar el verano con los Dursley, sabe que ha encontrado su lugar en el mundo.\n"
          ]
        }
      ],
      "source": [
        "# Cargamos el archivo de un word\n",
        "documento = Document('resumen_harry_potter_1.docx')\n",
        "\n",
        "# Leemos el contenido del documento\n",
        "texto = []\n",
        "for parrafo in documento.paragraphs:\n",
        "    texto.append(parrafo.text)\n",
        "\n",
        "# Unimos los parrafos en un solo string\n",
        "texto_completo = '\\n'.join(texto)\n",
        "\n",
        "print(texto_completo)"
      ]
    },
    {
      "cell_type": "code",
      "execution_count": 3,
      "metadata": {
        "colab": {
          "base_uri": "https://localhost:8080/"
        },
        "id": "HreadZTMDdDs",
        "outputId": "e0586187-02d6-43e0-c296-b70f68fd0504"
      },
      "outputs": [
        {
          "output_type": "stream",
          "name": "stdout",
          "text": [
            "[['novela', 'comienza', 'descripcion', 'dursley', 'familia', 'clase', 'media', 'vive', 'numero', 'cuatro', 'privet', 'drive', 'little', 'whinging', 'surrey', 'vernon', 'petunia', 'dursley', 'constantemente', 'preocupados', 'alguien', 'pueda', 'enterarse', 'hermana', 'petunia', 'lily', 'bruja', 'temores', 'puestos', 'prueba', 'hijo', 'harry', 'dejado', 'puerta', 'casa', 'junto', 'carta', 'lily', 'esposo', 'james', 'potter', 'sido', 'asesinados', 'voldemort', 'mago', 'oscuro', 'intentado', 'matar', 'harry', 'poder', 'alguna', 'razon', 'quebro', 'harry', 'transforma', 'entonces', 'unica', 'persona', 'sobrevivido', 'maldicion', 'asesina', 'unico', 'signo', 'quedado', 'encuentro', 'voldemort', 'cicatriz', 'forma', 'rayo', 'frente', 'harry', 'ningun', 'pariente', 'albus', 'dumbledore', 'director', 'colegio', 'hogwarts', 'magia', 'hechiceria', 'decide', 'dejarlo', 'dursley', 'harry', 'suficientemente', 'mayor', 'concurrir', 'hogwarts', 'petunia', 'vernon', 'dudley', 'muggle', 'personas', 'magas'], [], ['diez', 'anos', 'despues', 'harry', 'crecido', 'transformarse', 'nino', 'flaco', 'palido', 'pelo', 'negro', 'desenmaranado', 'ojos', 'verdes', 'brillantes', 'temprana', 'edad', 'dursley', 'cuentan', 'padres', 'muerto', 'accidente', 'autos', 'dan', 'informacion', 'respecto', 'primo', 'harry', 'dudley', 'domina', 'hogar', 'pasa', 'maltratando', 'primo', 'junto', 'banda', 'amigos', 'muggle', 'malcriados', 'vernon', 'petunia', 'mientras', 'dudley', 'dos', 'dormitorios', 'harry', 'debe', 'dormir', 'alacena', 'debajo', 'escaleras', 'pesar', 'harry', 'evita', 'llamar', 'atencion', 'puede', 'evitar', 'cosas', 'extranas', 'pasen', 'alrededor', 'sucede', 'harry', 'mago', 'aun', 'sabe'], [], ['dia', 'cumpleanos', 'numero', 'once', 'dudley', 'harry', 'acompana', 'familia', 'zoologico', 'serpentario', 'vidrio', 'pecera', 'boa', 'constrictora', 'desaparece', 'repentinamente', 'harry', 'puede', 'explicar', 'pasado', 'tio', 'vernon', 'castiga', 'deja', 'encerrado', 'comienzo', 'vacaciones', 'verano'], [], ['dia', 'llega', 'carta', 'misteriosa', 'harry', 'vernon', 'niega', 'entregarsela', 'partir', 'momento', 'cada', 'dia', 'llegan', 'cartas', 'intentos', 'vernon', 'evitarlo', 'fracasan', 'entonces', 'familia', 'abandona', 'casa', 'esconden', 'hotel', 'embargo', 'cartas', 'siguen', 'llegando', 'cientos', 'vernon', 'alquila', 'lugubre', 'cabana', 'medio', 'mar', 'encierra', 'alli', 'objetivo', 'puedan', 'encontarlos', 'seguir', 'enviandoles', 'aquellas', 'cartas'], [], ['noche', 'harry', 'cumple', 'once', 'anos', 'gigante', 'llamado', 'hagrid', 'tira', 'abajo', 'puerta', 'cabana', 'presenta', 'torta', 'cumpleanos', 'carta', 'momento', 'llegado', 'manos', 'harry', 'hagrid', 'presenta', 'guardian', 'llaves', 'terrenos', 'hogwarts', 'luego', 'explica', 'harry', 'mago', 'sido', 'admitido', 'colegio', 'hogwarts', 'magia', 'hechiceria', 'harry', 'descubre', 'dursley', 'siempre', 'conocido', 'trasfondo', 'magico', 'mentido', 'muerte', 'padres'], [], ['dia', 'siguiente', 'hagrid', 'lleva', 'harry', 'diagon', 'alley', 'londres', 'harry', 'podra', 'comprar', 'necesita', 'ir', 'hogwarts', 'primera', 'parada', 'banco', 'magos', 'gringotts', 'harry', 'acceso', 'fortuna', 'padres', 'luego', 'dirigen', 'boveda', '713', 'hagrid', 'retira', 'paquete', 'debe', 'llevar', 'hogwarts', 'puede', 'contar', 'harry', 'trata', 'asunto', 'confidencial', 'siguiente', 'parada', 'mientras', 'harry', 'prueba', 'tunicas', 'mago', 'encuentra', 'draco', 'malfoy', 'nino', 'desagradable', 'asistira', 'hogwarts', 'primera', 'vez', 'dado', 'cumpleanos', 'harry', 'hagrid', 'regala', 'lechuza', 'harry', 'llamara', 'hedwig', 'ultima', 'parada', 'dia', 'realizan', 'tienda', 'varitas', 'magicas', 'ollivander', 'viejo', 'propietario', 'tienda', 'dice', 'harry', 'siempre', 'varita', 'elige', 'mago', 'resulta', 'curioso', 'puesto', 'varita', 'elige', 'hermana', 'gemela', 'varita', 'voldemort', 'causado', 'cicatriz', 'frente'], [], ['mes', 'siguiente', 'harry', 'presenta', \"king's\", 'cross', 'tomar', 'expreso', 'hogwarts', 'plataforma', '9', '3', '4', 'encontrar', 'plataforma', 'magica', 'recibe', 'ayuda', 'molly', 'weasley', 'madre', 'ron', 'resto', 'weasleys', 'amigos', 'harry', 'vez', 'tren', 'harry', 'hace', 'amigo', 'ron', 'conoce', 'hermione', 'granger', 'estudiante', 'elegida', 'casa', 'gryffindor', 'ron', 'hermione', 'muestran', 'ansiosos', 'angustiados', 'ceremonia', 'eleccion', 'lleva', 'cabo', 'llegar', 'hogwarts', 'viaje', 'harry', 'conoce', 'neville', 'muchacho', 'torpe', 'olvidadizo', 'trabara', 'amistad', 'futuro', 'malfoy', 'secuaces', 'antagonistas', 'largo', 'toda', 'saga'], [], ['llegan', 'hogwarts', 'estudiantes', 'primer', 'ano', 'llevados', 'bote', 'castillo', 'preparados', 'ceremonia', 'seleccion', 'asignara', 'cuatro', 'casas', 'gryffindor', 'hufflepuf', 'slytherin', 'ravenclaw', 'harry', 'preocupado', 'pertenecer', 'slytherin', 'casa', 'albergado', 'voldemort', 'asi', 'pide', 'sombrero', 'seleccionador', 'toma', 'consideracion', 'pedido', 'harry', 'envia', 'gryffindor', 'casa', 'pertenecen', 'ron', 'hermione', 'neville'], [], ['comenzar', 'ano', 'escolar', 'harry', 'recibe', 'atencion', 'recibido', 'toda', 'vida', 'especialmente', 'estudiantes', 'cruzan', 'ven', 'cicatriz', 'forma', 'rayo', 'frente', 'pesar', 'disfruta', 'casi', 'todas', 'clases', 'snape', 'profesor', 'pociones', 'parece', 'determinado', 'burlarse', 'harry', 'tratarlo', 'mal', 'harry', 'nota', 'cicatriz', 'comienza', 'arderle', 'levemente', 'snape', 'observa', 'despues', 'primera', 'clase', 'pociones', 'harry', 'ron', 'visitan', 'hagrid', 'cabana', 'cerca', 'bosque', 'prohibido', 'hagrid', 'revela', 'accidentalmente', 'alguien', 'tratado', 'robar', 'contenido', 'boveda', '713', 'mismo', 'dia', 'retirado', 'paquete'], [], ['primera', 'leccion', 'vuelo', 'harry', 'malfoy', 'enfrentan', 'ultimo', 'quiere', 'esconder', 'recordadora', 'neville', 'arbol', 'montado', 'escoba', 'harry', 'persigue', 'esfera', 'arrojada', 'malfoy', 'logra', 'atraparla', 'toque', 'suelo', 'mcgonagall', 'contempla', 'situacion', 'vez', 'suspender', 'harry', 'haber', 'roto', 'reglas', 'propone', 'proximo', 'buscador', 'equipo', 'quidditch', 'gryffindor', 'resentido', 'malfoy', 'busca', 'problemas', 'dias', 'siguientes', 'desafia', 'harry', 'duelo', 'medianoche', 'salon', 'trofeos', 'harry', 'presenta', 'acompanado', 'ron', 'hermione', 'sumado', 'tratando', 'detenerlos', 'malfoy', 'alli', 'sino', 'tendio', 'trampa', 'aviso', 'filch', 'celador', 'escapando', 'ninos', 'terminan', 'accidentalmente', 'corredor', 'prohibido', 'tercer', 'piso', 'descubren', 'enorme', 'perro', 'tres', 'cabezas', 'custodiando', 'puerta', 'trampa', 'reflexionando', 'puede', 'escondido', 'tras', 'puerta', 'tres', 'amigos', 'concluyen', 'debe', 'tratarse', 'paquete', 'boveda', '713'], [], ['noche', 'halloween', 'mientras', 'festejan', 'gran', 'salon', 'profesor', 'quirrell', 'avisa', 'presencia', 'troll', 'castillo', 'estudiantes', 'escoltados', 'respectivas', 'casas', 'harry', 'ron', 'escabullen', 'encontrar', 'hermione', 'bano', 'chicas', 'escuchado', 'advertencia', 'luego', 'encerrar', 'accidentalmente', 'troll', 'mismo', 'bano', 'ron', 'harry', 'atacan', 'logran', 'dejarlo', 'inconsciente', 'hermione', 'responsabiliza', 'hechos', 'frente', 'profesores', 'asi', 'tres', 'hacen', 'buenos', 'amigos', 'tiempo', 'harry', 'participa', 'primera', 'vez', 'partido', 'quidditch', 'mientras', 'busca', 'snitch', 'alguien', 'hechiza', 'escoba', 'comienza', 'dar', 'tumbos', 'tratando', 'derribarlo', 'hermione', 'sospecha', 'snape', 'prende', 'fuego', 'ropa', 'romper', 'concentracion', 'harry', 'recupera', 'asi', 'control', 'minutos', 'despues', 'captura', 'snitch', 'gana', 'partido'], [], ['navidad', 'harry', 'ron', 'quedan', 'hogwats', 'tratan', 'averiguar', 'quien', 'nicolas', 'flamel', 'mago', 'hagrid', 'mencionado', 'accidentalmente', 'conexion', 'paquete', 'secreto', 'manana', 'navidad', 'harry', 'potter', 'asombra', 'haber', 'recibido', 'regalos', 'encuentra', 'capa', 'invisibilidad', 'junto', 'nota', 'misteriosa', 'dicen', 'pertenecia', 'padre', 'recomiendan', 'use', 'responsabilidad', 'noche', 'harry', 'prueba', 'capa', 'invisibilidad', 'accidentalmente', 'encuentra', 'gran', 'espejo', 'medio', 'sala', 'mira', 'espejo', 've', 'padres', 'muertos', 'familiares', 'acompanan', 'harry', 'vuelve', 'noches', 'siguientes', 'encuentra', 'dumbledore', 'sala', 'profesor', 'parece', 'haberlo', 'esperando', 'explica', 'espejo', 'oesed', 'revela', 'deseos', 'profundos', 'otorga', 'conocimientos', 'verdades', 'dice', 'espejo', 'reubicado', 'harry', 'debe', 'tratar', 'encontrarlo'], [], ['despues', 'vacaciones', 'ninos', 'descubren', 'quien', 'nicolas', 'flamel', 'trata', 'alquimista', 'logrado', 'obtener', 'piedra', 'filosofal', 'puede', 'convertir', 'metal', 'oro', 'producir', 'elixir', 'vida', 'entonces', 'comprenden', 'perro', 'tres', 'cabezas', 'custodiando', 'piedra', 'harry', 'sospecha', 'snape', 'planeando', 'robarla', 'tres', 'amigos', 'descubren', 'hagrid', 'criando', 'dragon', 'nacido', 'huevo', 'ganado', 'extrano', 'encapuchado', 'partida', 'cartas', 'hagrid', 'hablado', 'perro', 'tres', 'cabezas', 'ninos', 'ayudan', 'hagrid', 'deshacerse', 'dragon', 'envian', 'charlie', 'hermano', 'ron', 'trabaja', 'dragones', 'rumania', 'noche', 'regresar', 'sala', 'comun', 'harry', 'hermione', 'atrapados', 'profesora', 'mcgonagall', 'castigados', 'junto', 'malfoy', 'neville', 'suspension', 'implica', 'acompanar', 'hagrid', 'bosque', 'prohibido'], [], ['bosque', 'hagrid', 'separa', 'ninos', 'dos', 'grupos', 'seguir', 'rastros', 'unicornio', 'herido', 'harry', 'malfoy', 'encuenran', 'unicornio', 'muerto', 'justo', 'momento', 'criatura', 'encapuchada', 'bebiendo', 'sangre', 'malfoy', 'grita', 'escapa', 'harry', 'paralizado', 'dolor', 'lacerante', 'comienza', 'expandirse', 'cicatriz', 'figura', 'mueve', 'hacia', 'centauro', 'salta', 'harry', 'protege', 'centauro', 'deja', 'entrever', 'harry', 'figura', 'voldemor', 'toma', 'sangre', 'unicornio', 'mantenerse', 'vivo', 'mientras', 'trata', 'robar', 'piedra', 'filosofal'], [], ['harry', 'entonces', 'decide', 'obener', 'piedra', 'logre', 'voldemort', 'tres', 'ninos', 'dirigen', 'corredor', 'prohibido', 'sortean', 'perro', 'tres', 'cabezas', 'tocar', 'melodia', 'flauta', 'animal', 'duerme', 'musica', 'tal', 'revelado', 'hagrid', 'atraviesan', 'puerta', 'trampa', 'atrapados', 'enredadera', 'magica', 'hermione', 'hace', 'retroceder', 'gracias', 'luminosidad', 'fuego', 'conjura', 'siguiente', 'desafio', 'enfrentan', 'encontrar', 'llave', 'abrir', 'siguiente', 'puerta', 'cientos', 'vuelan', 'toda', 'sala', 'harry', 'usa', 'escoba', 'voladora', 'habilidades', 'buscador', 'dar', 'abrir', 'puerta', 'siguiente', 'sala', 'contiene', 'ajedrez', 'gigante', 'encantado', 'solo', 'dejara', 'pasar', 'si', 'logran', 'ganar', 'partida', 'gracias', 'habilidad', 'ron', 'harry', 'hermione', 'acceden', 'siguiente', 'sala', 'espera', 'acertijo', 'preparado', 'siete', 'pociones', 'inteligencia', 'hermione', 'permite', 'descifrar', 'acertijo', 'solo', 'persona', 'puede', 'seguir', 'adelante', 'entonces', 'hermione', 'regresa', 'buscar', 'dumbledore', 'cuidar', 'ron', 'harry', 'abre', 'ultima', 'puerta'], [], ['harry', 'sorprende', 'encontrar', 'ultima', 'sala', 'profesor', 'snape', 'voldemort', 'sino', 'profesor', 'quirrell', 'tartamudo', 'profesor', 'defensa', 'artes', 'oscuras', 'quirrell', 'parado', 'frente', 'espejo', 'oesed', 'atrapa', 'esfuerzo', 'harry', 'cuerdas', 'magicas', 'hace', 'aparecer', 'nino', 'prisionero', 'quirrell', 'revela', 'snape', 'sirviendo', 'voldemort', 'ano', 'ahora', 'ultimo', 'desafio', 'necesita', 'obtener', 'piedra', 'filosofal', 'espejo', 'oesed', 'pide', 'ayuda', 'maestro', 'harry', 'escucha', 'voz', 'incorporea', 'habla', 'propio', 'quirrell', 'dice', 'profesor', 'debe', 'usar', 'nino', 'obtenerla', 'quirrell', 'entonces', 'suelta', 'harry', 'coloca', 'frente', 'espejo', 'pregunta', 've', 'determinado', 'evitar', 'voldemort', 'obtenga', 'piedra', 'harry', 'miente', 'dice', 've', 'mismo', 'ganando', 'copa', 'quidditch', 'gryffindor', 'verdad', 've', 'mismo', 'piedra', 'mano', 'guarda', 'bolsillo', 'darse', 'cuenta', 'pronto', 'piedra', 'filosofal', 'realmente', 'bolsillo', 'harry', 'trata', 'ganar', 'tiempo', 'poder', 'huir', 'voldemort', 'sabe', 'miente', 'dice', 'quirrell', 'ponga', 'cara', 'cara', 'nino', 'quirrell', 'entonces', 'quita', 'turbante', 'da', 'espalda', 'harry', 'puede', 'ver', 'rostro', 'voldemort', 'emergiendo', 'nuca', 'profesor', 'voldemort', 'ordena', 'entonces', 'sirviente', 'atrape', 'harry', 'quirrell', 'toca', 'manos', 'ampollan', 'si', 'poniendo', 'fuego', 'harry', 'aprovecha', 'presiona', 'ambas', 'manos', 'cabeza', 'profesor', 'comienza', 'gritar', 'dolor', 'mientras', 'mantiene', 'contacto', 'dolor', 'comienza', 'sentir', 'cicatriz', 'hace', 'tan', 'potente', 'harry', 'termina', 'desmayarse'], [], ['despierta', 'harry', 'hospital', 'junto', 'dumbledore', 'director', 'cuenta', 'encontro', 'justo', 'evitar', 'quirrell', 'matara', 'aunque', 'voldemort', 'vuelto', 'escapar', 'dumbledore', 'explica', 'quirrell', 'podia', 'tocar', 'piel', 'harry', 'proteccion', 'dejo', 'amor', 'madre', 'anciano', 'profesor', 'sabia', 'solo', 'harry', 'capaz', 'obtener', 'piedra', 'filosofal', 'espejo', 'contrario', 'quirrell', 'voldemort', 'harry', 'queria', 'encontrarla', 'usarla', 'personalmente', 'sino', 'protegerla', 'pesar', 'voldemort', 'sido', 'destruido', 'acciones', 'harry', 'contribuido', 'mago', 'oscuro', 'recupere', 'poder', 'menos', 'momento'], [], ['final', 'banquete', 'anual', 'miembros', 'slytherin', 'celebrando', 'triunfo', 'casa', 'repentinamente', 'dumbledore', 'anuncia', 'debe', 'otorgar', 'puntos', 'ultimo', 'momento', 'premia', 'valentia', 'harry', 'ron', 'hermione', 'neville', 'otorgandole', 'gryffindor', '170', 'puntos', 'adicionales', 'cuales', 'pasa', 'ser', 'casa', 'victoriosa', 'slytherin', 'harry', 'piensa', 'noche', 'feliz', 'vida', 'aunque', 'volver', 'pasar', 'verano', 'dursley', 'sabe', 'encontrado', 'lugar', 'mundo']]\n"
          ]
        }
      ],
      "source": [
        "# Como preprocesamiento del texto, eliminamos stopwords (palabras muy frecuentes como conectores) y eliminamos las tildes\n",
        "stop_words = set(stopwords.words('spanish'))\n",
        "\n",
        "secuencia_palabras = [\n",
        "    [unidecode(palabra) for palabra in text_to_word_sequence(parrafo) if palabra not in stop_words]\n",
        "    for parrafo in texto]\n",
        "\n",
        "print(secuencia_palabras)"
      ]
    },
    {
      "cell_type": "markdown",
      "source": [
        "Generamos los tokens"
      ],
      "metadata": {
        "id": "eNBAFCKyNYj4"
      }
    },
    {
      "cell_type": "code",
      "source": [
        "# Crearmos el modelo generador de vectores, en este caso utilizaremos la estructura modelo Skipgram\n",
        "w2v_model = Word2Vec(min_count=2,    # frecuencia mínima de palabra para incluirla en el vocabulario\n",
        "                     window=3,       # cant de palabras antes y desp de la predicha\n",
        "                     vector_size=300,# dimensionalidad de los vectores\n",
        "                     negative=20,    # cantidad de negative samples... 0 es no se usa\n",
        "                     workers=1,\n",
        "                     sg=1)           # modelo 0:CBOW  1:skipgram"
      ],
      "metadata": {
        "id": "kzoTZeG3FBc5"
      },
      "execution_count": 4,
      "outputs": []
    },
    {
      "cell_type": "code",
      "source": [
        "# Obtenemos el vocabulario con los tokens\n",
        "w2v_model.build_vocab(secuencia_palabras)"
      ],
      "metadata": {
        "id": "RVseiqrvFBhS"
      },
      "execution_count": 5,
      "outputs": []
    },
    {
      "cell_type": "code",
      "source": [
        "# Cantidad de filas/docs encontradas en el corpus\n",
        "print(\"Cantidad de documentos en el corpus:\", w2v_model.corpus_count)"
      ],
      "metadata": {
        "colab": {
          "base_uri": "https://localhost:8080/"
        },
        "id": "4hIcI0cpFBkK",
        "outputId": "45bb916f-0a8e-48b4-ce82-6082bb3368d7"
      },
      "execution_count": 6,
      "outputs": [
        {
          "output_type": "stream",
          "name": "stdout",
          "text": [
            "Cantidad de documentos en el corpus: 35\n"
          ]
        }
      ]
    },
    {
      "cell_type": "code",
      "source": [
        "# Cantidad de words encontradas en el corpus\n",
        "print(\"Cantidad de palabras distintas en el corpus:\", len(w2v_model.wv.index_to_key))"
      ],
      "metadata": {
        "colab": {
          "base_uri": "https://localhost:8080/"
        },
        "id": "FwcZzvP-FBm_",
        "outputId": "c490c9e7-20b3-413b-e791-236361b103a9"
      },
      "execution_count": 7,
      "outputs": [
        {
          "output_type": "stream",
          "name": "stdout",
          "text": [
            "Cantidad de palabras distintas en el corpus: 202\n"
          ]
        }
      ]
    },
    {
      "cell_type": "code",
      "source": [
        "# Durante el entrenamiento gensim por defecto no informa el \"loss\" en cada época, creamos esta funcion para incluirlo\n",
        "class callback(CallbackAny2Vec):\n",
        "    \"\"\"\n",
        "    Callback to print loss after each epoch\n",
        "    \"\"\"\n",
        "    def __init__(self):\n",
        "        self.epoch = 0\n",
        "\n",
        "    def on_epoch_end(self, model):\n",
        "        loss = model.get_latest_training_loss()\n",
        "        if self.epoch == 0:\n",
        "            print('Loss after epoch {}: {}'.format(self.epoch, loss))\n",
        "        else:\n",
        "            print('Loss after epoch {}: {}'.format(self.epoch, loss- self.loss_previous_step))\n",
        "        self.epoch += 1\n",
        "        self.loss_previous_step = loss"
      ],
      "metadata": {
        "id": "Y1_9xufYLhZB"
      },
      "execution_count": 8,
      "outputs": []
    },
    {
      "cell_type": "markdown",
      "source": [
        "Entrenamos los embeddings"
      ],
      "metadata": {
        "id": "OADe8stuNccl"
      }
    },
    {
      "cell_type": "code",
      "source": [
        "# Entrenamos el modelo generador de vectores\n",
        "w2v_model.train(secuencia_palabras,\n",
        "                 total_examples=w2v_model.corpus_count,\n",
        "                 epochs=50,\n",
        "                 compute_loss = True,\n",
        "                 callbacks=[callback()]\n",
        "                 )"
      ],
      "metadata": {
        "colab": {
          "base_uri": "https://localhost:8080/"
        },
        "id": "Cwi0yTo3FpmM",
        "outputId": "28283f8d-786b-4d31-895c-22a415934c43"
      },
      "execution_count": 9,
      "outputs": [
        {
          "output_type": "stream",
          "name": "stdout",
          "text": [
            "Loss after epoch 0: 25293.953125\n",
            "Loss after epoch 1: 25818.24609375\n",
            "Loss after epoch 2: 14714.95703125\n",
            "Loss after epoch 3: 8675.296875\n",
            "Loss after epoch 4: 7267.1171875\n",
            "Loss after epoch 5: 7096.6640625\n",
            "Loss after epoch 6: 7204.1015625\n",
            "Loss after epoch 7: 6822.5234375\n",
            "Loss after epoch 8: 7411.203125\n",
            "Loss after epoch 9: 7083.765625\n",
            "Loss after epoch 10: 7335.5390625\n",
            "Loss after epoch 11: 7140.4765625\n",
            "Loss after epoch 12: 6967.921875\n",
            "Loss after epoch 13: 7316.453125\n",
            "Loss after epoch 14: 7229.25\n",
            "Loss after epoch 15: 7199.875\n",
            "Loss after epoch 16: 6888.34375\n",
            "Loss after epoch 17: 7108.234375\n",
            "Loss after epoch 18: 7317.484375\n",
            "Loss after epoch 19: 7124.875\n",
            "Loss after epoch 20: 7400.21875\n",
            "Loss after epoch 21: 7493.546875\n",
            "Loss after epoch 22: 6993.765625\n",
            "Loss after epoch 23: 6871.34375\n",
            "Loss after epoch 24: 7148.703125\n",
            "Loss after epoch 25: 7527.171875\n",
            "Loss after epoch 26: 7179.078125\n",
            "Loss after epoch 27: 7167.59375\n",
            "Loss after epoch 28: 7349.390625\n",
            "Loss after epoch 29: 7185.953125\n",
            "Loss after epoch 30: 7010.265625\n",
            "Loss after epoch 31: 7268.8125\n",
            "Loss after epoch 32: 7469.84375\n",
            "Loss after epoch 33: 7319.53125\n",
            "Loss after epoch 34: 7051.65625\n",
            "Loss after epoch 35: 6729.375\n",
            "Loss after epoch 36: 7410.96875\n",
            "Loss after epoch 37: 6922.5\n",
            "Loss after epoch 38: 7278.40625\n",
            "Loss after epoch 39: 7285.5\n",
            "Loss after epoch 40: 7395.78125\n",
            "Loss after epoch 41: 6707.4375\n",
            "Loss after epoch 42: 7204.625\n",
            "Loss after epoch 43: 7022.8125\n",
            "Loss after epoch 44: 7424.65625\n",
            "Loss after epoch 45: 7225.9375\n",
            "Loss after epoch 46: 6830.46875\n",
            "Loss after epoch 47: 6986.78125\n",
            "Loss after epoch 48: 7346.0625\n",
            "Loss after epoch 49: 7059.21875\n"
          ]
        },
        {
          "output_type": "execute_result",
          "data": {
            "text/plain": [
              "(23814, 65650)"
            ]
          },
          "metadata": {},
          "execution_count": 9
        }
      ]
    },
    {
      "cell_type": "markdown",
      "source": [
        "Analizamos las palabras que más y menos se relacionan con palabras de interes y el por qué"
      ],
      "metadata": {
        "id": "J88tlkJKDWaV"
      }
    },
    {
      "cell_type": "code",
      "source": [
        "# Palabras que mas se relacionan con Dumbledore:\n",
        "w2v_model.wv.most_similar(positive=[\"dumbledore\"], topn=5)"
      ],
      "metadata": {
        "colab": {
          "base_uri": "https://localhost:8080/"
        },
        "id": "emavp_K0Fpoy",
        "outputId": "a19d1b7d-181c-4aa3-8c29-0b436300dce3"
      },
      "execution_count": 10,
      "outputs": [
        {
          "output_type": "execute_result",
          "data": {
            "text/plain": [
              "[('harry', 0.9990016222000122),\n",
              " ('explica', 0.9988055229187012),\n",
              " ('director', 0.9987824559211731),\n",
              " ('ultima', 0.9987255334854126),\n",
              " ('aunque', 0.9986613392829895)]"
            ]
          },
          "metadata": {},
          "execution_count": 10
        }
      ]
    },
    {
      "cell_type": "markdown",
      "source": [
        "Podemos notar que en las palabras más relacionadas con Dumbledore está \"director\" (que es su puesto en Hogwarts), \"Harry\" y \"explica\", ya que es un personaje muy cercano a Harry Potter y que le suele enseñar varias cosas."
      ],
      "metadata": {
        "id": "P1fmOBN2ENBo"
      }
    },
    {
      "cell_type": "code",
      "source": [
        "# Palabras que menos se relacionan con Harry:\n",
        "w2v_model.wv.most_similar(negative=[\"harry\"], topn=5)"
      ],
      "metadata": {
        "colab": {
          "base_uri": "https://localhost:8080/"
        },
        "id": "c9c8JXb-FprY",
        "outputId": "974770e0-8428-4112-fa93-8aab0354658e"
      },
      "execution_count": 11,
      "outputs": [
        {
          "output_type": "execute_result",
          "data": {
            "text/plain": [
              "[('tres', -0.9882661700248718),\n",
              " ('perro', -0.989778459072113),\n",
              " ('cabezas', -0.9904507398605347),\n",
              " ('centauro', -0.9910827875137329),\n",
              " ('corredor', -0.9913155436515808)]"
            ]
          },
          "metadata": {},
          "execution_count": 11
        }
      ]
    },
    {
      "cell_type": "markdown",
      "source": [
        "Las palabras que salen tiene sentido que no esten relacionadas, ya que hacen alusion al perro de 3 cabezas y al centauro, que son otros personajes."
      ],
      "metadata": {
        "id": "4X2e97LDEBCL"
      }
    },
    {
      "cell_type": "code",
      "source": [
        "# Palabras que más se relacionan con piedra:\n",
        "w2v_model.wv.most_similar(positive=[\"piedra\"], topn=5)"
      ],
      "metadata": {
        "colab": {
          "base_uri": "https://localhost:8080/"
        },
        "id": "I_asha2VCkVI",
        "outputId": "c2cd376e-7604-49db-a26f-a0e9fc556d7f"
      },
      "execution_count": 12,
      "outputs": [
        {
          "output_type": "execute_result",
          "data": {
            "text/plain": [
              "[('filosofal', 0.9989685416221619),\n",
              " ('obtener', 0.9984893202781677),\n",
              " ('bolsillo', 0.9984751343727112),\n",
              " ('cuenta', 0.997785210609436),\n",
              " ('trata', 0.9975601434707642)]"
            ]
          },
          "metadata": {},
          "execution_count": 12
        }
      ]
    },
    {
      "cell_type": "markdown",
      "source": [
        "Para el caso de piedra, vemos que las palabras que más se relacionan son \"filosofal\", \"obtener\" y \"bolsillo\" que es desde donde Harry saca la piedra filosofal."
      ],
      "metadata": {
        "id": "MXWzXCbsEjkn"
      }
    },
    {
      "cell_type": "code",
      "source": [
        "# Palabras que más se relacionan con mago:\n",
        "w2v_model.wv.most_similar(positive=[\"mago\"], topn=5)"
      ],
      "metadata": {
        "colab": {
          "base_uri": "https://localhost:8080/"
        },
        "id": "a_EJ_VAaCrFb",
        "outputId": "359f3235-c6c4-45fd-b242-6c244a126f82"
      },
      "execution_count": 13,
      "outputs": [
        {
          "output_type": "execute_result",
          "data": {
            "text/plain": [
              "[('sido', 0.9986450672149658),\n",
              " ('oscuro', 0.9985371232032776),\n",
              " ('potter', 0.9983808398246765),\n",
              " ('poder', 0.998158872127533),\n",
              " ('pesar', 0.9977843761444092)]"
            ]
          },
          "metadata": {},
          "execution_count": 13
        }
      ]
    },
    {
      "cell_type": "markdown",
      "source": [
        "En el caso de mago, es interesante que las palabras que más se vinculan son \"Potter\" (ya que Harry es un mago), \"oscuro\" (ya que Voldemort es un mago tenebroso) y \"poder\" (que es basicamente lo que busca Voldemort durante toda la saga)."
      ],
      "metadata": {
        "id": "W6HOMHfpE6yz"
      }
    },
    {
      "cell_type": "code",
      "source": [
        "# Palabras que mas se relacionan con voldemort:\n",
        "w2v_model.wv.most_similar(positive=[\"voldemort\"], topn=5)"
      ],
      "metadata": {
        "colab": {
          "base_uri": "https://localhost:8080/"
        },
        "id": "1smGhOIUFpt_",
        "outputId": "a22c55c0-3f1a-444c-db0a-2c62dd4b5915"
      },
      "execution_count": 14,
      "outputs": [
        {
          "output_type": "execute_result",
          "data": {
            "text/plain": [
              "[('frente', 0.998530387878418),\n",
              " ('entonces', 0.9983583092689514),\n",
              " ('pesar', 0.9982214570045471),\n",
              " ('poder', 0.9981600046157837),\n",
              " ('profesor', 0.9980496764183044)]"
            ]
          },
          "metadata": {},
          "execution_count": 14
        }
      ]
    },
    {
      "cell_type": "markdown",
      "source": [
        "En el caso de Voldemort, las palabras que aparecen como mas relacionadas son \"profesor\" ya que Voldemort vivia a traves del profesor Quirrell, \"frente\" que es donde le deja la cicatriz a Harry Potter al intentar matarlo y \"poder\" ya que era un mago poderoso que buscaba tener todo el poder.\n",
        "Despues se observan algunas palabras que no hacen referencia a él en particular (\"entonces\", \"pesar\")\n"
      ],
      "metadata": {
        "id": "vYhmSuCfFR8U"
      }
    },
    {
      "cell_type": "markdown",
      "source": [
        "Test de analogias\n",
        "\n",
        "La analogia que vimos en clase es la de rey - hombre + mujer. Vamos a intentar de buscar si encontramos en el espacio de los embeddings alguna analogía"
      ],
      "metadata": {
        "id": "b0afhwkkVCnd"
      }
    },
    {
      "cell_type": "code",
      "source": [
        "resultado = w2v_model.wv.most_similar(positive=['harry', 'voldemort'], negative=['gryffindor'], topn=1)\n",
        "print(f\"Analogía: harry - gryffindor + voldemort = {resultado[0][0]} (similitud: {resultado[0][1]})\")"
      ],
      "metadata": {
        "colab": {
          "base_uri": "https://localhost:8080/"
        },
        "id": "r_RplF0rVEI4",
        "outputId": "b0d12c27-e46c-422e-d2b9-b082b97d46f7"
      },
      "execution_count": 15,
      "outputs": [
        {
          "output_type": "stream",
          "name": "stdout",
          "text": [
            "Analogía: harry - gryffindor + voldemort = profesor (similitud: 0.996084988117218)\n"
          ]
        }
      ]
    },
    {
      "cell_type": "markdown",
      "source": [
        "Aca esperaba encontrar la palabra slytherin, pero no sucedió"
      ],
      "metadata": {
        "id": "xbP1ssLxF3Wl"
      }
    },
    {
      "cell_type": "code",
      "source": [
        "resultado = w2v_model.wv.most_similar(positive=['harry', 'dudley'], negative=['mago'], topn=1)\n",
        "print(f\"Analogía: harry - mago + dudley = {resultado[0][0]} (similitud: {resultado[0][1]})\")"
      ],
      "metadata": {
        "colab": {
          "base_uri": "https://localhost:8080/"
        },
        "id": "L3XlSixGGGDM",
        "outputId": "433f30df-c37e-4e6b-f35f-ae75ddf11e26"
      },
      "execution_count": 16,
      "outputs": [
        {
          "output_type": "stream",
          "name": "stdout",
          "text": [
            "Analogía: harry - mago + dudley = primo (similitud: 0.9963192939758301)\n"
          ]
        }
      ]
    },
    {
      "cell_type": "markdown",
      "source": [
        "Aca esperaba encontrar que Harry era a mago lo que Dudley era a muggle, pero tampoco se verificó la analogía"
      ],
      "metadata": {
        "id": "M7Xp7PrRGebF"
      }
    },
    {
      "cell_type": "markdown",
      "metadata": {
        "id": "_g8UVWe6lFmh"
      },
      "source": [
        "Visualizamos agrupación de embeddings"
      ]
    },
    {
      "cell_type": "code",
      "execution_count": 17,
      "metadata": {
        "id": "pDxEVXAivjr9"
      },
      "outputs": [],
      "source": [
        "def reduce_dimensions(model, num_dimensions = 2 ):\n",
        "\n",
        "    vectors = np.asarray(model.wv.vectors)\n",
        "    labels = np.asarray(model.wv.index_to_key)\n",
        "\n",
        "    tsne = TSNE(n_components=num_dimensions, random_state=0)\n",
        "    vectors = tsne.fit_transform(vectors)\n",
        "\n",
        "    return vectors, labels"
      ]
    },
    {
      "cell_type": "code",
      "execution_count": 18,
      "metadata": {
        "id": "NCCXtDpcugmd",
        "colab": {
          "base_uri": "https://localhost:8080/",
          "height": 542
        },
        "outputId": "7c5a1ca2-787c-450e-e5ad-1abcfac4257e"
      },
      "outputs": [
        {
          "output_type": "display_data",
          "data": {
            "text/html": [
              "<html>\n",
              "<head><meta charset=\"utf-8\" /></head>\n",
              "<body>\n",
              "    <div>            <script src=\"https://cdnjs.cloudflare.com/ajax/libs/mathjax/2.7.5/MathJax.js?config=TeX-AMS-MML_SVG\"></script><script type=\"text/javascript\">if (window.MathJax && window.MathJax.Hub && window.MathJax.Hub.Config) {window.MathJax.Hub.Config({SVG: {font: \"STIX-Web\"}});}</script>                <script type=\"text/javascript\">window.PlotlyConfig = {MathJaxConfig: 'local'};</script>\n",
              "        <script charset=\"utf-8\" src=\"https://cdn.plot.ly/plotly-2.35.2.min.js\"></script>                <div id=\"45888234-c3d4-4454-b439-112fae7ef6a7\" class=\"plotly-graph-div\" style=\"height:525px; width:100%;\"></div>            <script type=\"text/javascript\">                                    window.PLOTLYENV=window.PLOTLYENV || {};                                    if (document.getElementById(\"45888234-c3d4-4454-b439-112fae7ef6a7\")) {                    Plotly.newPlot(                        \"45888234-c3d4-4454-b439-112fae7ef6a7\",                        [{\"hovertemplate\":\"x=%{x}\\u003cbr\\u003ey=%{y}\\u003cbr\\u003etext=%{text}\\u003cextra\\u003e\\u003c\\u002fextra\\u003e\",\"legendgroup\":\"\",\"marker\":{\"color\":\"#636efa\",\"symbol\":\"circle\"},\"mode\":\"markers+text\",\"name\":\"\",\"orientation\":\"v\",\"showlegend\":false,\"text\":[\"harry\",\"hagrid\",\"voldemort\",\"ron\",\"hermione\",\"quirrell\",\"profesor\",\"hogwarts\",\"piedra\",\"malfoy\",\"entonces\",\"puerta\",\"espejo\",\"tres\",\"siguiente\",\"sala\",\"casa\",\"vernon\",\"puede\",\"mago\",\"dia\",\"dumbledore\",\"frente\",\"cicatriz\",\"gryffindor\",\"debe\",\"mientras\",\"comienza\",\"snape\",\"dursley\",\"dice\",\"primera\",\"filosofal\",\"amigos\",\"noche\",\"accidentalmente\",\"momento\",\"ninos\",\"neville\",\"junto\",\"nino\",\"encuentra\",\"dudley\",\"despues\",\"presenta\",\"padres\",\"perro\",\"slytherin\",\"mismo\",\"prohibido\",\"petunia\",\"ve\",\"trata\",\"vez\",\"hace\",\"paquete\",\"cartas\",\"encontrar\",\"cabezas\",\"luego\",\"asi\",\"vida\",\"ultima\",\"713\",\"pesar\",\"boveda\",\"evitar\",\"varita\",\"parada\",\"cumpleanos\",\"ano\",\"estudiantes\",\"toda\",\"cabana\",\"sabe\",\"explica\",\"manos\",\"ultimo\",\"pociones\",\"descubren\",\"familia\",\"alguien\",\"solo\",\"prueba\",\"dolor\",\"carta\",\"unicornio\",\"sido\",\"obtener\",\"oesed\",\"poder\",\"fuego\",\"seguir\",\"quidditch\",\"bosque\",\"trampa\",\"escoba\",\"revela\",\"sino\",\"atencion\",\"potter\",\"llegan\",\"alli\",\"primo\",\"dejarlo\",\"cientos\",\"muerto\",\"hermana\",\"pasa\",\"cuatro\",\"numero\",\"clase\",\"medio\",\"lily\",\"anos\",\"oscuro\",\"deja\",\"decide\",\"hechiceria\",\"magia\",\"colegio\",\"once\",\"repentinamente\",\"director\",\"muggle\",\"vacaciones\",\"verano\",\"dos\",\"forma\",\"misteriosa\",\"persona\",\"rayo\",\"puntos\",\"gigante\",\"quien\",\"partida\",\"dragon\",\"invisibilidad\",\"capa\",\"flamel\",\"nicolas\",\"navidad\",\"troll\",\"sospecha\",\"dar\",\"snitch\",\"partido\",\"tiempo\",\"logran\",\"atrapados\",\"justo\",\"sangre\",\"figura\",\"centauro\",\"tocar\",\"gracias\",\"desafio\",\"abrir\",\"pasar\",\"si\",\"ganar\",\"acertijo\",\"miente\",\"bolsillo\",\"cuenta\",\"cara\",\"bano\",\"gran\",\"siempre\",\"aunque\",\"castillo\",\"ceremonia\",\"conoce\",\"madre\",\"ayuda\",\"recibe\",\"plataforma\",\"custodiando\",\"elige\",\"magicas\",\"tienda\",\"dirigen\",\"necesita\",\"lleva\",\"casas\",\"pide\",\"toma\",\"recibido\",\"parece\",\"determinado\",\"nota\",\"robar\",\"enfrentan\",\"mcgonagall\",\"haber\",\"buscador\",\"busca\",\"siguientes\",\"salon\",\"tratando\"],\"x\":[-0.9664781,1.1507436,2.7912464,2.4995701,2.4003618,2.2468371,1.4174569,9.243812,10.257986,-3.2080655,2.9650235,-0.4447746,2.0170016,2.139532,1.0373801,1.44764,-9.719785,-10.160148,1.6854402,6.1969137,-4.5428877,-0.40507534,0.6228583,-7.130021,-10.083583,1.117735,-5.914656,-7.8895397,0.7071034,-9.026795,3.1467526,-2.503631,10.001681,-1.9156034,-5.35896,2.2485104,-6.066235,1.5676486,-1.3877978,-6.138557,1.5406338,-8.345037,-10.26358,-2.9351454,-2.543819,-3.0783272,1.67702,-9.999953,7.9517355,1.9145749,-9.99288,4.372274,5.115666,-2.549795,-0.57658625,3.4331775,-2.3111353,3.2081432,1.4604874,6.6784015,-2.5221326,1.9876572,-0.7964518,3.6771245,2.2003493,3.6714976,3.0056396,-4.476538,-4.259265,-4.4896173,1.6396483,6.059999,0.57491344,-2.6727202,3.6752472,1.7089425,-1.8570477,-0.22851107,4.223671,1.003312,-8.037847,-5.8744354,3.7867908,-6.666239,-7.838796,-6.021887,-8.168648,5.6849046,9.766362,1.7931652,4.6282663,-1.3888322,-3.7302544,-4.4980087,-1.4436492,0.58241343,-0.7880429,1.136565,1.3282496,1.5796617,7.2219276,-5.7125864,-2.3658543,-10.57083,10.267856,-1.9128971,-7.571849,-4.017444,-10.193544,6.9359694,-8.144811,-6.933947,-3.8306835,7.81691,-3.717013,5.3827014,-9.67695,10.324358,11.710189,11.693749,11.826129,-7.066314,-7.589762,-1.120237,-9.5637245,0.44531846,1.0961255,-4.4224687,-1.1523367,-6.8850527,-0.1622553,-0.99092686,-9.1955385,-1.5067128,-3.4301682,-0.10832504,0.30910406,-7.8440876,-7.803052,-3.4544296,-3.4743984,-2.7974417,6.436705,-1.4467279,-0.57663715,-4.384304,-3.98293,4.2941914,5.515882,-0.31399792,-7.1101823,-8.795462,-10.300595,-10.380501,-0.44779715,2.1007755,1.306631,0.4780485,4.1487303,4.5282354,6.437405,4.4410653,3.829524,10.204764,8.030161,3.5298502,6.4190364,-4.1807003,-3.0374928,3.1158662,6.3947625,6.337425,3.4628556,1.8934913,1.4361902,2.5844555,3.6057634,0.9421374,-4.5591693,-1.2325766,-2.1724916,2.51443,0.19367486,3.5757656,6.5470734,0.50797796,-9.079024,-0.06252207,1.0138005,1.7762141,-7.803006,4.5929546,0.32862186,-1.777008,-1.1013917,-0.6766238,-4.4306827,-3.006518,-2.9171202,-2.2923572],\"xaxis\":\"x\",\"y\":[6.002807,-12.254381,11.385974,-1.7355978,-2.0271945,13.94447,13.526042,-1.3377959,4.0560684,-0.8294876,10.42902,-7.863562,13.049107,-13.857446,-0.6850594,-0.030513981,-0.05557457,-4.041906,5.262195,9.298692,-2.6503854,7.461854,11.049624,7.30348,1.0256795,5.2935567,0.5541958,6.5964956,8.736738,-3.8362408,12.856513,0.58096665,4.3254237,-8.24742,-7.113067,-8.800078,-4.2361617,-11.529178,-0.6726691,-7.100865,11.446604,-7.9895654,-3.242131,1.2040573,-3.3758779,3.6076758,-13.278163,0.24343577,-4.655356,-12.123096,-4.4352217,12.46324,-7.2365155,0.15663591,5.1293488,-9.209416,-6.914059,0.7039778,-13.828449,-1.8089286,2.1295993,-4.055287,4.276617,-9.191581,9.506739,-9.529681,9.15168,13.931034,-2.14703,-3.266733,2.080785,0.49709734,0.8169793,-5.636789,7.462885,8.481861,6.154971,0.38228777,4.180452,-11.449877,-3.2378411,-0.3101013,5.0360775,-7.001466,6.6395497,-5.039221,3.2277234,9.611459,4.5345345,12.71901,9.600973,2.7004828,-5.436222,2.3025162,-7.102004,-12.696487,-2.0750995,7.769244,8.81901,3.8203187,8.306518,-3.3749547,-6.157865,-2.4409428,-1.9174364,-4.420873,1.7568995,13.606647,-1.334996,2.161195,-3.5363603,-2.8032675,4.3356237,7.6366677,-4.214315,9.650805,5.4384913,-1.7910624,-1.2150211,-0.8472159,-1.0164372,-3.408413,-2.190255,7.7901125,-3.2084112,-5.4493103,-4.7814827,-5.1194334,10.244631,-7.2662086,9.409438,10.472323,-0.21569857,-4.4628763,-12.299534,-9.693892,-12.004042,-8.933486,-8.843338,-12.416567,-12.4690075,-11.543057,-0.8386802,-8.882359,-2.3869214,0.80782,1.3862286,6.7610435,-3.601404,-8.530028,3.5592318,4.6652226,5.9359894,6.0109916,-10.631675,-1.0209764,1.2975405,-1.406455,-3.908247,-3.677164,-4.2390866,4.087274,12.397893,3.2161014,-4.0551896,13.581856,-1.2286379,5.0704074,13.528485,7.159816,0.52737707,1.3895484,-1.2883438,6.5446463,6.652776,2.2721117,1.0740285,-13.459526,13.959389,13.128379,13.4011135,-10.645654,3.7964573,-1.1704916,1.0815362,6.6962204,4.910278,2.0766366,9.5986185,10.297846,-7.5730543,-7.7375927,-0.40602675,-0.80977476,1.1174139,-1.696094,1.245404,4.2477036,4.38227,-1.7929187],\"yaxis\":\"y\",\"type\":\"scatter\"}],                        {\"template\":{\"data\":{\"histogram2dcontour\":[{\"type\":\"histogram2dcontour\",\"colorbar\":{\"outlinewidth\":0,\"ticks\":\"\"},\"colorscale\":[[0.0,\"#0d0887\"],[0.1111111111111111,\"#46039f\"],[0.2222222222222222,\"#7201a8\"],[0.3333333333333333,\"#9c179e\"],[0.4444444444444444,\"#bd3786\"],[0.5555555555555556,\"#d8576b\"],[0.6666666666666666,\"#ed7953\"],[0.7777777777777778,\"#fb9f3a\"],[0.8888888888888888,\"#fdca26\"],[1.0,\"#f0f921\"]]}],\"choropleth\":[{\"type\":\"choropleth\",\"colorbar\":{\"outlinewidth\":0,\"ticks\":\"\"}}],\"histogram2d\":[{\"type\":\"histogram2d\",\"colorbar\":{\"outlinewidth\":0,\"ticks\":\"\"},\"colorscale\":[[0.0,\"#0d0887\"],[0.1111111111111111,\"#46039f\"],[0.2222222222222222,\"#7201a8\"],[0.3333333333333333,\"#9c179e\"],[0.4444444444444444,\"#bd3786\"],[0.5555555555555556,\"#d8576b\"],[0.6666666666666666,\"#ed7953\"],[0.7777777777777778,\"#fb9f3a\"],[0.8888888888888888,\"#fdca26\"],[1.0,\"#f0f921\"]]}],\"heatmap\":[{\"type\":\"heatmap\",\"colorbar\":{\"outlinewidth\":0,\"ticks\":\"\"},\"colorscale\":[[0.0,\"#0d0887\"],[0.1111111111111111,\"#46039f\"],[0.2222222222222222,\"#7201a8\"],[0.3333333333333333,\"#9c179e\"],[0.4444444444444444,\"#bd3786\"],[0.5555555555555556,\"#d8576b\"],[0.6666666666666666,\"#ed7953\"],[0.7777777777777778,\"#fb9f3a\"],[0.8888888888888888,\"#fdca26\"],[1.0,\"#f0f921\"]]}],\"heatmapgl\":[{\"type\":\"heatmapgl\",\"colorbar\":{\"outlinewidth\":0,\"ticks\":\"\"},\"colorscale\":[[0.0,\"#0d0887\"],[0.1111111111111111,\"#46039f\"],[0.2222222222222222,\"#7201a8\"],[0.3333333333333333,\"#9c179e\"],[0.4444444444444444,\"#bd3786\"],[0.5555555555555556,\"#d8576b\"],[0.6666666666666666,\"#ed7953\"],[0.7777777777777778,\"#fb9f3a\"],[0.8888888888888888,\"#fdca26\"],[1.0,\"#f0f921\"]]}],\"contourcarpet\":[{\"type\":\"contourcarpet\",\"colorbar\":{\"outlinewidth\":0,\"ticks\":\"\"}}],\"contour\":[{\"type\":\"contour\",\"colorbar\":{\"outlinewidth\":0,\"ticks\":\"\"},\"colorscale\":[[0.0,\"#0d0887\"],[0.1111111111111111,\"#46039f\"],[0.2222222222222222,\"#7201a8\"],[0.3333333333333333,\"#9c179e\"],[0.4444444444444444,\"#bd3786\"],[0.5555555555555556,\"#d8576b\"],[0.6666666666666666,\"#ed7953\"],[0.7777777777777778,\"#fb9f3a\"],[0.8888888888888888,\"#fdca26\"],[1.0,\"#f0f921\"]]}],\"surface\":[{\"type\":\"surface\",\"colorbar\":{\"outlinewidth\":0,\"ticks\":\"\"},\"colorscale\":[[0.0,\"#0d0887\"],[0.1111111111111111,\"#46039f\"],[0.2222222222222222,\"#7201a8\"],[0.3333333333333333,\"#9c179e\"],[0.4444444444444444,\"#bd3786\"],[0.5555555555555556,\"#d8576b\"],[0.6666666666666666,\"#ed7953\"],[0.7777777777777778,\"#fb9f3a\"],[0.8888888888888888,\"#fdca26\"],[1.0,\"#f0f921\"]]}],\"mesh3d\":[{\"type\":\"mesh3d\",\"colorbar\":{\"outlinewidth\":0,\"ticks\":\"\"}}],\"scatter\":[{\"fillpattern\":{\"fillmode\":\"overlay\",\"size\":10,\"solidity\":0.2},\"type\":\"scatter\"}],\"parcoords\":[{\"type\":\"parcoords\",\"line\":{\"colorbar\":{\"outlinewidth\":0,\"ticks\":\"\"}}}],\"scatterpolargl\":[{\"type\":\"scatterpolargl\",\"marker\":{\"colorbar\":{\"outlinewidth\":0,\"ticks\":\"\"}}}],\"bar\":[{\"error_x\":{\"color\":\"#2a3f5f\"},\"error_y\":{\"color\":\"#2a3f5f\"},\"marker\":{\"line\":{\"color\":\"#E5ECF6\",\"width\":0.5},\"pattern\":{\"fillmode\":\"overlay\",\"size\":10,\"solidity\":0.2}},\"type\":\"bar\"}],\"scattergeo\":[{\"type\":\"scattergeo\",\"marker\":{\"colorbar\":{\"outlinewidth\":0,\"ticks\":\"\"}}}],\"scatterpolar\":[{\"type\":\"scatterpolar\",\"marker\":{\"colorbar\":{\"outlinewidth\":0,\"ticks\":\"\"}}}],\"histogram\":[{\"marker\":{\"pattern\":{\"fillmode\":\"overlay\",\"size\":10,\"solidity\":0.2}},\"type\":\"histogram\"}],\"scattergl\":[{\"type\":\"scattergl\",\"marker\":{\"colorbar\":{\"outlinewidth\":0,\"ticks\":\"\"}}}],\"scatter3d\":[{\"type\":\"scatter3d\",\"line\":{\"colorbar\":{\"outlinewidth\":0,\"ticks\":\"\"}},\"marker\":{\"colorbar\":{\"outlinewidth\":0,\"ticks\":\"\"}}}],\"scattermapbox\":[{\"type\":\"scattermapbox\",\"marker\":{\"colorbar\":{\"outlinewidth\":0,\"ticks\":\"\"}}}],\"scatterternary\":[{\"type\":\"scatterternary\",\"marker\":{\"colorbar\":{\"outlinewidth\":0,\"ticks\":\"\"}}}],\"scattercarpet\":[{\"type\":\"scattercarpet\",\"marker\":{\"colorbar\":{\"outlinewidth\":0,\"ticks\":\"\"}}}],\"carpet\":[{\"aaxis\":{\"endlinecolor\":\"#2a3f5f\",\"gridcolor\":\"white\",\"linecolor\":\"white\",\"minorgridcolor\":\"white\",\"startlinecolor\":\"#2a3f5f\"},\"baxis\":{\"endlinecolor\":\"#2a3f5f\",\"gridcolor\":\"white\",\"linecolor\":\"white\",\"minorgridcolor\":\"white\",\"startlinecolor\":\"#2a3f5f\"},\"type\":\"carpet\"}],\"table\":[{\"cells\":{\"fill\":{\"color\":\"#EBF0F8\"},\"line\":{\"color\":\"white\"}},\"header\":{\"fill\":{\"color\":\"#C8D4E3\"},\"line\":{\"color\":\"white\"}},\"type\":\"table\"}],\"barpolar\":[{\"marker\":{\"line\":{\"color\":\"#E5ECF6\",\"width\":0.5},\"pattern\":{\"fillmode\":\"overlay\",\"size\":10,\"solidity\":0.2}},\"type\":\"barpolar\"}],\"pie\":[{\"automargin\":true,\"type\":\"pie\"}]},\"layout\":{\"autotypenumbers\":\"strict\",\"colorway\":[\"#636efa\",\"#EF553B\",\"#00cc96\",\"#ab63fa\",\"#FFA15A\",\"#19d3f3\",\"#FF6692\",\"#B6E880\",\"#FF97FF\",\"#FECB52\"],\"font\":{\"color\":\"#2a3f5f\"},\"hovermode\":\"closest\",\"hoverlabel\":{\"align\":\"left\"},\"paper_bgcolor\":\"white\",\"plot_bgcolor\":\"#E5ECF6\",\"polar\":{\"bgcolor\":\"#E5ECF6\",\"angularaxis\":{\"gridcolor\":\"white\",\"linecolor\":\"white\",\"ticks\":\"\"},\"radialaxis\":{\"gridcolor\":\"white\",\"linecolor\":\"white\",\"ticks\":\"\"}},\"ternary\":{\"bgcolor\":\"#E5ECF6\",\"aaxis\":{\"gridcolor\":\"white\",\"linecolor\":\"white\",\"ticks\":\"\"},\"baxis\":{\"gridcolor\":\"white\",\"linecolor\":\"white\",\"ticks\":\"\"},\"caxis\":{\"gridcolor\":\"white\",\"linecolor\":\"white\",\"ticks\":\"\"}},\"coloraxis\":{\"colorbar\":{\"outlinewidth\":0,\"ticks\":\"\"}},\"colorscale\":{\"sequential\":[[0.0,\"#0d0887\"],[0.1111111111111111,\"#46039f\"],[0.2222222222222222,\"#7201a8\"],[0.3333333333333333,\"#9c179e\"],[0.4444444444444444,\"#bd3786\"],[0.5555555555555556,\"#d8576b\"],[0.6666666666666666,\"#ed7953\"],[0.7777777777777778,\"#fb9f3a\"],[0.8888888888888888,\"#fdca26\"],[1.0,\"#f0f921\"]],\"sequentialminus\":[[0.0,\"#0d0887\"],[0.1111111111111111,\"#46039f\"],[0.2222222222222222,\"#7201a8\"],[0.3333333333333333,\"#9c179e\"],[0.4444444444444444,\"#bd3786\"],[0.5555555555555556,\"#d8576b\"],[0.6666666666666666,\"#ed7953\"],[0.7777777777777778,\"#fb9f3a\"],[0.8888888888888888,\"#fdca26\"],[1.0,\"#f0f921\"]],\"diverging\":[[0,\"#8e0152\"],[0.1,\"#c51b7d\"],[0.2,\"#de77ae\"],[0.3,\"#f1b6da\"],[0.4,\"#fde0ef\"],[0.5,\"#f7f7f7\"],[0.6,\"#e6f5d0\"],[0.7,\"#b8e186\"],[0.8,\"#7fbc41\"],[0.9,\"#4d9221\"],[1,\"#276419\"]]},\"xaxis\":{\"gridcolor\":\"white\",\"linecolor\":\"white\",\"ticks\":\"\",\"title\":{\"standoff\":15},\"zerolinecolor\":\"white\",\"automargin\":true,\"zerolinewidth\":2},\"yaxis\":{\"gridcolor\":\"white\",\"linecolor\":\"white\",\"ticks\":\"\",\"title\":{\"standoff\":15},\"zerolinecolor\":\"white\",\"automargin\":true,\"zerolinewidth\":2},\"scene\":{\"xaxis\":{\"backgroundcolor\":\"#E5ECF6\",\"gridcolor\":\"white\",\"linecolor\":\"white\",\"showbackground\":true,\"ticks\":\"\",\"zerolinecolor\":\"white\",\"gridwidth\":2},\"yaxis\":{\"backgroundcolor\":\"#E5ECF6\",\"gridcolor\":\"white\",\"linecolor\":\"white\",\"showbackground\":true,\"ticks\":\"\",\"zerolinecolor\":\"white\",\"gridwidth\":2},\"zaxis\":{\"backgroundcolor\":\"#E5ECF6\",\"gridcolor\":\"white\",\"linecolor\":\"white\",\"showbackground\":true,\"ticks\":\"\",\"zerolinecolor\":\"white\",\"gridwidth\":2}},\"shapedefaults\":{\"line\":{\"color\":\"#2a3f5f\"}},\"annotationdefaults\":{\"arrowcolor\":\"#2a3f5f\",\"arrowhead\":0,\"arrowwidth\":1},\"geo\":{\"bgcolor\":\"white\",\"landcolor\":\"#E5ECF6\",\"subunitcolor\":\"white\",\"showland\":true,\"showlakes\":true,\"lakecolor\":\"white\"},\"title\":{\"x\":0.05},\"mapbox\":{\"style\":\"light\"}}},\"xaxis\":{\"anchor\":\"y\",\"domain\":[0.0,1.0],\"title\":{\"text\":\"x\"}},\"yaxis\":{\"anchor\":\"x\",\"domain\":[0.0,1.0],\"title\":{\"text\":\"y\"}},\"legend\":{\"tracegroupgap\":0},\"margin\":{\"t\":60}},                        {\"responsive\": true}                    ).then(function(){\n",
              "                            \n",
              "var gd = document.getElementById('45888234-c3d4-4454-b439-112fae7ef6a7');\n",
              "var x = new MutationObserver(function (mutations, observer) {{\n",
              "        var display = window.getComputedStyle(gd).display;\n",
              "        if (!display || display === 'none') {{\n",
              "            console.log([gd, 'removed!']);\n",
              "            Plotly.purge(gd);\n",
              "            observer.disconnect();\n",
              "        }}\n",
              "}});\n",
              "\n",
              "// Listen for the removal of the full notebook cells\n",
              "var notebookContainer = gd.closest('#notebook-container');\n",
              "if (notebookContainer) {{\n",
              "    x.observe(notebookContainer, {childList: true});\n",
              "}}\n",
              "\n",
              "// Listen for the clearing of the current output cell\n",
              "var outputEl = gd.closest('.output');\n",
              "if (outputEl) {{\n",
              "    x.observe(outputEl, {childList: true});\n",
              "}}\n",
              "\n",
              "                        })                };                            </script>        </div>\n",
              "</body>\n",
              "</html>"
            ]
          },
          "metadata": {}
        }
      ],
      "source": [
        "# Graficamos los embedddings en 2D reduciendo la dimensionalidad con TSNE\n",
        "vecs, labels = reduce_dimensions(w2v_model)\n",
        "\n",
        "MAX_WORDS=200\n",
        "fig = px.scatter(x=vecs[:MAX_WORDS,0], y=vecs[:MAX_WORDS,1], text=labels[:MAX_WORDS])\n",
        "fig.show(renderer=\"colab\")"
      ]
    },
    {
      "cell_type": "markdown",
      "source": [
        "Oservando a los embeddings en 2 dimensiones, podemos notar que se generan grupos de palabras que se encuentran altamente relacionadas.\n",
        "A modo de ejemplo:\n",
        "- Si buscamos \"piedra\" nos vamos a encontrar con \"obtener\", \"filosofal\", \"bolsillo\".\n",
        "- Si miramos \"gryffindor\", nos aparece \"slytherin\", \"casas\" y \"puntos\" lo que tiene sentido ya que los estudiantes dentro del castillo se dividian en las distintas casas (entre ellas gryffindor y slytherin) y tenian que ganar puntos para sus casas.\n",
        "- Si revisamos por ejemplo la palabra \"quiddich\", nos encontramos con que las palabras más cercanas en 2D son \"partido\", \"busca\", \"snitch\", lo que tiene total sentido ya que en los partidos de quiddich lo que se busca es atrapar la snitch dorada que hace que finalice la partida.\n",
        "- Si buscamos \"howarts\" observamos que se encuentra muy cercana a \"magia\", \"hechiceria\", \"colegio\".\n",
        "- Si revisamos la palabra \"voldemort\" vemos que sus palabras más cercanas son \"poder\", \"oscuro\", \"profesor\", \"quirrell\""
      ],
      "metadata": {
        "id": "96vPgLXaJ5dV"
      }
    },
    {
      "cell_type": "code",
      "execution_count": 19,
      "metadata": {
        "colab": {
          "base_uri": "https://localhost:8080/",
          "height": 542
        },
        "id": "xYDCPqNwDdDu",
        "outputId": "34d045bf-fa81-4c2c-abb3-ae4618dc04a3"
      },
      "outputs": [
        {
          "output_type": "display_data",
          "data": {
            "text/html": [
              "<html>\n",
              "<head><meta charset=\"utf-8\" /></head>\n",
              "<body>\n",
              "    <div>            <script src=\"https://cdnjs.cloudflare.com/ajax/libs/mathjax/2.7.5/MathJax.js?config=TeX-AMS-MML_SVG\"></script><script type=\"text/javascript\">if (window.MathJax && window.MathJax.Hub && window.MathJax.Hub.Config) {window.MathJax.Hub.Config({SVG: {font: \"STIX-Web\"}});}</script>                <script type=\"text/javascript\">window.PlotlyConfig = {MathJaxConfig: 'local'};</script>\n",
              "        <script charset=\"utf-8\" src=\"https://cdn.plot.ly/plotly-2.35.2.min.js\"></script>                <div id=\"a29895a7-2a1b-4c82-bb67-160e90cb8959\" class=\"plotly-graph-div\" style=\"height:525px; width:100%;\"></div>            <script type=\"text/javascript\">                                    window.PLOTLYENV=window.PLOTLYENV || {};                                    if (document.getElementById(\"a29895a7-2a1b-4c82-bb67-160e90cb8959\")) {                    Plotly.newPlot(                        \"a29895a7-2a1b-4c82-bb67-160e90cb8959\",                        [{\"hovertemplate\":\"x=%{x}\\u003cbr\\u003ey=%{y}\\u003cbr\\u003ez=%{z}\\u003cbr\\u003etext=%{text}\\u003cextra\\u003e\\u003c\\u002fextra\\u003e\",\"legendgroup\":\"\",\"marker\":{\"color\":\"#636efa\",\"symbol\":\"circle\",\"size\":2},\"mode\":\"markers+text\",\"name\":\"\",\"scene\":\"scene\",\"showlegend\":false,\"text\":[\"harry\",\"hagrid\",\"voldemort\",\"ron\",\"hermione\",\"quirrell\",\"profesor\",\"hogwarts\",\"piedra\",\"malfoy\",\"entonces\",\"puerta\",\"espejo\",\"tres\",\"siguiente\",\"sala\",\"casa\",\"vernon\",\"puede\",\"mago\",\"dia\",\"dumbledore\",\"frente\",\"cicatriz\",\"gryffindor\",\"debe\",\"mientras\",\"comienza\",\"snape\",\"dursley\",\"dice\",\"primera\",\"filosofal\",\"amigos\",\"noche\",\"accidentalmente\",\"momento\",\"ninos\",\"neville\",\"junto\",\"nino\",\"encuentra\",\"dudley\",\"despues\",\"presenta\",\"padres\",\"perro\",\"slytherin\",\"mismo\",\"prohibido\",\"petunia\",\"ve\",\"trata\",\"vez\",\"hace\",\"paquete\",\"cartas\",\"encontrar\",\"cabezas\",\"luego\",\"asi\",\"vida\",\"ultima\",\"713\",\"pesar\",\"boveda\",\"evitar\",\"varita\",\"parada\",\"cumpleanos\",\"ano\",\"estudiantes\",\"toda\",\"cabana\",\"sabe\",\"explica\",\"manos\",\"ultimo\",\"pociones\",\"descubren\",\"familia\",\"alguien\",\"solo\",\"prueba\",\"dolor\",\"carta\",\"unicornio\",\"sido\",\"obtener\",\"oesed\",\"poder\",\"fuego\",\"seguir\",\"quidditch\",\"bosque\",\"trampa\",\"escoba\",\"revela\",\"sino\",\"atencion\",\"potter\",\"llegan\",\"alli\",\"primo\",\"dejarlo\",\"cientos\",\"muerto\",\"hermana\",\"pasa\",\"cuatro\",\"numero\",\"clase\",\"medio\",\"lily\",\"anos\",\"oscuro\",\"deja\",\"decide\",\"hechiceria\",\"magia\",\"colegio\",\"once\",\"repentinamente\",\"director\",\"muggle\",\"vacaciones\",\"verano\",\"dos\",\"forma\",\"misteriosa\",\"persona\",\"rayo\",\"puntos\",\"gigante\",\"quien\",\"partida\",\"dragon\",\"invisibilidad\",\"capa\",\"flamel\",\"nicolas\",\"navidad\",\"troll\",\"sospecha\",\"dar\",\"snitch\",\"partido\",\"tiempo\",\"logran\",\"atrapados\",\"justo\",\"sangre\",\"figura\",\"centauro\",\"tocar\",\"gracias\",\"desafio\",\"abrir\",\"pasar\",\"si\",\"ganar\",\"acertijo\",\"miente\",\"bolsillo\",\"cuenta\",\"cara\",\"bano\",\"gran\",\"siempre\",\"aunque\",\"castillo\",\"ceremonia\",\"conoce\",\"madre\",\"ayuda\",\"recibe\",\"plataforma\",\"custodiando\",\"elige\",\"magicas\",\"tienda\",\"dirigen\",\"necesita\",\"lleva\",\"casas\",\"pide\",\"toma\",\"recibido\",\"parece\",\"determinado\",\"nota\",\"robar\",\"enfrentan\",\"mcgonagall\",\"haber\",\"buscador\",\"busca\",\"siguientes\",\"salon\",\"tratando\"],\"x\":[13.027155,-50.850933,73.467834,-43.807606,-55.50454,73.07738,72.29174,-12.06258,22.117088,-7.95587,58.02844,-44.74289,61.61163,-73.96224,-29.980972,-23.606619,-54.922276,-53.54402,27.503475,60.035595,-9.88289,24.182743,66.90031,50.275547,-47.112938,23.565762,7.100035,37.465675,41.320484,-38.990177,51.852486,63.910458,31.880276,-28.789038,-4.410575,-22.849205,-7.927211,-47.187798,-27.406782,1.5993803,44.22417,25.167347,-62.147587,7.7987714,-20.016066,2.9054773,-66.49494,-49.543213,23.35926,-48.888313,-54.92863,44.146248,5.620938,-2.0661173,18.279627,-17.324783,-38.7216,-34.68742,-73.77986,-11.86151,22.202307,8.35666,10.612931,-23.33036,51.71825,-24.674343,39.743935,14.154933,-6.508015,-17.901194,-20.085854,-17.47139,-10.470658,-27.531952,35.480152,34.68068,32.26245,-25.93001,50.066666,-44.25091,-45.664986,0.5249568,42.71922,11.883535,38.65087,0.051094674,7.1451054,60.947407,21.969526,62.84979,53.913624,23.948513,-11.9773035,25.32953,-26.634954,-60.002754,-12.026437,30.524239,44.871586,11.313092,22.320858,-24.713524,-25.998308,-63.981358,-26.791477,-35.473713,-0.25744534,11.294198,-58.886284,-36.306183,-36.90884,-31.503626,6.2552347,13.767418,-11.433566,67.88599,31.020958,-20.078545,-13.211331,-7.013341,-3.5632966,-33.781925,-41.534637,14.23556,-50.412224,-1.6272783,9.680279,-8.30172,69.72092,14.662758,54.582848,60.467735,-42.299328,-38.124786,-6.7142324,-48.744225,-56.757095,23.34389,12.871829,-4.838012,5.03443,-7.2633853,-9.612404,-34.82581,-7.9216332,10.645564,15.168362,36.297283,29.331673,-56.634903,11.769122,21.466293,31.255074,42.53213,-56.562805,-44.633427,-20.146467,-25.057026,23.579212,35.121086,23.98424,52.46766,49.698784,33.08702,23.956244,61.72603,-14.472623,21.727121,25.36876,22.2565,-23.117867,-31.22586,-46.07512,23.715921,27.265875,-18.995396,-34.745,-61.786953,14.944546,41.651875,36.289547,-34.813972,7.6376195,-43.114655,-32.556778,17.919775,27.042477,8.46329,44.220512,52.51413,27.106102,-6.0550375,-19.186083,-17.516422,6.101192,-6.010192,10.042249,17.284788,12.269367,-19.405243],\"y\":[7.3159227,-50.27725,15.748858,1.192894,0.46279216,26.726751,12.218793,17.1565,0.655921,-21.987295,20.291977,-33.57053,15.160586,-35.14027,3.4451597,-1.8609511,27.541178,5.2144666,-4.5333333,-28.088585,8.451085,5.400972,2.619933,-33.577652,36.020786,7.424857,-33.364204,-36.953293,8.015203,19.798672,36.63099,8.087558,9.016078,-43.72025,40.239426,-42.653126,11.127794,-26.4193,-1.0356169,31.847445,31.283775,45.64019,13.278866,-14.030684,-4.115532,25.89412,-44.075905,38.810192,-22.678543,-36.37191,17.830376,19.155634,-23.316824,-4.822751,4.6171412,-26.79116,-25.702415,17.950981,-31.383743,29.156414,-18.001484,-13.005122,13.849536,-27.610245,-5.104119,-16.957233,1.5472857,67.24858,12.943764,-0.05908392,31.600445,44.55793,9.775937,-17.572317,-11.778533,16.896458,16.013725,14.667807,0.986069,-39.27925,7.2204623,-41.620243,-11.133004,27.98543,-42.22814,17.994564,-52.479557,-14.529586,12.155749,28.447306,-16.28777,-3.2868907,-27.565992,-14.942799,-27.709513,-34.393833,-21.06545,20.902285,20.898722,-4.7824335,14.839378,13.586712,-29.021435,27.339355,17.725529,-14.990314,-39.430817,60.895813,23.920547,34.275196,6.156293,14.9011135,38.112362,12.749334,0.65343904,-19.320627,-62.167503,8.729709,9.081824,19.858253,7.0553145,0.25195867,14.297985,2.613676,21.463024,-30.808372,-24.173096,-17.460901,-10.694233,35.93904,-3.999289,-20.747059,24.30337,-20.79459,-55.914803,-39.53783,-49.516838,51.9082,51.7478,-53.868793,-51.20493,-40.48328,44.145023,-46.18753,-22.334913,-27.61746,-18.01079,-20.053162,-37.941944,-30.659073,-44.487736,-49.613903,-55.23694,-57.038616,-18.032244,-2.2088592,20.189905,-10.428627,-25.561583,-28.098108,-28.953373,-8.309242,23.336662,-5.8793116,-11.137878,35.515842,42.698204,41.643173,58.51837,-11.057801,51.786453,37.69932,14.251317,32.763813,33.600983,26.45323,20.623713,-26.5703,74.68871,46.605225,54.62376,-29.237558,23.91793,6.212812,49.973354,21.773708,-57.291576,15.449582,8.86491,9.04569,34.96256,-24.821465,4.228284,-9.535955,1.2100586,-9.711389,-14.832547,28.482101,38.792248,-32.552917],\"z\":[-16.866158,-20.026075,-14.123495,37.349224,41.181644,-30.497179,-30.721449,-29.190157,-62.956226,26.163813,-12.523799,24.067461,-41.72116,-30.41693,50.21731,62.729416,18.15156,-25.044518,-6.710599,-35.83194,0.06266298,-23.483763,-14.962217,9.46691,29.329556,-4.729864,23.848452,20.965208,1.4155678,-27.415955,-33.708218,-61.54588,-60.201385,2.1430476,38.156265,-29.315231,17.564106,-15.651657,29.39116,45.178158,-16.758608,30.715372,-16.187046,14.573206,11.200981,7.568841,-20.092201,14.030155,-54.87919,-25.77577,-32.3439,-43.246704,-43.20069,28.744507,11.161122,-27.27798,6.310696,53.67187,-15.770646,-16.573668,14.052817,-16.995314,0.24492633,-39.26497,-14.3946085,-31.496485,-29.050625,-1.9081831,-11.068062,-6.9740644,26.679138,10.771838,54.461395,6.299907,-21.621025,-20.196741,16.752779,28.76964,18.025011,-11.063501,-9.905995,34.67877,9.018211,38.65519,11.082583,27.751366,13.487734,-37.236267,-53.310467,-43.48083,-24.116556,21.76022,8.124597,42.631264,-5.046413,-8.8614645,46.04976,-6.1453996,-2.433601,-4.4512,46.002567,6.8851843,14.2950535,-11.915615,-40.90242,21.562817,11.107335,-14.463772,2.8366518,-6.6880727,-19.649529,-8.046057,16.571117,33.962543,275.55383,-26.387033,19.892107,-39.03041,-54.543625,-48.609325,-46.059624,-4.8445697,3.360307,-33.72039,-17.332415,-11.7816925,-7.309265,0.8388359,-3.5503957,48.267025,0.41091236,-2.217032,16.499567,33.863976,-23.035217,5.5842156,-5.708943,46.324608,38.907154,-35.46504,-27.634289,-25.903563,-5.498271,14.779637,58.22571,38.903633,29.89057,-32.172005,-24.10581,15.370929,-0.32805046,16.328806,32.58195,28.354181,-1.7672807,53.390327,41.205154,48.90331,-14.378153,-9.859942,-36.600525,25.332756,-30.793835,-55.240326,-46.814106,-22.789251,-17.060045,18.986618,-11.76832,-22.265919,1.1359575,7.739706,30.72344,-17.280699,-30.127417,58.70911,66.920235,-24.70485,-10.687296,-14.827307,-5.241146,-25.601706,-11.566054,22.031979,11.096975,-31.089561,7.728443,58.398346,-11.8774,-23.867285,39.578556,-38.66004,42.012623,30.578135,55.09631,50.666607,42.586098,9.73453,3.037311,35.015816],\"type\":\"scatter3d\"}],                        {\"template\":{\"data\":{\"histogram2dcontour\":[{\"type\":\"histogram2dcontour\",\"colorbar\":{\"outlinewidth\":0,\"ticks\":\"\"},\"colorscale\":[[0.0,\"#0d0887\"],[0.1111111111111111,\"#46039f\"],[0.2222222222222222,\"#7201a8\"],[0.3333333333333333,\"#9c179e\"],[0.4444444444444444,\"#bd3786\"],[0.5555555555555556,\"#d8576b\"],[0.6666666666666666,\"#ed7953\"],[0.7777777777777778,\"#fb9f3a\"],[0.8888888888888888,\"#fdca26\"],[1.0,\"#f0f921\"]]}],\"choropleth\":[{\"type\":\"choropleth\",\"colorbar\":{\"outlinewidth\":0,\"ticks\":\"\"}}],\"histogram2d\":[{\"type\":\"histogram2d\",\"colorbar\":{\"outlinewidth\":0,\"ticks\":\"\"},\"colorscale\":[[0.0,\"#0d0887\"],[0.1111111111111111,\"#46039f\"],[0.2222222222222222,\"#7201a8\"],[0.3333333333333333,\"#9c179e\"],[0.4444444444444444,\"#bd3786\"],[0.5555555555555556,\"#d8576b\"],[0.6666666666666666,\"#ed7953\"],[0.7777777777777778,\"#fb9f3a\"],[0.8888888888888888,\"#fdca26\"],[1.0,\"#f0f921\"]]}],\"heatmap\":[{\"type\":\"heatmap\",\"colorbar\":{\"outlinewidth\":0,\"ticks\":\"\"},\"colorscale\":[[0.0,\"#0d0887\"],[0.1111111111111111,\"#46039f\"],[0.2222222222222222,\"#7201a8\"],[0.3333333333333333,\"#9c179e\"],[0.4444444444444444,\"#bd3786\"],[0.5555555555555556,\"#d8576b\"],[0.6666666666666666,\"#ed7953\"],[0.7777777777777778,\"#fb9f3a\"],[0.8888888888888888,\"#fdca26\"],[1.0,\"#f0f921\"]]}],\"heatmapgl\":[{\"type\":\"heatmapgl\",\"colorbar\":{\"outlinewidth\":0,\"ticks\":\"\"},\"colorscale\":[[0.0,\"#0d0887\"],[0.1111111111111111,\"#46039f\"],[0.2222222222222222,\"#7201a8\"],[0.3333333333333333,\"#9c179e\"],[0.4444444444444444,\"#bd3786\"],[0.5555555555555556,\"#d8576b\"],[0.6666666666666666,\"#ed7953\"],[0.7777777777777778,\"#fb9f3a\"],[0.8888888888888888,\"#fdca26\"],[1.0,\"#f0f921\"]]}],\"contourcarpet\":[{\"type\":\"contourcarpet\",\"colorbar\":{\"outlinewidth\":0,\"ticks\":\"\"}}],\"contour\":[{\"type\":\"contour\",\"colorbar\":{\"outlinewidth\":0,\"ticks\":\"\"},\"colorscale\":[[0.0,\"#0d0887\"],[0.1111111111111111,\"#46039f\"],[0.2222222222222222,\"#7201a8\"],[0.3333333333333333,\"#9c179e\"],[0.4444444444444444,\"#bd3786\"],[0.5555555555555556,\"#d8576b\"],[0.6666666666666666,\"#ed7953\"],[0.7777777777777778,\"#fb9f3a\"],[0.8888888888888888,\"#fdca26\"],[1.0,\"#f0f921\"]]}],\"surface\":[{\"type\":\"surface\",\"colorbar\":{\"outlinewidth\":0,\"ticks\":\"\"},\"colorscale\":[[0.0,\"#0d0887\"],[0.1111111111111111,\"#46039f\"],[0.2222222222222222,\"#7201a8\"],[0.3333333333333333,\"#9c179e\"],[0.4444444444444444,\"#bd3786\"],[0.5555555555555556,\"#d8576b\"],[0.6666666666666666,\"#ed7953\"],[0.7777777777777778,\"#fb9f3a\"],[0.8888888888888888,\"#fdca26\"],[1.0,\"#f0f921\"]]}],\"mesh3d\":[{\"type\":\"mesh3d\",\"colorbar\":{\"outlinewidth\":0,\"ticks\":\"\"}}],\"scatter\":[{\"fillpattern\":{\"fillmode\":\"overlay\",\"size\":10,\"solidity\":0.2},\"type\":\"scatter\"}],\"parcoords\":[{\"type\":\"parcoords\",\"line\":{\"colorbar\":{\"outlinewidth\":0,\"ticks\":\"\"}}}],\"scatterpolargl\":[{\"type\":\"scatterpolargl\",\"marker\":{\"colorbar\":{\"outlinewidth\":0,\"ticks\":\"\"}}}],\"bar\":[{\"error_x\":{\"color\":\"#2a3f5f\"},\"error_y\":{\"color\":\"#2a3f5f\"},\"marker\":{\"line\":{\"color\":\"#E5ECF6\",\"width\":0.5},\"pattern\":{\"fillmode\":\"overlay\",\"size\":10,\"solidity\":0.2}},\"type\":\"bar\"}],\"scattergeo\":[{\"type\":\"scattergeo\",\"marker\":{\"colorbar\":{\"outlinewidth\":0,\"ticks\":\"\"}}}],\"scatterpolar\":[{\"type\":\"scatterpolar\",\"marker\":{\"colorbar\":{\"outlinewidth\":0,\"ticks\":\"\"}}}],\"histogram\":[{\"marker\":{\"pattern\":{\"fillmode\":\"overlay\",\"size\":10,\"solidity\":0.2}},\"type\":\"histogram\"}],\"scattergl\":[{\"type\":\"scattergl\",\"marker\":{\"colorbar\":{\"outlinewidth\":0,\"ticks\":\"\"}}}],\"scatter3d\":[{\"type\":\"scatter3d\",\"line\":{\"colorbar\":{\"outlinewidth\":0,\"ticks\":\"\"}},\"marker\":{\"colorbar\":{\"outlinewidth\":0,\"ticks\":\"\"}}}],\"scattermapbox\":[{\"type\":\"scattermapbox\",\"marker\":{\"colorbar\":{\"outlinewidth\":0,\"ticks\":\"\"}}}],\"scatterternary\":[{\"type\":\"scatterternary\",\"marker\":{\"colorbar\":{\"outlinewidth\":0,\"ticks\":\"\"}}}],\"scattercarpet\":[{\"type\":\"scattercarpet\",\"marker\":{\"colorbar\":{\"outlinewidth\":0,\"ticks\":\"\"}}}],\"carpet\":[{\"aaxis\":{\"endlinecolor\":\"#2a3f5f\",\"gridcolor\":\"white\",\"linecolor\":\"white\",\"minorgridcolor\":\"white\",\"startlinecolor\":\"#2a3f5f\"},\"baxis\":{\"endlinecolor\":\"#2a3f5f\",\"gridcolor\":\"white\",\"linecolor\":\"white\",\"minorgridcolor\":\"white\",\"startlinecolor\":\"#2a3f5f\"},\"type\":\"carpet\"}],\"table\":[{\"cells\":{\"fill\":{\"color\":\"#EBF0F8\"},\"line\":{\"color\":\"white\"}},\"header\":{\"fill\":{\"color\":\"#C8D4E3\"},\"line\":{\"color\":\"white\"}},\"type\":\"table\"}],\"barpolar\":[{\"marker\":{\"line\":{\"color\":\"#E5ECF6\",\"width\":0.5},\"pattern\":{\"fillmode\":\"overlay\",\"size\":10,\"solidity\":0.2}},\"type\":\"barpolar\"}],\"pie\":[{\"automargin\":true,\"type\":\"pie\"}]},\"layout\":{\"autotypenumbers\":\"strict\",\"colorway\":[\"#636efa\",\"#EF553B\",\"#00cc96\",\"#ab63fa\",\"#FFA15A\",\"#19d3f3\",\"#FF6692\",\"#B6E880\",\"#FF97FF\",\"#FECB52\"],\"font\":{\"color\":\"#2a3f5f\"},\"hovermode\":\"closest\",\"hoverlabel\":{\"align\":\"left\"},\"paper_bgcolor\":\"white\",\"plot_bgcolor\":\"#E5ECF6\",\"polar\":{\"bgcolor\":\"#E5ECF6\",\"angularaxis\":{\"gridcolor\":\"white\",\"linecolor\":\"white\",\"ticks\":\"\"},\"radialaxis\":{\"gridcolor\":\"white\",\"linecolor\":\"white\",\"ticks\":\"\"}},\"ternary\":{\"bgcolor\":\"#E5ECF6\",\"aaxis\":{\"gridcolor\":\"white\",\"linecolor\":\"white\",\"ticks\":\"\"},\"baxis\":{\"gridcolor\":\"white\",\"linecolor\":\"white\",\"ticks\":\"\"},\"caxis\":{\"gridcolor\":\"white\",\"linecolor\":\"white\",\"ticks\":\"\"}},\"coloraxis\":{\"colorbar\":{\"outlinewidth\":0,\"ticks\":\"\"}},\"colorscale\":{\"sequential\":[[0.0,\"#0d0887\"],[0.1111111111111111,\"#46039f\"],[0.2222222222222222,\"#7201a8\"],[0.3333333333333333,\"#9c179e\"],[0.4444444444444444,\"#bd3786\"],[0.5555555555555556,\"#d8576b\"],[0.6666666666666666,\"#ed7953\"],[0.7777777777777778,\"#fb9f3a\"],[0.8888888888888888,\"#fdca26\"],[1.0,\"#f0f921\"]],\"sequentialminus\":[[0.0,\"#0d0887\"],[0.1111111111111111,\"#46039f\"],[0.2222222222222222,\"#7201a8\"],[0.3333333333333333,\"#9c179e\"],[0.4444444444444444,\"#bd3786\"],[0.5555555555555556,\"#d8576b\"],[0.6666666666666666,\"#ed7953\"],[0.7777777777777778,\"#fb9f3a\"],[0.8888888888888888,\"#fdca26\"],[1.0,\"#f0f921\"]],\"diverging\":[[0,\"#8e0152\"],[0.1,\"#c51b7d\"],[0.2,\"#de77ae\"],[0.3,\"#f1b6da\"],[0.4,\"#fde0ef\"],[0.5,\"#f7f7f7\"],[0.6,\"#e6f5d0\"],[0.7,\"#b8e186\"],[0.8,\"#7fbc41\"],[0.9,\"#4d9221\"],[1,\"#276419\"]]},\"xaxis\":{\"gridcolor\":\"white\",\"linecolor\":\"white\",\"ticks\":\"\",\"title\":{\"standoff\":15},\"zerolinecolor\":\"white\",\"automargin\":true,\"zerolinewidth\":2},\"yaxis\":{\"gridcolor\":\"white\",\"linecolor\":\"white\",\"ticks\":\"\",\"title\":{\"standoff\":15},\"zerolinecolor\":\"white\",\"automargin\":true,\"zerolinewidth\":2},\"scene\":{\"xaxis\":{\"backgroundcolor\":\"#E5ECF6\",\"gridcolor\":\"white\",\"linecolor\":\"white\",\"showbackground\":true,\"ticks\":\"\",\"zerolinecolor\":\"white\",\"gridwidth\":2},\"yaxis\":{\"backgroundcolor\":\"#E5ECF6\",\"gridcolor\":\"white\",\"linecolor\":\"white\",\"showbackground\":true,\"ticks\":\"\",\"zerolinecolor\":\"white\",\"gridwidth\":2},\"zaxis\":{\"backgroundcolor\":\"#E5ECF6\",\"gridcolor\":\"white\",\"linecolor\":\"white\",\"showbackground\":true,\"ticks\":\"\",\"zerolinecolor\":\"white\",\"gridwidth\":2}},\"shapedefaults\":{\"line\":{\"color\":\"#2a3f5f\"}},\"annotationdefaults\":{\"arrowcolor\":\"#2a3f5f\",\"arrowhead\":0,\"arrowwidth\":1},\"geo\":{\"bgcolor\":\"white\",\"landcolor\":\"#E5ECF6\",\"subunitcolor\":\"white\",\"showland\":true,\"showlakes\":true,\"lakecolor\":\"white\"},\"title\":{\"x\":0.05},\"mapbox\":{\"style\":\"light\"}}},\"scene\":{\"domain\":{\"x\":[0.0,1.0],\"y\":[0.0,1.0]},\"xaxis\":{\"title\":{\"text\":\"x\"}},\"yaxis\":{\"title\":{\"text\":\"y\"}},\"zaxis\":{\"title\":{\"text\":\"z\"}}},\"legend\":{\"tracegroupgap\":0},\"margin\":{\"t\":60}},                        {\"responsive\": true}                    ).then(function(){\n",
              "                            \n",
              "var gd = document.getElementById('a29895a7-2a1b-4c82-bb67-160e90cb8959');\n",
              "var x = new MutationObserver(function (mutations, observer) {{\n",
              "        var display = window.getComputedStyle(gd).display;\n",
              "        if (!display || display === 'none') {{\n",
              "            console.log([gd, 'removed!']);\n",
              "            Plotly.purge(gd);\n",
              "            observer.disconnect();\n",
              "        }}\n",
              "}});\n",
              "\n",
              "// Listen for the removal of the full notebook cells\n",
              "var notebookContainer = gd.closest('#notebook-container');\n",
              "if (notebookContainer) {{\n",
              "    x.observe(notebookContainer, {childList: true});\n",
              "}}\n",
              "\n",
              "// Listen for the clearing of the current output cell\n",
              "var outputEl = gd.closest('.output');\n",
              "if (outputEl) {{\n",
              "    x.observe(outputEl, {childList: true});\n",
              "}}\n",
              "\n",
              "                        })                };                            </script>        </div>\n",
              "</body>\n",
              "</html>"
            ]
          },
          "metadata": {}
        }
      ],
      "source": [
        "# Graficamos los embedddings en 3D\n",
        "\n",
        "vecs, labels = reduce_dimensions(w2v_model,3)\n",
        "\n",
        "fig = px.scatter_3d(x=vecs[:MAX_WORDS,0], y=vecs[:MAX_WORDS,1], z=vecs[:MAX_WORDS,2],text=labels[:MAX_WORDS])\n",
        "fig.update_traces(marker_size = 2)\n",
        "fig.show(renderer=\"colab\")"
      ]
    }
  ],
  "metadata": {
    "colab": {
      "provenance": []
    },
    "kernelspec": {
      "display_name": "Python 3 (ipykernel)",
      "language": "python",
      "name": "python3"
    },
    "language_info": {
      "codemirror_mode": {
        "name": "ipython",
        "version": 3
      },
      "file_extension": ".py",
      "mimetype": "text/x-python",
      "name": "python",
      "nbconvert_exporter": "python",
      "pygments_lexer": "ipython3",
      "version": "3.11.7"
    }
  },
  "nbformat": 4,
  "nbformat_minor": 0
}