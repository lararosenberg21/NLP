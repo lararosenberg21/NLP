{
  "cells": [
    {
      "cell_type": "markdown",
      "source": [
        "### TP Nº3\n",
        "Alumna: Lara Rosenberg"
      ],
      "metadata": {
        "id": "yd4c4zi6mGYz"
      }
    },
    {
      "cell_type": "markdown",
      "metadata": {
        "id": "Iv5PEwGzZA9-"
      },
      "source": [
        "### Consigna\n",
        "- Seleccionar un corpus de texto sobre el cual entrenar el modelo de lenguaje.\n",
        "- Realizar el pre-procesamiento adecuado para tokenizar el corpus, estructurar el dataset y separar entre datos de entrenamiento y validación.\n",
        "- Proponer arquitecturas de redes neuronales basadas en unidades recurrentes para implementar un modelo de lenguaje.\n",
        "- Con el o los modelos que consideren adecuados, generar nuevas secuencias a partir de secuencias de contexto con las estrategias de greedy search y beam search determístico y estocástico. En este último caso observar el efecto de la temperatura en la generación de secuencias."
      ]
    },
    {
      "cell_type": "markdown",
      "source": [
        "En este caso, vamos a utilizar un modelo many to many donde las unidades van a ser palabras a traves de redes recurrentes."
      ],
      "metadata": {
        "id": "6R6ltbqnmVlM"
      }
    },
    {
      "cell_type": "code",
      "execution_count": 1,
      "metadata": {
        "id": "Y-QdFbHZYj7C"
      },
      "outputs": [],
      "source": [
        "# Importamos las librerias necesarias\n",
        "import random\n",
        "import io\n",
        "import pickle\n",
        "\n",
        "import numpy as np\n",
        "import pandas as pd\n",
        "import matplotlib.pyplot as plt\n",
        "from sklearn.model_selection import train_test_split\n",
        "import seaborn as sns\n",
        "\n",
        "from tensorflow import keras\n",
        "from tensorflow.keras import layers\n",
        "from keras.utils import to_categorical\n",
        "from keras.models import Sequential\n",
        "from keras.layers import Dense, LSTM, Embedding, Dropout\n",
        "from tensorflow.keras.losses import SparseCategoricalCrossentropy\n",
        "\n",
        "import urllib.request\n",
        "import bs4 as bs\n",
        "\n",
        "from tensorflow.keras.preprocessing.text import Tokenizer\n",
        "from tensorflow.keras.preprocessing.text import text_to_word_sequence\n",
        "from tensorflow.keras.utils import pad_sequences\n",
        "\n",
        "import re"
      ]
    },
    {
      "cell_type": "code",
      "source": [
        "from nltk.corpus import gutenberg\n",
        "import nltk\n",
        "nltk.download('gutenberg')\n",
        "import nltk\n",
        "nltk.download('punkt')\n",
        "import nltk\n",
        "nltk.download('punkt_tab')"
      ],
      "metadata": {
        "colab": {
          "base_uri": "https://localhost:8080/"
        },
        "id": "r_OlqCioXUHR",
        "outputId": "58d7e3e9-7aaf-4972-9b20-5b7d7ff8fc15"
      },
      "execution_count": 3,
      "outputs": [
        {
          "output_type": "stream",
          "name": "stderr",
          "text": [
            "[nltk_data] Downloading package gutenberg to /root/nltk_data...\n",
            "[nltk_data]   Package gutenberg is already up-to-date!\n",
            "[nltk_data] Downloading package punkt to /root/nltk_data...\n",
            "[nltk_data]   Package punkt is already up-to-date!\n",
            "[nltk_data] Downloading package punkt_tab to /root/nltk_data...\n",
            "[nltk_data]   Package punkt_tab is already up-to-date!\n"
          ]
        },
        {
          "output_type": "execute_result",
          "data": {
            "text/plain": [
              "True"
            ]
          },
          "metadata": {},
          "execution_count": 3
        }
      ]
    },
    {
      "cell_type": "code",
      "source": [
        "!pip install -q gradio"
      ],
      "metadata": {
        "id": "mdcmp5K63Dcd"
      },
      "execution_count": 2,
      "outputs": []
    },
    {
      "cell_type": "markdown",
      "metadata": {
        "id": "xTvXlEKQZdqx"
      },
      "source": [
        "### Datos\n",
        "Tomaré como dataset el libro Emma, de Jane Austen. Tuve que descargarlo desde gutenberg porque textos info tenía roto el link"
      ]
    },
    {
      "cell_type": "code",
      "source": [
        "book = gutenberg.sents('austen-emma.txt')\n",
        "\n",
        "# Preprocesamos el texto\n",
        "sents = [' '.join(sentence) for sentence in book]\n",
        "sents = [i.lower() for i in sents]\n",
        "sents = [i.replace('[','') for i in sents]\n",
        "sents = [i.replace(']','') for i in sents]\n",
        "sents = [i.replace('-','') for i in sents]\n",
        "sents = [i.replace(';','') for i in sents]\n",
        "sents = [i.replace('_','') for i in sents]\n",
        "\n",
        "df = pd.DataFrame(sents, columns=['Lines'])\n",
        "print(\"Cantidad de documentos:\", df.shape[0])\n",
        "df.head()"
      ],
      "metadata": {
        "colab": {
          "base_uri": "https://localhost:8080/",
          "height": 224
        },
        "id": "VU8mODv9XT7z",
        "outputId": "3b3f923e-2690-4669-ccb6-894f7070dd62"
      },
      "execution_count": 4,
      "outputs": [
        {
          "output_type": "stream",
          "name": "stdout",
          "text": [
            "Cantidad de documentos: 7752\n"
          ]
        },
        {
          "output_type": "execute_result",
          "data": {
            "text/plain": [
              "                                               Lines\n",
              "0                          emma by jane austen 1816 \n",
              "1                                           volume i\n",
              "2                                          chapter i\n",
              "3  emma woodhouse , handsome , clever , and rich ...\n",
              "4  she was the youngest of the two daughters of a..."
            ],
            "text/html": [
              "\n",
              "  <div id=\"df-0e1c1b39-7321-4ef8-9a59-3cfbc456d1a4\" class=\"colab-df-container\">\n",
              "    <div>\n",
              "<style scoped>\n",
              "    .dataframe tbody tr th:only-of-type {\n",
              "        vertical-align: middle;\n",
              "    }\n",
              "\n",
              "    .dataframe tbody tr th {\n",
              "        vertical-align: top;\n",
              "    }\n",
              "\n",
              "    .dataframe thead th {\n",
              "        text-align: right;\n",
              "    }\n",
              "</style>\n",
              "<table border=\"1\" class=\"dataframe\">\n",
              "  <thead>\n",
              "    <tr style=\"text-align: right;\">\n",
              "      <th></th>\n",
              "      <th>Lines</th>\n",
              "    </tr>\n",
              "  </thead>\n",
              "  <tbody>\n",
              "    <tr>\n",
              "      <th>0</th>\n",
              "      <td>emma by jane austen 1816</td>\n",
              "    </tr>\n",
              "    <tr>\n",
              "      <th>1</th>\n",
              "      <td>volume i</td>\n",
              "    </tr>\n",
              "    <tr>\n",
              "      <th>2</th>\n",
              "      <td>chapter i</td>\n",
              "    </tr>\n",
              "    <tr>\n",
              "      <th>3</th>\n",
              "      <td>emma woodhouse , handsome , clever , and rich ...</td>\n",
              "    </tr>\n",
              "    <tr>\n",
              "      <th>4</th>\n",
              "      <td>she was the youngest of the two daughters of a...</td>\n",
              "    </tr>\n",
              "  </tbody>\n",
              "</table>\n",
              "</div>\n",
              "    <div class=\"colab-df-buttons\">\n",
              "\n",
              "  <div class=\"colab-df-container\">\n",
              "    <button class=\"colab-df-convert\" onclick=\"convertToInteractive('df-0e1c1b39-7321-4ef8-9a59-3cfbc456d1a4')\"\n",
              "            title=\"Convert this dataframe to an interactive table.\"\n",
              "            style=\"display:none;\">\n",
              "\n",
              "  <svg xmlns=\"http://www.w3.org/2000/svg\" height=\"24px\" viewBox=\"0 -960 960 960\">\n",
              "    <path d=\"M120-120v-720h720v720H120Zm60-500h600v-160H180v160Zm220 220h160v-160H400v160Zm0 220h160v-160H400v160ZM180-400h160v-160H180v160Zm440 0h160v-160H620v160ZM180-180h160v-160H180v160Zm440 0h160v-160H620v160Z\"/>\n",
              "  </svg>\n",
              "    </button>\n",
              "\n",
              "  <style>\n",
              "    .colab-df-container {\n",
              "      display:flex;\n",
              "      gap: 12px;\n",
              "    }\n",
              "\n",
              "    .colab-df-convert {\n",
              "      background-color: #E8F0FE;\n",
              "      border: none;\n",
              "      border-radius: 50%;\n",
              "      cursor: pointer;\n",
              "      display: none;\n",
              "      fill: #1967D2;\n",
              "      height: 32px;\n",
              "      padding: 0 0 0 0;\n",
              "      width: 32px;\n",
              "    }\n",
              "\n",
              "    .colab-df-convert:hover {\n",
              "      background-color: #E2EBFA;\n",
              "      box-shadow: 0px 1px 2px rgba(60, 64, 67, 0.3), 0px 1px 3px 1px rgba(60, 64, 67, 0.15);\n",
              "      fill: #174EA6;\n",
              "    }\n",
              "\n",
              "    .colab-df-buttons div {\n",
              "      margin-bottom: 4px;\n",
              "    }\n",
              "\n",
              "    [theme=dark] .colab-df-convert {\n",
              "      background-color: #3B4455;\n",
              "      fill: #D2E3FC;\n",
              "    }\n",
              "\n",
              "    [theme=dark] .colab-df-convert:hover {\n",
              "      background-color: #434B5C;\n",
              "      box-shadow: 0px 1px 3px 1px rgba(0, 0, 0, 0.15);\n",
              "      filter: drop-shadow(0px 1px 2px rgba(0, 0, 0, 0.3));\n",
              "      fill: #FFFFFF;\n",
              "    }\n",
              "  </style>\n",
              "\n",
              "    <script>\n",
              "      const buttonEl =\n",
              "        document.querySelector('#df-0e1c1b39-7321-4ef8-9a59-3cfbc456d1a4 button.colab-df-convert');\n",
              "      buttonEl.style.display =\n",
              "        google.colab.kernel.accessAllowed ? 'block' : 'none';\n",
              "\n",
              "      async function convertToInteractive(key) {\n",
              "        const element = document.querySelector('#df-0e1c1b39-7321-4ef8-9a59-3cfbc456d1a4');\n",
              "        const dataTable =\n",
              "          await google.colab.kernel.invokeFunction('convertToInteractive',\n",
              "                                                    [key], {});\n",
              "        if (!dataTable) return;\n",
              "\n",
              "        const docLinkHtml = 'Like what you see? Visit the ' +\n",
              "          '<a target=\"_blank\" href=https://colab.research.google.com/notebooks/data_table.ipynb>data table notebook</a>'\n",
              "          + ' to learn more about interactive tables.';\n",
              "        element.innerHTML = '';\n",
              "        dataTable['output_type'] = 'display_data';\n",
              "        await google.colab.output.renderOutput(dataTable, element);\n",
              "        const docLink = document.createElement('div');\n",
              "        docLink.innerHTML = docLinkHtml;\n",
              "        element.appendChild(docLink);\n",
              "      }\n",
              "    </script>\n",
              "  </div>\n",
              "\n",
              "\n",
              "<div id=\"df-288a4315-73cd-411a-a820-74d2a4747c01\">\n",
              "  <button class=\"colab-df-quickchart\" onclick=\"quickchart('df-288a4315-73cd-411a-a820-74d2a4747c01')\"\n",
              "            title=\"Suggest charts\"\n",
              "            style=\"display:none;\">\n",
              "\n",
              "<svg xmlns=\"http://www.w3.org/2000/svg\" height=\"24px\"viewBox=\"0 0 24 24\"\n",
              "     width=\"24px\">\n",
              "    <g>\n",
              "        <path d=\"M19 3H5c-1.1 0-2 .9-2 2v14c0 1.1.9 2 2 2h14c1.1 0 2-.9 2-2V5c0-1.1-.9-2-2-2zM9 17H7v-7h2v7zm4 0h-2V7h2v10zm4 0h-2v-4h2v4z\"/>\n",
              "    </g>\n",
              "</svg>\n",
              "  </button>\n",
              "\n",
              "<style>\n",
              "  .colab-df-quickchart {\n",
              "      --bg-color: #E8F0FE;\n",
              "      --fill-color: #1967D2;\n",
              "      --hover-bg-color: #E2EBFA;\n",
              "      --hover-fill-color: #174EA6;\n",
              "      --disabled-fill-color: #AAA;\n",
              "      --disabled-bg-color: #DDD;\n",
              "  }\n",
              "\n",
              "  [theme=dark] .colab-df-quickchart {\n",
              "      --bg-color: #3B4455;\n",
              "      --fill-color: #D2E3FC;\n",
              "      --hover-bg-color: #434B5C;\n",
              "      --hover-fill-color: #FFFFFF;\n",
              "      --disabled-bg-color: #3B4455;\n",
              "      --disabled-fill-color: #666;\n",
              "  }\n",
              "\n",
              "  .colab-df-quickchart {\n",
              "    background-color: var(--bg-color);\n",
              "    border: none;\n",
              "    border-radius: 50%;\n",
              "    cursor: pointer;\n",
              "    display: none;\n",
              "    fill: var(--fill-color);\n",
              "    height: 32px;\n",
              "    padding: 0;\n",
              "    width: 32px;\n",
              "  }\n",
              "\n",
              "  .colab-df-quickchart:hover {\n",
              "    background-color: var(--hover-bg-color);\n",
              "    box-shadow: 0 1px 2px rgba(60, 64, 67, 0.3), 0 1px 3px 1px rgba(60, 64, 67, 0.15);\n",
              "    fill: var(--button-hover-fill-color);\n",
              "  }\n",
              "\n",
              "  .colab-df-quickchart-complete:disabled,\n",
              "  .colab-df-quickchart-complete:disabled:hover {\n",
              "    background-color: var(--disabled-bg-color);\n",
              "    fill: var(--disabled-fill-color);\n",
              "    box-shadow: none;\n",
              "  }\n",
              "\n",
              "  .colab-df-spinner {\n",
              "    border: 2px solid var(--fill-color);\n",
              "    border-color: transparent;\n",
              "    border-bottom-color: var(--fill-color);\n",
              "    animation:\n",
              "      spin 1s steps(1) infinite;\n",
              "  }\n",
              "\n",
              "  @keyframes spin {\n",
              "    0% {\n",
              "      border-color: transparent;\n",
              "      border-bottom-color: var(--fill-color);\n",
              "      border-left-color: var(--fill-color);\n",
              "    }\n",
              "    20% {\n",
              "      border-color: transparent;\n",
              "      border-left-color: var(--fill-color);\n",
              "      border-top-color: var(--fill-color);\n",
              "    }\n",
              "    30% {\n",
              "      border-color: transparent;\n",
              "      border-left-color: var(--fill-color);\n",
              "      border-top-color: var(--fill-color);\n",
              "      border-right-color: var(--fill-color);\n",
              "    }\n",
              "    40% {\n",
              "      border-color: transparent;\n",
              "      border-right-color: var(--fill-color);\n",
              "      border-top-color: var(--fill-color);\n",
              "    }\n",
              "    60% {\n",
              "      border-color: transparent;\n",
              "      border-right-color: var(--fill-color);\n",
              "    }\n",
              "    80% {\n",
              "      border-color: transparent;\n",
              "      border-right-color: var(--fill-color);\n",
              "      border-bottom-color: var(--fill-color);\n",
              "    }\n",
              "    90% {\n",
              "      border-color: transparent;\n",
              "      border-bottom-color: var(--fill-color);\n",
              "    }\n",
              "  }\n",
              "</style>\n",
              "\n",
              "  <script>\n",
              "    async function quickchart(key) {\n",
              "      const quickchartButtonEl =\n",
              "        document.querySelector('#' + key + ' button');\n",
              "      quickchartButtonEl.disabled = true;  // To prevent multiple clicks.\n",
              "      quickchartButtonEl.classList.add('colab-df-spinner');\n",
              "      try {\n",
              "        const charts = await google.colab.kernel.invokeFunction(\n",
              "            'suggestCharts', [key], {});\n",
              "      } catch (error) {\n",
              "        console.error('Error during call to suggestCharts:', error);\n",
              "      }\n",
              "      quickchartButtonEl.classList.remove('colab-df-spinner');\n",
              "      quickchartButtonEl.classList.add('colab-df-quickchart-complete');\n",
              "    }\n",
              "    (() => {\n",
              "      let quickchartButtonEl =\n",
              "        document.querySelector('#df-288a4315-73cd-411a-a820-74d2a4747c01 button');\n",
              "      quickchartButtonEl.style.display =\n",
              "        google.colab.kernel.accessAllowed ? 'block' : 'none';\n",
              "    })();\n",
              "  </script>\n",
              "</div>\n",
              "\n",
              "    </div>\n",
              "  </div>\n"
            ],
            "application/vnd.google.colaboratory.intrinsic+json": {
              "type": "dataframe",
              "variable_name": "df",
              "summary": "{\n  \"name\": \"df\",\n  \"rows\": 7752,\n  \"fields\": [\n    {\n      \"column\": \"Lines\",\n      \"properties\": {\n        \"dtype\": \"string\",\n        \"num_unique_values\": 7482,\n        \"samples\": [\n          \"\\\" his father ' s marriage ,\\\" he said , \\\" had been the wisest measure , every friend must rejoice in it  and the family from whom he had received such a blessing must be ever considered as having conferred the highest obligation on him .\\\"\",\n          \"\\\" i am to hear from him soon ,\\\" continued mrs . weston .\",\n          \"i feel it so very due .\"\n        ],\n        \"semantic_type\": \"\",\n        \"description\": \"\"\n      }\n    }\n  ]\n}"
            }
          },
          "metadata": {},
          "execution_count": 4
        }
      ]
    },
    {
      "cell_type": "code",
      "source": [
        "# Eliminamos las filas que quedaron sin información en el dataset\n",
        "df = df[df.Lines !=''].reset_index(drop=True)\n",
        "df.shape[0]"
      ],
      "metadata": {
        "colab": {
          "base_uri": "https://localhost:8080/"
        },
        "id": "fOhitkF8ZFpf",
        "outputId": "8cada404-c4e1-4237-ab92-9f23080ab015"
      },
      "execution_count": 5,
      "outputs": [
        {
          "output_type": "execute_result",
          "data": {
            "text/plain": [
              "7746"
            ]
          },
          "metadata": {},
          "execution_count": 5
        }
      ]
    },
    {
      "cell_type": "code",
      "source": [
        "# Vemos las primeras oraciones\n",
        "text = list(df.iloc[:,0])\n",
        "text[0:10]"
      ],
      "metadata": {
        "colab": {
          "base_uri": "https://localhost:8080/"
        },
        "id": "78ZOB5lIXTw3",
        "outputId": "6bd31cbd-8788-42ea-d001-00c9975f1334"
      },
      "execution_count": 6,
      "outputs": [
        {
          "output_type": "execute_result",
          "data": {
            "text/plain": [
              "[' emma by jane austen 1816 ',\n",
              " 'volume i',\n",
              " 'chapter i',\n",
              " 'emma woodhouse , handsome , clever , and rich , with a comfortable home and happy disposition , seemed to unite some of the best blessings of existence  and had lived nearly twenty  one years in the world with very little to distress or vex her .',\n",
              " \"she was the youngest of the two daughters of a most affectionate , indulgent father  and had , in consequence of her sister ' s marriage , been mistress of his house from a very early period .\",\n",
              " 'her mother had died too long ago for her to have more than an indistinct remembrance of her caresses  and her place had been supplied by an excellent woman as governess , who had fallen little short of a mother in affection .',\n",
              " \"sixteen years had miss taylor been in mr . woodhouse ' s family , less as a governess than a friend , very fond of both daughters , but particularly of emma .\",\n",
              " 'between them it was more the intimacy of sisters .',\n",
              " \"even before miss taylor had ceased to hold the nominal office of governess , the mildness of her temper had hardly allowed her to impose any restraint  and the shadow of authority being now long passed away , they had been living together as friend and friend very mutually attached , and emma doing just what she liked  highly esteeming miss taylor ' s judgment , but directed chiefly by her own .\",\n",
              " \"the real evils , indeed , of emma ' s situation were the power of having rather too much her own way , and a disposition to think a little too well of herself  these were the disadvantages which threatened alloy to her many enjoyments .\"]"
            ]
          },
          "metadata": {},
          "execution_count": 6
        }
      ]
    },
    {
      "cell_type": "markdown",
      "source": [
        "Como utilizar todo el libro se volvió muy pesado para la memoria a la hora de realizar predicciones, decidí mantener únicamente la mitad de las filas del dataset (reducir el libro a la mitad)"
      ],
      "metadata": {
        "id": "dqQbUyzNrB_R"
      }
    },
    {
      "cell_type": "code",
      "source": [
        "# segmentamos el texto\n",
        "segmented_sentences = [text_to_word_sequence(sentence) for sentence in text[0:3500]]\n",
        "\n",
        "# calculamos la longitud de cada secuencia\n",
        "length_sentences = [len(sentence) for sentence in segmented_sentences]\n",
        "\n",
        "# graficamos el histograma del tamaño de las oraciones\n",
        "plt.hist(length_sentences, bins=100)\n",
        "plt.xlabel('Longitud de secuencia')\n",
        "plt.ylabel('Frecuencia')\n",
        "plt.show()"
      ],
      "metadata": {
        "colab": {
          "base_uri": "https://localhost:8080/",
          "height": 449
        },
        "id": "sa3xRC4rXTtw",
        "outputId": "fed22bf8-a078-477b-d285-c2dfffff1bd6"
      },
      "execution_count": 7,
      "outputs": [
        {
          "output_type": "display_data",
          "data": {
            "text/plain": [
              "<Figure size 640x480 with 1 Axes>"
            ],
            "image/png": "[encoded data removed]"
          },
          "metadata": {}
        }
      ]
    },
    {
      "cell_type": "code",
      "source": [
        "# observamos si hay alguna que haya quedado con longitud 0\n",
        "min(length_sentences)"
      ],
      "metadata": {
        "colab": {
          "base_uri": "https://localhost:8080/"
        },
        "id": "PyNVa_13bIbe",
        "outputId": "710bb51a-c8be-48ef-ef45-161d593e3adf"
      },
      "execution_count": 8,
      "outputs": [
        {
          "output_type": "execute_result",
          "data": {
            "text/plain": [
              "0"
            ]
          },
          "metadata": {},
          "execution_count": 8
        }
      ]
    },
    {
      "cell_type": "code",
      "source": [
        "# Eliminamos las oraciones cuyo tamaño es cero\n",
        "segmented_sentences = [sentence for sentence in segmented_sentences if len(sentence) > 0]\n",
        "len(segmented_sentences)"
      ],
      "metadata": {
        "colab": {
          "base_uri": "https://localhost:8080/"
        },
        "id": "86gCloihbJsN",
        "outputId": "4d411561-0047-42a0-bd5d-907d3b010802"
      },
      "execution_count": 10,
      "outputs": [
        {
          "output_type": "execute_result",
          "data": {
            "text/plain": [
              "3497"
            ]
          },
          "metadata": {},
          "execution_count": 10
        }
      ]
    },
    {
      "cell_type": "code",
      "source": [
        "# para determinar el tamaño máximo del contexto, tomé el percentil 70. La idea original era tomar el 90, pero daba un valor muy alto.\n",
        "max_context_size = int(np.percentile(length_sentences, 70)-1) # el -1 es porque el último token será el target\n",
        "print(f'max_context_size: {max_context_size}')"
      ],
      "metadata": {
        "colab": {
          "base_uri": "https://localhost:8080/"
        },
        "id": "uEnedlDuXTqp",
        "outputId": "eced0673-bfd5-4313-fad8-c52da22be989"
      },
      "execution_count": 11,
      "outputs": [
        {
          "output_type": "stream",
          "name": "stdout",
          "text": [
            "max_context_size: 24\n"
          ]
        }
      ]
    },
    {
      "cell_type": "markdown",
      "source": [
        "Tokenizamos --> convierte las palabras en numeros"
      ],
      "metadata": {
        "id": "2nY4TboYqNGX"
      }
    },
    {
      "cell_type": "code",
      "source": [
        "tok = Tokenizer()\n",
        "tok.fit_on_texts(segmented_sentences)\n",
        "tokenized_sentences = tok.texts_to_sequences(segmented_sentences)"
      ],
      "metadata": {
        "id": "yCmW4kXFbVRl"
      },
      "execution_count": 12,
      "outputs": []
    },
    {
      "cell_type": "code",
      "source": [
        "# Observamos la primera oracion tokenizada\n",
        "tokenized_sentences[0]"
      ],
      "metadata": {
        "colab": {
          "base_uri": "https://localhost:8080/"
        },
        "id": "N9jSPEG_bVJh",
        "outputId": "f3f4e3ba-43ee-48e6-9041-6afa1f8e53aa"
      },
      "execution_count": 13,
      "outputs": [
        {
          "output_type": "execute_result",
          "data": {
            "text/plain": [
              "[33, 47, 120, 2917, 2918]"
            ]
          },
          "metadata": {},
          "execution_count": 13
        }
      ]
    },
    {
      "cell_type": "code",
      "source": [
        "# La compramos con el texto: aca se puede ver que la palabra emma se está asignando al numero 33, by al numero 47 y asi sucesivamente\n",
        "text[0]"
      ],
      "metadata": {
        "colab": {
          "base_uri": "https://localhost:8080/",
          "height": 35
        },
        "id": "7q69p7bVXTYK",
        "outputId": "6ad35b17-bc09-4c57-b943-2a5eb64bbfa4"
      },
      "execution_count": 14,
      "outputs": [
        {
          "output_type": "execute_result",
          "data": {
            "text/plain": [
              "' emma by jane austen 1816 '"
            ],
            "application/vnd.google.colaboratory.intrinsic+json": {
              "type": "string"
            }
          },
          "metadata": {},
          "execution_count": 14
        }
      ]
    },
    {
      "cell_type": "markdown",
      "source": [
        "Nos quedamos con un conjunto de datos de validación que utilizaremos para medir la calidad de la generación de secuencias con la métrica de Perplejidad. Aca es importante resaltar que se tuvo que disminuir la proporción de validación ya que se quedaba sin memoria."
      ],
      "metadata": {
        "id": "jl4tPs3dV98q"
      }
    },
    {
      "cell_type": "code",
      "source": [
        "tokenized_sentences_train, tokenized_sentences_val, _, _ = train_test_split(tokenized_sentences, tokenized_sentences, test_size=0.10, random_state=42)"
      ],
      "metadata": {
        "id": "BMD-US95V8qV"
      },
      "execution_count": 15,
      "outputs": []
    },
    {
      "cell_type": "code",
      "source": [
        "tok_sent = []\n",
        "\n",
        "for sent in tokenized_sentences_train:\n",
        "\n",
        "  # si la secuencia tiene más términos que el tamaño de contexto máximo, armo varias sub-secuencias de tamaño máximo\n",
        "  if len(sent) > (max_context_size+1):\n",
        "    extra = len(sent)-(max_context_size+1) + 1\n",
        "    for i in range(extra):\n",
        "      tok_sent.append(sent[i:i+max_context_size+1])\n",
        "  else: # si la secuencia tiene menos términos el tamaño de contexto máximo, dejo la secuencia como está\n",
        "    tok_sent.append(sent)\n"
      ],
      "metadata": {
        "id": "gFKFwwMTV8oQ"
      },
      "execution_count": 16,
      "outputs": []
    },
    {
      "cell_type": "code",
      "source": [
        "tokenized_sentences_train[0]"
      ],
      "metadata": {
        "colab": {
          "base_uri": "https://localhost:8080/"
        },
        "id": "hsl-7Vu1XZD0",
        "outputId": "76274ee4-d52f-45b8-b080-4d497688d1d7"
      },
      "execution_count": 17,
      "outputs": [
        {
          "output_type": "execute_result",
          "data": {
            "text/plain": [
              "[1, 1114, 48, 14, 1166, 519, 8, 1150, 209, 3, 1, 937, 8, 31, 14, 161, 1, 126]"
            ]
          },
          "metadata": {},
          "execution_count": 17
        }
      ]
    },
    {
      "cell_type": "code",
      "source": [
        "tok_sent[0]"
      ],
      "metadata": {
        "colab": {
          "base_uri": "https://localhost:8080/"
        },
        "id": "jtWk2zE_YGG3",
        "outputId": "72ae937a-4248-4d80-c9e3-ad94d8c537fa"
      },
      "execution_count": 18,
      "outputs": [
        {
          "output_type": "execute_result",
          "data": {
            "text/plain": [
              "[1, 1114, 48, 14, 1166, 519, 8, 1150, 209, 3, 1, 937, 8, 31, 14, 161, 1, 126]"
            ]
          },
          "metadata": {},
          "execution_count": 18
        }
      ]
    },
    {
      "cell_type": "markdown",
      "metadata": {
        "id": "QnwSC7A_LWfd"
      },
      "source": [
        "Ahora aumentamos los datos aprovechando que de una secuencia grande se pueden generar varias más pequeñas"
      ]
    },
    {
      "cell_type": "code",
      "execution_count": 19,
      "metadata": {
        "id": "lWdhVV04htki"
      },
      "outputs": [],
      "source": [
        "tok_sent_augm = []\n",
        "\n",
        "for sent in tok_sent:\n",
        "\n",
        "  # generamos todas las sub-secuencias\n",
        "  subseq = [sent[:i+3] for i in range(len(sent)-1)]\n",
        "  # en esta línea paddeamos al tamaño de contexto máximo\n",
        "  tok_sent_augm.append(pad_sequences(subseq, maxlen=max_context_size+1, padding='pre'))\n"
      ]
    },
    {
      "cell_type": "code",
      "execution_count": 20,
      "metadata": {
        "id": "THXXBya1tnZ8"
      },
      "outputs": [],
      "source": [
        "# concatenamos todas las secuencias en un único array de numpy\n",
        "train_seqs = np.concatenate(tok_sent_augm, axis=0)"
      ]
    },
    {
      "cell_type": "code",
      "execution_count": 21,
      "metadata": {
        "id": "o5Uiflnwt10J",
        "colab": {
          "base_uri": "https://localhost:8080/"
        },
        "outputId": "43c9ead3-275f-4632-968f-74c556224ff4"
      },
      "outputs": [
        {
          "output_type": "execute_result",
          "data": {
            "text/plain": [
              "(519408, 25)"
            ]
          },
          "metadata": {},
          "execution_count": 21
        }
      ],
      "source": [
        "train_seqs.shape"
      ]
    },
    {
      "cell_type": "markdown",
      "source": [
        "Estructurando el problema de aprendizaje como *many-to-many*:\n",
        "\n",
        "Entrada: secuencia de tokens [$x_0$, $x_1$, ..., $x_N$]\n",
        "Target: secuencia de tokens [$x_1$, $x_2$, ...,$x_{N+1}$]"
      ],
      "metadata": {
        "id": "WOZcSYH40jat"
      }
    },
    {
      "cell_type": "code",
      "source": [
        "# Calculamos las entradas y salidas del modelo\n",
        "X = train_seqs[:,:-1]\n",
        "y = train_seqs[:,1:]"
      ],
      "metadata": {
        "id": "mtVRJPzb0h0M"
      },
      "execution_count": 22,
      "outputs": []
    },
    {
      "cell_type": "code",
      "source": [
        "X[0]"
      ],
      "metadata": {
        "colab": {
          "base_uri": "https://localhost:8080/"
        },
        "id": "_CNqXTSt0ypC",
        "outputId": "66ec1b51-5141-40ae-c3af-6c6b33a9a3df"
      },
      "execution_count": 23,
      "outputs": [
        {
          "output_type": "execute_result",
          "data": {
            "text/plain": [
              "array([   0,    0,    0,    0,    0,    0,    0,    0,    0,    0,    0,\n",
              "          0,    0,    0,    0,    0,    0,    0,    0,    0,    0,    0,\n",
              "          1, 1114], dtype=int32)"
            ]
          },
          "metadata": {},
          "execution_count": 23
        }
      ]
    },
    {
      "cell_type": "code",
      "source": [
        "y[0]"
      ],
      "metadata": {
        "colab": {
          "base_uri": "https://localhost:8080/"
        },
        "id": "Ye30AC7t0ymb",
        "outputId": "a7fdfdc6-293d-43db-f5d4-c0800b2842bd"
      },
      "execution_count": 24,
      "outputs": [
        {
          "output_type": "execute_result",
          "data": {
            "text/plain": [
              "array([   0,    0,    0,    0,    0,    0,    0,    0,    0,    0,    0,\n",
              "          0,    0,    0,    0,    0,    0,    0,    0,    0,    0,    1,\n",
              "       1114,   48], dtype=int32)"
            ]
          },
          "metadata": {},
          "execution_count": 24
        }
      ]
    },
    {
      "cell_type": "code",
      "source": [
        "y.shape"
      ],
      "metadata": {
        "colab": {
          "base_uri": "https://localhost:8080/"
        },
        "id": "UuJZnuMu0yjU",
        "outputId": "e811ac2f-60a5-4f8d-d9f5-977029564c72"
      },
      "execution_count": 25,
      "outputs": [
        {
          "output_type": "execute_result",
          "data": {
            "text/plain": [
              "(519408, 24)"
            ]
          },
          "metadata": {},
          "execution_count": 25
        }
      ]
    },
    {
      "cell_type": "code",
      "source": [
        "# Palabras del vocabulario\n",
        "tok.index_word"
      ],
      "metadata": {
        "colab": {
          "base_uri": "https://localhost:8080/"
        },
        "id": "hHeqmqUY0ygd",
        "outputId": "24f795f7-c50a-4909-d725-8267022ebc1b"
      },
      "execution_count": 26,
      "outputs": [
        {
          "output_type": "execute_result",
          "data": {
            "text/plain": [
              "{1: 'the',\n",
              " 2: 'to',\n",
              " 3: 'and',\n",
              " 4: 'of',\n",
              " 5: 'a',\n",
              " 6: 'i',\n",
              " 7: 'her',\n",
              " 8: 'it',\n",
              " 9: 'was',\n",
              " 10: 'she',\n",
              " 11: 'in',\n",
              " 12: 'not',\n",
              " 13: 'he',\n",
              " 14: 'be',\n",
              " 15: 'that',\n",
              " 16: 'you',\n",
              " 17: 'had',\n",
              " 18: 'as',\n",
              " 19: 'but',\n",
              " 20: 'for',\n",
              " 21: 'very',\n",
              " 22: 'mr',\n",
              " 23: 'his',\n",
              " 24: 'is',\n",
              " 25: 'have',\n",
              " 26: 'with',\n",
              " 27: \"'\",\n",
              " 28: 'so',\n",
              " 29: 'at',\n",
              " 30: 's',\n",
              " 31: 'could',\n",
              " 32: 'him',\n",
              " 33: 'emma',\n",
              " 34: 'all',\n",
              " 35: 'would',\n",
              " 36: 'been',\n",
              " 37: 'no',\n",
              " 38: 'any',\n",
              " 39: 'my',\n",
              " 40: 'on',\n",
              " 41: 'do',\n",
              " 42: 'miss',\n",
              " 43: 'there',\n",
              " 44: 'they',\n",
              " 45: 'were',\n",
              " 46: 'or',\n",
              " 47: 'by',\n",
              " 48: 'must',\n",
              " 49: 'which',\n",
              " 50: 'from',\n",
              " 51: 'what',\n",
              " 52: 'mrs',\n",
              " 53: 'harriet',\n",
              " 54: 'will',\n",
              " 55: 'much',\n",
              " 56: 'if',\n",
              " 57: 'an',\n",
              " 58: 'such',\n",
              " 59: 'this',\n",
              " 60: 'me',\n",
              " 61: 'one',\n",
              " 62: 'more',\n",
              " 63: 'well',\n",
              " 64: 'every',\n",
              " 65: 'them',\n",
              " 66: 'think',\n",
              " 67: 'are',\n",
              " 68: 'thing',\n",
              " 69: 'good',\n",
              " 70: 'said',\n",
              " 71: 'being',\n",
              " 72: 'than',\n",
              " 73: 'little',\n",
              " 74: 'should',\n",
              " 75: 'weston',\n",
              " 76: 'their',\n",
              " 77: 'elton',\n",
              " 78: 'only',\n",
              " 79: 'never',\n",
              " 80: 'knightley',\n",
              " 81: 'we',\n",
              " 82: 'own',\n",
              " 83: 'man',\n",
              " 84: 'am',\n",
              " 85: 'know',\n",
              " 86: 'your',\n",
              " 87: 'did',\n",
              " 88: 'might',\n",
              " 89: 'how',\n",
              " 90: 'when',\n",
              " 91: 'woodhouse',\n",
              " 92: 'great',\n",
              " 93: 'who',\n",
              " 94: 'say',\n",
              " 95: 'can',\n",
              " 96: 'has',\n",
              " 97: 'dear',\n",
              " 98: 'nothing',\n",
              " 99: 'some',\n",
              " 100: 'about',\n",
              " 101: 'too',\n",
              " 102: 'now',\n",
              " 103: 'herself',\n",
              " 104: 'always',\n",
              " 105: 'most',\n",
              " 106: 'father',\n",
              " 107: 'time',\n",
              " 108: 'young',\n",
              " 109: 'thought',\n",
              " 110: 'quite',\n",
              " 111: 'body',\n",
              " 112: 'out',\n",
              " 113: 'see',\n",
              " 114: 'other',\n",
              " 115: 'sure',\n",
              " 116: 'friend',\n",
              " 117: 'may',\n",
              " 118: 'up',\n",
              " 119: 'before',\n",
              " 120: 'jane',\n",
              " 121: 'made',\n",
              " 122: 'first',\n",
              " 123: 'without',\n",
              " 124: 'ever',\n",
              " 125: 'though',\n",
              " 126: 'better',\n",
              " 127: 'again',\n",
              " 128: 'shall',\n",
              " 129: 'just',\n",
              " 130: 'fairfax',\n",
              " 131: 'like',\n",
              " 132: 'soon',\n",
              " 133: 'hartfield',\n",
              " 134: 'indeed',\n",
              " 135: 'then',\n",
              " 136: 'two',\n",
              " 137: 'give',\n",
              " 138: 'make',\n",
              " 139: 'away',\n",
              " 140: 'day',\n",
              " 141: 'after',\n",
              " 142: 'into',\n",
              " 143: 'himself',\n",
              " 144: 'upon',\n",
              " 145: 'way',\n",
              " 146: 'highbury',\n",
              " 147: 'oh',\n",
              " 148: 'cannot',\n",
              " 149: 'long',\n",
              " 150: 'come',\n",
              " 151: 'here',\n",
              " 152: 'really',\n",
              " 153: 'woman',\n",
              " 154: 'having',\n",
              " 155: 'enough',\n",
              " 156: 'love',\n",
              " 157: 'rather',\n",
              " 158: 'while',\n",
              " 159: 'does',\n",
              " 160: 'poor',\n",
              " 161: 'over',\n",
              " 162: 'home',\n",
              " 163: 'wish',\n",
              " 164: 'yes',\n",
              " 165: 'many',\n",
              " 166: 'sort',\n",
              " 167: 'its',\n",
              " 168: 'mind',\n",
              " 169: 'done',\n",
              " 170: 'half',\n",
              " 171: 'smith',\n",
              " 172: 'martin',\n",
              " 173: 'us',\n",
              " 174: 'people',\n",
              " 175: 'pleasure',\n",
              " 176: 'visit',\n",
              " 177: 'take',\n",
              " 178: 'bates',\n",
              " 179: 'go',\n",
              " 180: 'letter',\n",
              " 181: 'last',\n",
              " 182: 'going',\n",
              " 183: 'look',\n",
              " 184: 'saw',\n",
              " 185: 'house',\n",
              " 186: 'off',\n",
              " 187: 'certainly',\n",
              " 188: 'idea',\n",
              " 189: 'however',\n",
              " 190: 'where',\n",
              " 191: 'churchill',\n",
              " 192: 'hope',\n",
              " 193: 'those',\n",
              " 194: 'still',\n",
              " 195: 'came',\n",
              " 196: 'room',\n",
              " 197: 'john',\n",
              " 198: 'evening',\n",
              " 199: 'life',\n",
              " 200: 'feel',\n",
              " 201: 'pretty',\n",
              " 202: 'happy',\n",
              " 203: 'present',\n",
              " 204: 'right',\n",
              " 205: 'hear',\n",
              " 206: 'frank',\n",
              " 207: 'seemed',\n",
              " 208: 'mother',\n",
              " 209: 'place',\n",
              " 210: 'want',\n",
              " 211: 'often',\n",
              " 212: 'goddard',\n",
              " 213: 'isabella',\n",
              " 214: 'children',\n",
              " 215: 'deal',\n",
              " 216: 'found',\n",
              " 217: 'heard',\n",
              " 218: 'moment',\n",
              " 219: 'felt',\n",
              " 220: 'few',\n",
              " 221: 'coming',\n",
              " 222: 'another',\n",
              " 223: 'something',\n",
              " 224: 'ought',\n",
              " 225: 'doubt',\n",
              " 226: 'feelings',\n",
              " 227: 'cole',\n",
              " 228: 'family',\n",
              " 229: 'kind',\n",
              " 230: 'else',\n",
              " 231: 'sir',\n",
              " 232: 'general',\n",
              " 233: 'even',\n",
              " 234: 'old',\n",
              " 235: 'yet',\n",
              " 236: 'three',\n",
              " 237: 'manner',\n",
              " 238: 'believe',\n",
              " 239: 'marry',\n",
              " 240: 'best',\n",
              " 241: 'taylor',\n",
              " 242: 'whom',\n",
              " 243: 'myself',\n",
              " 244: 'subject',\n",
              " 245: 'given',\n",
              " 246: 'years',\n",
              " 247: 'till',\n",
              " 248: 'randalls',\n",
              " 249: 'comfort',\n",
              " 250: 'since',\n",
              " 251: 'perhaps',\n",
              " 252: 'both',\n",
              " 253: 'acquaintance',\n",
              " 254: 'daughter',\n",
              " 255: 'suppose',\n",
              " 256: 'short',\n",
              " 257: 'hardly',\n",
              " 258: 'person',\n",
              " 259: 'world',\n",
              " 260: 'together',\n",
              " 261: 'speak',\n",
              " 262: 'almost',\n",
              " 263: 'part',\n",
              " 264: 'get',\n",
              " 265: 'knew',\n",
              " 266: 'seen',\n",
              " 267: 'same',\n",
              " 268: 'hour',\n",
              " 269: 'through',\n",
              " 270: 'looked',\n",
              " 271: 'nobody',\n",
              " 272: 'our',\n",
              " 273: 'dixon',\n",
              " 274: 'exactly',\n",
              " 275: 'talked',\n",
              " 276: 'either',\n",
              " 277: 'friends',\n",
              " 278: 'once',\n",
              " 279: 'perry',\n",
              " 280: 'ready',\n",
              " 281: 'air',\n",
              " 282: 'party',\n",
              " 283: 'campbell',\n",
              " 284: 'between',\n",
              " 285: 'morning',\n",
              " 286: 'find',\n",
              " 287: 'obliged',\n",
              " 288: 'able',\n",
              " 289: 'tell',\n",
              " 290: 'wanted',\n",
              " 291: 'told',\n",
              " 292: 'agreeable',\n",
              " 293: 'replied',\n",
              " 294: 'yourself',\n",
              " 295: 'least',\n",
              " 296: 'handsome',\n",
              " 297: 'usual',\n",
              " 298: 'manners',\n",
              " 299: 'put',\n",
              " 300: 'whether',\n",
              " 301: 'account',\n",
              " 302: 'cried',\n",
              " 303: 'sorry',\n",
              " 304: 'therefore',\n",
              " 305: 'making',\n",
              " 306: 'longer',\n",
              " 307: 'looking',\n",
              " 308: 'true',\n",
              " 309: 'whole',\n",
              " 310: 'ill',\n",
              " 311: 'bad',\n",
              " 312: 'read',\n",
              " 313: 'down',\n",
              " 314: 'gone',\n",
              " 315: 'wife',\n",
              " 316: 'girl',\n",
              " 317: 'opinion',\n",
              " 318: 'immediately',\n",
              " 319: 'afraid',\n",
              " 320: 'let',\n",
              " 321: 'sense',\n",
              " 322: 'answer',\n",
              " 323: 'left',\n",
              " 324: 'nor',\n",
              " 325: 'attention',\n",
              " 326: 'possible',\n",
              " 327: 'interest',\n",
              " 328: 'particularly',\n",
              " 329: 'passed',\n",
              " 330: 'real',\n",
              " 331: 'means',\n",
              " 332: 'society',\n",
              " 333: 'used',\n",
              " 334: 'carriage',\n",
              " 335: 'cold',\n",
              " 336: 'others',\n",
              " 337: 'lady',\n",
              " 338: 'course',\n",
              " 339: 'taken',\n",
              " 340: 'side',\n",
              " 341: 'these',\n",
              " 342: 'married',\n",
              " 343: 'next',\n",
              " 344: 'because',\n",
              " 345: 'business',\n",
              " 346: 'regard',\n",
              " 347: 'began',\n",
              " 348: 'known',\n",
              " 349: 'return',\n",
              " 350: 'chapter',\n",
              " 351: 'power',\n",
              " 352: 'among',\n",
              " 353: 'brother',\n",
              " 354: 'directly',\n",
              " 355: 'perfectly',\n",
              " 356: 'leave',\n",
              " 357: 'understand',\n",
              " 358: 'imagine',\n",
              " 359: 'why',\n",
              " 360: 'dare',\n",
              " 361: 'strong',\n",
              " 362: 'proper',\n",
              " 363: 'set',\n",
              " 364: 'end',\n",
              " 365: 'towards',\n",
              " 366: 'marriage',\n",
              " 367: 'dinner',\n",
              " 368: 'papa',\n",
              " 369: 'back',\n",
              " 370: 'went',\n",
              " 371: 'question',\n",
              " 372: 'talk',\n",
              " 373: 'satisfied',\n",
              " 374: 'pleased',\n",
              " 375: 'superior',\n",
              " 376: 'point',\n",
              " 377: 'less',\n",
              " 378: 'fond',\n",
              " 379: 'temper',\n",
              " 380: 'brought',\n",
              " 381: 'equal',\n",
              " 382: 'amiable',\n",
              " 383: 'far',\n",
              " 384: 'days',\n",
              " 385: 'son',\n",
              " 386: 'word',\n",
              " 387: 'full',\n",
              " 388: 'under',\n",
              " 389: 'eyes',\n",
              " 390: 'weather',\n",
              " 391: 'doing',\n",
              " 392: 'situation',\n",
              " 393: 'happiness',\n",
              " 394: 'fortune',\n",
              " 395: 'match',\n",
              " 396: 'change',\n",
              " 397: 'things',\n",
              " 398: 'glad',\n",
              " 399: 'likely',\n",
              " 400: 'beginning',\n",
              " 401: 'aunt',\n",
              " 402: 'giving',\n",
              " 403: 'near',\n",
              " 404: 'comfortable',\n",
              " 405: 'pleasant',\n",
              " 406: 'large',\n",
              " 407: 'spirits',\n",
              " 408: 'keep',\n",
              " 409: 'mean',\n",
              " 410: 'believed',\n",
              " 411: 'saying',\n",
              " 412: 'surprized',\n",
              " 413: 'voice',\n",
              " 414: 'company',\n",
              " 415: 'beauty',\n",
              " 416: 'wonder',\n",
              " 417: 'talking',\n",
              " 418: 'minutes',\n",
              " 419: 'excellent',\n",
              " 420: 'character',\n",
              " 421: 'natural',\n",
              " 422: 'london',\n",
              " 423: 'name',\n",
              " 424: 'entirely',\n",
              " 425: 'hoped',\n",
              " 426: 'allow',\n",
              " 427: 'care',\n",
              " 428: 'child',\n",
              " 429: 'nature',\n",
              " 430: 'common',\n",
              " 431: 'drawing',\n",
              " 432: 'degree',\n",
              " 433: 'called',\n",
              " 434: 'thinking',\n",
              " 435: 'meaning',\n",
              " 436: 'acquainted',\n",
              " 437: 'morrow',\n",
              " 438: 'seeing',\n",
              " 439: 'sitting',\n",
              " 440: 'appear',\n",
              " 441: 'colonel',\n",
              " 442: 'affection',\n",
              " 443: 'health',\n",
              " 444: 'each',\n",
              " 445: 'settled',\n",
              " 446: 'walk',\n",
              " 447: 'walked',\n",
              " 448: 'four',\n",
              " 449: 'small',\n",
              " 450: 'abbey',\n",
              " 451: 'respect',\n",
              " 452: 'gave',\n",
              " 453: 'particular',\n",
              " 454: 'attachment',\n",
              " 455: 'speaking',\n",
              " 456: 'hand',\n",
              " 457: 'consider',\n",
              " 458: 'charade',\n",
              " 459: 'twenty',\n",
              " 460: 'early',\n",
              " 461: 'allowed',\n",
              " 462: 'sit',\n",
              " 463: 'wished',\n",
              " 464: 'kindness',\n",
              " 465: 'conversation',\n",
              " 466: 'heart',\n",
              " 467: 'beyond',\n",
              " 468: 'husband',\n",
              " 469: 'impossible',\n",
              " 470: 'times',\n",
              " 471: 'door',\n",
              " 472: 'ah',\n",
              " 473: 'sometimes',\n",
              " 474: 'fine',\n",
              " 475: 'says',\n",
              " 476: 'altogether',\n",
              " 477: 'fair',\n",
              " 478: 'appeared',\n",
              " 479: 'case',\n",
              " 480: 'men',\n",
              " 481: 'gentleman',\n",
              " 482: 'smiling',\n",
              " 483: 'disposition',\n",
              " 484: 'sister',\n",
              " 485: 'ago',\n",
              " 486: 'companion',\n",
              " 487: 'bear',\n",
              " 488: 'walking',\n",
              " 489: 'help',\n",
              " 490: 'feeling',\n",
              " 491: 'please',\n",
              " 492: 'knows',\n",
              " 493: 'took',\n",
              " 494: 'warm',\n",
              " 495: 'second',\n",
              " 496: 'week',\n",
              " 497: 'stay',\n",
              " 498: 'different',\n",
              " 499: 'against',\n",
              " 500: 'donwell',\n",
              " 501: 'fancy',\n",
              " 502: 'picture',\n",
              " 503: 'state',\n",
              " 504: 'reason',\n",
              " 505: 'cheerful',\n",
              " 506: 'rest',\n",
              " 507: 'already',\n",
              " 508: 'night',\n",
              " 509: 'head',\n",
              " 510: 'convinced',\n",
              " 511: 'object',\n",
              " 512: 'eye',\n",
              " 513: 'added',\n",
              " 514: 'clever',\n",
              " 515: 'lived',\n",
              " 516: 'advantage',\n",
              " 517: 'got',\n",
              " 518: 'spoken',\n",
              " 519: 'whenever',\n",
              " 520: 'meant',\n",
              " 521: 'need',\n",
              " 522: 'depend',\n",
              " 523: 'plain',\n",
              " 524: 'quick',\n",
              " 525: 'farther',\n",
              " 526: 'seem',\n",
              " 527: 'remember',\n",
              " 528: 'praise',\n",
              " 529: 'excuse',\n",
              " 530: 'use',\n",
              " 531: 'sat',\n",
              " 532: 'age',\n",
              " 533: 'five',\n",
              " 534: 'necessary',\n",
              " 535: 'meeting',\n",
              " 536: 'call',\n",
              " 537: 'comes',\n",
              " 538: 'none',\n",
              " 539: 'understanding',\n",
              " 540: 'hands',\n",
              " 541: 'ask',\n",
              " 542: 'except',\n",
              " 543: 'whose',\n",
              " 544: 'enscombe',\n",
              " 545: 'new',\n",
              " 546: 'ladies',\n",
              " 547: 'neither',\n",
              " 548: 'themselves',\n",
              " 549: 'round',\n",
              " 550: 'sight',\n",
              " 551: 'actually',\n",
              " 552: 'expected',\n",
              " 553: 'asked',\n",
              " 554: 'likeness',\n",
              " 555: 'turn',\n",
              " 556: 'instead',\n",
              " 557: 'snow',\n",
              " 558: 'news',\n",
              " 559: 'hawkins',\n",
              " 560: 'judgment',\n",
              " 561: 'perfect',\n",
              " 562: 'meet',\n",
              " 563: 'james',\n",
              " 564: 'horses',\n",
              " 565: 'afterwards',\n",
              " 566: 'late',\n",
              " 567: 'circumstance',\n",
              " 568: 'especially',\n",
              " 569: 'matter',\n",
              " 570: 'single',\n",
              " 571: 'bring',\n",
              " 572: 'chuse',\n",
              " 573: 'respectable',\n",
              " 574: 'forward',\n",
              " 575: 'proof',\n",
              " 576: 'written',\n",
              " 577: 'pleasing',\n",
              " 578: 'circumstances',\n",
              " 579: 'elegant',\n",
              " 580: 'interesting',\n",
              " 581: 'decided',\n",
              " 582: 'obliging',\n",
              " 583: 'purpose',\n",
              " 584: 'difficulty',\n",
              " 585: 'yesterday',\n",
              " 586: 'judge',\n",
              " 587: 'try',\n",
              " 588: 'henry',\n",
              " 589: 'forget',\n",
              " 590: 'extremely',\n",
              " 591: 'consequence',\n",
              " 592: 'satisfaction',\n",
              " 593: 'useful',\n",
              " 594: 'evil',\n",
              " 595: 'odd',\n",
              " 596: 'creature',\n",
              " 597: 'pass',\n",
              " 598: 'face',\n",
              " 599: 'thinks',\n",
              " 600: 'turned',\n",
              " 601: 'pain',\n",
              " 602: 'year',\n",
              " 603: 'open',\n",
              " 604: 'received',\n",
              " 605: 'education',\n",
              " 606: 'influence',\n",
              " 607: 'greater',\n",
              " 608: 'curiosity',\n",
              " 609: 'compliment',\n",
              " 610: 'occasion',\n",
              " 611: 'enjoyment',\n",
              " 612: 'surprize',\n",
              " 613: 'country',\n",
              " 614: 'determined',\n",
              " 615: 'struck',\n",
              " 616: 'appearance',\n",
              " 617: 'style',\n",
              " 618: 'telling',\n",
              " 619: 'months',\n",
              " 620: 'led',\n",
              " 621: 'information',\n",
              " 622: 'robert',\n",
              " 623: 'anxious',\n",
              " 624: 'assure',\n",
              " 625: 'wanting',\n",
              " 626: 'persuaded',\n",
              " 627: 'smile',\n",
              " 628: 'claims',\n",
              " 629: 'sea',\n",
              " 630: 'intimacy',\n",
              " 631: 'highly',\n",
              " 632: 'danger',\n",
              " 633: 'loss',\n",
              " 634: 'dine',\n",
              " 635: 'easy',\n",
              " 636: 'marrying',\n",
              " 637: 'thoughts',\n",
              " 638: 'pay',\n",
              " 639: 'sensible',\n",
              " 640: 'beautiful',\n",
              " 641: 'alone',\n",
              " 642: 'guess',\n",
              " 643: 'favourite',\n",
              " 644: 'connexion',\n",
              " 645: 'resolution',\n",
              " 646: 'supposed',\n",
              " 647: 'quiet',\n",
              " 648: 'knowledge',\n",
              " 649: 'taste',\n",
              " 650: 'truth',\n",
              " 651: 'wrong',\n",
              " 652: 'ten',\n",
              " 653: 'thank',\n",
              " 654: 'charming',\n",
              " 655: 'music',\n",
              " 656: 'smallest',\n",
              " 657: 'write',\n",
              " 658: 'continued',\n",
              " 659: 'honour',\n",
              " 660: 'presently',\n",
              " 661: 'campbells',\n",
              " 662: 'sisters',\n",
              " 663: 'liked',\n",
              " 664: 'followed',\n",
              " 665: 'knowing',\n",
              " 666: 'ways',\n",
              " 667: 'fault',\n",
              " 668: 'sad',\n",
              " 669: 'pity',\n",
              " 670: 'returned',\n",
              " 671: 'looks',\n",
              " 672: 'pray',\n",
              " 673: 'nonsense',\n",
              " 674: 'merely',\n",
              " 675: 'safely',\n",
              " 676: 'sweet',\n",
              " 677: 'spirit',\n",
              " 678: 'became',\n",
              " 679: 'generally',\n",
              " 680: 'fortunate',\n",
              " 681: 'tried',\n",
              " 682: 'inclination',\n",
              " 683: 'note',\n",
              " 684: 'lately',\n",
              " 685: 'happened',\n",
              " 686: 'admired',\n",
              " 687: 'credit',\n",
              " 688: 'conviction',\n",
              " 689: 'approbation',\n",
              " 690: 'spoke',\n",
              " 691: 'nash',\n",
              " 692: 'probably',\n",
              " 693: 'taking',\n",
              " 694: 'road',\n",
              " 695: 'gentlemen',\n",
              " 696: 'admiration',\n",
              " 697: 'completely',\n",
              " 698: 'words',\n",
              " 699: 'certain',\n",
              " 700: 'move',\n",
              " 701: 'weymouth',\n",
              " 702: 'instrument',\n",
              " 703: 'considering',\n",
              " 704: 'friendship',\n",
              " 705: 'gratitude',\n",
              " 706: 'interested',\n",
              " 707: 'belong',\n",
              " 708: 'smiled',\n",
              " 709: 'tea',\n",
              " 710: 'live',\n",
              " 711: 'mentioned',\n",
              " 712: 'hearing',\n",
              " 713: 'table',\n",
              " 714: 'possibly',\n",
              " 715: 'happily',\n",
              " 716: 'greatest',\n",
              " 717: 'worthy',\n",
              " 718: 'merit',\n",
              " 719: 'silly',\n",
              " 720: 'engaged',\n",
              " 721: 'considered',\n",
              " 722: 'churchills',\n",
              " 723: 'complete',\n",
              " 724: 'delightful',\n",
              " 725: 'weeks',\n",
              " 726: 'thrown',\n",
              " 727: 'reasonable',\n",
              " 728: 'summer',\n",
              " 729: 'encouragement',\n",
              " 730: 'recommend',\n",
              " 731: 'martins',\n",
              " 732: 'kept',\n",
              " 733: 'hundred',\n",
              " 734: 'makes',\n",
              " 735: 'humour',\n",
              " 736: 'quarter',\n",
              " 737: 'worse',\n",
              " 738: 'anxiety',\n",
              " 739: 'safe',\n",
              " 740: 'ashamed',\n",
              " 741: 'absolutely',\n",
              " 742: 'pork',\n",
              " 743: 'pianoforte',\n",
              " 744: 'mistress',\n",
              " 745: 'gentle',\n",
              " 746: 'consciousness',\n",
              " 747: 'wedding',\n",
              " 748: 'difference',\n",
              " 749: 'loved',\n",
              " 750: 'christmas',\n",
              " 751: 'easily',\n",
              " 752: 'spent',\n",
              " 753: 'thoroughly',\n",
              " 754: 'somebody',\n",
              " 755: 'observed',\n",
              " 756: 'fact',\n",
              " 757: 'whatever',\n",
              " 758: 'uncle',\n",
              " 759: 'claim',\n",
              " 760: 'due',\n",
              " 761: 'desirable',\n",
              " 762: 'concern',\n",
              " 763: 'wishes',\n",
              " 764: 'youth',\n",
              " 765: 'understood',\n",
              " 766: 'mention',\n",
              " 767: 'regret',\n",
              " 768: 'girls',\n",
              " 769: 'compliments',\n",
              " 770: 'families',\n",
              " 771: 'parties',\n",
              " 772: 'scarcely',\n",
              " 773: 'school',\n",
              " 774: 'sent',\n",
              " 775: 'sake',\n",
              " 776: 'concerned',\n",
              " 777: 'history',\n",
              " 778: 'elegance',\n",
              " 779: 'notice',\n",
              " 780: 'busy',\n",
              " 781: 'naturally',\n",
              " 782: 'maid',\n",
              " 783: 'line',\n",
              " 784: 'expect',\n",
              " 785: 'book',\n",
              " 786: 'seems',\n",
              " 787: 'fixed',\n",
              " 788: 'vicarage',\n",
              " 789: 'reading',\n",
              " 790: 'attempt',\n",
              " 791: 'gives',\n",
              " 792: 'advice',\n",
              " 793: 'sudden',\n",
              " 794: 'refuse',\n",
              " 795: 'disappointment',\n",
              " 796: 'duty',\n",
              " 797: 'tone',\n",
              " 798: 'getting',\n",
              " 799: 'views',\n",
              " 800: 'paper',\n",
              " 801: 'passing',\n",
              " 802: 'listen',\n",
              " 803: 'conduct',\n",
              " 804: 'throat',\n",
              " 805: 'cut',\n",
              " 806: 'resolved',\n",
              " 807: 'ireland',\n",
              " 808: 'rich',\n",
              " 809: 'attached',\n",
              " 810: 'work',\n",
              " 811: 'past',\n",
              " 812: 'aware',\n",
              " 813: 'miles',\n",
              " 814: 'town',\n",
              " 815: 'spite',\n",
              " 816: 'civil',\n",
              " 817: 'sigh',\n",
              " 818: 'disposed',\n",
              " 819: 'agree',\n",
              " 820: 'ideas',\n",
              " 821: 'welcome',\n",
              " 822: 'rain',\n",
              " 823: 'joy',\n",
              " 824: 'success',\n",
              " 825: 'met',\n",
              " 826: 'lane',\n",
              " 827: 'farmer',\n",
              " 828: 'six',\n",
              " 829: 'income',\n",
              " 830: 'favourable',\n",
              " 831: 'friendly',\n",
              " 832: 'view',\n",
              " 833: 'hours',\n",
              " 834: 'prevent',\n",
              " 835: 'invitation',\n",
              " 836: 'favour',\n",
              " 837: 'grateful',\n",
              " 838: 'run',\n",
              " 839: 'women',\n",
              " 840: 'hair',\n",
              " 841: 'remarkably',\n",
              " 842: 'soft',\n",
              " 843: 'gruel',\n",
              " 844: 'speech',\n",
              " 845: 'serious',\n",
              " 846: 'chance',\n",
              " 847: 'imagined',\n",
              " 848: 'entered',\n",
              " 849: 'during',\n",
              " 850: 'expecting',\n",
              " 851: 'receiving',\n",
              " 852: 'mistaken',\n",
              " 853: 'lines',\n",
              " 854: 'addressing',\n",
              " 855: 'tall',\n",
              " 856: 'finding',\n",
              " 857: 'wrote',\n",
              " 858: 'reserve',\n",
              " 859: 'silence',\n",
              " 860: 'consideration',\n",
              " 861: 'judged',\n",
              " 862: 'delay',\n",
              " 863: 'hint',\n",
              " 864: 'otherwise',\n",
              " 865: 'journey',\n",
              " 866: 'worth',\n",
              " 867: 'niece',\n",
              " 868: 'stop',\n",
              " 869: 'wingfield',\n",
              " 870: 'law',\n",
              " 871: 'calling',\n",
              " 872: 'turning',\n",
              " 873: 'behaviour',\n",
              " 874: 'paid',\n",
              " 875: 'bath',\n",
              " 876: 'coles',\n",
              " 877: 'hold',\n",
              " 878: 'living',\n",
              " 879: 'event',\n",
              " 880: 'promise',\n",
              " 881: 'self',\n",
              " 882: 'powers',\n",
              " 883: 'rational',\n",
              " 884: 'habits',\n",
              " 885: 'distance',\n",
              " 886: 'anywhere',\n",
              " 887: 'tolerably',\n",
              " 888: 'absence',\n",
              " 889: 'hurry',\n",
              " 890: 'independence',\n",
              " 891: 'rate',\n",
              " 892: 'suspect',\n",
              " 893: 'lose',\n",
              " 894: 'smiles',\n",
              " 895: 'important',\n",
              " 896: 'considerable',\n",
              " 897: 'comprehend',\n",
              " 898: 'hearted',\n",
              " 899: 'service',\n",
              " 900: 'shew',\n",
              " 901: 'worst',\n",
              " 902: 'accomplished',\n",
              " 903: 'probability',\n",
              " 904: 'assistance',\n",
              " 905: 'moments',\n",
              " 906: 'cake',\n",
              " 907: 'unless',\n",
              " 908: 'strange',\n",
              " 909: 'standing',\n",
              " 910: 'stood',\n",
              " 911: 'mine',\n",
              " 912: 'high',\n",
              " 913: 'delighted',\n",
              " 914: 'close',\n",
              " 915: 'light',\n",
              " 916: 'regular',\n",
              " 917: 'ground',\n",
              " 918: 'shewed',\n",
              " 919: 'mill',\n",
              " 920: 'amused',\n",
              " 921: 'dislike',\n",
              " 922: 'share',\n",
              " 923: 'raise',\n",
              " 924: 'above',\n",
              " 925: 'mere',\n",
              " 926: 'elizabeth',\n",
              " 927: 'opportunity',\n",
              " 928: 'remained',\n",
              " 929: 'confess',\n",
              " 930: 'itself',\n",
              " 931: 'figure',\n",
              " 932: 'plan',\n",
              " 933: 'pretend',\n",
              " 934: 'countenance',\n",
              " 935: 'blind',\n",
              " 936: 'points',\n",
              " 937: 'sooner',\n",
              " 938: 'exclaimed',\n",
              " 939: 'passion',\n",
              " 940: 'higher',\n",
              " 941: 'agreed',\n",
              " 942: 'behind',\n",
              " 943: 'peace',\n",
              " 944: 'desired',\n",
              " 945: 'tender',\n",
              " 946: 'besides',\n",
              " 947: 'offer',\n",
              " 948: 'fall',\n",
              " 949: 'staying',\n",
              " 950: 'possibility',\n",
              " 951: 'piece',\n",
              " 952: 'ease',\n",
              " 953: 'grandmother',\n",
              " 954: 'seated',\n",
              " 955: 'excepting',\n",
              " 956: 'disappointed',\n",
              " 957: 'south',\n",
              " 958: 'alarm',\n",
              " 959: 'arrived',\n",
              " 960: 'ford',\n",
              " 961: 'period',\n",
              " 962: 'sixteen',\n",
              " 963: 'disagreeable',\n",
              " 964: 'lost',\n",
              " 965: 'mile',\n",
              " 966: 'differently',\n",
              " 967: 'paying',\n",
              " 968: 'observe',\n",
              " 969: 'placed',\n",
              " 970: 'intimate',\n",
              " 971: 'dependence',\n",
              " 972: 'willing',\n",
              " 973: 'acceptable',\n",
              " 974: 'proved',\n",
              " 975: 'occupied',\n",
              " 976: 'properly',\n",
              " 977: 'proud',\n",
              " 978: 'visits',\n",
              " 979: 'harm',\n",
              " 980: 'command',\n",
              " 981: 'boy',\n",
              " 982: 'charge',\n",
              " 983: 'scruples',\n",
              " 984: 'pleasures',\n",
              " 985: 'report',\n",
              " 986: 'difficulties',\n",
              " 987: 'vain',\n",
              " 988: 'fancied',\n",
              " 989: 'lovely',\n",
              " 990: 'frequently',\n",
              " 991: 'several',\n",
              " 992: 'seeming',\n",
              " 993: 'deserve',\n",
              " 994: 'inferior',\n",
              " 995: 'farm',\n",
              " 996: 'gratified',\n",
              " 997: 'confined',\n",
              " 998: 'order',\n",
              " 999: 'blush',\n",
              " 1000: 'settle',\n",
              " ...}"
            ]
          },
          "metadata": {},
          "execution_count": 26
        }
      ]
    },
    {
      "cell_type": "code",
      "source": [
        "# Cantidad de palabras en el vocabulario\n",
        "vocab_size = len(tok.word_counts)\n",
        "vocab_size"
      ],
      "metadata": {
        "colab": {
          "base_uri": "https://localhost:8080/"
        },
        "id": "7VKTKu9-0hw0",
        "outputId": "5c5538c0-0a3c-43cf-b9ad-93113452ad73"
      },
      "execution_count": 27,
      "outputs": [
        {
          "output_type": "execute_result",
          "data": {
            "text/plain": [
              "5085"
            ]
          },
          "metadata": {},
          "execution_count": 27
        }
      ]
    },
    {
      "cell_type": "code",
      "source": [
        "# El índice para cada palabra (el sistema las ordena de las más populares a las menos populares)\n",
        "print(tok.word_index)"
      ],
      "metadata": {
        "colab": {
          "base_uri": "https://localhost:8080/"
        },
        "id": "9WvoABoJ1D3G",
        "outputId": "68f277e8-be3e-4b16-d09d-117f3220e296"
      },
      "execution_count": 28,
      "outputs": [
        {
          "output_type": "stream",
          "name": "stdout",
          "text": [
            "{'the': 1, 'to': 2, 'and': 3, 'of': 4, 'a': 5, 'i': 6, 'her': 7, 'it': 8, 'was': 9, 'she': 10, 'in': 11, 'not': 12, 'he': 13, 'be': 14, 'that': 15, 'you': 16, 'had': 17, 'as': 18, 'but': 19, 'for': 20, 'very': 21, 'mr': 22, 'his': 23, 'is': 24, 'have': 25, 'with': 26, \"'\": 27, 'so': 28, 'at': 29, 's': 30, 'could': 31, 'him': 32, 'emma': 33, 'all': 34, 'would': 35, 'been': 36, 'no': 37, 'any': 38, 'my': 39, 'on': 40, 'do': 41, 'miss': 42, 'there': 43, 'they': 44, 'were': 45, 'or': 46, 'by': 47, 'must': 48, 'which': 49, 'from': 50, 'what': 51, 'mrs': 52, 'harriet': 53, 'will': 54, 'much': 55, 'if': 56, 'an': 57, 'such': 58, 'this': 59, 'me': 60, 'one': 61, 'more': 62, 'well': 63, 'every': 64, 'them': 65, 'think': 66, 'are': 67, 'thing': 68, 'good': 69, 'said': 70, 'being': 71, 'than': 72, 'little': 73, 'should': 74, 'weston': 75, 'their': 76, 'elton': 77, 'only': 78, 'never': 79, 'knightley': 80, 'we': 81, 'own': 82, 'man': 83, 'am': 84, 'know': 85, 'your': 86, 'did': 87, 'might': 88, 'how': 89, 'when': 90, 'woodhouse': 91, 'great': 92, 'who': 93, 'say': 94, 'can': 95, 'has': 96, 'dear': 97, 'nothing': 98, 'some': 99, 'about': 100, 'too': 101, 'now': 102, 'herself': 103, 'always': 104, 'most': 105, 'father': 106, 'time': 107, 'young': 108, 'thought': 109, 'quite': 110, 'body': 111, 'out': 112, 'see': 113, 'other': 114, 'sure': 115, 'friend': 116, 'may': 117, 'up': 118, 'before': 119, 'jane': 120, 'made': 121, 'first': 122, 'without': 123, 'ever': 124, 'though': 125, 'better': 126, 'again': 127, 'shall': 128, 'just': 129, 'fairfax': 130, 'like': 131, 'soon': 132, 'hartfield': 133, 'indeed': 134, 'then': 135, 'two': 136, 'give': 137, 'make': 138, 'away': 139, 'day': 140, 'after': 141, 'into': 142, 'himself': 143, 'upon': 144, 'way': 145, 'highbury': 146, 'oh': 147, 'cannot': 148, 'long': 149, 'come': 150, 'here': 151, 'really': 152, 'woman': 153, 'having': 154, 'enough': 155, 'love': 156, 'rather': 157, 'while': 158, 'does': 159, 'poor': 160, 'over': 161, 'home': 162, 'wish': 163, 'yes': 164, 'many': 165, 'sort': 166, 'its': 167, 'mind': 168, 'done': 169, 'half': 170, 'smith': 171, 'martin': 172, 'us': 173, 'people': 174, 'pleasure': 175, 'visit': 176, 'take': 177, 'bates': 178, 'go': 179, 'letter': 180, 'last': 181, 'going': 182, 'look': 183, 'saw': 184, 'house': 185, 'off': 186, 'certainly': 187, 'idea': 188, 'however': 189, 'where': 190, 'churchill': 191, 'hope': 192, 'those': 193, 'still': 194, 'came': 195, 'room': 196, 'john': 197, 'evening': 198, 'life': 199, 'feel': 200, 'pretty': 201, 'happy': 202, 'present': 203, 'right': 204, 'hear': 205, 'frank': 206, 'seemed': 207, 'mother': 208, 'place': 209, 'want': 210, 'often': 211, 'goddard': 212, 'isabella': 213, 'children': 214, 'deal': 215, 'found': 216, 'heard': 217, 'moment': 218, 'felt': 219, 'few': 220, 'coming': 221, 'another': 222, 'something': 223, 'ought': 224, 'doubt': 225, 'feelings': 226, 'cole': 227, 'family': 228, 'kind': 229, 'else': 230, 'sir': 231, 'general': 232, 'even': 233, 'old': 234, 'yet': 235, 'three': 236, 'manner': 237, 'believe': 238, 'marry': 239, 'best': 240, 'taylor': 241, 'whom': 242, 'myself': 243, 'subject': 244, 'given': 245, 'years': 246, 'till': 247, 'randalls': 248, 'comfort': 249, 'since': 250, 'perhaps': 251, 'both': 252, 'acquaintance': 253, 'daughter': 254, 'suppose': 255, 'short': 256, 'hardly': 257, 'person': 258, 'world': 259, 'together': 260, 'speak': 261, 'almost': 262, 'part': 263, 'get': 264, 'knew': 265, 'seen': 266, 'same': 267, 'hour': 268, 'through': 269, 'looked': 270, 'nobody': 271, 'our': 272, 'dixon': 273, 'exactly': 274, 'talked': 275, 'either': 276, 'friends': 277, 'once': 278, 'perry': 279, 'ready': 280, 'air': 281, 'party': 282, 'campbell': 283, 'between': 284, 'morning': 285, 'find': 286, 'obliged': 287, 'able': 288, 'tell': 289, 'wanted': 290, 'told': 291, 'agreeable': 292, 'replied': 293, 'yourself': 294, 'least': 295, 'handsome': 296, 'usual': 297, 'manners': 298, 'put': 299, 'whether': 300, 'account': 301, 'cried': 302, 'sorry': 303, 'therefore': 304, 'making': 305, 'longer': 306, 'looking': 307, 'true': 308, 'whole': 309, 'ill': 310, 'bad': 311, 'read': 312, 'down': 313, 'gone': 314, 'wife': 315, 'girl': 316, 'opinion': 317, 'immediately': 318, 'afraid': 319, 'let': 320, 'sense': 321, 'answer': 322, 'left': 323, 'nor': 324, 'attention': 325, 'possible': 326, 'interest': 327, 'particularly': 328, 'passed': 329, 'real': 330, 'means': 331, 'society': 332, 'used': 333, 'carriage': 334, 'cold': 335, 'others': 336, 'lady': 337, 'course': 338, 'taken': 339, 'side': 340, 'these': 341, 'married': 342, 'next': 343, 'because': 344, 'business': 345, 'regard': 346, 'began': 347, 'known': 348, 'return': 349, 'chapter': 350, 'power': 351, 'among': 352, 'brother': 353, 'directly': 354, 'perfectly': 355, 'leave': 356, 'understand': 357, 'imagine': 358, 'why': 359, 'dare': 360, 'strong': 361, 'proper': 362, 'set': 363, 'end': 364, 'towards': 365, 'marriage': 366, 'dinner': 367, 'papa': 368, 'back': 369, 'went': 370, 'question': 371, 'talk': 372, 'satisfied': 373, 'pleased': 374, 'superior': 375, 'point': 376, 'less': 377, 'fond': 378, 'temper': 379, 'brought': 380, 'equal': 381, 'amiable': 382, 'far': 383, 'days': 384, 'son': 385, 'word': 386, 'full': 387, 'under': 388, 'eyes': 389, 'weather': 390, 'doing': 391, 'situation': 392, 'happiness': 393, 'fortune': 394, 'match': 395, 'change': 396, 'things': 397, 'glad': 398, 'likely': 399, 'beginning': 400, 'aunt': 401, 'giving': 402, 'near': 403, 'comfortable': 404, 'pleasant': 405, 'large': 406, 'spirits': 407, 'keep': 408, 'mean': 409, 'believed': 410, 'saying': 411, 'surprized': 412, 'voice': 413, 'company': 414, 'beauty': 415, 'wonder': 416, 'talking': 417, 'minutes': 418, 'excellent': 419, 'character': 420, 'natural': 421, 'london': 422, 'name': 423, 'entirely': 424, 'hoped': 425, 'allow': 426, 'care': 427, 'child': 428, 'nature': 429, 'common': 430, 'drawing': 431, 'degree': 432, 'called': 433, 'thinking': 434, 'meaning': 435, 'acquainted': 436, 'morrow': 437, 'seeing': 438, 'sitting': 439, 'appear': 440, 'colonel': 441, 'affection': 442, 'health': 443, 'each': 444, 'settled': 445, 'walk': 446, 'walked': 447, 'four': 448, 'small': 449, 'abbey': 450, 'respect': 451, 'gave': 452, 'particular': 453, 'attachment': 454, 'speaking': 455, 'hand': 456, 'consider': 457, 'charade': 458, 'twenty': 459, 'early': 460, 'allowed': 461, 'sit': 462, 'wished': 463, 'kindness': 464, 'conversation': 465, 'heart': 466, 'beyond': 467, 'husband': 468, 'impossible': 469, 'times': 470, 'door': 471, 'ah': 472, 'sometimes': 473, 'fine': 474, 'says': 475, 'altogether': 476, 'fair': 477, 'appeared': 478, 'case': 479, 'men': 480, 'gentleman': 481, 'smiling': 482, 'disposition': 483, 'sister': 484, 'ago': 485, 'companion': 486, 'bear': 487, 'walking': 488, 'help': 489, 'feeling': 490, 'please': 491, 'knows': 492, 'took': 493, 'warm': 494, 'second': 495, 'week': 496, 'stay': 497, 'different': 498, 'against': 499, 'donwell': 500, 'fancy': 501, 'picture': 502, 'state': 503, 'reason': 504, 'cheerful': 505, 'rest': 506, 'already': 507, 'night': 508, 'head': 509, 'convinced': 510, 'object': 511, 'eye': 512, 'added': 513, 'clever': 514, 'lived': 515, 'advantage': 516, 'got': 517, 'spoken': 518, 'whenever': 519, 'meant': 520, 'need': 521, 'depend': 522, 'plain': 523, 'quick': 524, 'farther': 525, 'seem': 526, 'remember': 527, 'praise': 528, 'excuse': 529, 'use': 530, 'sat': 531, 'age': 532, 'five': 533, 'necessary': 534, 'meeting': 535, 'call': 536, 'comes': 537, 'none': 538, 'understanding': 539, 'hands': 540, 'ask': 541, 'except': 542, 'whose': 543, 'enscombe': 544, 'new': 545, 'ladies': 546, 'neither': 547, 'themselves': 548, 'round': 549, 'sight': 550, 'actually': 551, 'expected': 552, 'asked': 553, 'likeness': 554, 'turn': 555, 'instead': 556, 'snow': 557, 'news': 558, 'hawkins': 559, 'judgment': 560, 'perfect': 561, 'meet': 562, 'james': 563, 'horses': 564, 'afterwards': 565, 'late': 566, 'circumstance': 567, 'especially': 568, 'matter': 569, 'single': 570, 'bring': 571, 'chuse': 572, 'respectable': 573, 'forward': 574, 'proof': 575, 'written': 576, 'pleasing': 577, 'circumstances': 578, 'elegant': 579, 'interesting': 580, 'decided': 581, 'obliging': 582, 'purpose': 583, 'difficulty': 584, 'yesterday': 585, 'judge': 586, 'try': 587, 'henry': 588, 'forget': 589, 'extremely': 590, 'consequence': 591, 'satisfaction': 592, 'useful': 593, 'evil': 594, 'odd': 595, 'creature': 596, 'pass': 597, 'face': 598, 'thinks': 599, 'turned': 600, 'pain': 601, 'year': 602, 'open': 603, 'received': 604, 'education': 605, 'influence': 606, 'greater': 607, 'curiosity': 608, 'compliment': 609, 'occasion': 610, 'enjoyment': 611, 'surprize': 612, 'country': 613, 'determined': 614, 'struck': 615, 'appearance': 616, 'style': 617, 'telling': 618, 'months': 619, 'led': 620, 'information': 621, 'robert': 622, 'anxious': 623, 'assure': 624, 'wanting': 625, 'persuaded': 626, 'smile': 627, 'claims': 628, 'sea': 629, 'intimacy': 630, 'highly': 631, 'danger': 632, 'loss': 633, 'dine': 634, 'easy': 635, 'marrying': 636, 'thoughts': 637, 'pay': 638, 'sensible': 639, 'beautiful': 640, 'alone': 641, 'guess': 642, 'favourite': 643, 'connexion': 644, 'resolution': 645, 'supposed': 646, 'quiet': 647, 'knowledge': 648, 'taste': 649, 'truth': 650, 'wrong': 651, 'ten': 652, 'thank': 653, 'charming': 654, 'music': 655, 'smallest': 656, 'write': 657, 'continued': 658, 'honour': 659, 'presently': 660, 'campbells': 661, 'sisters': 662, 'liked': 663, 'followed': 664, 'knowing': 665, 'ways': 666, 'fault': 667, 'sad': 668, 'pity': 669, 'returned': 670, 'looks': 671, 'pray': 672, 'nonsense': 673, 'merely': 674, 'safely': 675, 'sweet': 676, 'spirit': 677, 'became': 678, 'generally': 679, 'fortunate': 680, 'tried': 681, 'inclination': 682, 'note': 683, 'lately': 684, 'happened': 685, 'admired': 686, 'credit': 687, 'conviction': 688, 'approbation': 689, 'spoke': 690, 'nash': 691, 'probably': 692, 'taking': 693, 'road': 694, 'gentlemen': 695, 'admiration': 696, 'completely': 697, 'words': 698, 'certain': 699, 'move': 700, 'weymouth': 701, 'instrument': 702, 'considering': 703, 'friendship': 704, 'gratitude': 705, 'interested': 706, 'belong': 707, 'smiled': 708, 'tea': 709, 'live': 710, 'mentioned': 711, 'hearing': 712, 'table': 713, 'possibly': 714, 'happily': 715, 'greatest': 716, 'worthy': 717, 'merit': 718, 'silly': 719, 'engaged': 720, 'considered': 721, 'churchills': 722, 'complete': 723, 'delightful': 724, 'weeks': 725, 'thrown': 726, 'reasonable': 727, 'summer': 728, 'encouragement': 729, 'recommend': 730, 'martins': 731, 'kept': 732, 'hundred': 733, 'makes': 734, 'humour': 735, 'quarter': 736, 'worse': 737, 'anxiety': 738, 'safe': 739, 'ashamed': 740, 'absolutely': 741, 'pork': 742, 'pianoforte': 743, 'mistress': 744, 'gentle': 745, 'consciousness': 746, 'wedding': 747, 'difference': 748, 'loved': 749, 'christmas': 750, 'easily': 751, 'spent': 752, 'thoroughly': 753, 'somebody': 754, 'observed': 755, 'fact': 756, 'whatever': 757, 'uncle': 758, 'claim': 759, 'due': 760, 'desirable': 761, 'concern': 762, 'wishes': 763, 'youth': 764, 'understood': 765, 'mention': 766, 'regret': 767, 'girls': 768, 'compliments': 769, 'families': 770, 'parties': 771, 'scarcely': 772, 'school': 773, 'sent': 774, 'sake': 775, 'concerned': 776, 'history': 777, 'elegance': 778, 'notice': 779, 'busy': 780, 'naturally': 781, 'maid': 782, 'line': 783, 'expect': 784, 'book': 785, 'seems': 786, 'fixed': 787, 'vicarage': 788, 'reading': 789, 'attempt': 790, 'gives': 791, 'advice': 792, 'sudden': 793, 'refuse': 794, 'disappointment': 795, 'duty': 796, 'tone': 797, 'getting': 798, 'views': 799, 'paper': 800, 'passing': 801, 'listen': 802, 'conduct': 803, 'throat': 804, 'cut': 805, 'resolved': 806, 'ireland': 807, 'rich': 808, 'attached': 809, 'work': 810, 'past': 811, 'aware': 812, 'miles': 813, 'town': 814, 'spite': 815, 'civil': 816, 'sigh': 817, 'disposed': 818, 'agree': 819, 'ideas': 820, 'welcome': 821, 'rain': 822, 'joy': 823, 'success': 824, 'met': 825, 'lane': 826, 'farmer': 827, 'six': 828, 'income': 829, 'favourable': 830, 'friendly': 831, 'view': 832, 'hours': 833, 'prevent': 834, 'invitation': 835, 'favour': 836, 'grateful': 837, 'run': 838, 'women': 839, 'hair': 840, 'remarkably': 841, 'soft': 842, 'gruel': 843, 'speech': 844, 'serious': 845, 'chance': 846, 'imagined': 847, 'entered': 848, 'during': 849, 'expecting': 850, 'receiving': 851, 'mistaken': 852, 'lines': 853, 'addressing': 854, 'tall': 855, 'finding': 856, 'wrote': 857, 'reserve': 858, 'silence': 859, 'consideration': 860, 'judged': 861, 'delay': 862, 'hint': 863, 'otherwise': 864, 'journey': 865, 'worth': 866, 'niece': 867, 'stop': 868, 'wingfield': 869, 'law': 870, 'calling': 871, 'turning': 872, 'behaviour': 873, 'paid': 874, 'bath': 875, 'coles': 876, 'hold': 877, 'living': 878, 'event': 879, 'promise': 880, 'self': 881, 'powers': 882, 'rational': 883, 'habits': 884, 'distance': 885, 'anywhere': 886, 'tolerably': 887, 'absence': 888, 'hurry': 889, 'independence': 890, 'rate': 891, 'suspect': 892, 'lose': 893, 'smiles': 894, 'important': 895, 'considerable': 896, 'comprehend': 897, 'hearted': 898, 'service': 899, 'shew': 900, 'worst': 901, 'accomplished': 902, 'probability': 903, 'assistance': 904, 'moments': 905, 'cake': 906, 'unless': 907, 'strange': 908, 'standing': 909, 'stood': 910, 'mine': 911, 'high': 912, 'delighted': 913, 'close': 914, 'light': 915, 'regular': 916, 'ground': 917, 'shewed': 918, 'mill': 919, 'amused': 920, 'dislike': 921, 'share': 922, 'raise': 923, 'above': 924, 'mere': 925, 'elizabeth': 926, 'opportunity': 927, 'remained': 928, 'confess': 929, 'itself': 930, 'figure': 931, 'plan': 932, 'pretend': 933, 'countenance': 934, 'blind': 935, 'points': 936, 'sooner': 937, 'exclaimed': 938, 'passion': 939, 'higher': 940, 'agreed': 941, 'behind': 942, 'peace': 943, 'desired': 944, 'tender': 945, 'besides': 946, 'offer': 947, 'fall': 948, 'staying': 949, 'possibility': 950, 'piece': 951, 'ease': 952, 'grandmother': 953, 'seated': 954, 'excepting': 955, 'disappointed': 956, 'south': 957, 'alarm': 958, 'arrived': 959, 'ford': 960, 'period': 961, 'sixteen': 962, 'disagreeable': 963, 'lost': 964, 'mile': 965, 'differently': 966, 'paying': 967, 'observe': 968, 'placed': 969, 'intimate': 970, 'dependence': 971, 'willing': 972, 'acceptable': 973, 'proved': 974, 'occupied': 975, 'properly': 976, 'proud': 977, 'visits': 978, 'harm': 979, 'command': 980, 'boy': 981, 'charge': 982, 'scruples': 983, 'pleasures': 984, 'report': 985, 'difficulties': 986, 'vain': 987, 'fancied': 988, 'lovely': 989, 'frequently': 990, 'several': 991, 'seeming': 992, 'deserve': 993, 'inferior': 994, 'farm': 995, 'gratified': 996, 'confined': 997, 'order': 998, 'blush': 999, 'settle': 1000, 'money': 1001, 'within': 1002, 'undoubtedly': 1003, 'entire': 1004, 'silent': 1005, 'forty': 1006, 'repeated': 1007, 'justice': 1008, 'value': 1009, 'twelve': 1010, 'persuade': 1011, 'complexion': 1012, 'size': 1013, 'appears': 1014, 'equally': 1015, 'inconvenience': 1016, 'slight': 1017, 'warmly': 1018, 'gallant': 1019, 'leaving': 1020, 'tolerable': 1021, 'entreat': 1022, 'finished': 1023, 'eager': 1024, 'keeping': 1025, 'mixture': 1026, 'occurred': 1027, 'listened': 1028, 'endure': 1029, 'fresh': 1030, 'extraordinary': 1031, 'fast': 1032, 'delicacy': 1033, 'express': 1034, 'hopes': 1035, 'severe': 1036, 'writing': 1037, 'attentions': 1038, 'street': 1039, 'simple': 1040, 'wit': 1041, 'proceeded': 1042, 'perceive': 1043, 'angry': 1044, 'laughed': 1045, 'exceedingly': 1046, 'imagination': 1047, 'caught': 1048, 'play': 1049, 'trifling': 1050, 'arrival': 1051, 'fears': 1052, 'reserved': 1053, 'tired': 1054, 'reached': 1055, 'sore': 1056, 'prepared': 1057, 'moderate': 1058, 'folly': 1059, 'distress': 1060, 'daughters': 1061, 'affectionate': 1062, 'office': 1063, 'rank': 1064, 'intercourse': 1065, 'hers': 1066, 'advantages': 1067, 'increased': 1068, 'constitution': 1069, 'matrimony': 1070, 'separate': 1071, 'afforded': 1072, 'support': 1073, 'lucky': 1074, 'regrets': 1075, 'connexions': 1076, 'troublesome': 1077, 'loves': 1078, 'reflection': 1079, 'secure': 1080, 'spend': 1081, 'talent': 1082, 'comfortably': 1083, 'laughing': 1084, 'pride': 1085, 'wealth': 1086, 'opening': 1087, 'leisure': 1088, 'unhappy': 1089, 'secured': 1090, 'judging': 1091, 'truly': 1092, 'merits': 1093, 'proposed': 1094, 'neighbours': 1095, 'eat': 1096, 'earnestly': 1097, 'acknowledge': 1098, 'united': 1099, 'seat': 1100, 'superiority': 1101, 'liberal': 1102, 'vanity': 1103, 'winter': 1104, 'couple': 1105, 'parlour': 1106, 'sweetness': 1107, 'unwilling': 1108, 'becoming': 1109, 'pleasantly': 1110, 'indifferent': 1111, 'thin': 1112, 'water': 1113, 'introduction': 1114, 'exercise': 1115, 'valuable': 1116, 'totally': 1117, 'independent': 1118, 'questions': 1119, 'evidently': 1120, 'lay': 1121, 'birth': 1122, 'arrangement': 1123, 'waiting': 1124, 'held': 1125, 'personal': 1126, 'low': 1127, 'assured': 1128, 'grow': 1129, 'venture': 1130, 'places': 1131, 'height': 1132, 'add': 1133, 'liberty': 1134, 'supposing': 1135, 'conceal': 1136, 'hesitation': 1137, 'growing': 1138, 'lover': 1139, 'stopt': 1140, 'delight': 1141, 'produced': 1142, 'companions': 1143, 'honourable': 1144, 'touch': 1145, 'effect': 1146, 'suit': 1147, 'minute': 1148, 'd': 1149, 'takes': 1150, 'dreadful': 1151, 'escape': 1152, 'natured': 1153, 'visiting': 1154, 'bringing': 1155, 'invited': 1156, 'bed': 1157, 'civility': 1158, 'depends': 1159, 'intended': 1160, 'tiresome': 1161, 'address': 1162, 'tempered': 1163, 'extreme': 1164, 'nice': 1165, 'unpleasant': 1166, 'attentive': 1167, 'utmost': 1168, 'recollect': 1169, 'receive': 1170, 'clear': 1171, 'arm': 1172, 'private': 1173, 'necessity': 1174, 'clock': 1175, 'cottage': 1176, 'intelligence': 1177, 'ourselves': 1178, 'joined': 1179, 'setting': 1180, 'around': 1181, 'bathing': 1182, 'habit': 1183, 'perfection': 1184, 'subjects': 1185, 'neighbourhood': 1186, 'agitation': 1187, 'houses': 1188, 'occupy': 1189, 'carriages': 1190, 'suspicions': 1191, 'seriously': 1192, 'suspicion': 1193, 'performance': 1194, 'existence': 1195, 'nearly': 1196, 'fallen': 1197, 'evils': 1198, 'beloved': 1199, 'taught': 1200, 'various': 1201, 'concerns': 1202, 'scheme': 1203, 'domestic': 1204, 'recommended': 1205, 'daily': 1206, 'accepted': 1207, 'required': 1208, 'nervous': 1209, 'compassion': 1210, 'happier': 1211, 'humoured': 1212, 'begin': 1213, 'turns': 1214, 'visitor': 1215, 'frequent': 1216, 'square': 1217, 'inquiries': 1218, 'catch': 1219, 'dreadfully': 1220, 'hard': 1221, 'dearest': 1222, 'tears': 1223, 'forgotten': 1224, 'gallantry': 1225, 'instance': 1226, 'endeavour': 1227, 'quarrel': 1228, 'drawn': 1229, 'matters': 1230, 'break': 1231, 'circle': 1232, 'invite': 1233, 'native': 1234, 'rising': 1235, 'property': 1236, 'become': 1237, 'active': 1238, 'social': 1239, 'importance': 1240, 'mortification': 1241, 'produce': 1242, 'former': 1243, 'quitted': 1244, 'begun': 1245, 'chosen': 1246, 'apprehension': 1247, 'sufficiently': 1248, 'lively': 1249, 'expression': 1250, 'approaching': 1251, 'apparent': 1252, 'unwholesome': 1253, 'pair': 1254, 'terms': 1255, 'parish': 1256, 'westons': 1257, 'public': 1258, 'distinction': 1259, 'named': 1260, 'cheerfulness': 1261, 'suited': 1262, 'dressed': 1263, 'church': 1264, 'features': 1265, 'shewing': 1266, 'unworthy': 1267, 'parted': 1268, 'form': 1269, 'opinions': 1270, 'listening': 1271, 'boiled': 1272, 'advise': 1273, 'wine': 1274, 'intentions': 1275, 'strength': 1276, 'distinct': 1277, 'describe': 1278, 'immediate': 1279, 'cause': 1280, 'fancying': 1281, 'number': 1282, 'books': 1283, 'fortnight': 1284, 'repent': 1285, 'follow': 1286, 'fit': 1287, 'trusted': 1288, 'gained': 1289, 'happen': 1290, 'mortified': 1291, 'wondering': 1292, 'awkward': 1293, 'compare': 1294, 'awkwardness': 1295, 'later': 1296, 'inquire': 1297, 'grave': 1298, 'quickness': 1299, 'grown': 1300, 'fairly': 1301, 'doubtful': 1302, 'feels': 1303, 'arranged': 1304, 'drew': 1305, 'failed': 1306, 'charm': 1307, 'material': 1308, 'cross': 1309, 'glance': 1310, 'decidedly': 1311, 'following': 1312, 'falling': 1313, 'improvement': 1314, 'possession': 1315, 'delicate': 1316, 'decide': 1317, 'progress': 1318, 'deceived': 1319, 'skill': 1320, 'corner': 1321, 'civilities': 1322, 'depended': 1323, 'safety': 1324, 'expectation': 1325, 'conveyed': 1326, 'expressed': 1327, 'forced': 1328, 'returning': 1329, 'intelligible': 1330, 'beg': 1331, 'thus': 1332, 'occur': 1333, 'fix': 1334, 'plans': 1335, 'admit': 1336, 'trust': 1337, 'reply': 1338, 'act': 1339, 'uneasiness': 1340, 'prudence': 1341, 'attend': 1342, 'sick': 1343, 'remembered': 1344, 'fellow': 1345, 'deep': 1346, 'supply': 1347, 'confusion': 1348, 'convince': 1349, 'eagerness': 1350, 'syllable': 1351, 'month': 1352, 'staid': 1353, 'rise': 1354, 'satisfy': 1355, 'inquiry': 1356, 'grandmama': 1357, 'eldest': 1358, 'o': 1359, 'dining': 1360, 'observing': 1361, 'pretence': 1362, 'housekeeper': 1363, 'creatures': 1364, 'autumn': 1365, 'instantly': 1366, 'also': 1367, 'coolly': 1368, 'succeeded': 1369, 'indifference': 1370, 'miserable': 1371, 'tells': 1372, 'engagement': 1373, 'complaint': 1374, 'astonishment': 1375, 'drive': 1376, 'step': 1377, 'cordial': 1378, 'sensations': 1379, 'january': 1380, 'wishing': 1381, 'sanguine': 1382, 'caution': 1383, 'prove': 1384, 'hurrying': 1385, 'attraction': 1386, 'shewn': 1387, 'observation': 1388, 'cure': 1389, 'burst': 1390, 'thanks': 1391, 'dancing': 1392, 'leg': 1393, 'shop': 1394, 'guessed': 1395, 'musical': 1396, 'crown': 1397, 'song': 1398, 'youngest': 1399, 'died': 1400, 'supplied': 1401, 'governess': 1402, 'authority': 1403, 'shape': 1404, 'prospect': 1405, 'unexceptionable': 1406, 'devoted': 1407, 'amuse': 1408, 'seven': 1409, 'unreserve': 1410, 'intelligent': 1411, 'informed': 1412, 'suffering': 1413, 'woodhouses': 1414, 'melancholy': 1415, 'cheerfully': 1416, 'servant': 1417, 'goes': 1418, 'spared': 1419, 'flow': 1420, 'eight': 1421, 'thirty': 1422, 'elder': 1423, 'brunswick': 1424, 'answered': 1425, 'draw': 1426, 'fire': 1427, 'breakfast': 1428, 'congratulations': 1429, 'persons': 1430, 'amusement': 1431, 'wherever': 1432, 'blessed': 1433, 'employment': 1434, 'idle': 1435, 'triumph': 1436, 'luck': 1437, 'manage': 1438, 'shame': 1439, 'gentility': 1440, 'brothers': 1441, 'entering': 1442, 'fell': 1443, 'bore': 1444, 'estate': 1445, 'refrain': 1446, 'unreasonable': 1447, 'anger': 1448, 'expense': 1449, 'trade': 1450, 'established': 1451, 'purchase': 1452, 'shaken': 1453, 'objects': 1454, 'choice': 1455, 'formed': 1456, 'addition': 1457, 'partial': 1458, 'missed': 1459, 'convenient': 1460, 'season': 1461, 'spending': 1462, 'evenings': 1463, 'unfit': 1464, 'pains': 1465, 'comforts': 1466, 'preferred': 1467, 'liking': 1468, 'middle': 1469, 'professed': 1470, 'ample': 1471, 'garden': 1472, 'neat': 1473, 'anticipated': 1474, 'raised': 1475, 'bloom': 1476, 'engaging': 1477, 'forming': 1478, 'welcomed': 1479, 'visitors': 1480, 'basin': 1481, 'thorough': 1482, 'hurt': 1483, 'bit': 1484, 'satisfactory': 1485, 'humble': 1486, 'ventured': 1487, 'confirmed': 1488, 'conceit': 1489, 'sentiment': 1490, 'attempts': 1491, 'parents': 1492, 'affairs': 1493, 'notion': 1494, 'send': 1495, 'hence': 1496, 'afford': 1497, 'beforehand': 1498, 'misfortune': 1499, 'ignorant': 1500, 'vulgar': 1501, 'alarming': 1502, 'admirer': 1503, 'compared': 1504, 'nearer': 1505, 'bred': 1506, 'wholly': 1507, 'plainly': 1508, 'guessing': 1509, 'forgetting': 1510, 'contrary': 1511, 'probable': 1512, 'sufficient': 1513, 'feature': 1514, 'rule': 1515, 'memory': 1516, 'slow': 1517, 'borne': 1518, 'deny': 1519, 'lead': 1520, 'lasting': 1521, 'frightened': 1522, 'unjust': 1523, 'alarmed': 1524, 'cared': 1525, 'creating': 1526, 'suspected': 1527, 'direction': 1528, 'assurance': 1529, 'graceful': 1530, 'decision': 1531, 'attempted': 1532, 'drawings': 1533, 't': 1534, 'proposal': 1535, 'stand': 1536, 'pressing': 1537, 'containing': 1538, 'labour': 1539, 'study': 1540, 'sofa': 1541, 'length': 1542, 'flattering': 1543, 'trouble': 1544, 'wives': 1545, 'declaration': 1546, 'destined': 1547, 'offence': 1548, 'considerably': 1549, 'suspecting': 1550, 'doors': 1551, 'december': 1552, 'entreaties': 1553, 'assurances': 1554, 'precious': 1555, 'principal': 1556, 'language': 1557, 'sentiments': 1558, 'slowly': 1559, 'doubts': 1560, 'expressions': 1561, 'mistake': 1562, 'accept': 1563, 'grieved': 1564, 'conceited': 1565, 'consolation': 1566, 'cares': 1567, 'hitherto': 1568, 'allowing': 1569, 'stronger': 1570, 'gradually': 1571, 'offering': 1572, 'amusing': 1573, 'rude': 1574, 'pace': 1575, 'inclined': 1576, 'imprudent': 1577, 'detained': 1578, 'refused': 1579, 'foolish': 1580, 'crossed': 1581, 'minds': 1582, 'certainty': 1583, 'sought': 1584, 'consequently': 1585, 'highest': 1586, 'unfortunate': 1587, 'weak': 1588, 'master': 1589, 'refusal': 1590, 'opposite': 1591, 'thousand': 1592, 'pounds': 1593, 'provoking': 1594, 'motives': 1595, 'effects': 1596, 'intention': 1597, 'pursuit': 1598, 'grand': 1599, 'putting': 1600, 'ended': 1601, 'pause': 1602, 'earth': 1603, 'approve': 1604, 'alliance': 1605, 'smooth': 1606, 'ran': 1607, 'front': 1608, 'nicely': 1609, 'chair': 1610, 'declined': 1611, 'apt': 1612, 'indulge': 1613, 'leading': 1614, 'broad': 1615, 'rose': 1616, 'tempted': 1617, 'narrow': 1618, 'warmer': 1619, 'death': 1620, 'relief': 1621, 'impression': 1622, 'path': 1623, 'bend': 1624, 'wretched': 1625, 'stopped': 1626, 'boot': 1627, 'begged': 1628, 'acknowledged': 1629, 'fully': 1630, 'hazard': 1631, 'rapidly': 1632, 'surry': 1633, 'coachman': 1634, 'attendance': 1635, 'alike': 1636, 'reproach': 1637, 'letters': 1638, 'convenience': 1639, 'september': 1640, 'assist': 1641, 'occasionally': 1642, 'bateses': 1643, 'heavy': 1644, 'sickly': 1645, 'dangerous': 1646, 'interval': 1647, 'travel': 1648, 'preference': 1649, 'numbers': 1650, 'roast': 1651, 'parting': 1652, 'white': 1653, 'sacrifice': 1654, 'servants': 1655, 'communication': 1656, 'avoid': 1657, 'effort': 1658, 'substance': 1659, 'whims': 1660, 'spare': 1661, 'nephew': 1662, 'presumption': 1663, 'professions': 1664, 'error': 1665, 'resentment': 1666, 'belonged': 1667, 'future': 1668, 'excuses': 1669, 'penance': 1670, 'dignity': 1671, 'suffer': 1672, 'story': 1673, 'admire': 1674, 'deficient': 1675, 'neighbour': 1676, 'discoveries': 1677, 'rejoice': 1678, 'bristol': 1679, 'amends': 1680, 'peculiar': 1681, 'ceased': 1682, 'chiefly': 1683, 'sorrow': 1684, 'grief': 1685, 'third': 1686, 'composed': 1687, 'denying': 1688, 'promoted': 1689, 'played': 1690, 'attach': 1691, 'nursed': 1692, 'recollection': 1693, 'older': 1694, 'talents': 1695, 'removed': 1696, 'reach': 1697, 'november': 1698, 'depressed': 1699, 'deserves': 1700, 'asks': 1701, 'maintain': 1702, 'connected': 1703, 'shocking': 1704, 'damp': 1705, 'dirty': 1706, 'shoes': 1707, 'joke': 1708, 'faults': 1709, 'behaved': 1710, 'provision': 1711, 'shook': 1712, 'fondly': 1713, 'matches': 1714, 'constantly': 1715, 'straightforward': 1716, 'unaffected': 1717, 'ii': 1718, 'born': 1719, 'captain': 1720, 'introduced': 1721, 'proportion': 1722, 'unsuitable': 1723, 'goodness': 1724, 'missing': 1725, 'comparison': 1726, 'cease': 1727, 'additional': 1728, 'illness': 1729, 'overcome': 1730, 'seek': 1731, 'improve': 1732, 'occupation': 1733, 'eighteen': 1734, 'adjoining': 1735, 'according': 1736, 'bought': 1737, 'obtained': 1738, 'excite': 1739, 'unlikely': 1740, 'caprice': 1741, 'belonging': 1742, 'prevailed': 1743, 'included': 1744, 'source': 1745, 'losing': 1746, 'solitary': 1747, 'female': 1748, 'attended': 1749, 'eating': 1750, 'consulting': 1751, 'disagree': 1752, 'moderately': 1753, 'nerves': 1754, 'residence': 1755, 'measure': 1756, 'horror': 1757, 'persuasion': 1758, 'hardship': 1759, 'vicar': 1760, 'uncommon': 1761, 'boasted': 1762, 'contented': 1763, 'wonders': 1764, 'simplicity': 1765, 'recommendation': 1766, 'talker': 1767, 'establishment': 1768, 'sentences': 1769, 'quantity': 1770, 'reckoned': 1771, 'healthy': 1772, 'seventeen': 1773, 'condition': 1774, 'boarder': 1775, 'blue': 1776, 'admitted': 1777, 'coarse': 1778, 'introduce': 1779, 'admiring': 1780, 'watch': 1781, 'moved': 1782, 'meal': 1783, 'occasions': 1784, 'laid': 1785, 'fashion': 1786, 'hospitality': 1787, 'venturing': 1788, 'egg': 1789, 'serle': 1790, 'ours': 1791, 'sending': 1792, 'foreseen': 1793, 'divisions': 1794, 'approved': 1795, 'free': 1796, 'penetration': 1797, 'chose': 1798, 'teachers': 1799, 'encouraged': 1800, 'exultation': 1801, 'cow': 1802, 'sink': 1803, 'walks': 1804, 'sing': 1805, 'window': 1806, 'aloud': 1807, 'fifty': 1808, 'foot': 1809, 'precisely': 1810, 'below': 1811, 'employed': 1812, 'forth': 1813, 'careful': 1814, 'force': 1815, 'marries': 1816, 'watched': 1817, 'yards': 1818, 'voluntarily': 1819, 'gentleness': 1820, 'running': 1821, 'repeatedly': 1822, 'displeasure': 1823, 'likes': 1824, 'copied': 1825, 'downright': 1826, 'suits': 1827, 'design': 1828, 'blushed': 1829, 'driving': 1830, 'feared': 1831, 'brain': 1832, 'deficiency': 1833, 'meetings': 1834, 'foundation': 1835, 'sex': 1836, 'wants': 1837, 'inducement': 1838, 'steady': 1839, 'patience': 1840, 'senses': 1841, 'spoiled': 1842, 'dependent': 1843, 'preparing': 1844, 'vexation': 1845, 'ignorance': 1846, 'uncomfortable': 1847, 'lament': 1848, 'seldom': 1849, 'brilliant': 1850, 'dread': 1851, 'confidence': 1852, 'brings': 1853, 'arise': 1854, 'destiny': 1855, 'confident': 1856, 'scruple': 1857, 'infinitely': 1858, 'grace': 1859, 'principally': 1860, 'animation': 1861, 'naivete': 1862, 'exquisite': 1863, 'disgust': 1864, 'inimitable': 1865, 'don': 1866, 'raptures': 1867, 'difficult': 1868, 'colours': 1869, 'sang': 1870, 'approached': 1871, 'excellence': 1872, 'deserved': 1873, 'spirited': 1874, 'faces': 1875, 'kindest': 1876, 'bella': 1877, 'sketch': 1878, 'sleeping': 1879, 'persuading': 1880, 'husbands': 1881, 'wait': 1882, 'watching': 1883, 'displeased': 1884, 'throw': 1885, 'attending': 1886, 'accompanied': 1887, 'prettily': 1888, 'tree': 1889, 'errand': 1890, 'fearful': 1891, 'agitated': 1892, 'hurried': 1893, 'longing': 1894, 'direct': 1895, 'propriety': 1896, 'pardon': 1897, 'apprehend': 1898, 'prefer': 1899, 'result': 1900, 'visited': 1901, 'killed': 1902, 'conscience': 1903, 'decisive': 1904, 'draper': 1905, 'dark': 1906, 'absent': 1907, 'grew': 1908, 'defer': 1909, 'induced': 1910, 'apologies': 1911, 'stranger': 1912, 'improved': 1913, 'dropt': 1914, 'speaks': 1915, 'relations': 1916, 'experience': 1917, 'level': 1918, 'whoever': 1919, 'selfish': 1920, 'contemptible': 1921, 'comprehending': 1922, 'wondered': 1923, 'abruptly': 1924, 'cast': 1925, 'hastily': 1926, 'whist': 1927, 'conscious': 1928, 'easier': 1929, 'sober': 1930, 'kitty': 1931, 'frozen': 1932, 'riddle': 1933, 'charades': 1934, 'denote': 1935, 'freshness': 1936, 'collection': 1937, 'luxury': 1938, 'behold': 1939, 'monarch': 1940, 'seas': 1941, 'reverse': 1942, 'freedom': 1943, 'reigns': 1944, 'addresses': 1945, 'benefit': 1946, 'observations': 1947, 'shark': 1948, 'resist': 1949, 'concluding': 1950, 'arrive': 1951, 'handsomest': 1952, 'provided': 1953, 'twelvemonth': 1954, 'betray': 1955, 'distinctly': 1956, 'conclusion': 1957, 'aye': 1958, 'approach': 1959, 'lawyer': 1960, 'promises': 1961, 'affected': 1962, 'rough': 1963, 'boys': 1964, 'preparation': 1965, 'discerned': 1966, 'bow': 1967, 'writes': 1968, 'honoured': 1969, 'laugh': 1970, 'charitable': 1971, 'remark': 1972, 'contrive': 1973, 'message': 1974, 'induce': 1975, 'poverty': 1976, 'candour': 1977, 'barely': 1978, 'affections': 1979, 'sensation': 1980, 'knightleys': 1981, 'sympathy': 1982, 'exertion': 1983, 'distressing': 1984, 'footpath': 1985, 'acting': 1986, 'obligation': 1987, 'join': 1988, 'quietly': 1989, 'exceed': 1990, 'cautious': 1991, 'inch': 1992, 'advance': 1993, 'bustle': 1994, 'endured': 1995, 'solicitude': 1996, 'ones': 1997, 'drinking': 1998, 'wrapt': 1999, 'profession': 2000, 'prevented': 2001, 'charity': 2002, 'shake': 2003, 'aside': 2004, 'misery': 2005, 'fly': 2006, 'madam': 2007, 'lives': 2008, 'ye': 2009, 'english': 2010, 'requisite': 2011, 'fail': 2012, 'rendered': 2013, 'article': 2014, 'ordered': 2015, 'bilious': 2016, 'airy': 2017, 'intending': 2018, 'excessively': 2019, 'ear': 2020, 'cromer': 2021, 'convey': 2022, 'moving': 2023, 'proving': 2024, 'reflections': 2025, 'renewal': 2026, 'avoiding': 2027, 'carry': 2028, 'mutton': 2029, 'liable': 2030, 'remain': 2031, 'previous': 2032, 'overlook': 2033, 'accordingly': 2034, 'increasing': 2035, 'coldness': 2036, 'abroad': 2037, 'snowing': 2038, 'rooms': 2039, 'travelling': 2040, 'dress': 2041, 'afternoon': 2042, 'sweep': 2043, 'gate': 2044, 'enjoy': 2045, 'continually': 2046, 'rules': 2047, 'blessing': 2048, 'infection': 2049, 'complain': 2050, 'assuming': 2051, 'opened': 2052, 'covered': 2053, 'engagements': 2054, 'accommodation': 2055, 'revived': 2056, 'along': 2057, 'discovery': 2058, 'stept': 2059, 'seized': 2060, 'politeness': 2061, 'instant': 2062, 'explanation': 2063, 'softened': 2064, 'agreeably': 2065, 'recovered': 2066, 'method': 2067, 'restored': 2068, 'suffered': 2069, 'temptation': 2070, 'luxurious': 2071, 'unfair': 2072, 'rightly': 2073, 'situations': 2074, 'notions': 2075, 'coxcomb': 2076, 'require': 2077, 'prejudiced': 2078, 'ball': 2079, 'inquiring': 2080, 'eagerly': 2081, 'deaf': 2082, 'twice': 2083, 'friday': 2084, 'saturday': 2085, 'tuesday': 2086, 'declare': 2087, 'joint': 2088, 'drawback': 2089, 'glancing': 2090, 'fame': 2091, 'saved': 2092, 'human': 2093, 'distinguished': 2094, 'procure': 2095, 'loin': 2096, 'sound': 2097, 'kindly': 2098, 'genuine': 2099, 'disturbed': 2100, 'balls': 2101, 'acquiescence': 2102, 'gloves': 2103, 'conclude': 2104, 'wickedness': 2105, 'mad': 2106, 'volume': 2107, 'blessings': 2108, 'remembrance': 2109, 'restraint': 2110, 'shadow': 2111, 'mutually': 2112, 'directed': 2113, 'enjoyments': 2114, 'unperceived': 2115, 'bride': 2116, 'cheer': 2117, 'suitable': 2118, 'generous': 2119, 'black': 2120, 'recalled': 2121, 'arose': 2122, 'intellectual': 2123, 'solitude': 2124, 'playful': 2125, 'actual': 2126, 'disparity': 2127, 'ages': 2128, 'activity': 2129, 'october': 2130, 'struggled': 2131, 'fill': 2132, 'populous': 2133, 'village': 2134, 'shrubberies': 2135, 'universally': 2136, 'hating': 2137, 'origin': 2138, 'selfishness': 2139, 'humours': 2140, 'hannah': 2141, 'slighted': 2142, 'exertions': 2143, 'backgammon': 2144, 'unnecessary': 2145, 'mutual': 2146, 'animated': 2147, 'gratefully': 2148, 'moonlight': 2149, 'mild': 2150, 'vast': 2151, 'bye': 2152, 'behave': 2153, 'tis': 2154, 'fanciful': 2155, 'playfully': 2156, 'flatter': 2157, 'chances': 2158, 'charmingly': 2159, 'divided': 2160, 'foretell': 2161, 'widower': 2162, 'letting': 2163, 'solemn': 2164, 'darted': 2165, 'planned': 2166, 'endeavouring': 2167, 'planning': 2168, 'cleverer': 2169, 'smoothed': 2170, 'joining': 2171, 'chicken': 2172, 'generations': 2173, 'indisposed': 2174, 'pursuits': 2175, 'militia': 2176, 'yorkshire': 2177, 'offend': 2178, 'infinite': 2179, 'bargain': 2180, 'relieved': 2181, 'softening': 2182, 'reluctance': 2183, 'considerations': 2184, 'realised': 2185, 'schemes': 2186, 'pleasantest': 2187, 'heir': 2188, 'governed': 2189, 'deservedly': 2190, 'prospects': 2191, 'drank': 2192, 'strengthened': 2193, 'irresistible': 2194, 'privations': 2195, 'centre': 2196, 'sorrowful': 2197, 'stomach': 2198, 'regarded': 2199, 'dissuade': 2200, 'gentlemanlike': 2201, 'applied': 2202, 'eaten': 2203, 'benevolent': 2204, 'rumour': 2205, 'perrys': 2206, 'slice': 2207, 'iii': 2208, 'causes': 2209, 'fortunately': 2210, 'card': 2211, 'privilege': 2212, 'blank': 2213, 'elegancies': 2214, 'widow': 2215, 'harmless': 2216, 'popularity': 2217, 'hate': 2218, 'outward': 2219, 'failing': 2220, 'worked': 2221, 'trivial': 2222, 'communications': 2223, 'refined': 2224, 'acquirements': 2225, 'principles': 2226, 'spot': 2227, 'plenty': 2228, 'wholesome': 2229, 'train': 2230, 'occasional': 2231, 'owed': 2232, 'hung': 2233, 'fireside': 2234, 'collect': 2235, 'contriving': 2236, 'respectful': 2237, 'request': 2238, 'dreaded': 2239, 'acquired': 2240, 'continue': 2241, 'pushing': 2242, 'deference': 2243, 'impressed': 2244, 'residing': 2245, 'undertaking': 2246, 'closed': 2247, 'forwards': 2248, 'alacrity': 2249, 'attentively': 2250, 'urgency': 2251, 'guests': 2252, 'clearing': 2253, 'eggs': 2254, 'understands': 2255, 'apple': 2256, 'glass': 2257, 'iv': 2258, 'encouraging': 2259, 'designs': 2260, 'desiring': 2261, 'guided': 2262, 'granted': 2263, 'discovered': 2264, 'enjoying': 2265, 'youthful': 2266, 'parlours': 2267, 'upper': 2268, 'welch': 2269, 'dwelt': 2270, 'walnuts': 2271, 'singing': 2272, 'bid': 2273, 'goose': 2274, 'sunday': 2275, 'reads': 2276, 'cards': 2277, 'extracts': 2278, 'romance': 2279, 'forest': 2280, 'ride': 2281, 'kingston': 2282, 'stock': 2283, 'associates': 2284, 'station': 2285, 'degrading': 2286, 'firmly': 2287, 'permanently': 2288, 'educated': 2289, 'symptoms': 2290, 'oppose': 2291, 'flutter': 2292, 'compose': 2293, 'clownish': 2294, 'genteel': 2295, 'specimens': 2296, 'abrupt': 2297, 'carrying': 2298, 'becomes': 2299, 'passable': 2300, 'appearances': 2301, 'illiterate': 2302, 'disturb': 2303, 'pattern': 2304, 'model': 2305, 'softness': 2306, 'strikes': 2307, 'palpably': 2308, 'equalled': 2309, 'expediency': 2310, 'weight': 2311, 'v': 2312, 'supplying': 2313, 'agreeing': 2314, 'objection': 2315, 'lists': 2316, 'regularly': 2317, 'list': 2318, 'fourteen': 2319, 'preserved': 2320, 'submit': 2321, 'subjection': 2322, 'puzzled': 2323, 'diffident': 2324, 'matrimonial': 2325, 'submitting': 2326, 'despair': 2327, 'plague': 2328, 'genius': 2329, 'flattery': 2330, 'learn': 2331, 'inferiority': 2332, 'gain': 2333, 'belongs': 2334, 'adapt': 2335, 'rationally': 2336, 'hears': 2337, 'loveliness': 2338, 'kinder': 2339, 'truer': 2340, 'qualities': 2341, 'angel': 2342, 'discussion': 2343, 'apprehended': 2344, 'remains': 2345, 'excited': 2346, 'hereabouts': 2347, 'tempt': 2348, 'surmise': 2349, 'vi': 2350, 'hints': 2351, 'praised': 2352, 'perception': 2353, 'striking': 2354, 'proofs': 2355, 'admissible': 2356, 'contradict': 2357, 'sighing': 2358, 'likenesses': 2359, 'mouth': 2360, 'answering': 2361, 'earnest': 2362, 'displayed': 2363, 'lengths': 2364, 'pencil': 2365, 'artist': 2366, 'capital': 2367, 'mama': 2368, 'baby': 2369, 'george': 2370, 'provoked': 2371, 'mantelpiece': 2372, 'attitude': 2373, 'presented': 2374, 'gaze': 2375, 'employ': 2376, 'jump': 2377, 'discern': 2378, 'promising': 2379, 'continual': 2380, 'eyebrows': 2381, 'resemblance': 2382, 'presents': 2383, 'proportions': 2384, 'touched': 2385, 'framed': 2386, 'alert': 2387, 'commission': 2388, 'repetition': 2389, 'frame': 2390, 'directions': 2391, 'ensure': 2392, 'incommoded': 2393, 'vii': 2394, 'announcing': 2395, 'parcel': 2396, 'contained': 2397, 'asking': 2398, 'pressed': 2399, 'errors': 2400, 'disgraced': 2401, 'liberality': 2402, 'paused': 2403, 'anxiously': 2404, 'strongly': 2405, 'clearly': 2406, 'requires': 2407, 'prompted': 2408, 'powerful': 2409, 'hesitate': 2410, 'hesitating': 2411, 'confused': 2412, 'approving': 2413, 'wavering': 2414, 'opposing': 2415, 'censure': 2416, 'advised': 2417, 'protest': 2418, 'sentence': 2419, 'replying': 2420, 'tendency': 2421, 'linen': 2422, 'refinement': 2423, 'teacher': 2424, 'cheering': 2425, 'rejected': 2426, 'original': 2427, 'bond': 2428, 'modest': 2429, 'solace': 2430, 'imaginations': 2431, 'viii': 2432, 'appropriated': 2433, 'safest': 2434, 'ceremony': 2435, 'answers': 2436, 'contrast': 2437, 'protracted': 2438, 'hesitations': 2439, 'entertain': 2440, 'fetch': 2441, 'seemingly': 2442, 'chat': 2443, 'overpower': 2444, 'contradiction': 2445, 'consult': 2446, 'considers': 2447, 'advising': 2448, 'inferred': 2449, 'indignation': 2450, 'clearer': 2451, 'loudly': 2452, 'beneath': 2453, 'degradation': 2454, 'allowance': 2455, 'indubitable': 2456, 'ambition': 2457, 'nine': 2458, 'chusing': 2459, 'readiness': 2460, 'expectations': 2461, 'offers': 2462, 'prudent': 2463, 'involved': 2464, 'mystery': 2465, 'greatly': 2466, 'desperate': 2467, 'application': 2468, 'altered': 2469, 'sincerity': 2470, 'unconcerned': 2471, 'secret': 2472, 'sentimentally': 2473, 'vexed': 2474, 'sanction': 2475, 'affair': 2476, 'uneasy': 2477, 'failure': 2478, 'prominent': 2479, 'justify': 2480, 'pretensions': 2481, 'suggest': 2482, 'club': 2483, 'justified': 2484, 'sighed': 2485, 'visibly': 2486, 'pleasanter': 2487, 'range': 2488, 'comprehension': 2489, 'mental': 2490, 'riddles': 2491, 'intellects': 2492, 'intently': 2493, 'recollections': 2494, 'lips': 2495, 'affliction': 2496, 'transcribed': 2497, 'pages': 2498, 'expose': 2499, 'examine': 2500, 'displays': 2501, 'pomp': 2502, 'kings': 2503, 'lords': 2504, 'flown': 2505, 'lord': 2506, 'bends': 2507, 'slave': 2508, 'thy': 2509, 'approval': 2510, 'beam': 2511, 'pondered': 2512, 'dulness': 2513, 'courtship': 2514, 'kingdom': 2515, 'mermaid': 2516, 'congratulate': 2517, 'acknowledgment': 2518, 'verses': 2519, 'prose': 2520, 'eltons': 2521, 'passage': 2522, 'invitations': 2523, 'fools': 2524, 'phrase': 2525, 'declining': 2526, 'exception': 2527, 'intent': 2528, 'glow': 2529, 'committed': 2530, 'divide': 2531, 'ceases': 2532, 'submitted': 2533, 'overpowered': 2534, 'tribute': 2535, 'proceed': 2536, 'ridiculous': 2537, 'dears': 2538, 'fairy': 2539, 'explanations': 2540, 'aid': 2541, 'nursery': 2542, 'easter': 2543, 'inconvenient': 2544, 'sadly': 2545, '28th': 2546, 'thankful': 2547, 'unwelcome': 2548, 'branch': 2549, 'string': 2550, 'sharp': 2551, 'die': 2552, 'promised': 2553, 'thanked': 2554, 'disappointing': 2555, 're': 2556, 'urged': 2557, 'amiss': 2558, 'doubtingly': 2559, 'effusion': 2560, 'parade': 2561, 'main': 2562, 'hedges': 2563, 'class': 2564, 'recollecting': 2565, 'relative': 2566, 'avoided': 2567, 'fear': 2568, 'nephews': 2569, 'nieces': 2570, 'heaven': 2571, 'forbid': 2572, 'topics': 2573, 'superseded': 2574, 'compassionate': 2575, 'counsel': 2576, 'virtue': 2577, 'scene': 2578, 'trial': 2579, 'accompany': 2580, 'increase': 2581, 'overtaken': 2582, 'butter': 2583, 'dessert': 2584, 'arrange': 2585, 'lace': 2586, 'rights': 2587, 'proposition': 2588, 'alertness': 2589, 'ajar': 2590, 'incessant': 2591, 'practicable': 2592, 'lovers': 2593, 'windows': 2594, 'glory': 2595, 'successfully': 2596, 'purposely': 2597, 'ingenious': 2598, 'device': 2599, 'anticipation': 2600, 'somehow': 2601, 'exciting': 2602, 'fatigues': 2603, 'alarms': 2604, 'competent': 2605, 'variously': 2606, 'noise': 2607, 'playing': 2608, 'inherited': 2609, 'benevolence': 2610, 'capable': 2611, 'clearness': 2612, 'ungracious': 2613, 'escaped': 2614, 'blindness': 2615, 'forbearance': 2616, 'cordiality': 2617, 'agrees': 2618, 'plaintive': 2619, 'extent': 2620, 'windy': 2621, 'fever': 2622, 'signed': 2623, 'c': 2624, 'bordered': 2625, 'disagreement': 2626, 'procuring': 2627, 'arms': 2628, 'example': 2629, 'argument': 2630, 'calmness': 2631, 'conversable': 2632, 'rarely': 2633, 'field': 2634, 'local': 2635, 'spring': 2636, 'equality': 2637, 'cooler': 2638, 'terribly': 2639, 'unpersuadable': 2640, 'practice': 2641, 'embrocation': 2642, 'colds': 2643, 'pale': 2644, 'prejudice': 2645, 'topic': 2646, 'similar': 2647, 'unfortunately': 2648, 'restore': 2649, 'moreover': 2650, 'unhealthy': 2651, 'holds': 2652, 'consulted': 2653, 'breaking': 2654, 'conceive': 2655, 'unconsciously': 2656, 'denial': 2657, 'excluded': 2658, 'advanced': 2659, 'invalid': 2660, 'infectious': 2661, 'interfere': 2662, 'hoarse': 2663, 'civilly': 2664, 'accepting': 2665, 'prompt': 2666, 'exulting': 2667, 'duties': 2668, 'naming': 2669, 'negligent': 2670, 'imagining': 2671, 'blunders': 2672, 'punctually': 2673, 'flakes': 2674, 'expressing': 2675, 'encounter': 2676, 'deem': 2677, 'defiance': 2678, 'shelter': 2679, 'dull': 2680, 'complying': 2681, 'glasses': 2682, 'breath': 2683, 'ha': 2684, 'snowed': 2685, 'astonished': 2686, 'fires': 2687, 'accommodate': 2688, 'enter': 2689, 'perplexities': 2690, 'insufferable': 2691, 'preserve': 2692, 'positively': 2693, 'amongst': 2694, 'appearing': 2695, 'sacrifices': 2696, 'stir': 2697, 'calculate': 2698, 'confinement': 2699, 'gladly': 2700, 'apprehensive': 2701, 'delays': 2702, 'individual': 2703, 'owes': 2704, 'chatty': 2705, 'learnt': 2706, 'concealing': 2707, 'inconstancy': 2708, 'nurse': 2709, 'catching': 2710, 'offended': 2711, 'succeed': 2712, 'wind': 2713, 'impassable': 2714, 'impede': 2715, 'lodged': 2716, 'nowhere': 2717, 'tidings': 2718, 'recommending': 2719, 'bell': 2720, 'carefully': 2721, 'shut': 2722, 'tete': 2723, 'quarters': 2724, 'restrain': 2725, 'hoping': 2726, 'diffidence': 2727, 'resolve': 2728, 'accent': 2729, 'protested': 2730, 'slightly': 2731, 'resumed': 2732, 'urgent': 2733, 'fewer': 2734, 'unsteadiness': 2735, 'alive': 2736, 'misled': 2737, 'marking': 2738, 'adoration': 2739, 'confesses': 2740, 'inequality': 2741, 'swelling': 2742, 'embarrassment': 2743, 'irritation': 2744, 'trembling': 2745, 'solicitous': 2746, 'perturbation': 2747, 'needed': 2748, 'blow': 2749, 'humiliation': 2750, 'mis': 2751, 'thick': 2752, 'indebted': 2753, 'start': 2754, 'mortifying': 2755, 'respects': 2756, 'sunk': 2757, 'proposals': 2758, 'inconsiderable': 2759, 'motive': 2760, 'introducing': 2761, 'william': 2762, 'coxe': 2763, 'continuing': 2764, 'operation': 2765, 'alleviations': 2766, 'disappoint': 2767, 'acute': 2768, 'absenting': 2769, 'ceremonious': 2770, 'compliance': 2771, 'regretted': 2772, 'destroy': 2773, 'industriously': 2774, 'artless': 2775, 'welfare': 2776, 'minded': 2777, 'promote': 2778, 'striving': 2779, 'resolutely': 2780, 'evident': 2781, 'moderation': 2782, 'wound': 2783, 'distant': 2784, 'begins': 2785, 'announce': 2786, 'unnatural': 2787, 'contrived': 2788, 'rid': 2789, 'watering': 2790, 'chuses': 2791, 'provide': 2792, 'doubly': 2793, 'omission': 2794, 'signified': 2795, 'virtues': 2796, 'throughout': 2797, 'parishes': 2798, 'powered': 2799, 'conduce': 2800, 'imperfection': 2801, 'sized': 2802, 'cordially': 2803, 'commendation': 2804, 'handsomely': 2805, 'unexpected': 2806, 'huswife': 2807, 'ma': 2808, 'handwriting': 2809, 'pondering': 2810, 'remarkable': 2811, 'impatient': 2812, 'press': 2813, 'insidious': 2814, 'accompanying': 2815, 'dashed': 2816, 'presence': 2817, 'considerate': 2818, 'unwell': 2819, 'save': 2820, 'deserving': 2821, 'guest': 2822, 'bread': 2823, 'acquit': 2824, 'eternal': 2825, 'medium': 2826, 'denied': 2827, 'skin': 2828, 'complacency': 2829, 'started': 2830, 'suggested': 2831, 'effectually': 2832, 'reappeared': 2833, 'description': 2834, 'suspiciously': 2835, 'dixons': 2836, 'bent': 2837, 'smoothness': 2838, 'forgive': 2839, 'entertained': 2840, 'handed': 2841, 'perseverance': 2842, 'fried': 2843, 'hind': 2844, 'salted': 2845, 'hither': 2846, 'bountiful': 2847, 'patty': 2848, 'worn': 2849, 'shower': 2850, 'lamented': 2851, 'detaining': 2852, 'heated': 2853, 'thither': 2854, 'gown': 2855, 'courage': 2856, 'stables': 2857, 'sincerely': 2858, 'described': 2859, 'shock': 2860, '10': 2861, '000': 2862, 'l': 2863, 'rapidity': 2864, 'congratulated': 2865, 'lesson': 2866, 'profits': 2867, 'grandeur': 2868, 'favouring': 2869, 'warmth': 2870, 'repetitions': 2871, 'dared': 2872, 'occasioned': 2873, 'ingratitude': 2874, 'formal': 2875, 'trunk': 2876, 'gravel': 2877, 'marks': 2878, 'thankfully': 2879, 'resent': 2880, 'process': 2881, 'oxford': 2882, 'augur': 2883, 'midst': 2884, 'earlier': 2885, 'presume': 2886, 'thanking': 2887, 'nights': 2888, 'mixed': 2889, 'bearing': 2890, 'oftener': 2891, 'successful': 2892, 'betrayed': 2893, 'plays': 2894, 'sounds': 2895, 'oneself': 2896, 'quickly': 2897, 'pitied': 2898, 'butler': 2899, 'marked': 2900, 'larger': 2901, 'dance': 2902, 'owned': 2903, 'readily': 2904, 'numerous': 2905, 'noticing': 2906, 'cox': 2907, 'surrender': 2908, 'nay': 2909, 'trying': 2910, 'adopt': 2911, 'injure': 2912, 'humanity': 2913, 'petticoat': 2914, 'sung': 2915, 'dances': 2916, 'austen': 2917, '1816': 2918, 'unite': 2919, 'vex': 2920, 'indulgent': 2921, 'indistinct': 2922, 'caresses': 2923, 'nominal': 2924, 'mildness': 2925, 'impose': 2926, 'esteeming': 2927, 'disadvantages': 2928, 'threatened': 2929, 'alloy': 2930, 'misfortunes': 2931, 'mournful': 2932, 'continuance': 2933, 'sleep': 2934, 'illnesses': 2935, 'childhood': 2936, 'debt': 2937, 'owing': 2938, 'footing': 2939, 'dearer': 2940, 'tenderer': 2941, 'possessed': 2942, 'peculiarly': 2943, 'dearly': 2944, 'valetudinarian': 2945, 'everywhere': 2946, 'friendliness': 2947, 'comparatively': 2948, 'amounting': 2949, 'lawn': 2950, 'equals': 2951, 'lieu': 2952, 'awoke': 2953, 'reconciled': 2954, 'chatted': 2955, 'stable': 2956, 'housemaid': 2957, 'curtseys': 2958, 'needlework': 2959, 'lock': 2960, 'bangs': 2961, 'attacked': 2962, 'satisfactorily': 2963, 'speck': 2964, 'surprising': 2965, 'rained': 2966, 'horrible': 2967, 'gainer': 2968, 'punctual': 2969, 'tear': 2970, 'apart': 2971, 'bears': 2972, 'deathbed': 2973, 'broadway': 2974, 'drizzle': 2975, 'borrowed': 2976, 'umbrellas': 2977, 'mitchell': 2978, 'supposes': 2979, 'delicately': 2980, 'pictures': 2981, 'encouragements': 2982, 'interference': 2983, 'rejoined': 2984, 'grievously': 2985, 'fitted': 2986, 'fish': 2987, 'succeeding': 2988, 'homely': 2989, 'county': 2990, 'embodied': 2991, 'military': 2992, 'dissuaded': 2993, 'threw': 2994, 'decorum': 2995, 'pursue': 2996, 'luxuries': 2997, 'amazing': 2998, 'poorer': 2999, 'lingering': 3000, 'reconciliation': 3001, 'kindred': 3002, 'offered': 3003, 'decease': 3004, 'competence': 3005, 'longed': 3006, 'portionless': 3007, 'tyrannic': 3008, 'determination': 3009, 'settling': 3010, 'sale': 3011, 'steadily': 3012, 'choose': 3013, 'tacitly': 3014, 'avowed': 3015, 'adoption': 3016, 'assume': 3017, 'capricious': 3018, 'affect': 3019, 'boasts': 3020, 'achieved': 3021, 'dissentient': 3022, 'prized': 3023, 'congratulation': 3024, 'separation': 3025, 'cooled': 3026, 'ennui': 3027, 'companionableness': 3028, 'feeble': 3029, 'energy': 3030, 'hindrance': 3031, 'recovering': 3032, 'likelihood': 3033, 'ceasing': 3034, 'alleviation': 3035, 'teased': 3036, 'apothecary': 3037, 'bias': 3038, 'confirmation': 3039, 'newly': 3040, 'including': 3041, 'comprehended': 3042, 'unfrequently': 3043, 'unequal': 3044, 'exchanging': 3045, 'vacant': 3046, 'fetched': 3047, 'carried': 3048, 'grievance': 3049, 'quadrille': 3050, 'untoward': 3051, 'enjoyed': 3052, 'predicament': 3053, 'atonement': 3054, 'frighten': 3055, 'cleverness': 3056, 'universal': 3057, 'quicksighted': 3058, 'surrounded': 3059, 'felicity': 3060, 'gossip': 3061, 'seminary': 3062, 'combine': 3063, 'morality': 3064, 'systems': 3065, 'enormous': 3066, 'screwed': 3067, 'honest': 3068, 'fashioned': 3069, 'boarding': 3070, 'accomplishments': 3071, 'sold': 3072, 'price': 3073, 'scramble': 3074, 'prodigies': 3075, 'repute': 3076, 'food': 3077, 'chilblains': 3078, 'motherly': 3079, 'entitled': 3080, 'holiday': 3081, 'formerly': 3082, 'win': 3083, 'sixpences': 3084, 'remedy': 3085, 'prosings': 3086, 'fearfully': 3087, 'requesting': 3088, 'gracious': 3089, 'mansion': 3090, 'scholar': 3091, 'visible': 3092, 'plump': 3093, 'inconveniently': 3094, 'shy': 3095, 'artlessly': 3096, 'graces': 3097, 'wasted': 3098, 'renting': 3099, 'creditably': 3100, 'unpolished': 3101, 'intimates': 3102, 'detach': 3103, 'betweens': 3104, 'flew': 3105, 'unusual': 3106, 'supper': 3107, 'impulse': 3108, 'honours': 3109, 'minced': 3110, 'scalloped': 3111, 'oysters': 3112, 'warfare': 3113, 'cloth': 3114, 'suppers': 3115, 'grieve': 3116, 'constrain': 3117, 'nicer': 3118, 'propose': 3119, 'boiling': 3120, 'tart': 3121, 'tarts': 3122, 'preserves': 3123, 'custard': 3124, 'tumbler': 3125, 'personage': 3126, 'panic': 3127, 'affability': 3128, 'treated': 3129, 'inviting': 3130, 'shrubbery': 3131, 'sufficed': 3132, 'varied': 3133, 'summon': 3134, 'privileges': 3135, 'docile': 3136, 'appreciating': 3137, 'basis': 3138, 'esteem': 3139, 'usefulness': 3140, 'talkativeness': 3141, 'beings': 3142, 'cows': 3143, 'alderneys': 3144, 'drink': 3145, 'dozen': 3146, 'narrative': 3147, 'forever': 3148, 'inspiriting': 3149, 'merry': 3150, 'games': 3151, 'shepherd': 3152, 'flock': 3153, 'wool': 3154, 'finest': 3155, 'prince': 3156, 'richardson': 3157, 'sup': 3158, 'agricultural': 3159, 'reports': 3160, 'seats': 3161, 'entertaining': 3162, 'wakefield': 3163, 'horseback': 3164, 'yeomanry': 3165, 'lower': 3166, 'creditable': 3167, '8th': 3168, 'june': 3169, 'birthday': 3170, '23rd': 3171, 'afloat': 3172, 'diligence': 3173, 'indoors': 3174, 'talks': 3175, 'scrape': 3176, 'objected': 3177, 'advisable': 3178, 'fluctuations': 3179, 'respectfully': 3180, 'unfeigned': 3181, 'survey': 3182, 'contrasted': 3183, 'insensible': 3184, 'noticed': 3185, 'happening': 3186, 'forgot': 3187, 'perceiving': 3188, 'uncouthness': 3189, 'unmodulated': 3190, 'grows': 3191, 'glaring': 3192, 'disgusting': 3193, 'loudness': 3194, 'coarseness': 3195, 'detestable': 3196, 'solemnly': 3197, 'gross': 3198, 'inattentive': 3199, 'profit': 3200, 'engrosses': 3201, 'market': 3202, 'thriving': 3203, 'thrive': 3204, 'openness': 3205, 'bluntness': 3206, 'commanding': 3207, 'copying': 3208, 'sufferable': 3209, 'ingratiating': 3210, 'softer': 3211, 'predict': 3212, 'date': 3213, 'efficacy': 3214, 'fastidious': 3215, 'dispense': 3216, 'riding': 3217, 'conquered': 3218, 'quarrels': 3219, 'fight': 3220, 'battle': 3221, 'associate': 3222, 'neatly': 3223, 'alphabetically': 3224, 'requiring': 3225, 'industry': 3226, 'stimulate': 3227, 'affirm': 3228, 'omitting': 3229, 'refresh': 3230, 'feelingly': 3231, 'cleverest': 3232, 'cope': 3233, 'inherits': 3234, 'wantonness': 3235, 'possibilities': 3236, 'foretelling': 3237, 'flatterer': 3238, 'undesigned': 3239, 'hourly': 3240, 'presenting': 3241, 'doctrines': 3242, 'tend': 3243, 'varieties': 3244, 'polish': 3245, 'hazle': 3246, 'firm': 3247, 'upright': 3248, 'personally': 3249, 'lies': 3250, 'stout': 3251, 'blunder': 3252, 'errs': 3253, 'spleen': 3254, 'unkind': 3255, 'somewhat': 3256, 'hinting': 3257, 'accountable': 3258, 'approves': 3259, 'province': 3260, 'fate': 3261, 'outcry': 3262, 'sincere': 3263, 'gently': 3264, 'declares': 3265, 'respecting': 3266, 'transition': 3267, 'fairest': 3268, 'attractions': 3269, 'artlessness': 3270, 'superadded': 3271, 'skilful': 3272, 'seconded': 3273, 'landscapes': 3274, 'flowers': 3275, 'pieces': 3276, 'peculiarity': 3277, 'portfolio': 3278, 'portraits': 3279, 'beginnings': 3280, 'miniatures': 3281, 'crayon': 3282, 'steadiness': 3283, 'musician': 3284, 'reputation': 3285, 'accomplishment': 3286, 'ecstasies': 3287, 'pleases': 3288, 'performances': 3289, 'variety': 3290, 'stealth': 3291, 'unlike': 3292, 'sheet': 3293, 'coarser': 3294, 'featured': 3295, 'fourth': 3296, 'cockade': 3297, 'nestled': 3298, 'conveniently': 3299, 'unclosing': 3300, 'pet': 3301, 'vowed': 3302, 'finish': 3303, 'apologised': 3304, 'unfavourable': 3305, 'forswear': 3306, 'repeating': 3307, 'portrait': 3308, 'blushing': 3309, 'fidgeting': 3310, 'stationing': 3311, 'elsewhere': 3312, 'lessen': 3313, 'irksomeness': 3314, 'intermission': 3315, 'charmed': 3316, 'encourager': 3317, 'complaisance': 3318, 'filling': 3319, 'memorial': 3320, 'associations': 3321, 'entreated': 3322, 'permission': 3323, 'courtesies': 3324, 'rapid': 3325, 'defended': 3326, 'criticism': 3327, 'correct': 3328, 'eyelashes': 3329, 'shade': 3330, 'fore': 3331, 'shortening': 3332, 'draws': 3333, 'shawl': 3334, 'shoulders': 3335, 'placing': 3336, 'admirable': 3337, 'doer': 3338, 'commissions': 3339, 'stirring': 3340, 'fogs': 3341, 'executing': 3342, 'pack': 3343, 'incommoding': 3344, 'mostly': 3345, 'deposit': 3346, 'languish': 3347, 'services': 3348, 'songs': 3349, 'lent': 3350, 'copy': 3351, 'connect': 3352, 'grammatical': 3353, 'composition': 3354, 'writer': 3355, 'helped': 3356, 'concise': 3357, 'diffuse': 3358, 'pen': 3359, 'vigorous': 3360, 'speedily': 3361, 'unequivocal': 3362, 'demurs': 3363, 'inflicting': 3364, 'unbidden': 3365, 'misunderstanding': 3366, 'purport': 3367, 'wording': 3368, 'contemplating': 3369, 'persevered': 3370, 'bewitching': 3371, 'safer': 3372, 'graciously': 3373, 'definition': 3374, 'deceive': 3375, 'thoughtfully': 3376, 'mechanically': 3377, 'twisted': 3378, 'waited': 3379, 'impatience': 3380, 'suspense': 3381, 'surmised': 3382, 'forcibly': 3383, 'aghast': 3384, 'pang': 3385, 'banished': 3386, 'offending': 3387, 'formation': 3388, 'brace': 3389, 'ungrateful': 3390, 'sealed': 3391, 'envy': 3392, 'conquest': 3393, 'tittle': 3394, 'tattle': 3395, 'explained': 3396, 'softly': 3397, 'mounts': 3398, 'horse': 3399, 'opens': 3400, 'introduces': 3401, 'diffuses': 3402, 'prepossession': 3403, 'suspicious': 3404, 'slept': 3405, 'previously': 3406, 'sun': 3407, 'treat': 3408, 'invalids': 3409, 'privileged': 3410, 'substitute': 3411, 'walker': 3412, 'tedious': 3413, 'greatcoat': 3414, 'likewise': 3415, 'voluntary': 3416, 'cured': 3417, 'giggle': 3418, 'bestow': 3419, 'gossips': 3420, 'wretches': 3421, 'confidant': 3422, 'adviser': 3423, 'desperately': 3424, 'esteemed': 3425, 'counsellor': 3426, 'wretch': 3427, 'red': 3428, 'simpleton': 3429, 'incomprehensible': 3430, 'imagines': 3431, 'madness': 3432, 'calmer': 3433, 'asperity': 3434, 'infatuation': 3435, 'blinds': 3436, 'avail': 3437, 'deserts': 3438, 'helpmate': 3439, 'aright': 3440, 'cry': 3441, 'partiality': 3442, 'statement': 3443, 'estimated': 3444, 'richest': 3445, 'sphere': 3446, 'moves': 3447, 'illegitimacy': 3448, 'legal': 3449, 'grudged': 3450, 'shift': 3451, 'distaste': 3452, 'disinclined': 3453, 'haphazard': 3454, 'farthest': 3455, 'assertion': 3456, 'represent': 3457, 'slightingly': 3458, 'waiving': 3459, 'possesses': 3460, 'recommendations': 3461, 'ninety': 3462, 'philosophic': 3463, 'possess': 3464, 'abusing': 3465, 'misapply': 3466, 'delights': 3467, 'bewitches': 3468, 'satisfies': 3469, 'pick': 3470, 'receives': 3471, 'puff': 3472, 'working': 3473, 'produces': 3474, 'mischief': 3475, 'connecting': 3476, 'obscurity': 3477, 'disgrace': 3478, 'parentage': 3479, 'revealed': 3480, 'encourage': 3481, 'teach': 3482, 'canvassing': 3483, 'abide': 3484, 'tolerate': 3485, 'assistant': 3486, 'errant': 3487, 'habitual': 3488, 'projects': 3489, 'disclaimed': 3490, 'unreserved': 3491, 'apiece': 3492, 'doings': 3493, 'promoting': 3494, 'indistinctness': 3495, 'adversary': 3496, 'materially': 3497, 'adequate': 3498, 'restoratives': 3499, 'pleading': 3500, 'observer': 3501, 'resentfully': 3502, 'inconsiderate': 3503, 'war': 3504, 'overcoming': 3505, 'originally': 3506, 'clayton': 3507, 'park': 3508, 'remonstrated': 3509, 'shabby': 3510, 'player': 3511, 'enviable': 3512, 'bearer': 3513, 'rode': 3514, 'significantly': 3515, 'luckiest': 3516, 'agreeableness': 3517, 'ix': 3518, 'forgiven': 3519, 'proceedings': 3520, 'endeared': 3521, 'elegantly': 3522, 'furnished': 3523, 'latter': 3524, 'improving': 3525, 'chapters': 3526, 'labouring': 3527, 'enlarge': 3528, 'facts': 3529, 'literary': 3530, 'collecting': 3531, 'transcribing': 3532, 'quarto': 3533, 'hot': 3534, 'ornamented': 3535, 'ciphers': 3536, 'trophies': 3537, 'literature': 3538, 'collections': 3539, 'scale': 3540, 'assisted': 3541, 'invention': 3542, 'requisition': 3543, 'contribute': 3544, 'enigmas': 3545, 'conundrums': 3546, 'ungallant': 3547, 'breathe': 3548, 'politest': 3549, 'puzzles': 3550, 'recited': 3551, 'doth': 3552, 'destin': 3553, 'antidote': 3554, 'soften': 3555, 'heal': 3556, 'security': 3557, 'stupidest': 3558, 'inspire': 3559, 'inspiration': 3560, 'addressed': 3561, 'tremor': 3562, 'loth': 3563, 'puzzling': 3564, 'epithets': 3565, 'justest': 3566, 'humph': 3567, 'crisis': 3568, 'neptune': 3569, 'trident': 3570, 'mermaids': 3571, 'sharks': 3572, 'court': 3573, 'ship': 3574, 'cream': 3575, 'follows': 3576, 'pointed': 3577, 'completest': 3578, 'eligibility': 3579, 'confirm': 3580, 'embraces': 3581, 'articulate': 3582, 'prologue': 3583, 'motto': 3584, 'strangest': 3585, 'smiths': 3586, 'courts': 3587, 'pre': 3588, 'respective': 3589, 'homes': 3590, 'sends': 3591, 'channel': 3592, 'edition': 3593, 'shakespeare': 3594, 'michaelmas': 3595, 'texts': 3596, 'preached': 3597, 'abbots': 3598, 'peeped': 3599, 'scolded': 3600, 'studied': 3601, 'comparisons': 3602, 'cheeks': 3603, 'rejection': 3604, 'beaming': 3605, 'couplet': 3606, 'appropriation': 3607, 'poet': 3608, 'capacities': 3609, 'parts': 3610, 'publicity': 3611, 'lasts': 3612, 'pays': 3613, 'tenderest': 3614, 'refine': 3615, 'improperly': 3616, 'affix': 3617, 'affixed': 3618, 'secrecy': 3619, 'pushed': 3620, 'souls': 3621, 'recurrence': 3622, 'complimentary': 3623, 'nodded': 3624, 'stanza': 3625, 'kindled': 3626, 'flame': 3627, 'deplore': 3628, 'hood': 3629, 'wink': 3630, 'fatal': 3631, 'page': 3632, 'garrick': 3633, 'christened': 3634, 'catherine': 3635, 'musing': 3636, 'accomplish': 3637, 'submissive': 3638, 'grandpapa': 3639, 'knife': 3640, 'knives': 3641, 'grandpapas': 3642, 'papas': 3643, 'hardy': 3644, 'misbehave': 3645, 'tosses': 3646, 'ceiling': 3647, 'frightful': 3648, 'whichever': 3649, 'hero': 3650, 'push': 3651, 'ostensible': 3652, 'conditionally': 3653, 'rubber': 3654, 'glanced': 3655, 'examined': 3656, 'smilingly': 3657, 'replacing': 3658, 'proudest': 3659, 'speeches': 3660, 'incline': 3661, 'sublime': 3662, 'x': 3663, 'detached': 3664, 'angles': 3665, 'irregular': 3666, 'abode': 3667, 'dwellings': 3668, 'smartened': 3669, 'proprietor': 3670, 'slackened': 3671, 'yellow': 3672, 'curtains': 3673, 'admires': 3674, 'intimately': 3675, 'gates': 3676, 'pools': 3677, 'pollards': 3678, 'exteriors': 3679, 'probabilities': 3680, 'inducements': 3681, 'fool': 3682, 'formidable': 3683, 'image': 3684, 'prosing': 3685, 'undistinguishing': 3686, 'unfastidious': 3687, 'unmarried': 3688, 'celibacy': 3689, 'sport': 3690, 'contract': 3691, 'sour': 3692, 'perforce': 3693, 'illiberal': 3694, 'apply': 3695, 'contracted': 3696, 'shilling': 3697, 'sixpence': 3698, 'resources': 3699, 'occupations': 3700, 'variation': 3701, 'carpet': 3702, 'parent': 3703, 'blinder': 3704, 'stomacher': 3705, 'knit': 3706, 'garters': 3707, 'tires': 3708, 'distresses': 3709, 'purse': 3710, 'temptations': 3711, 'romantic': 3712, 'troubles': 3713, 'sickness': 3714, 'remaining': 3715, 'sights': 3716, 'vanish': 3717, 'hedge': 3718, 'tottering': 3719, 'footstep': 3720, 'slippery': 3721, 'stopping': 3722, 'wretchedness': 3723, 'recall': 3724, 'stability': 3725, 'sufferers': 3726, 'empty': 3727, 'sufferings': 3728, 'parley': 3729, 'imitation': 3730, 'alteration': 3731, 'lacing': 3732, 'stooping': 3733, 'orders': 3734, 'pitcher': 3735, 'broth': 3736, 'ahead': 3737, 'involuntarily': 3738, 'theirs': 3739, 'detail': 3740, 'experienced': 3741, 'stilton': 3742, 'cheese': 3743, 'north': 3744, 'wiltshire': 3745, 'cellery': 3746, 'beet': 3747, 'root': 3748, 'consoling': 3749, 'interests': 3750, 'serve': 3751, 'pales': 3752, 'broke': 3753, 'dexterously': 3754, 'throwing': 3755, 'ditch': 3756, 'inability': 3757, 'equipped': 3758, 'ribband': 3759, 'conducting': 3760, 'communicated': 3761, 'aspect': 3762, 'schemed': 3763, 'gallantries': 3764, 'allusions': 3765, 'advances': 3766, 'believes': 3767, 'xi': 3768, 'superintend': 3769, 'quicken': 3770, 'measures': 3771, 'reality': 3772, 'henceforth': 3773, 'prime': 3774, 'fortuitous': 3775, 'vacation': 3776, 'holidays': 3777, 'nervously': 3778, 'apprehensively': 3779, 'forestalling': 3780, 'needless': 3781, 'maids': 3782, 'reaching': 3783, 'dispersed': 3784, 'respected': 3785, 'maternal': 3786, 'disturbance': 3787, 'restless': 3788, 'doating': 3789, 'tenderly': 3790, 'ties': 3791, 'unreasonably': 3792, 'worshipping': 3793, 'defects': 3794, 'injuries': 3795, 'calmly': 3796, 'regardless': 3797, 'peculiarities': 3798, 'fidgetiness': 3799, 'remonstrance': 3800, 'retort': 3801, 'bestowed': 3802, 'properest': 3803, 'unsullied': 3804, 'grievous': 3805, 'hesitated': 3806, 'false': 3807, 'exact': 3808, 'doubted': 3809, 'disengaged': 3810, 'strike': 3811, 'advocate': 3812, 'slighting': 3813, 'existed': 3814, 'flying': 3815, 'kite': 3816, 'scarlet': 3817, 'cobham': 3818, 'passes': 3819, 'exceeding': 3820, 'dated': 3821, 'sept': 3822, 'f': 3823, 'finds': 3824, 'depending': 3825, 'affords': 3826, 'sufficiency': 3827, 'whence': 3828, 'resulted': 3829, 'xii': 3830, 'concession': 3831, 'quarrelled': 3832, 'restoration': 3833, 'danced': 3834, 'unceremoniousness': 3835, 'amity': 3836, 'sauciness': 3837, 'estimate': 3838, 'whim': 3839, 'dealings': 3840, 'discordancies': 3841, 'lapse': 3842, 'understandings': 3843, 'renewing': 3844, 'grievances': 3845, 'bitterly': 3846, 'burying': 3847, 'mixing': 3848, 'communicative': 3849, 'magistrate': 3850, 'curious': 3851, 'anecdote': 3852, 'longest': 3853, 'attachments': 3854, 'drain': 3855, 'fence': 3856, 'felling': 3857, 'destination': 3858, 'acre': 3859, 'wheat': 3860, 'turnips': 3861, 'corn': 3862, 'interrupting': 3863, 'labours': 3864, 'basins': 3865, 'discourse': 3866, 'strenuously': 3867, 'weakness': 3868, 'unsafe': 3869, 'envious': 3870, 'prohibited': 3871, 'forgets': 3872, 'attributed': 3873, 'applying': 3874, 'august': 3875, 'prevalent': 3876, 'influenza': 3877, 'confound': 3878, 'vicinity': 3879, 'aches': 3880, 'palpitations': 3881, 'middling': 3882, 'fatigued': 3883, 'doctoring': 3884, 'coddling': 3885, 'graham': 3886, 'bailiff': 3887, 'scotland': 3888, 'praising': 3889, 'accidentally': 3890, 'discussed': 3891, 'harmony': 3892, 'comments': 3893, 'undoubting': 3894, 'wholesomeness': 3895, 'philippics': 3896, 'failures': 3897, 'recent': 3898, 'cook': 3899, 'hired': 3900, 'shaking': 3901, 'fixing': 3902, 'ejaculation': 3903, 'consequences': 3904, 'rumination': 3905, 'suffice': 3906, 'relish': 3907, 'mud': 3908, 'pure': 3909, 'lodgings': 3910, 'stake': 3911, 'coast': 3912, 'drugs': 3913, 'sarcastic': 3914, 'dryness': 3915, 'interposition': 3916, 'langham': 3917, 'meadows': 3918, 'maps': 3919, 'harsh': 3920, 'attributing': 3921, 'soothing': 3922, 'xiii': 3923, 'swiftly': 3924, 'mornings': 3925, 'division': 3926, 'amounted': 3927, 'especial': 3928, '24th': 3929, 'doom': 3930, 'feverish': 3931, 'unavoidable': 3932, 'absences': 3933, 'representing': 3934, 'comfortless': 3935, 'glowing': 3936, 'despatch': 3937, 'rice': 3938, 'pudding': 3939, 'hastening': 3940, 'describing': 3941, 'inflamed': 3942, 'heat': 3943, 'pulse': 3944, 'throats': 3945, 'putrid': 3946, 'risks': 3947, 'tranquillised': 3948, 'excess': 3949, 'feed': 3950, 'demand': 3951, 'conceptions': 3952, 'impartially': 3953, 'vision': 3954, 'muttering': 3955, 'rejoicing': 3956, 'extricated': 3957, 'employments': 3958, 'dignities': 3959, 'assuring': 3960, 'balance': 3961, 'works': 3962, 'slyness': 3963, 'regulate': 3964, 'ascertain': 3965, 'mistakes': 3966, 'shrinking': 3967, 'motion': 3968, 'sky': 3969, 'overcharged': 3970, 'milder': 3971, 'happiest': 3972, 'disagreeables': 3973, 'discontent': 3974, 'absurdity': 3975, 'thinner': 3976, 'clothing': 3977, 'dismal': 3978, 'shivering': 3979, 'colder': 3980, 'assent': 3981, 'emulate': 3982, 'usually': 3983, 'administered': 3984, 'quarrelsome': 3985, 'heroism': 3986, 'wrapped': 3987, 'spruce': 3988, 'dressing': 3989, 'lengthened': 3990, 'flattered': 3991, 'complaints': 3992, 'estimable': 3993, 'lasted': 3994, 'dismay': 3995, 'sheepskin': 3996, 'precautions': 3997, 'contrivances': 3998, 'modern': 3999, 'fenced': 4000, 'guarded': 4001, 'unpermitted': 4002, 'snows': 4003, 'seasonable': 4004, 'invites': 4005, 'se': 4006, 'nnight': 4007, 'values': 4008, 'hospitable': 4009, 'select': 4010, 'slavery': 4011, 'xiv': 4012, 'joyous': 4013, 'disperse': 4014, 'related': 4015, 'arrangements': 4016, 'uninterrupted': 4017, 'gratifications': 4018, 'oddities': 4019, 'enjoyable': 4020, 'engrossed': 4021, 'project': 4022, 'insensibility': 4023, 'elbow': 4024, 'obtruding': 4025, 'solicitously': 4026, 'internal': 4027, 'suggestion': 4028, 'transfer': 4029, 'absurd': 4030, 'zeal': 4031, 'overpowering': 4032, 'syllables': 4033, 'reviving': 4034, 'replete': 4035, 'coupled': 4036, 'timed': 4037, 'polite': 4038, 'released': 4039, 'saddle': 4040, 'assented': 4041, 'secrets': 4042, 'issue': 4043, 'nodding': 4044, 'vagaries': 4045, 'caprices': 4046, 'stone': 4047, 'devil': 4048, 'undergoing': 4049, 'stands': 4050, 'instinctive': 4051, 'braithwaites': 4052, 'jealousy': 4053, 'jealous': 4054, 'teazed': 4055, 'decides': 4056, 'exercises': 4057, 'xv': 4058, 'lateness': 4059, 'convivial': 4060, 'separations': 4061, 'augmentation': 4062, 'improprieties': 4063, 'awake': 4064, 'terror': 4065, 'perverse': 4066, 'earnestness': 4067, 'chamber': 4068, 'abominable': 4069, 'behaving': 4070, 'implore': 4071, 'persuasions': 4072, 'disorder': 4073, 'scrupulous': 4074, 'careless': 4075, 'ulcerated': 4076, 'removing': 4077, 'reproof': 4078, 'examining': 4079, 'drifting': 4080, 'storm': 4081, 'consternation': 4082, 'pursuing': 4083, 'unfeelingly': 4084, 'blown': 4085, 'bleak': 4086, 'midnight': 4087, 'confessing': 4088, 'lest': 4089, 'contrivance': 4090, 'exclamation': 4091, 'representation': 4092, 'blocked': 4093, 'adventurous': 4094, 'accumulations': 4095, 'drifted': 4096, 'shod': 4097, 'discussing': 4098, 'whiten': 4099, 'clouds': 4100, 'coachmen': 4101, 'appeased': 4102, 'urging': 4103, 'brief': 4104, 'ring': 4105, 'rung': 4106, 'deposited': 4107, 'cool': 4108, 'recover': 4109, 'darker': 4110, 'escorted': 4111, 'lawfully': 4112, 'gravity': 4113, 'demanded': 4114, 'violent': 4115, 'availing': 4116, 'declaring': 4117, 'fearing': 4118, 'adoring': 4119, 'ardent': 4120, 'unequalled': 4121, 'unexampled': 4122, 'apology': 4123, 'professing': 4124, 'vainly': 4125, 'drunkenness': 4126, 'deliver': 4127, 'boastful': 4128, 'amazement': 4129, 'drunk': 4130, 'elevate': 4131, 'confuse': 4132, 'injurious': 4133, 'acknowledging': 4134, 'inebriety': 4135, 'struggles': 4136, 'witnessed': 4137, 'dead': 4138, 'sole': 4139, 'insinuating': 4140, 'uppermost': 4141, 'joyously': 4142, 'interpret': 4143, 'affronted': 4144, 'respectably': 4145, 'ends': 4146, 'misconception': 4147, 'supplication': 4148, 'emotions': 4149, 'zigzags': 4150, 'indispensable': 4151, 'coldly': 4152, 'proudly': 4153, 'indescribable': 4154, 'dangers': 4155, 'separating': 4156, 'xvi': 4157, 'curled': 4158, 'overthrow': 4159, 'development': 4160, 'doubled': 4161, 'unmarked': 4162, 'dubious': 4163, 'jumble': 4164, 'headed': 4165, 'unnecessarily': 4166, 'indiscreetly': 4167, 'insulted': 4168, 'arrogance': 4169, 'pretended': 4170, 'sighs': 4171, 'abundance': 4172, 'devise': 4173, 'allied': 4174, 'aggrandise': 4175, 'enrich': 4176, 'heiress': 4177, 'gradations': 4178, 'younger': 4179, 'ancient': 4180, 'landed': 4181, 'notch': 4182, 'sources': 4183, 'secondary': 4184, 'alliances': 4185, 'raving': 4186, 'incongruity': 4187, 'honesty': 4188, 'complaisant': 4189, 'courtesy': 4190, 'warrant': 4191, 'ordinary': 4192, 'misinterpreted': 4193, 'adventuring': 4194, 'trick': 4195, 'pert': 4196, 'relapse': 4197, 'dispiriting': 4198, 'cogitation': 4199, 'discontinuing': 4200, 'subduing': 4201, 'eclat': 4202, 'unmirthful': 4203, 'blundered': 4204, 'temporary': 4205, 'gloom': 4206, 'analogy': 4207, 'poignant': 4208, 'unclosed': 4209, 'brighter': 4210, 'retentive': 4211, 'principals': 4212, 'further': 4213, 'asunder': 4214, 'atmosphere': 4215, 'unsettled': 4216, 'frost': 4217, 'thaw': 4218, 'unfriendly': 4219, 'freeze': 4220, 'prisoner': 4221, 'confine': 4222, 'wise': 4223, 'seclusion': 4224, 'cleared': 4225, 'amiableness': 4226, 'hanging': 4227, 'xvii': 4228, 'lamentations': 4229, 'doated': 4230, 'innocently': 4231, 'feminine': 4232, 'proposing': 4233, 'impossibility': 4234, 'retain': 4235, 'commands': 4236, 'announced': 4237, 'pointedly': 4238, 'solemnity': 4239, 'acknowledgments': 4240, 'lonely': 4241, 'promptitude': 4242, 'undergo': 4243, 'feeding': 4244, 'grossly': 4245, 'convictions': 4246, 'prophecies': 4247, 'confession': 4248, 'renewed': 4249, 'blaming': 4250, 'testifying': 4251, 'ingenuousness': 4252, 'lowly': 4253, 'modesty': 4254, 'attaching': 4255, 'abundantly': 4256, 'console': 4257, 'resemble': 4258, 'discreet': 4259, 'repressing': 4260, 'unvarying': 4261, 'inadequate': 4262, 'sympathise': 4263, 'extinction': 4264, 'composure': 4265, 'routine': 4266, 'betraying': 4267, 'maintained': 4268, 'non': 4269, 'inevitable': 4270, 'strive': 4271, 'unrequited': 4272, 'persisting': 4273, 'removal': 4274, 'effecting': 4275, 'cooling': 4276, 'repellent': 4277, 'xviii': 4278, 'occurs': 4279, 'proportionate': 4280, 'depression': 4281, 'flies': 4282, 'foresaw': 4283, 'gala': 4284, 'ending': 4285, 'perceived': 4286, 'arguments': 4287, 'tempers': 4288, 'conceived': 4289, 'limb': 4290, 'amount': 4291, 'idlest': 4292, 'haunts': 4293, 'proves': 4294, 'interior': 4295, 'manoeuvring': 4296, 'finessing': 4297, 'vigour': 4298, 'messages': 4299, 'simply': 4300, 'mark': 4301, 'opposition': 4302, 'loud': 4303, 'shifts': 4304, 'expedients': 4305, 'meanly': 4306, 'exerting': 4307, 'hearts': 4308, 'principle': 4309, 'consistently': 4310, 'bending': 4311, 'knack': 4312, 'unmanageable': 4313, 'transported': 4314, 'obedience': 4315, 'observance': 4316, 'nought': 4317, 'roused': 4318, 'opposed': 4319, 'yielding': 4320, 'expert': 4321, 'flourishing': 4322, 'falsehoods': 4323, 'hit': 4324, 'preserving': 4325, 'preventing': 4326, 'singular': 4327, 'behindhand': 4328, 'french': 4329, 'aimable': 4330, 'plausible': 4331, 'treasure': 4332, 'chattering': 4333, 'farming': 4334, 'enable': 4335, 'breathing': 4336, 'king': 4337, 'practised': 4338, 'politician': 4339, 'display': 4340, 'dispensing': 4341, 'flatteries': 4342, 'puppy': 4343, 'sins': 4344, 'presumed': 4345, 'contributing': 4346, 'scanty': 4347, 'counteract': 4348, 'waste': 4349, 'floor': 4350, 'apartment': 4351, 'knitting': 4352, 'warmest': 4353, 'beaufet': 4354, 'ceremonies': 4355, 'wander': 4356, 'mistresses': 4357, 'misses': 4358, 'jumped': 4359, 'usher': 4360, 'hunting': 4361, 'hid': 4362, 'apologise': 4363, 'fills': 4364, 'crosses': 4365, 'hetty': 4366, 'checker': 4367, 'pore': 4368, 'amazingly': 4369, 'god': 4370, 'spectacles': 4371, 'beautifully': 4372, 'meanwhile': 4373, 'deafness': 4374, 'raising': 4375, 'deafer': 4376, 'wednesday': 4377, 'kingdoms': 4378, 'countries': 4379, 'dublin': 4380, 'baly': 4381, 'craig': 4382, 'blame': 4383, 'animating': 4384, 'excused': 4385, 'backward': 4386, 'whirling': 4387, 'sails': 4388, 'prefers': 4389, 'devoting': 4390, 'wisely': 4391, '7th': 4392, 'hang': 4393, 'holyhead': 4394, 'monday': 4395, 'flurry': 4396, 'poorly': 4397, 'unlucky': 4398, 'bless': 4399, 'guard': 4400, 'detain': 4401, 'regained': 4402, 'orphan': 4403, 'lieut': 4404, 'regiment': 4405, 'infantry': 4406, 'dying': 4407, 'action': 4408, 'sinking': 4409, 'consumption': 4410, 'fondling': 4411, 'limited': 4412, 'engrafted': 4413, 'officer': 4414, 'camp': 4415, 'england': 4416, 'fondness': 4417, 'educating': 4418, 'appointments': 4419, 'subsistence': 4420, 'hereafter': 4421, 'discipline': 4422, 'culture': 4423, 'lighter': 4424, 'masters': 4425, 'abilities': 4426, 'nineteen': 4427, 'qualified': 4428, 'instruction': 4429, 'sharing': 4430, 'judicious': 4431, 'sobering': 4432, 'suggestions': 4433, 'remind': 4434, 'unseen': 4435, 'unfelt': 4436, 'unabated': 4437, 'defies': 4438, 'eligibly': 4439, 'earn': 4440, 'fortitude': 4441, 'novitiate': 4442, 'retire': 4443, 'retained': 4444, 'wiser': 4445, 'resisted': 4446, 'relinquished': 4447, 'compatible': 4448, 'weakened': 4449, 'varying': 4450, 'discharged': 4451, 'truths': 4452, 'double': 4453, 'treble': 4454, 'recovery': 4455, 'welcoming': 4456, 'novelty': 4457, 'accusation': 4458, 'refuted': 4459, 'examination': 4460, 'fuss': 4461, 'reasons': 4462, 'imputed': 4463, 'magnified': 4464, 'injured': 4465, 'depreciating': 4466, 'fat': 4467, 'likeliest': 4468, 'grey': 4469, 'lashes': 4470, 'cavil': 4471, 'colour': 4472, 'fuller': 4473, 'reigning': 4474, 'twofold': 4475, 'rendering': 4476, 'determining': 4477, 'entitling': 4478, 'pitiable': 4479, 'seduced': 4480, 'actions': 4481, 'mischievous': 4482, 'successless': 4483, 'sucking': 4484, 'poison': 4485, 'sharer': 4486, 'purest': 4487, 'resolving': 4488, 'career': 4489, 'laborious': 4490, 'recantation': 4491, 'prejudices': 4492, 'relapsing': 4493, 'provocations': 4494, 'ate': 4495, 'exhibitions': 4496, 'caps': 4497, 'workbags': 4498, 'offences': 4499, 'necessarily': 4500, 'affectation': 4501, 'greatness': 4502, 'cloak': 4503, 'disgustingly': 4504, 'insight': 4505, 'suitableness': 4506, 'delineated': 4507, 'artifice': 4508, 'surmises': 4509, 'changing': 4510, 'provocation': 4511, 'openly': 4512, 'papers': 4513, 'swept': 4514, 'undone': 4515, 'indulgence': 4516, 'muffin': 4517, 'arch': 4518, 'arises': 4519, 'discretion': 4520, 'appease': 4521, 'porker': 4522, 'steaks': 4523, 'grease': 4524, 'salt': 4525, 'boils': 4526, 'turnip': 4527, 'carrot': 4528, 'parsnip': 4529, 'quickest': 4530, 'implied': 4531, 'bonnet': 4532, 'spencer': 4533, 'salting': 4534, 'pan': 4535, 'washing': 4536, 'kitchen': 4537, 'desires': 4538, 'regards': 4539, 'oppress': 4540, 'lot': 4541, 'goodly': 4542, 'heritage': 4543, 'sly': 4544, 'precise': 4545, 'joyfully': 4546, 'absorbing': 4547, 'starting': 4548, 'appeal': 4549, 'standard': 4550, 'pew': 4551, 'wonderings': 4552, 'whispered': 4553, 'aspired': 4554, 'lets': 4555, 'chatter': 4556, 'humouredly': 4557, 'talkative': 4558, 'runs': 4559, 'strictly': 4560, 'strangers': 4561, 'rush': 4562, 'evidence': 4563, 'corresponding': 4564, 'unchecked': 4565, 'pour': 4566, 'woollen': 4567, 'haberdasher': 4568, 'dealt': 4569, 'fainted': 4570, 'umbrella': 4571, 'buyings': 4572, 'whispering': 4573, 'tremble': 4574, 'floated': 4575, 'wounded': 4576, 'discerning': 4577, 'exerted': 4578, 'trifle': 4579, 'subordination': 4580, 'learned': 4581, 'serviceable': 4582, 'deadening': 4583, 'retaining': 4584, 'seeking': 4585, 'condescension': 4586, 'dies': 4587, 'circulate': 4588, 'christian': 4589, 'series': 4590, 'debased': 4591, 'deeply': 4592, 'gay': 4593, 'caring': 4594, 'defying': 4595, 'augusta': 4596, 'thousands': 4597, 'thereabouts': 4598, 'distinguishing': 4599, 'glorious': 4600, 'steps': 4601, 'accidental': 4602, 'rencontre': 4603, 'green': 4604, 'brown': 4605, 'blushes': 4606, 'richly': 4607, 'scattered': 4608, 'sweetly': 4609, 'fearless': 4610, 'cautiously': 4611, 'preparations': 4612, 'pique': 4613, 'pretension': 4614, 'spread': 4615, 'inseparably': 4616, 'moral': 4617, 'profitable': 4618, 'administer': 4619, 'lessened': 4620, 'solicitudes': 4621, 'awkwardnesses': 4622, 'individually': 4623, 'vaunted': 4624, 'disdain': 4625, 'attainable': 4626, 'uncertain': 4627, 'blood': 4628, 'merchant': 4629, 'mercantile': 4630, 'hazarded': 4631, 'drudge': 4632, 'attorney': 4633, 'stupid': 4634, 'alas': 4635, 'vacancies': 4636, 'reappearance': 4637, 'glimpse': 4638, 'somewhere': 4639, 'shoulder': 4640, 'conjecture': 4641, 'perpetually': 4642, 'furniture': 4643, 'invariable': 4644, 'irritated': 4645, 'ceaseless': 4646, 'hat': 4647, 'allowable': 4648, 'entertainment': 4649, 'waverings': 4650, 'variations': 4651, 'predominated': 4652, 'check': 4653, 'unhappiness': 4654, 'driven': 4655, 'dissipate': 4656, 'absolute': 4657, 'neglect': 4658, 'determine': 4659, 'drove': 4660, 'applications': 4661, 'recurrences': 4662, 'glossed': 4663, 'stars': 4664, 'rev': 4665, 'philip': 4666, 'hart': 4667, 'lifted': 4668, 'butcher': 4669, 'cart': 4670, 'coaches': 4671, 'espalier': 4672, 'trees': 4673, 'revive': 4674, 'portion': 4675, 'summons': 4676, 'unattended': 4677, 'solitarily': 4678, 'collected': 4679, 'merest': 4680, 'commonplace': 4681, 'measured': 4682, 'pencilled': 4683, 'memorandums': 4684, 'wainscot': 4685, 'shortness': 4686, 'justly': 4687, 'separated': 4688, 'refreshment': 4689, 'leaned': 4690, 'murmurs': 4691, 'commonest': 4692, 'accosted': 4693, 'dry': 4694, 'resisting': 4695, 'quieter': 4696, 'reanimation': 4697, 'exhausted': 4698, 'route': 4699, 'sparkling': 4700, 'unconscious': 4701, 'innocent': 4702, 'injunction': 4703, 'amendment': 4704, 'mounted': 4705, 'wore': 4706, 'sluggish': 4707, 'geography': 4708, 'tranquillity': 4709, 'faithful': 4710, 'pupil': 4711, 'eleven': 4712, 'soliloquy': 4713, 'downstairs': 4714, 'overcareful': 4715, 'fidgets': 4716, 'hall': 4717, 'liveliness': 4718, 'alter': 4719, 'quicker': 4720, 'creep': 4721, 'faster': 4722, 'needs': 4723, 'admirably': 4724, 'falsehood': 4725, 'handled': 4726, 'exaggeration': 4727, 'horsewoman': 4728, 'rides': 4729, 'proportionably': 4730, 'fathers': 4731, 'reception': 4732, 'wisest': 4733, 'conferred': 4734, 'qualify': 4735, 'using': 4736, 'extravagant': 4737, 'detected': 4738, 'exemption': 4739, 'foreseeing': 4740, 'objecting': 4741, 'treachery': 4742, 'unmixed': 4743, 'hay': 4744, 'errands': 4745, 'yours': 4746, 'barnes': 4747, 'concurrence': 4748, 'fashionable': 4749, 'ordinarily': 4750, 'gifted': 4751, 'tongue': 4752, 'hearty': 4753, 'puddle': 4754, 'sees': 4755, 'hop': 4756, 'permitted': 4757, 'nod': 4758, 'engage': 4759, 'companionably': 4760, 'constant': 4761, 'construction': 4762, 'hyperbolical': 4763, 'securing': 4764, 'confessed': 4765, 'quest': 4766, 'positive': 4767, 'insincere': 4768, 'inn': 4769, 'post': 4770, 'built': 4771, 'sashed': 4772, 'contemplate': 4773, 'capabilities': 4774, 'environs': 4775, 'furnish': 4776, 'particulars': 4777, 'argued': 4778, 'prevail': 4779, 'inclinations': 4780, 'inelegance': 4781, 'holding': 4782, 'cheap': 4783, 'facing': 4784, 'recollected': 4785, 'preparatory': 4786, 'utter': 4787, 'deplorable': 4788, 'defence': 4789, 'hue': 4790, 'disputing': 4791, 'attends': 4792, 'informs': 4793, 'citizen': 4794, 'buy': 4795, 'sell': 4796, 'patriotism': 4797, 'adored': 4798, 'popular': 4799, 'guinea': 4800, 'sleek': 4801, 'tied': 4802, 'parcels': 4803, 'beavers': 4804, 'york': 4805, 'tan': 4806, 'displaying': 4807, 'counter': 4808, 'amor': 4809, 'patriae': 4810, 'stretch': 4811, 'pronounce': 4812, 'commit': 4813, 'claiming': 4814, 'discreetly': 4815, 'leaves': 4816, 'hesitatingly': 4817, 'vouchsafed': 4818, 'sensibility': 4819, 'recur': 4820, 'stupidity': 4821, 'improper': 4822, 'checking': 4823, 'scenes': 4824, 'outwardly': 4825, 'critical': 4826, 'prone': 4827, 'idolized': 4828, 'repulsive': 4829, 'quality': 4830, 'oftentimes': 4831, 'conquering': 4832, 'perpetual': 4833, 'cautiousness': 4834, 'shared': 4835, 'blockhead': 4836, 'accommodations': 4837, 'inevitably': 4838, 'inroads': 4839, 'pantry': 4840, 'willingly': 4841, 'freak': 4842, 'chaise': 4843, 'foppery': 4844, 'accord': 4845, 'rationality': 4846, 'unselfish': 4847, 'extravagance': 4848, 'restlessness': 4849, 'heedlessness': 4850, 'charges': 4851, 'comment': 4852, 'blot': 4853, 'harshly': 4854, 'leniently': 4855, 'allowances': 4856, 'excesses': 4857, 'bowed': 4858, 'bows': 4859, 'newspaper': 4860, 'hum': 4861, 'relieve': 4862, 'provoke': 4863, 'although': 4864, 'bearers': 4865, 'opportune': 4866, 'occurrence': 4867, 'unpretending': 4868, 'unexpensively': 4869, 'yielded': 4870, 'expenses': 4871, 'insult': 4872, 'accounting': 4873, 'assembled': 4874, 'consisting': 4875, 'bare': 4876, 'acted': 4877, 'solicited': 4878, 'folding': 4879, 'screen': 4880, 'draught': 4881, 'persuadable': 4882, 'briefly': 4883, 'neglecting': 4884, 'resigned': 4885, 'dews': 4886, 'desirous': 4887, 'incumbent': 4888, 'lessening': 4889, 'allay': 4890, 'deliberately': 4891, 'treatment': 4892, 'decline': 4893, 'breaks': 4894, 'mortify': 4895, 'reminding': 4896, 'touches': 4897, 'malt': 4898, 'liquor': 4899, 'risk': 4900, 'hurting': 4901, 'piquet': 4902, 'hungry': 4903, 'concealed': 4904, 'unspent': 4905, 'undaunted': 4906, 'moralised': 4907, 'impudent': 4908, 'handle': 4909, 'gloried': 4910, 'achievement': 4911, 'ostentation': 4912, 'evasions': 4913, 'defend': 4914, 'vanities': 4915, 'inference': 4916, 'failings': 4917, 'propensity': 4918, 'amply': 4919, 'helping': 4920, 'slices': 4921, 'practise': 4922, 'plentiful': 4923, 'owner': 4924, 'bravado': 4925, 'unconcern': 4926, 'taller': 4927, 'nonsensical': 4928, 'strongest': 4929, 'dexterity': 4930, 'unobjectionable': 4931, 'male': 4932, 'females': 4933, 'politics': 4934, 'pleasantness': 4935, 'remote': 4936, 'relating': 4937, 'dialogue': 4938, 'ensued': 4939, 'broadwood': 4940, 'bewildered': 4941, 'rejoiced': 4942, 'delightfully': 4943, 'instruments': 4944, 'slap': 4945, 'pitifullest': 4946, 'spinet': 4947, 'indulging': 4948, 'entrapped': 4949, 'untouched': 4950, 'testifies': 4951, 'acuteness': 4952, 'mode': 4953, 'elderly': 4954, 'guide': 4955, 'extend': 4956, 'reflect': 4957, 'privation': 4958, 'february': 4959, 'march': 4960, 'cases': 4961, 'noble': 4962, 'honestly': 4963, 'accident': 4964, 'overboard': 4965, 'vessel': 4966, 'consequent': 4967, 'durable': 4968, 'observable': 4969, 'interrupted': 4970, 'courses': 4971, 'orderly': 4972, 'dish': 4973, 'unconvinced': 4974, 'reasonings': 4975, 'giver': 4976, 'paternal': 4977, 'amid': 4978, 'everyday': 4979, 'remarks': 4980, 'jokes': 4981, 'entree': 4982, 'exult': 4983, 'blooming': 4984, 'heartily': 4985, 'unsentimental': 4986, 'pangs': 4987, 'shedding': 4988, 'purchased': 4989, 'guilt': 4990, 'dwelling': 4991, 'pedal': 4992, 'unsuspicious': 4993, 'heroine': 4994, 'en': 4995, 'passant': 4996, 'divined': 4997, 'restrained': 4998, 'hated': 4999, 'abundant': 5000, 'despise': 5001, 'questioned': 5002, 'visitings': 5003, 'reasonably': 5004, 'retirement': 5005, 'boast': 5006, 'across': 5007, 'rousing': 5008, 'outree': 5009, 'curls': 5010, 'irish': 5011, 'improvidently': 5012, 'distinguish': 5013, 'soul': 5014, 'thoughtful': 5015, 'assisting': 5016, 'humane': 5017, 'unostentatious': 5018, 'disinterested': 5019, 'consent': 5020, 'amazed': 5021, 'supplanted': 5022, 'imprudence': 5023, 'revolts': 5024, 'sheep': 5025, 'library': 5026, 'shameful': 5027, 'haunting': 5028, 'petticoats': 5029, 'mimic': 5030, 'divert': 5031, 'irritate': 5032, 'louder': 5033, 'drown': 5034, 'mysteriously': 5035, 'lamenting': 5036, 'reproached': 5037, 'sign': 5038, 'combated': 5039, 'gaining': 5040, 'yield': 5041, 'limitations': 5042, 'perform': 5043, 'accompaniment': 5044, 'correctly': 5045, 'duly': 5046, 'accused': 5047, 'roundly': 5048, 'asserted': 5049, 'resign': 5050, 'vocal': 5051, 'instrumental': 5052, 'voices': 5053, 'momentary': 5054, 'interruptions': 5055, 'objections': 5056, 'subside': 5057, 'injury': 5058, 'deduction': 5059, 'touchstone': 5060, 'conveying': 5061, 'cutting': 5062, 'indicate': 5063, 'disinclination': 5064, 'dwell': 5065, 'surprizes': 5066, 'enhanced': 5067, 'oath': 5068, 'fatigue': 5069, 'falls': 5070, 'indignantly': 5071, 'touching': 5072, 'mercy': 5073, 'concert': 5074, 'performers': 5075, 'originating': 5076, 'space': 5077, 'waltz': 5078, 'top': 5079, 'dancer': 5080, 'mustered': 5081, 'rarity': 5082, 'suddenness': 5083, 'matched': 5084, 'partner': 5085}\n"
          ]
        }
      ]
    },
    {
      "cell_type": "code",
      "source": [
        "# Cantidad de veces quea aparece cada palabra en cada \"documento\"\n",
        "print(tok.word_docs)"
      ],
      "metadata": {
        "colab": {
          "base_uri": "https://localhost:8080/"
        },
        "id": "zqCRAD661Dz-",
        "outputId": "a77286f3-69b7-4b6d-d321-ceeff3cac22d"
      },
      "execution_count": 29,
      "outputs": [
        {
          "output_type": "stream",
          "name": "stdout",
          "text": [
            "defaultdict(<class 'int'>, {'1816': 1, 'jane': 88, 'austen': 1, 'emma': 368, 'by': 231, 'volume': 2, 'i': 892, 'chapter': 27, 'best': 41, 'comfortable': 23, 'home': 61, 'vex': 1, 'unite': 1, 'world': 37, 'with': 485, 'of': 1320, 'little': 175, 'twenty': 20, 'in': 778, 'very': 555, 'lived': 17, 'the': 1362, 'one': 189, 'woodhouse': 133, 'seemed': 46, 'and': 1400, 'her': 735, 'some': 120, 'years': 37, 'blessings': 2, 'a': 1097, 'handsome': 30, 'clever': 17, 'distress': 6, 'nearly': 5, 'had': 540, 'rich': 9, 'or': 233, 'happy': 48, 'existence': 5, 'disposition': 19, 'to': 1472, 'marriage': 26, 'most': 108, 'early': 20, 'from': 216, 'house': 51, 'youngest': 4, 'she': 715, 'sister': 19, 's': 396, 'affectionate': 5, \"'\": 447, 'was': 783, 'mistress': 10, 'indulgent': 1, 'father': 109, 'period': 7, 'daughters': 6, 'two': 74, 'been': 296, 'consequence': 14, 'his': 433, 'more': 195, 'caresses': 1, 'supplied': 4, 'for': 546, 'woman': 60, 'long': 70, 'who': 124, 'remembrance': 2, 'excellent': 22, 'mother': 44, 'short': 38, 'too': 113, 'indistinct': 1, 'fallen': 5, 'governess': 4, 'ago': 19, 'died': 4, 'place': 45, 'affection': 21, 'than': 173, 'an': 224, 'have': 518, 'as': 500, 'particularly': 29, 'family': 40, 'sixteen': 7, 'less': 24, 'both': 36, 'taylor': 36, 'fond': 25, 'miss': 242, 'friend': 95, 'mr': 545, 'but': 681, 'it': 873, 'sisters': 12, 'them': 182, 'intimacy': 13, 'between': 34, 'just': 82, 'liked': 11, 'any': 308, 'doing': 24, 'before': 93, 'restraint': 2, 'mildness': 1, 'own': 155, 'away': 79, 'hardly': 38, 'they': 229, 'office': 6, 'esteeming': 1, 'what': 233, 'even': 40, 'chiefly': 3, 'being': 177, 'now': 122, 'directed': 2, 'shadow': 2, 'passed': 29, 'together': 37, 'judgment': 15, 'impose': 1, 'highly': 13, 'attached': 9, 'mutually': 2, 'authority': 4, 'nominal': 1, 'hold': 8, 'temper': 25, 'ceased': 3, 'allowed': 20, 'living': 8, 'herself': 118, 'indeed': 82, 'having': 65, 'disadvantages': 1, 'which': 226, 'many': 58, 'think': 202, 'situation': 24, 'rather': 68, 'enjoyments': 2, 'way': 75, 'alloy': 1, 'were': 239, 'these': 28, 'well': 194, 'power': 27, 'threatened': 1, 'much': 230, 'evils': 5, 'real': 29, 'so': 411, 'did': 148, 'at': 409, 'danger': 13, 'means': 29, 'however': 53, 'not': 833, 'unperceived': 2, 'misfortunes': 1, 'present': 48, 'rank': 6, 'that': 671, 'disagreeable': 7, 'consciousness': 10, 'sorrow': 2, 'all': 345, 'gentle': 10, 'married': 26, 'shape': 4, 'came': 49, 'grief': 3, 'loss': 13, 'brought': 25, 'first': 88, 'mournful': 1, 'day': 78, 'wedding': 10, 'sat': 16, 'beloved': 5, 'on': 269, 'continuance': 1, 'this': 208, 'thought': 112, 'people': 57, 'left': 30, 'third': 3, 'gone': 31, 'evening': 49, 'cheer': 2, 'over': 60, 'bride': 2, 'dine': 13, 'prospect': 4, 'no': 306, 'usual': 32, 'sleep': 1, 'after': 73, 'lost': 7, 'sit': 19, 'himself': 73, 'then': 82, 'composed': 3, 'dinner': 25, 'only': 172, 'promise': 8, 'happiness': 24, 'every': 184, 'event': 7, 'morning': 34, 'suitable': 2, 'there': 260, 'age': 16, 'self': 8, 'match': 23, 'black': 2, 'weston': 174, 'character': 22, 'fortune': 23, 'satisfaction': 13, 'unexceptionable': 4, 'wished': 20, 'man': 152, 'considering': 11, 'generous': 2, 'always': 115, 'denying': 3, 'work': 9, 'friendship': 11, 'pleasant': 21, 'promoted': 3, 'easy': 13, 'manners': 32, 'want': 43, 'hour': 36, 'would': 322, 'be': 750, 'felt': 45, 'through': 35, 'devoted': 4, 'past': 9, 'childhood': 1, 'powers': 8, 'nursed': 3, 'played': 3, 'amuse': 4, 'recalled': 2, 'taught': 5, 'various': 5, 'kindness': 18, 'health': 20, 'old': 42, 'how': 126, 'five': 15, 'attach': 3, 'illnesses': 1, 'seven': 4, 'perfect': 15, 'isabella': 44, 'large': 22, 'yet': 42, 'recollection': 3, 'footing': 1, 'dearer': 1, 'tenderer': 1, 'owing': 1, 'each': 20, 'here': 66, 'unreserve': 4, 'soon': 86, 'debt': 1, 'followed': 12, 'their': 146, 'intercourse': 6, 'other': 97, 'gratitude': 11, 'equal': 23, 'last': 53, 'pleasure': 57, 'few': 43, 'hers': 6, 'interested': 10, 'knowing': 12, 'peculiarly': 1, 'could': 356, 'companion': 19, 'its': 54, 'possessed': 1, 'find': 34, 'such': 207, 'never': 157, 'useful': 14, 'fault': 12, 'ways': 12, 'concerns': 5, 'scheme': 5, 'informed': 4, 'arose': 2, 'speak': 37, 'intelligent': 4, 'whom': 39, 'bear': 19, 'great': 137, 'suffering': 4, 'natural': 21, 'solitude': 2, 'advantages': 6, 'change': 24, 'domestic': 5, 'going': 52, 'difference': 10, 'true': 27, 'mile': 6, 'intellectual': 2, 'mrs': 226, 'aware': 9, 'half': 54, 'must': 247, 'dearly': 1, 'he': 650, 'loved': 9, 'conversation': 20, 'rational': 8, 'meet': 15, 'playful': 2, 'life': 50, 'him': 313, 'time': 112, 'though': 88, 'disparity': 2, 'activity': 2, 'recommended': 5, 'mind': 62, 'everywhere': 1, 'ages': 2, 'talents': 3, 'without': 85, 'evil': 14, 'actual': 2, 'increased': 6, 'older': 3, 'heart': 20, 'body': 98, 'amiable': 24, 'constitution': 6, 'habits': 8, 'friendliness': 1, 'valetudinarian': 1, 'struggled': 2, 'beyond': 20, 'off': 52, 'comparatively': 1, 'society': 28, 'children': 44, 'miles': 8, 'london': 21, 'next': 28, 'november': 3, 'visit': 58, 'daily': 5, 'reach': 3, 'october': 2, 'matrimony': 6, 'fill': 2, 'husband': 20, 'give': 79, 'again': 84, 'settled': 21, 'christmas': 9, 'removed': 3, 'hartfield': 85, 'separate': 6, 'belong': 11, 'shrubberies': 2, 'populous': 2, 'town': 9, 'afforded': 6, 'lawn': 1, 'equals': 1, 'village': 2, 'really': 70, 'highbury': 74, 'amounting': 1, 'spite': 9, 'almost': 37, 'name': 20, 'woodhouses': 4, 'looked': 36, 'up': 95, 'accepted': 5, 'acquaintance': 39, 'universally': 2, 'civil': 9, 'lieu': 1, 'among': 27, 'things': 24, 'awoke': 1, 'melancholy': 4, 'till': 37, 'wish': 63, 'made': 92, 'sigh': 9, 'impossible': 20, 'necessary': 16, 'cheerful': 18, 'spirits': 23, 'required': 5, 'support': 6, 'depressed': 3, 'hating': 1, 'easily': 9, 'part': 37, 'kind': 42, 'nervous': 5, 'used': 28, 'selfishness': 2, 'disposed': 9, 'deal': 45, 'reconciled': 1, 'daughter': 39, 'thing': 187, 'when': 137, 'happier': 5, 'obliged': 34, 'feel': 49, 'spent': 10, 'origin': 2, 'differently': 7, 'rest': 18, 'compassion': 5, 'suppose': 39, 'if': 219, 'nor': 28, 'done': 58, 'entirely': 21, 'ever': 92, 'marrying': 13, 'sad': 12, 'able': 34, 'smiled': 11, 'chatted': 1, 'tea': 10, 'exactly': 32, 'keep': 23, 'thoughts': 13, 'said': 191, 'cheerfully': 4, 'say': 129, 'poor': 63, 'is': 523, 'pity': 12, 'you': 630, 'papa': 26, 'know': 149, 'agree': 9, 'cannot': 71, 'my': 275, 'good': 191, 'humoured': 5, 'deserves': 3, 'us': 58, 'might': 140, 'thoroughly': 10, 'wife': 30, 'live': 10, 'humours': 2, 'odd': 13, 'where': 49, 'advantage': 17, 'three': 42, 'times': 20, 'dear': 123, 'often': 44, 'see': 99, 'coming': 45, 'meeting': 15, 'we': 140, 'shall': 82, 'pay': 13, 'begin': 5, 'go': 52, 'far': 24, 'am': 146, 'get': 36, 'randalls': 37, 'distance': 7, 'walk': 21, 'nobody': 35, 'your': 132, 'walking': 18, 'carriage': 28, 'sure': 101, 'are': 187, 'our': 32, 'while': 65, 'will': 232, 'paying': 7, 'put': 32, 'horses': 14, 'james': 15, 'like': 82, 'stable': 1, 'into': 76, 'already': 18, 'night': 18, 'talked': 35, 'may': 94, 'housemaid': 1, 'because': 27, 'doubt': 44, 'take': 56, 'whether': 27, 'else': 43, 'anywhere': 8, 'got': 17, 'hannah': 2, 'mentioned': 11, 'glad': 23, 'account': 33, 'girl': 29, 'servant': 4, 'opinion': 31, 'make': 78, 'slighted': 2, 'lucky': 5, 'spoken': 17, 'upon': 72, 'pretty': 47, 'needlework': 1, 'whenever': 16, 'curtseys': 1, 'do': 273, 'me': 200, 'turns': 5, 'asks': 3, 'lock': 1, 'right': 47, 'manner': 42, 'door': 20, 'bangs': 1, 'observe': 7, 'about': 119, 'somebody': 9, 'comfort': 39, 'hearing': 11, 'goes': 4, 'tell': 34, 'spared': 4, 'hoped': 22, 'maintain': 3, 'backgammon': 2, 'help': 19, 'regrets': 6, 'flow': 4, 'exertions': 2, 'tolerably': 8, 'ideas': 9, 'attacked': 1, 'placed': 7, 'afterwards': 15, 'immediately': 31, 'table': 11, 'visitor': 5, 'unnecessary': 2, 'walked': 21, 'elder': 4, 'brother': 26, 'knightley': 169, 'sensible': 13, 'intimate': 7, 'connected': 3, 'thirty': 4, 'eight': 4, 'directly': 26, 'mutual': 2, 'frequent': 5, 'welcome': 8, 'connexions': 6, 'late': 15, 'days': 25, 'square': 5, 'absence': 8, 'brunswick': 4, 'returned': 12, 'animated': 2, 'circumstance': 15, 'inquiries': 5, 'satisfactorily': 1, 'answered': 4, 'gratefully': 2, 'out': 100, 'come': 67, 'call': 16, 'observed': 10, 'shocking': 3, 'afraid': 30, 'sir': 43, 'mild': 2, 'draw': 4, 'moonlight': 2, 'beautiful': 13, 'back': 26, 'fire': 4, 'found': 46, 'damp': 3, 'dirty': 3, 'cold': 26, 'catch': 5, 'shoes': 3, 'look': 53, 'speck': 1, 'rain': 7, 'surprising': 1, 'vast': 2, 'quite': 105, 'dreadfully': 5, 'rained': 1, 'hard': 5, 'breakfast': 4, 'wanted': 34, 'bye': 2, 'joy': 9, 'feeling': 19, 'hurry': 8, 'hope': 52, 'went': 25, 'sort': 62, 'congratulations': 4, 'behave': 2, 'cried': 33, 'ah': 20, 'tis': 2, 'business': 28, 'possibly': 11, 'please': 18, 'rate': 7, 'regard': 28, 'independence': 8, 'dependence': 7, 'comes': 15, 'question': 24, 'better': 85, 'those': 50, 'especially': 15, 'troublesome': 6, 'fanciful': 2, 'creature': 14, 'playfully': 2, 'head': 18, 'certainly': 54, 'believe': 42, 'sometimes': 16, 'dearest': 5, 'mean': 22, 'horrible': 1, 'idea': 54, 'oh': 76, 'myself': 41, 'meant': 17, 'joke': 2, 'loves': 6, 'another': 44, 'suspect': 7, 'knew': 36, 'faults': 3, 'agreeable': 33, 'told': 32, 'fact': 10, 'reflection': 6, 'knows': 18, 'flatter': 2, 'has': 118, 'persons': 4, 'chances': 2, 'gainer': 1, 'charmingly': 2, 'let': 31, 'behaved': 3, 'pass': 14, 'willing': 7, 'hear': 43, 'tear': 1, 'looks': 12, 'face': 14, 'seen': 36, 'punctual': 1, 'apart': 1, 'bears': 1, 'sorry': 31, 'thinks': 14, 'lose': 8, 'turned': 14, 'tears': 5, 'smiles': 8, 'divided': 2, 'should': 169, 'therefore': 33, 'important': 8, 'pain': 14, 'allow': 22, 'acceptable': 7, 'secure': 6, 'provision': 3, 'happily': 11, 'forgotten': 5, 'matter': 15, 'considerable': 8, 'four': 19, 'marry': 38, 'proved': 7, 'shook': 3, 'fondly': 3, 'replied': 34, 'whatever': 9, 'matches': 3, 'foretell': 2, 'pray': 11, 'none': 16, 'greatest': 11, 'amusement': 4, 'success': 9, 'occupied': 7, 'wherever': 4, 'friends': 35, 'alone': 13, 'need': 17, 'single': 15, 'year': 14, 'constantly': 3, 'spend': 6, 'perfectly': 26, 'either': 32, 'widower': 2, 'deathbed': 1, 'letting': 2, 'others': 29, 'uncle': 10, 'son': 21, 'solemn': 2, 'subject': 41, 'nonsense': 11, 'believed': 23, 'borrowed': 1, 'drizzle': 1, 'darted': 2, 'broadway': 1, 'gallantry': 5, 'mitchell': 1, 'since': 37, 'farmer': 9, 'umbrellas': 1, 'began': 28, 'met': 9, 'lane': 8, 'making': 33, 'leave': 26, 'instance': 5, 'blessed': 4, 'planned': 2, 'understand': 27, 'supposes': 1, 'endeavour': 5, 'bring': 15, 'properly': 7, 'delicately': 1, 'endeavouring': 2, 'employment': 4, 'worthy': 11, 'lady': 28, 'young': 110, 'yourself': 33, 'idle': 4, 'imagine': 27, 'why': 27, 'saying': 21, 'planning': 2, 'talk': 25, 'merit': 10, 'proud': 6, 'guess': 12, 'can': 128, 'known': 28, 'luck': 4, 'merely': 12, 'cleverer': 2, 'triumph': 4, 'depend': 17, 'talent': 6, 'word': 24, 'quarrel': 4, 'claim': 10, 'pictures': 1, 'drawn': 5, 'nothing': 123, 'something': 42, 'given': 41, 'visits': 7, 'smoothed': 2, 'matters': 5, 'encouragements': 1, 'comprehend': 8, 'enough': 63, 'hearted': 8, 'unaffected': 3, 'manage': 4, 'open': 14, 'straightforward': 3, 'safely': 12, 'likely': 23, 'harm': 7, 'interference': 1, 'rejoined': 1, 'understanding': 16, 'break': 5, 'circle': 5, 'grievously': 1, 'silly': 10, 'elton': 168, 'longer': 33, 'fitted': 1, 'whole': 31, 'same': 33, 'hands': 16, 'comfortably': 6, 'shame': 4, 'joining': 2, 'service': 8, 'attention': 29, 'ask': 16, 'shew': 8, 'dare': 27, 'laughing': 6, 'fish': 1, 'chuse': 14, 'invite': 5, 'chicken': 2, 'care': 21, 'six': 8, 'ii': 3, 'rising': 5, 'gentility': 4, 'native': 4, 'born': 3, 'generations': 2, 'property': 5, 'respectable': 15, 'militia': 2, 'small': 18, 'received': 14, 'homely': 1, 'succeeding': 1, 'brothers': 4, 'county': 1, 'social': 5, 'embodied': 1, 'pursuits': 2, 'active': 5, 'entering': 4, 'satisfied': 26, 'become': 5, 'indisposed': 2, 'engaged': 11, 'education': 13, 'love': 67, 'pride': 6, 'general': 43, 'introduced': 3, 'yorkshire': 2, 'military': 1, 'favourite': 13, 'fell': 4, 'surprized': 21, 'importance': 5, 'except': 16, 'full': 24, 'connexion': 13, 'offend': 2, 'captain': 3, 'churchill': 50, 'estate': 4, 'threw': 1, 'bore': 4, 'decorum': 1, 'proportion': 3, 'infinite': 2, 'due': 10, 'mortification': 5, 'command': 7, 'took': 19, 'dissuaded': 1, 'produce': 5, 'unsuitable': 3, 'whose': 15, 'sweet': 12, 'goodness': 3, 'ought': 44, 'warm': 19, 'return': 27, 'spirit': 12, 'pursue': 1, 'unreasonable': 3, 'anger': 4, 'resolution': 13, 'missing': 3, 'luxuries': 1, 'former': 5, 'refrain': 4, 'still': 50, 'enscombe': 14, 'comparison': 3, 'once': 35, 'cease': 3, 'income': 9, 'child': 22, 'churchills': 11, 'considered': 11, 'bargain': 2, 'amazing': 1, 'worst': 8, 'poorer': 1, 'relieved': 2, 'expense': 4, 'softening': 2, 'decease': 1, 'additional': 3, 'charge': 7, 'reconciliation': 1, 'illness': 3, 'lingering': 1, 'offered': 1, 'kindred': 1, 'frank': 47, 'boy': 7, 'seek': 3, 'overcome': 2, 'improve': 3, 'considerations': 2, 'reluctance': 2, 'scruples': 7, 'supposed': 13, 'wealth': 6, 'became': 12, 'desirable': 10, 'complete': 11, 'opening': 6, 'quitted': 5, 'trade': 4, 'established': 4, 'favourable': 9, 'concern': 10, 'pleasures': 7, 'eighteen': 3, 'leisure': 6, 'occupation': 3, 'friendly': 9, 'portionless': 1, 'competence': 1, 'adjoining': 3, 'longed': 1, 'purchase': 4, 'realised': 2, 'according': 3, 'wishes': 10, 'objects': 3, 'shaken': 4, 'sale': 1, 'settling': 1, 'begun': 5, 'determination': 1, 'youth': 9, 'forward': 14, 'accomplished': 8, 'influence': 13, 'schemes': 2, 'tyrannic': 1, 'view': 9, 'steadily': 1, 'bought': 3, 'greater': 14, 'obtained': 3, 'new': 14, 'probability': 8, 'beginning': 24, 'judging': 6, 'delightful': 11, 'proof': 15, 'excite': 3, 'unhappy': 5, 'secured': 6, 'chosen': 5, 'pleasantest': 2, 'second': 19, 'truly': 6, 'choose': 1, 'heir': 2, 'choice': 4, 'adoption': 1, 'assume': 1, 'avowed': 1, 'tacitly': 1, 'unlikely': 3, 'assistance': 7, 'apprehension': 5, 'affect': 1, 'caprice': 3, 'nature': 22, 'aunt': 24, 'deservedly': 2, 'governed': 2, 'strong': 27, 'capricious': 1, 'report': 7, 'saw': 53, 'fine': 20, 'merits': 6, 'prospects': 2, 'sufficiently': 5, 'common': 22, 'belonging': 3, 'boasts': 1, 'curiosity': 14, 'compliment': 14, 'lively': 5, 'prevailed': 3, 'achieved': 1, 'proper': 27, 'generally': 12, 'proposed': 6, 'bates': 52, 'dissentient': 1, 'drank': 2, 'perry': 33, 'voice': 20, 'strengthened': 2, 'written': 15, 'occasion': 14, 'understood': 10, 'mention': 10, 'letter': 50, 'included': 3, 'heard': 42, 'says': 20, 'prized': 1, 'source': 3, 'sense': 29, 'expression': 5, 'formed': 4, 'addition': 4, 'course': 29, 'congratulation': 1, 'pleasing': 15, 'irresistible': 2, 'regret': 10, 'fortunate': 11, 'ill': 29, 'partial': 4, 'separation': 1, 'cooled': 1, 'difficulties': 7, 'missed': 4, 'losing': 3, 'ennui': 1, 'energy': 1, 'privations': 2, 'companionableness': 1, 'feeble': 1, 'girls': 10, 'week': 19, 'circumstances': 15, 'season': 4, 'evenings': 4, 'female': 3, 'convenient': 4, 'hindrance': 1, 'solitary': 3, 'spending': 4, 'approaching': 5, 'enjoyment': 13, 'altogether': 20, 'centre': 2, 'taken': 28, 'surprize': 14, 'attended': 3, 'moments': 8, 'hours': 9, 'apparent': 5, 'giving': 24, 'stay': 19, 'alleviation': 1, 'recovering': 1, 'weeks': 10, 'likelihood': 1, 'ceasing': 1, 'neighbours': 6, 'teased': 1, 'sorrowful': 2, 'eat': 6, 'cake': 7, 'compliments': 10, 'stomach': 2, 'different': 18, 'unwholesome': 5, 'prevent': 9, 'unfit': 4, 'regarded': 2, 'tried': 11, 'vain': 7, 'eating': 3, 'dissuade': 2, 'earnestly': 5, 'pains': 4, 'consulting': 3, 'apothecary': 1, 'moderately': 3, 'perhaps': 40, 'gentlemanlike': 2, 'unless': 8, 'inclination': 12, 'applied': 2, 'bias': 1, 'acknowledge': 6, 'comforts': 4, 'against': 19, 'disagree': 3, 'confirmation': 1, 'eaten': 2, 'benevolent': 2, 'nerves': 3, 'pair': 5, 'newly': 1, 'slice': 2, 'perrys': 2, 'rumour': 2, 'strange': 7, 'iii': 2, 'united': 6, 'measure': 3, 'causes': 2, 'residence': 3, 'horror': 3, 'terms': 5, 'families': 10, 'parties': 10, 'donwell': 18, 'comprehended': 1, 'abbey': 20, 'parish': 4, 'seat': 6, 'including': 1, 'fortunately': 2, 'company': 23, 'scarcely': 9, 'persuasion': 3, 'fancied': 7, 'unequal': 1, 'unfrequently': 1, 'card': 2, 'preferred': 4, 'privilege': 2, 'elegancies': 2, 'room': 47, 'blank': 2, 'vacant': 1, 'exchanging': 1, 'drawing': 22, 'lovely': 7, 'thrown': 11, 'westons': 5, 'liking': 4, 'standing': 8, 'invitation': 9, 'fetched': 1, 'ladies': 15, 'carried': 1, 'goddard': 44, 'hardship': 3, 'set': 27, 'grievance': 1, 'widow': 2, 'quadrille': 1, 'vicar': 3, 'respect': 21, 'untoward': 1, 'harmless': 2, 'under': 25, 'degree': 22, 'neither': 16, 'uncommon': 3, 'enjoyed': 1, 'popularity': 2, 'outward': 2, 'superiority': 6, 'frighten': 1, 'stood': 8, 'atonement': 1, 'hate': 2, 'predicament': 1, 'public': 5, 'favour': 9, 'beauty': 22, 'cleverness': 1, 'boasted': 3, 'distinction': 5, 'middle': 4, 'possible': 30, 'failing': 2, 'named': 5, 'wonders': 3, 'worked': 2, 'universal': 1, 'contented': 3, 'surrounded': 1, 'quicksighted': 1, 'grateful': 9, 'mine': 8, 'recommendation': 3, 'felicity': 1, 'cheerfulness': 5, 'simplicity': 3, 'talker': 3, 'gossip': 1, 'trivial': 2, 'suited': 5, 'communications': 2, 'prodigies': 1, 'systems': 1, 'liberal': 6, 'sold': 1, 'establishment': 3, 'refined': 2, 'sent': 10, 'screwed': 1, 'boarding': 1, 'seminary': 1, 'fashioned': 1, 'price': 1, 'professed': 4, 'scramble': 1, 'school': 9, 'honest': 1, 'elegant': 14, 'sentences': 3, 'vanity': 6, 'combine': 1, 'themselves': 16, 'acquirements': 2, 'morality': 1, 'reasonable': 9, 'accomplishments': 1, 'principles': 2, 'quantity': 3, 'enormous': 1, 'reckoned': 3, 'spot': 2, 'summer': 9, 'chilblains': 1, 'garden': 4, 'run': 9, 'high': 8, 'healthy': 3, 'wholesome': 2, 'repute': 1, 'winter': 6, 'gave': 21, 'ample': 4, 'food': 1, 'dressed': 4, 'plenty': 2, 'couple': 6, 'train': 2, 'wonder': 23, 'church': 5, 'owed': 2, 'fancy': 19, 'formerly': 1, 'fireside': 2, 'holiday': 1, 'neat': 4, 'particular': 20, 'round': 15, 'occasional': 2, 'entitled': 1, 'win': 1, 'hung': 2, 'plain': 15, 'sixpences': 1, 'parlour': 6, 'motherly': 1, 'collect': 2, 'concerned': 10, 'remedy': 1, 'frequently': 7, 'sake': 10, 'pleased': 25, 'contriving': 2, 'delighted': 8, 'quiet': 13, 'anticipated': 4, 'women': 9, 'prosings': 1, 'fearfully': 1, 'seventeen': 3, 'requesting': 1, 'smith': 54, 'close': 8, 'sight': 16, 'request': 2, 'respectful': 2, 'interest': 30, 'note': 11, 'looking': 33, 'mansion': 1, 'dreaded': 2, 'gracious': 1, 'fair': 19, 'harriet': 236, 'scholar': 1, 'several': 7, 'lately': 11, 'raised': 4, 'condition': 3, 'boarder': 3, 'history': 9, 'visible': 1, 'country': 13, 'acquired': 2, 'admired': 12, 'happened': 12, 'determined': 14, 'continue': 2, 'bloom': 4, 'eyes': 24, 'hair': 9, 'end': 26, 'plump': 1, 'features': 5, 'sweetness': 6, 'blue': 3, 'regular': 8, 'person': 38, 'light': 8, 'impressed': 2, 'deference': 2, 'pleasantly': 6, 'deserve': 7, 'encouragement': 10, 'becoming': 6, 'superior': 26, 'style': 14, 'remarkably': 9, 'engaging': 4, 'shy': 1, 'shewing': 5, 'seeming': 7, 'admitted': 3, 'struck': 14, 'appearance': 14, 'pushing': 2, 'inconveniently': 1, 'artlessly': 1, 'unwilling': 6, 'soft': 9, 'graces': 1, 'wasted': 1, 'inferior': 7, 'unworthy': 5, 'parted': 5, 'intimates': 1, 'knowledge': 13, 'renting': 1, 'creditably': 1, 'martin': 57, 'elegance': 9, 'farm': 7, 'unpolished': 1, 'coarse': 3, 'residing': 2, 'introduce': 3, 'notice': 10, 'bad': 32, 'detach': 1, 'opinions': 5, 'form': 5, 'undertaking': 2, 'interesting': 15, 'closed': 2, 'ready': 33, 'watch': 3, 'unusual': 1, 'talking': 22, 'listening': 5, 'supper': 1, 'moved': 3, 'admiring': 3, 'flew': 1, 'forming': 4, 'busy': 10, 'forwards': 2, 'betweens': 1, 'recommend': 11, 'attentively': 2, 'impulse': 1, 'alacrity': 2, 'honours': 1, 'guests': 2, 'minced': 1, 'indifferent': 6, 'urgency': 2, 'scalloped': 1, 'oysters': 1, 'meal': 3, 'credit': 12, 'occasions': 3, 'warfare': 1, 'feelings': 44, 'suppers': 1, 'fashion': 3, 'grieve': 1, 'visitors': 4, 'cloth': 1, 'welcomed': 4, 'laid': 3, 'conviction': 12, 'hospitality': 3, 'thorough': 4, 'basin': 4, 'thin': 5, 'nicer': 1, 'clearing': 2, 'constrain': 1, 'gruel': 7, 'approbation': 12, 'propose': 1, 'eggs': 2, 'venturing': 3, 'egg': 3, 'boiled': 4, 'serle': 3, 'understands': 2, 'boiling': 1, 'hurt': 4, 'tart': 1, 'bit': 3, 'ours': 3, 'apple': 2, 'tarts': 1, 'preserves': 1, 'advise': 5, 'custard': 1, 'wine': 5, 'glass': 2, 'water': 6, 'tumbler': 1, 'satisfactory': 4, 'sending': 3, 'intentions': 5, 'personage': 1, 'panic': 1, 'affability': 1, 'gratified': 7, 'actually': 16, 'humble': 4, 'introduction': 6, 'treated': 1, 'iv': 2, 'telling': 14, 'encouraging': 2, 'decided': 15, 'inviting': 1, 'quick': 17, 'foreseen': 3, 'divisions': 3, 'varied': 1, 'confined': 7, 'exercise': 6, 'sufficed': 1, 'ground': 8, 'shrubbery': 1, 'valuable': 6, 'summon': 1, 'ventured': 4, 'privileges': 1, 'approved': 3, 'designs': 2, 'confirmed': 4, 'desiring': 2, 'conceit': 4, 'free': 3, 'docile': 1, 'totally': 6, 'guided': 2, 'appreciating': 1, 'taste': 13, 'expected': 15, 'shewed': 8, 'attachment': 21, 'strength': 5, 'convinced': 17, 'granted': 2, 'distinct': 5, 'independent': 6, 'sentiment': 4, 'basis': 1, 'object': 18, 'esteem': 1, 'parents': 4, 'usefulness': 1, 'attempts': 4, 'questions': 6, 'discovered': 2, 'truth': 13, 'penetration': 3, 'farther': 17, 'chose': 3, 'mill': 8, 'teachers': 3, 'affairs': 4, 'martins': 11, 'naturally': 10, 'months': 13, 'describe': 5, 'talkativeness': 1, 'welch': 1, 'parlours': 1, 'amused': 8, 'enjoying': 2, 'upper': 2, 'beings': 1, 'picture': 16, 'maid': 10, 'exultation': 3, 'youthful': 2, 'encouraged': 3, 'cow': 1, 'alderneys': 1, 'drink': 1, 'cows': 1, 'called': 22, 'dozen': 1, 'immediate': 5, 'thinking': 22, 'cause': 5, 'fancying': 5, 'appeared': 20, 'sink': 3, 'narrative': 1, 'wrong': 13, 'forever': 1, 'case': 20, 'led': 14, 'number': 5, 'meaning': 21, 'dislike': 8, 'notion': 4, 'evidently': 6, 'inspiriting': 1, 'games': 1, 'walks': 3, 'merry': 1, 'dwelt': 2, 'share': 8, 'obliging': 15, 'order': 7, 'walnuts': 2, 'sing': 3, 'shepherd': 1, 'purpose': 15, 'singing': 2, 'wool': 1, 'flock': 1, 'bid': 2, 'spoke': 12, 'blush': 6, 'goose': 1, 'send': 4, 'finest': 1, 'nash': 10, 'asked': 16, 'sunday': 2, 'prince': 1, 'sup': 1, 'richardson': 1, 'information': 14, 'line': 9, 'does': 65, 'read': 31, 'yes': 64, 'agricultural': 1, 'lay': 6, 'reports': 1, 'reads': 1, 'books': 5, 'window': 3, 'seats': 1, 'extracts': 2, 'cards': 2, 'entertaining': 1, 'aloud': 3, 'wakefield': 1, 'romance': 2, 'forest': 2, 'ride': 2, 'kingston': 2, 'fifty': 3, 'raise': 8, 'foot': 3, 'horseback': 1, 'precisely': 3, 'yeomanry': 1, 'creditable': 1, 'lower': 1, 'below': 3, 'above': 8, 'june': 1, '8th': 1, 'birthday': 1, '23rd': 1, 'fortnight': 5, 'settle': 7, 'probably': 12, 'seem': 17, 'repent': 5, 'hence': 4, 'money': 7, 'men': 18, 'afford': 4, 'beforehand': 4, 'forth': 3, 'employed': 3, 'afloat': 1, 'stock': 2, 'diligence': 1, 'indoors': 1, 'taking': 12, 'talks': 1, 'fit': 5, 'follow': 5, 'acquainted': 21, 'scrape': 1, 'objected': 1, 'associates': 2, 'careful': 3, 'misfortune': 4, 'birth': 6, 'within': 7, 'gentleman': 18, 'station': 2, 'degrading': 2, 'force': 3, 'firmly': 2, 'advisable': 1, 'permanently': 2, 'marries': 3, 'mere': 8, 'elizabeth': 8, 'educated': 2, 'vulgar': 4, 'ignorant': 4, 'alarming': 4, 'fluctuations': 1, 'speech': 9, 'watched': 3, 'symptoms': 2, 'trusted': 5, 'side': 29, 'difficulty': 15, 'admirer': 4, 'arrangement': 6, 'serious': 9, 'oppose': 2, 'road': 12, 'respectfully': 1, 'unfeigned': 1, 'eye': 17, 'survey': 1, 'opportunity': 8, 'robert': 14, 'yards': 3, 'gentlemen': 11, 'gained': 4, 'contrasted': 1, 'voluntarily': 3, 'noticed': 1, 'gentleness': 3, 'admiration': 12, 'insensible': 1, 'flutter': 2, 'minutes': 23, 'running': 3, 'smiling': 20, 'waiting': 6, 'kept': 11, 'compose': 2, 'remained': 8, 'happening': 1, 'chance': 9, 'towards': 26, 'forgot': 1, 'morrow': 21, 'happen': 5, 'entire': 7, 'compared': 4, 'undoubtedly': 7, 'clownish': 2, 'expect': 9, 'air': 34, 'imagined': 9, 'confess': 8, 'nearer': 4, 'genteel': 2, 'mortified': 5, 'repeatedly': 3, 'bred': 4, 'specimens': 2, 'seeing': 21, 'wondering': 5, 'perceiving': 1, 'unmodulated': 1, 'awkward': 5, 'wholly': 4, 'abrupt': 2, 'uncouthness': 1, 'compare': 5, 'hundred': 11, 'plainly': 4, 'silent': 7, 'carrying': 2, 'speaking': 20, 'forty': 6, 'makes': 11, 'becomes': 2, 'disgusting': 1, 'grows': 1, 'glaring': 1, 'coarseness': 1, 'loudness': 1, 'awkwardness': 5, 'detestable': 1, 'later': 5, 'passable': 2, 'solemnly': 1, 'guessing': 4, 'inattentive': 1, 'appearances': 2, 'profit': 1, 'completely': 12, 'gross': 1, 'inquire': 5, 'engrosses': 1, 'forgetting': 4, 'book': 10, 'thriving': 1, 'market': 1, 'disturb': 2, 'illiterate': 2, 'thrive': 1, 'remember': 17, 'itself': 8, 'displeasure': 3, 'answer': 30, 'grave': 5, 'pattern': 2, 'held': 6, 'bluntness': 1, 'quickness': 5, 'openness': 1, 'humour': 11, 'copied': 3, 'likes': 3, 'commanding': 1, 'copying': 1, 'suits': 3, 'sufferable': 1, 'figure': 8, 'downright': 3, 'model': 2, 'contrary': 4, 'seems': 10, 'grown': 5, 'softer': 1, 'ingratiating': 1, 'softness': 2, 'strikes': 2, 'design': 3, 'justice': 7, 'praise': 17, 'blushed': 3, 'repeated': 7, 'personal': 6, 'driving': 3, 'fixed': 9, 'palpably': 2, 'probable': 4, 'predict': 1, 'feared': 3, 'brain': 3, 'equalled': 2, 'date': 1, 'during': 9, 'plan': 8, 'entered': 9, 'expediency': 2, 'doubtful': 5, 'fairly': 5, 'low': 6, 'deficiency': 3, 'vicarage': 10, 'sufficient': 4, 'meetings': 3, 'efficacy': 1, 'foundation': 3, 'weight': 2, 'fastidious': 1, 'conquered': 1, 'riding': 1, 'dispense': 1, 'feature': 4, 'v': 2, 'supplying': 2, 'quarrels': 1, 'fight': 1, 'battle': 1, 'associate': 1, 'agreeing': 2, 'yesterday': 14, 'judge': 15, 'sex': 3, 'feels': 5, 'value': 7, 'objection': 2, 'inducement': 3, 'hand': 21, 'wants': 3, 'twelve': 7, 'alphabetically': 1, 'rule': 4, 'lists': 1, 'arranged': 5, 'regularly': 2, 'neatly': 1, 'preserved': 2, 'list': 1, 'drew': 5, 'fourteen': 2, 'expecting': 9, 'reading': 9, 'steady': 3, 'submit': 2, 'patience': 3, 'subjection': 2, 'industry': 1, 'requiring': 1, 'affirm': 1, 'persuade': 7, 'failed': 5, 'stimulate': 1, 'omitting': 1, 'refresh': 1, 'memory': 4, 'feelingly': 1, 'moment': 44, 'senses': 3, 'added': 18, 'charm': 5, 'cleverest': 1, 'spoiled': 3, 'puzzled': 2, 'ten': 13, 'slow': 4, 'diffident': 2, 'assured': 6, 'cope': 1, 'inherits': 1, 'dependent': 3, 'preparing': 3, 'receiving': 9, 'material': 5, 'submitting': 2, 'point': 26, 'matrimonial': 2, 'thank': 11, 'borne': 4, 'despair': 2, 'grow': 6, 'plague': 2, 'wantonness': 1, 'cross': 5, 'vexation': 3, 'quarter': 11, 'possibilities': 1, 'foretelling': 1, 'pretend': 8, 'genius': 2, 'undesigned': 1, 'flatterer': 1, 'worse': 10, 'hourly': 1, 'flattery': 2, 'ignorance': 3, 'presenting': 1, 'inferiority': 2, 'learn': 2, 'venture': 6, 'gain': 2, 'places': 6, 'belongs': 2, 'uncomfortable': 3, 'varieties': 1, 'doctrines': 1, 'rationally': 2, 'polish': 1, 'adapt': 2, 'tend': 1, 'mistaken': 9, 'lament': 3, 'anxious': 14, 'deny': 4, 'attempt': 10, 'seldom': 3, 'hazle': 1, 'brilliant': 3, 'countenance': 8, 'complexion': 7, 'firm': 1, 'height': 6, 'size': 7, 'upright': 1, 'glance': 5, 'gives': 10, 'hears': 2, 'loveliness': 2, 'personally': 1, 'add': 6, 'lies': 1, 'appears': 7, 'dread': 3, 'equally': 6, 'stout': 1, 'confidence': 3, 'kinder': 2, 'truer': 2, 'errs': 1, 'qualities': 2, 'blunder': 1, 'lasting': 4, 'lead': 3, 'angel': 2, 'spleen': 1, 'brings': 3, 'john': 51, 'blind': 8, 'frightened': 4, 'unjust': 4, 'excuse': 17, 'somewhat': 1, 'consider': 21, 'discussion': 2, 'liberty': 5, 'unkind': 1, 'hinting': 1, 'arise': 3, 'approves': 1, 'apprehended': 2, 'accountable': 1, 'inconvenience': 7, 'supposing': 6, 'remains': 2, 'advice': 8, 'province': 1, 'fate': 1, 'alarmed': 4, 'outcry': 1, 'sincere': 1, 'excited': 2, 'anxiety': 11, 'gently': 1, 'declares': 1, 'cared': 4, 'hereabouts': 2, 'tempt': 2, 'creating': 4, 'assure': 14, 'state': 19, 'slight': 7, 'conceal': 6, 'weather': 23, 'destiny': 3, 'suspected': 4, 'transition': 1, 'respecting': 1, 'surmise': 2, 'vi': 2, 'decidedly': 5, 'confident': 3, 'following': 5, 'assurance': 4, 'hints': 2, 'direction': 4, 'hesitation': 5, 'falling': 5, 'fairest': 1, 'scruple': 3, 'praised': 2, 'wanting': 14, 'warmly': 7, 'growing': 6, 'striking': 2, 'least': 34, 'improvement': 5, 'perception': 2, 'proofs': 2, 'graceful': 4, 'attractions': 1, 'infinitely': 3, 'artlessness': 1, 'grace': 3, 'admissible': 2, 'gallant': 7, 'contradict': 2, 'points': 8, 'decision': 4, 'principally': 3, 'superadded': 1, 'skilful': 1, 'animation': 3, 'lover': 5, 'sighing': 2, 'seconded': 1, 'sudden': 10, 'likeness': 16, 'naivete': 3, 'stopt': 5, 'leaving': 7, 'sooner': 8, 'exclaimed': 8, 'possession': 5, 'exquisite': 3, 'likenesses': 2, 'attempted': 4, 'tolerable': 7, 'passion': 8, 'disgust': 3, 'delight': 6, 'entreat': 6, 'charming': 12, 'drawings': 4, 'inimitable': 3, 'landscapes': 1, 'flowers': 1, 'pieces': 1, 'raptures': 3, 'don': 3, 't': 4, 'try': 15, 'lines': 9, 'difficult': 3, 'mouth': 2, 'delicate': 5, 'peculiarity': 1, 'use': 17, 'words': 12, 'answering': 2, 'persuaded': 14, 'proposal': 4, 'pressing': 4, 'earnest': 2, 'stand': 4, 'containing': 4, 'finished': 7, 'portraits': 1, 'decide': 5, 'portfolio': 1, 'produced': 6, 'displayed': 2, 'beginnings': 1, 'crayon': 1, 'turn': 16, 'lengths': 1, 'miniatures': 1, 'colours': 3, 'pencil': 2, 'labour': 4, 'music': 12, 'progress': 5, 'approached': 3, 'excellence': 3, 'steadiness': 1, 'sang': 3, 'higher': 8, 'artist': 2, 'skill': 5, 'deserved': 3, 'musician': 1, 'deceived': 4, 'accomplishment': 1, 'reputation': 1, 'companions': 6, 'spirited': 3, 'ecstasies': 1, 'performances': 1, 'pleases': 1, 'capital': 2, 'variety': 1, 'faces': 3, 'study': 4, 'sitting': 22, 'stealth': 1, 'kindest': 3, 'unlike': 1, 'sheet': 1, 'henry': 14, 'bella': 3, 'refuse': 10, 'mama': 2, 'eager': 7, 'coarser': 1, 'featured': 1, 'fourth': 1, 'baby': 2, 'sketch': 3, 'sleeping': 3, 'sofa': 4, 'cockade': 1, 'conveniently': 1, 'nestled': 1, 'down': 30, 'george': 2, 'corner': 5, 'vowed': 1, 'length': 4, 'unclosing': 1, 'pet': 1, 'agreed': 8, 'flattering': 4, 'provoked': 2, 'trouble': 4, 'persuading': 3, 'forswear': 1, 'finish': 1, 'unfavourable': 1, 'apologised': 1, 'husbands': 3, 'wives': 4, 'repeating': 1, 'declaration': 4, 'wait': 3, 'portrait': 1, 'honourable': 6, 'destined': 4, 'mantelpiece': 2, 'mixture': 7, 'attitude': 2, 'keeping': 7, 'blushing': 1, 'presented': 2, 'behind': 8, 'watching': 3, 'fidgeting': 1, 'touch': 6, 'elsewhere': 1, 'offence': 4, 'gaze': 1, 'stationing': 1, 'employ': 2, 'occurred': 7, 'irksomeness': 1, 'lessen': 1, 'listened': 7, 'peace': 8, 'displeased': 3, 'smallest': 13, 'intermission': 1, 'encourager': 1, 'jump': 2, 'discern': 2, 'charmed': 1, 'complaisance': 1, 'considerably': 4, 'memorial': 1, 'throw': 3, 'promising': 2, 'associations': 1, 'filling': 1, 'entreated': 1, 'permission': 1, 'attending': 3, 'party': 35, 'civilities': 5, 'rapid': 1, 'accompanied': 3, 'courtesies': 1, 'continual': 2, 'defended': 1, 'criticism': 1, 'suspecting': 4, 'addressing': 9, 'eyebrows': 2, 'correct': 1, 'eyelashes': 1, 'resemblance': 2, 'shade': 1, 'effect': 5, 'tall': 7, 'presents': 2, 'proportions': 2, 'fore': 1, 'shortening': 1, 'prettily': 3, 'draws': 1, 'shawl': 1, 'shoulders': 1, 'doors': 4, 'tree': 3, 'safe': 11, 'touched': 2, 'placing': 1, 'admirable': 1, 'framed': 2, 'stirring': 1, 'doer': 1, 'depended': 5, 'fogs': 1, 'december': 3, 'commissions': 1, 'alert': 2, 'executing': 1, 'commission': 2, 'errand': 3, 'repetition': 2, 'entreaties': 4, 'assurances': 4, 'endure': 7, 'desired': 8, 'frame': 2, 'mostly': 1, 'safety': 5, 'pack': 1, 'incommoded': 2, 'fearful': 3, 'incommoding': 1, 'directions': 2, 'ensure': 2, 'deposit': 1, 'precious': 4, 'tender': 8, 'suit': 6, 'principal': 4, 'languish': 1, 'vii': 2, 'services': 1, 'fresh': 7, 'agitated': 3, 'longing': 3, 'hurried': 3, 'announcing': 2, 'extraordinary': 7, 'minute': 6, 'lent': 1, 'finding': 9, 'contained': 2, 'copy': 1, 'besides': 8, 'direct': 3, 'parcel': 1, 'songs': 1, 'fast': 6, 'ashamed': 10, 'wrote': 8, 'asking': 2, 'connect': 1, 'd': 5, 'pressed': 2, 'expectation': 5, 'writer': 1, 'language': 4, 'conveyed': 5, 'errors': 2, 'sentiments': 4, 'disgraced': 2, 'composition': 1, 'grammatical': 1, 'delicacy': 7, 'propriety': 3, 'liberality': 2, 'expressed': 5, 'forced': 5, 'paused': 2, 'anxiously': 2, 'helped': 1, 'slowly': 4, 'diffuse': 1, 'express': 7, 'concise': 1, 'strongly': 2, 'takes': 6, 'pen': 1, 'clearly': 2, 'vigorous': 1, 'certain': 12, 'returning': 5, 'speedily': 1, 'intelligible': 5, 'unequivocal': 1, 'requires': 2, 'demurs': 1, 'doubts': 4, 'unbidden': 1, 'expressions': 4, 'inflicting': 1, 'prompted': 2, 'write': 12, 'disappointment': 10, 'beg': 5, 'mistake': 3, 'pardon': 3, 'purport': 1, 'misunderstanding': 1, 'wording': 1, 'reserve': 9, 'continued': 13, 'contemplating': 1, 'powerful': 2, 'apprehend': 3, 'persevered': 1, 'bewitching': 1, 'silence': 9, 'accept': 4, 'hesitate': 2, 'thus': 5, 'duty': 10, 'hesitating': 2, 'safer': 1, 'graciously': 1, 'prefer': 3, 'occur': 5, 'definition': 1, 'deceive': 1, 'confused': 2, 'thoughtfully': 1, 'instead': 16, 'twisted': 1, 'mechanically': 1, 'result': 3, 'hopes': 7, 'waited': 1, 'impatience': 1, 'approving': 2, 'suspense': 1, 'grieved': 4, 'wavering': 2, 'visited': 3, 'forcibly': 1, 'surmised': 1, 'aghast': 1, 'escape': 6, 'honour': 10, 'dreadful': 6, 'severe': 7, 'pang': 1, 'killed': 3, 'banished': 1, 'visiting': 6, 'conceited': 4, 'natured': 6, 'censure': 2, 'conscience': 3, 'opposing': 2, 'consideration': 9, 'writing': 7, 'offending': 1, 'consolation': 4, 'cares': 4, 'protest': 2, 'formation': 1, 'advised': 2, 'sentence': 2, 'ungrateful': 1, 'replying': 2, 'tendency': 2, 'decisive': 3, 'brace': 1, 'sealed': 1, 'bringing': 6, 'tone': 10, 'invited': 6, 'draper': 2, 'linen': 2, 'refinement': 2, 'teacher': 2, 'envy': 1, 'conquest': 1, 'appear': 22, 'dark': 3, 'attentions': 7, 'tattle': 1, 'tittle': 1, 'explained': 1, 'hitherto': 4, 'cheering': 2, 'rejected': 2, 'softly': 1, 'absent': 3, 'allowing': 4, 'original': 2, 'bond': 2, 'street': 6, 'modest': 2, 'horse': 1, 'mounts': 1, 'solace': 2, 'diffuses': 1, 'opens': 1, 'introduces': 1, 'prepossession': 1, 'suspicious': 1, 'imaginations': 2, 'grew': 3, 'stronger': 4, 'viii': 2, 'slept': 1, 'bed': 6, 'getting': 10, 'judged': 9, 'appropriated': 2, 'gradually': 4, 'safest': 2, 'civility': 6, 'induced': 3, 'previously': 1, 'defer': 3, 'offering': 4, 'apologies': 3, 'contrast': 2, 'amusing': 4, 'ceremony': 2, 'hesitations': 2, 'protracted': 2, 'answers': 2, 'rude': 4, 'sun': 1, 'treat': 1, 'invalids': 1, 'privileged': 1, 'stranger': 2, 'substitute': 1, 'entertain': 2, 'pace': 4, 'walker': 1, 'tedious': 1, 'greatcoat': 1, 'fetch': 2, 'chat': 2, 'seemingly': 2, 'likewise': 1, 'inclined': 4, 'voluntary': 1, 'depends': 6, 'improved': 3, 'cured': 1, 'giggle': 1, 'bestow': 1, 'overpower': 2, 'intended': 6, 'delay': 9, 'tiresome': 5, 'gossips': 1, 'wretches': 1, 'contradiction': 2, 'presently': 13, 'smile': 13, 'reason': 18, 'fix': 5, 'confidant': 1, 'dropt': 3, 'hint': 9, 'adviser': 1, 'offer': 8, 'desperately': 1, 'consult': 2, 'considers': 2, 'imprudent': 4, 'speaks': 3, 'plans': 5, 'advising': 2, 'esteemed': 1, 'counsellor': 1, 'detained': 4, 'wretch': 1, 'absolutely': 11, 'inferred': 2, 'refused': 4, 'indignation': 2, 'red': 1, 'simpleton': 1, 'foolish': 4, 'incomprehensible': 1, 'imagines': 1, 'madness': 1, 'clearer': 2, 'address': 6, 'admit': 5, 'loudly': 2, 'calmer': 1, 'asperity': 1, 'blinds': 1, 'infatuation': 1, 'claims': 13, 'relations': 3, 'simple': 7, 'avail': 1, 'wit': 7, 'experience': 3, 'tempered': 6, 'deserts': 1, 'beneath': 2, 'helpmate': 1, 'aright': 1, 'trust': 5, 'extreme': 6, 'cry': 1, 'crossed': 4, 'partiality': 1, 'statement': 1, 'moves': 1, 'degradation': 2, 'sphere': 1, 'estimated': 1, 'richest': 1, 'illegitimacy': 1, 'legal': 1, 'allowance': 2, 'indubitable': 2, 'grudged': 1, 'level': 3, 'whoever': 2, 'shift': 1, 'move': 11, 'distaste': 1, 'ambition': 2, 'disinclined': 1, 'proceeded': 7, 'selfish': 2, 'haphazard': 1, 'farthest': 1, 'reply': 5, 'assertion': 1, 'represent': 1, 'contemptible': 3, 'slightingly': 1, 'fall': 8, 'nice': 6, 'minds': 3, 'sought': 4, 'waiving': 1, 'philosophic': 1, 'consequently': 4, 'chusing': 2, 'recommendations': 1, 'ninety': 1, 'certainty': 4, 'nine': 2, 'possesses': 1, 'comprehending': 3, 'readiness': 2, 'highest': 4, 'possess': 1, 'abusing': 1, 'misapply': 1, 'bewitches': 1, 'satisfies': 1, 'delights': 1, 'pick': 1, 'receives': 1, 'wondered': 3, 'perceive': 7, 'unfortunate': 4, 'puff': 1, 'mischief': 1, 'weak': 4, 'produces': 1, 'working': 1, 'expectations': 2, 'offers': 2, 'connecting': 1, 'involved': 2, 'disgrace': 1, 'mystery': 2, 'revealed': 1, 'prudent': 2, 'parentage': 1, 'obscurity': 1, 'master': 4, 'desperate': 2, 'teach': 1, 'greatly': 2, 'encourage': 1, 'canvassing': 1, 'angry': 7, 'application': 2, 'abide': 1, 'refusal': 4, 'tolerate': 1, 'assistant': 1, 'altered': 2, 'errant': 1, 'sincerity': 2, 'unconcerned': 2, 'opposite': 4, 'habitual': 1, 'unpleasant': 6, 'views': 9, 'secret': 2, 'projects': 1, 'laughed': 7, 'disclaimed': 1, 'sentimentally': 2, 'act': 5, 'unreserved': 1, 'pounds': 4, 'apiece': 1, 'thousand': 4, 'doings': 1, 'abruptly': 3, 'vexed': 2, 'sanction': 2, 'exceedingly': 7, 'affair': 2, 'provoking': 4, 'promoting': 1, 'indistinctness': 1, 'adversary': 1, 'adequate': 1, 'restoratives': 1, 'materially': 1, 'cast': 3, 'staying': 8, 'uneasy': 2, 'possibility': 8, 'pleading': 1, 'justify': 2, 'uneasiness': 5, 'failure': 2, 'prominent': 2, 'hastily': 3, 'resentfully': 1, 'observer': 1, 'pretensions': 2, 'war': 1, 'otherwise': 9, 'motives': 4, 'inconsiderate': 1, 'attentive': 6, 'effects': 4, 'originally': 1, 'suggest': 2, 'prudence': 4, 'overcoming': 1, 'whist': 3, 'shabby': 1, 'enviable': 1, 'bearer': 1, 'club': 2, 'player': 1, 'clayton': 1, 'journey': 9, 'attend': 5, 'park': 1, 'sick': 5, 'remonstrated': 1, 'rode': 1, 'conscious': 3, 'agreeableness': 1, 'significantly': 1, 'luckiest': 1, 'ix': 1, 'forgiven': 1, 'proceedings': 1, 'endeared': 1, 'justified': 2, 'sighed': 2, 'visibly': 2, 'elegantly': 1, 'furnished': 1, 'utmost': 6, 'latter': 1, 'remembered': 5, 'intention': 4, 'chapters': 1, 'improving': 1, 'enlarge': 1, 'ornamented': 1, 'labouring': 1, 'pleasanter': 2, 'mental': 2, 'imagination': 7, 'riddles': 2, 'facts': 1, 'pursuit': 3, 'sober': 3, 'easier': 3, 'quarto': 1, 'paper': 10, 'literary': 1, 'trophies': 1, 'transcribing': 1, 'comprehension': 2, 'collecting': 1, 'ciphers': 1, 'hot': 1, 'range': 2, 'grand': 4, 'scale': 1, 'literature': 1, 'collections': 1, 'assisted': 1, 'invention': 1, 'recollect': 6, 'putting': 4, 'worth': 9, 'kitty': 3, 'frozen': 3, 'ended': 4, 'riddle': 3, 'intellects': 2, 'requisition': 1, 'ungallant': 1, 'breathe': 1, 'contribute': 1, 'enigmas': 1, 'recollections': 2, 'charades': 3, 'conundrums': 1, 'lips': 2, 'intently': 2, 'charade': 21, 'recited': 1, 'puzzles': 1, 'politest': 1, 'heal': 1, 'soften': 1, 'denote': 3, 'destin': 1, 'affliction': 1, 'antidote': 1, 'doth': 1, 'transcribed': 2, 'pages': 2, 'freshness': 3, 'security': 1, 'stupidest': 1, 'fellow': 5, 'inspire': 1, 'inspiration': 1, 'addressed': 1, 'piece': 7, 'collection': 3, 'expose': 2, 'deep': 5, 'pause': 4, 'loth': 1, 'tremor': 1, 'examine': 2, 'pomp': 2, 'kings': 2, 'earth': 4, 'displays': 2, 'lords': 2, 'luxury': 3, 'ease': 8, 'monarch': 3, 'behold': 3, 'seas': 3, 'reverse': 3, 'slave': 2, 'sea': 13, 'reigns': 3, 'lord': 2, 'flown': 2, 'freedom': 3, 'bends': 2, 'supply': 5, 'beam': 2, 'approval': 2, 'thy': 2, 'puzzling': 1, 'passing': 10, 'dulness': 2, 'caught': 7, 'confusion': 5, 'pondered': 2, 'courtship': 2, 'addresses': 3, 'approve': 4, 'epithets': 1, 'justest': 1, 'humph': 1, 'convince': 5, 'benefit': 3, 'crisis': 1, 'observations': 3, 'eagerness': 5, 'kingdom': 2, 'neptune': 1, 'trident': 1, 'mermaid': 2, 'shark': 3, 'syllable': 5, 'sharks': 1, 'mermaids': 1, 'listen': 10, 'court': 1, 'cream': 1, 'ship': 1, 'follows': 1, 'resist': 3, 'concluding': 3, 'pointed': 1, 'receive': 6, 'completest': 1, 'clear': 5, 'eligibility': 1, 'congratulate': 2, 'confirm': 1, 'alliance': 4, 'articulate': 1, 'arrive': 3, 'embraces': 1, 'acknowledgment': 2, 'verses': 2, 'prologue': 1, 'prose': 2, 'play': 6, 'motto': 1, 'month': 5, 'strangest': 1, 'smiths': 1, 'eltons': 2, 'courts': 1, 'pre': 1, 'homes': 1, 'respective': 1, 'channel': 1, 'sends': 1, 'smooth': 4, 'passage': 2, 'edition': 1, 'shakespeare': 1, 'michaelmas': 1, 'handsomest': 3, 'invitations': 2, 'texts': 1, 'preached': 1, 'staid': 5, 'scolded': 1, 'abbots': 1, 'front': 4, 'ran': 4, 'peeped': 1, 'arm': 4, 'cole': 38, 'provided': 3, 'fools': 2, 'conduct': 10, 'satisfy': 5, 'rise': 5, 'phrase': 2, 'nicely': 3, 'twelvemonth': 3, 'studied': 1, 'declining': 2, 'exception': 2, 'intent': 2, 'comparisons': 1, 'glow': 2, 'cheeks': 1, 'rejection': 1, 'beaming': 1, 'committed': 2, 'private': 5, 'divide': 2, 'couplet': 1, 'appropriation': 1, 'ceases': 2, 'poet': 1, 'capacities': 1, 'submitted': 2, 'parts': 1, 'publicity': 1, 'lasts': 1, 'pays': 1, 'tenderest': 1, 'refine': 1, 'affix': 1, 'improperly': 1, 'affixed': 1, 'betray': 3, 'tribute': 2, 'overpowered': 2, 'pushed': 1, 'secrecy': 1, 'proceed': 2, 'souls': 1, 'ridiculous': 2, 'inquiry': 5, 'recurrence': 1, 'dears': 2, 'fairy': 2, 'conclusion': 3, 'explanations': 2, 'complimentary': 1, 'distinctly': 3, 'aye': 3, 'nodded': 1, 'stanza': 1, 'aid': 2, 'fatal': 1, 'approach': 3, 'near': 24, 'deplore': 1, 'wink': 1, 'flame': 1, 'hood': 1, 'kindled': 1, 'page': 1, 'garrick': 1, 'grandmama': 5, 'catherine': 1, 'christened': 1, 'nursery': 2, 'easter': 2, 'sadly': 2, 'inconvenient': 2, 'lawyer': 3, 'necessity': 6, '28th': 2, 'thankful': 2, 'promises': 3, 'musing': 1, 'accomplish': 1, 'affected': 3, 'branch': 2, 'submissive': 1, 'unwelcome': 2, 'eldest': 5, 'string': 2, 'grandpapa': 1, 'chair': 4, 'knives': 1, 'grandpapas': 1, 'knife': 1, 'rough': 2, 'papas': 1, 'misbehave': 1, 'hardy': 1, 'boys': 3, 'sharp': 2, 'frightful': 1, 'tosses': 1, 'ceiling': 1, 'whichever': 1, 'clock': 6, 'preparation': 3, 'o': 5, 'hero': 1, 'die': 2, 'push': 1, 'discerned': 3, 'ostensible': 1, 'promised': 2, 'conditionally': 1, 'dining': 5, 'thanked': 2, 'disappointing': 2, 'rubber': 1, 'urged': 2, 'bow': 3, 'declined': 4, 're': 1, 'amiss': 2, 'examined': 1, 'doubtingly': 2, 'glanced': 1, 'smilingly': 1, 'writes': 3, 'honoured': 3, 'effusion': 2, 'proudest': 1, 'replacing': 1, 'incline': 1, 'apt': 4, 'laugh': 3, 'speeches': 1, 'parade': 2, 'sublime': 1, 'indulge': 4, 'x': 1, 'charitable': 3, 'leading': 4, 'irregular': 1, 'main': 2, 'broad': 4, 'cottage': 6, 'detached': 1, 'angles': 1, 'abode': 1, 'dwellings': 1, 'rose': 4, 'proprietor': 1, 'slackened': 1, 'smartened': 1, 'remark': 3, 'observing': 5, 'admires': 1, 'curtains': 1, 'yellow': 1, 'hedges': 2, 'gates': 1, 'pools': 1, 'pollards': 1, 'intimately': 1, 'probabilities': 1, 'exteriors': 1, 'class': 2, 'contrive': 3, 'housekeeper': 5, 'message': 3, 'pretence': 5, 'induce': 3, 'tempted': 4, 'recollecting': 2, 'inducements': 1, 'fool': 1, 'image': 1, 'formidable': 1, 'relative': 2, 'prosing': 1, 'undistinguishing': 1, 'unfastidious': 1, 'unmarried': 1, 'poverty': 3, 'celibacy': 1, 'narrow': 4, 'sport': 1, 'sour': 1, 'contract': 1, 'candour': 3, 'perforce': 1, 'illiberal': 1, 'barely': 3, 'apply': 1, 'contracted': 1, 'sixpence': 1, 'shilling': 1, 'resources': 1, 'occupations': 1, 'variation': 1, 'carpet': 1, 'affections': 3, 'avoided': 2, 'sensation': 3, 'parent': 1, 'warmer': 4, 'fear': 2, 'blinder': 1, 'nieces': 2, 'nephews': 2, 'niece': 9, 'heaven': 2, 'forbid': 2, 'knightleys': 3, 'fairfax': 86, 'grandmother': 8, 'knit': 1, 'stomacher': 1, 'garters': 1, 'tires': 1, 'death': 4, 'superseded': 2, 'topics': 2, 'compassionate': 2, 'relief': 4, 'counsel': 2, 'purse': 1, 'distresses': 1, 'intelligence': 6, 'romantic': 1, 'temptations': 1, 'virtue': 2, 'troubles': 1, 'sympathy': 3, 'scene': 2, 'sickness': 1, 'impression': 4, 'remaining': 1, 'sights': 1, 'trifling': 7, 'vanish': 1, 'creatures': 5, 'slippery': 1, 'tottering': 1, 'footstep': 1, 'hedge': 1, 'path': 4, 'wretchedness': 1, 'stopping': 1, 'recall': 1, 'bend': 3, 'stability': 1, 'trial': 2, 'sufferers': 1, 'exertion': 3, 'ourselves': 6, 'empty': 1, 'wretched': 4, 'distressing': 3, 'joined': 6, 'sufferings': 1, 'parley': 1, 'accompany': 2, 'increase': 2, 'footpath': 3, 'imitation': 1, 'stopped': 4, 'lacing': 1, 'begged': 4, 'boot': 4, 'stooping': 1, 'alteration': 1, 'pitcher': 1, 'setting': 5, 'broth': 1, 'orders': 1, 'overtaken': 2, 'ahead': 1, 'obligation': 3, 'acting': 3, 'theirs': 1, 'involuntarily': 1, 'around': 6, 'join': 3, 'cheese': 1, 'butter': 2, 'stilton': 1, 'north': 1, 'beet': 1, 'wiltshire': 1, 'experienced': 1, 'cellery': 1, 'detail': 1, 'root': 1, 'dessert': 2, 'serve': 1, 'interests': 1, 'consoling': 1, 'pales': 1, 'quietly': 3, 'arrange': 2, 'rights': 2, 'dexterously': 1, 'inability': 1, 'ditch': 1, 'stop': 9, 'broke': 1, 'throwing': 1, 'acknowledged': 4, 'lace': 2, 'equipped': 1, 'ribband': 1, 'proposition': 2, 'conducting': 1, 'exceed': 3, 'alertness': 2, 'communicated': 1, 'ajar': 2, 'fully': 4, 'practicable': 2, 'incessant': 2, 'windows': 2, 'lovers': 2, 'glory': 2, 'aspect': 1, 'successfully': 2, 'schemed': 1, 'allusions': 1, 'gallantries': 1, 'purposely': 2, 'believes': 1, 'inch': 2, 'advances': 1, 'hazard': 4, 'cautious': 2, 'device': 2, 'ingenious': 2, 'xi': 1, 'quicken': 1, 'measures': 1, 'superintend': 1, 'fortuitous': 1, 'anticipation': 2, 'reality': 1, 'henceforth': 1, 'prime': 1, 'advance': 2, 'rapidly': 4, 'somehow': 2, 'surry': 4, 'exciting': 2, 'autumn': 5, 'holidays': 1, 'vacation': 1, 'apprehensively': 1, 'forestalling': 1, 'bathing': 6, 'nervously': 1, 'coachman': 4, 'alarms': 2, 'fatigues': 2, 'competent': 2, 'reaching': 1, 'maids': 1, 'needless': 1, 'playing': 2, 'arrival': 7, 'dispersed': 1, 'drinking': 3, 'restless': 1, 'endured': 3, 'variously': 2, 'noise': 2, 'instantly': 5, 'ones': 3, 'disturbance': 1, 'solicitude': 3, 'respected': 1, 'attendance': 3, 'maternal': 1, 'bustle': 3, 'tenderly': 1, 'ties': 1, 'doating': 1, 'wrapt': 3, 'wingfield': 9, 'fears': 7, 'also': 5, 'inherited': 2, 'habit': 6, 'benevolence': 2, 'alike': 4, 'reserved': 7, 'profession': 3, 'capable': 2, 'prevented': 3, 'unreasonably': 1, 'defects': 1, 'worshipping': 1, 'perfection': 6, 'reproach': 4, 'ungracious': 2, 'clearness': 2, 'law': 8, 'escaped': 2, 'injuries': 1, 'forbearance': 2, 'regardless': 1, 'calmly': 1, 'blindness': 2, 'bestowed': 1, 'retort': 1, 'remonstrance': 1, 'peculiarities': 1, 'fidgetiness': 1, 'charity': 3, 'cordiality': 2, 'properest': 1, 'unsullied': 1, 'seated': 8, 'shake': 3, 'grievous': 1, 'agrees': 2, 'plaintive': 2, 'hesitated': 1, 'excepting': 8, 'false': 1, 'exact': 1, 'extent': 2, 'letters': 4, 'doubted': 1, 'disengaged': 1, 'forget': 15, 'strike': 1, 'convenience': 4, 'aside': 3, 'slighting': 1, 'advocate': 1, 'misery': 3, 'existed': 1, 'scarlet': 1, 'kite': 1, 'flying': 1, 'windy': 2, 'september': 4, 'fever': 2, 'cobham': 1, 'passes': 1, 'fly': 3, 'exceeding': 1, 'signed': 2, 'dated': 1, 'weymouth': 12, 'f': 1, 'c': 2, 'sept': 1, 'madam': 3, 'coolly': 5, 'depending': 1, 'finds': 1, 'affords': 1, 'bordered': 2, 'resulted': 1, 'whence': 1, 'sufficiency': 1, 'xii': 1, 'procuring': 2, 'disagreement': 2, 'assist': 4, 'danced': 1, 'arms': 2, 'restoration': 1, 'concession': 1, 'quarrelled': 1, 'amity': 1, 'unceremoniousness': 1, 'sauciness': 1, 'estimate': 1, 'whim': 1, 'dealings': 1, 'discordancies': 1, 'understandings': 1, 'lapse': 1, 'lives': 3, 'example': 2, 'grievances': 1, 'renewing': 1, 'argument': 2, 'bitterly': 1, 'disappointed': 7, 'ye': 2, 'burying': 1, 'english': 3, 'calmness': 2, 'succeeded': 5, 'indifference': 5, 'requisite': 3, 'mixing': 1, 'occasionally': 4, 'subjects': 6, 'rarely': 2, 'conversable': 2, 'communicative': 1, 'curious': 1, 'anecdote': 1, 'fail': 3, 'local': 2, 'attachments': 1, 'magistrate': 1, 'field': 2, 'longest': 1, 'spring': 2, 'equality': 2, 'drain': 1, 'cooler': 2, 'felling': 1, 'destination': 1, 'turnips': 1, 'fence': 1, 'wheat': 1, 'acre': 1, 'corn': 1, 'rendered': 3, 'terribly': 2, 'interrupting': 1, 'labours': 1, 'tired': 7, 'basins': 1, 'article': 3, 'unpersuadable': 2, 'ordered': 3, 'discourse': 1, 'south': 8, 'strenuously': 1, 'throat': 10, 'weakness': 1, 'unsafe': 1, 'envious': 1, 'miserable': 5, 'prohibited': 1, 'forgets': 1, 'tells': 5, 'bilious': 2, 'practice': 2, 'calling': 9, 'applying': 1, 'embrocation': 2, 'august': 1, 'attributed': 1, 'bateses': 4, 'prevalent': 1, 'colds': 2, 'influenza': 1, 'heavy': 4, 'sickly': 4, 'confound': 1, 'neighbourhood': 5, 'airy': 3, 'vicinity': 1, 'palpitations': 1, 'aches': 1, 'pale': 2, 'turning': 9, 'middling': 1, 'fatigued': 1, 'coddling': 1, 'doctoring': 1, 'intending': 3, 'graham': 1, 'scotland': 1, 'bailiff': 1, 'prejudice': 2, 'praising': 1, 'accidentally': 1, 'excessively': 3, 'campbell': 33, 'colonel': 22, 'discussed': 1, 'similar': 1, 'topic': 2, 'agitation': 6, 'harmony': 1, 'recent': 1, 'undoubting': 1, 'failures': 1, 'houses': 6, 'comments': 1, 'unfortunately': 2, 'cook': 1, 'hired': 1, 'wholesomeness': 1, 'philippics': 1, 'dangerous': 4, 'fixing': 1, 'ejaculation': 1, 'shaking': 1, 'ear': 3, 'consequences': 1, 'rumination': 1, 'suffice': 1, 'restore': 2, 'relish': 1, 'interval': 4, 'moreover': 2, 'unhealthy': 2, 'mud': 1, 'cromer': 2, 'holds': 2, 'pure': 1, 'lodgings': 1, 'consulted': 2, 'travel': 3, 'stake': 1, 'breaking': 2, 'reached': 7, 'coast': 1, 'drugs': 1, 'dryness': 1, 'sarcastic': 1, 'convey': 3, 'interposition': 1, 'cut': 10, 'langham': 1, 'meadows': 1, 'moving': 3, 'conceive': 2, 'maps': 1, 'proving': 3, 'harsh': 1, 'reflections': 3, 'attributing': 1, 'renewal': 3, 'soothing': 1, 'unconsciously': 2, 'xiii': 1, 'swiftly': 1, 'mornings': 1, 'avoiding': 3, 'engagement': 5, 'denial': 2, 'preference': 4, 'division': 1, 'amounted': 1, 'carriages': 6, 'occupy': 6, 'especial': 1, 'numbers': 4, '24th': 1, 'doom': 1, 'feverish': 1, 'excluded': 2, 'sore': 7, 'comfortless': 1, 'absences': 1, 'unavoidable': 1, 'representing': 1, 'rice': 1, 'pudding': 1, 'advanced': 2, 'carry': 3, 'mutton': 3, 'roast': 3, 'despatch': 1, 'glowing': 1, 'hastening': 1, 'invalid': 2, 'inflamed': 1, 'liable': 3, 'throats': 1, 'pulse': 1, 'heat': 1, 'describing': 1, 'complaint': 5, 'alarm': 8, 'infectious': 2, 'putrid': 1, 'risks': 1, 'tranquillised': 1, 'feed': 1, 'excess': 1, 'remain': 3, 'snow': 15, 'interfere': 2, 'hoarse': 2, 'demand': 1, 'previous': 3, 'conceptions': 1, 'muttering': 1, 'extricated': 1, 'impartially': 1, 'vision': 1, 'rejoicing': 1, 'accepting': 2, 'prompt': 2, 'civilly': 2, 'exulting': 2, 'dignities': 1, 'employments': 1, 'duties': 2, 'naming': 2, 'prepared': 7, 'assuring': 1, 'news': 16, 'parting': 4, 'balance': 1, 'works': 1, 'overlook': 2, 'negligent': 2, 'moderate': 6, 'slyness': 1, 'imagining': 2, 'astonishment': 5, 'behaviour': 9, 'regulate': 1, 'accordingly': 3, 'ascertain': 1, 'blunders': 2, 'mistakes': 1, 'increasing': 3, 'punctually': 2, 'coldness': 3, 'shrinking': 1, 'motion': 1, 'milder': 1, 'white': 4, 'overcharged': 1, 'sky': 1, 'flakes': 2, 'happiest': 1, 'sacrifice': 4, 'expressing': 2, 'abroad': 3, 'disagreeables': 1, 'drive': 5, 'discontent': 1, 'encounter': 2, 'folly': 5, 'snowing': 3, 'absurdity': 1, 'defiance': 2, 'clothing': 1, 'thinner': 1, 'shelter': 2, 'deem': 2, 'dull': 2, 'colder': 1, 'dismal': 1, 'rooms': 3, 'shivering': 1, 'servants': 4, 'travelling': 3, 'assent': 1, 'administered': 1, 'usually': 1, 'emulate': 1, 'quarrelsome': 1, 'heroism': 1, 'complying': 2, 'wrapped': 1, 'glasses': 2, 'step': 5, 'arrived': 8, 'spruce': 1, 'dressing': 1, 'lengthened': 1, 'dress': 3, 'cordial': 5, 'flattered': 1, 'complaints': 1, 'estimable': 1, 'lasted': 1, 'dismay': 1, 'sheepskin': 1, 'precautions': 1, 'modern': 1, 'contrivances': 1, 'unpermitted': 1, 'guarded': 1, 'breath': 2, 'fenced': 1, 'afternoon': 2, 'ha': 2, 'snows': 1, 'extremely': 15, 'seasonable': 1, 'invites': 1, 'snowed': 2, 'nnight': 1, 'se': 1, 'astonished': 2, 'fires': 2, 'hospitable': 1, 'select': 1, 'values': 1, 'accommodate': 2, 'enter': 2, 'slavery': 1, 'paid': 8, 'sweep': 3, 'gate': 3, 'xiv': 1, 'joyous': 1, 'disperse': 1, 'related': 1, 'perplexities': 2, 'arrangements': 1, 'uninterrupted': 1, 'gratifications': 1, 'communication': 4, 'enjoy': 3, 'enjoyable': 1, 'oddities': 1, 'engrossed': 1, 'project': 1, 'insensibility': 1, 'obtruding': 1, 'continually': 3, 'solicitously': 1, 'elbow': 1, 'suggestion': 1, 'internal': 1, 'avoid': 4, 'absurd': 1, 'transfer': 1, 'insufferable': 2, 'effort': 4, 'preserve': 2, 'zeal': 1, 'overpowering': 1, 'positively': 2, 'amongst': 2, 'reviving': 1, 'syllables': 1, 'replete': 1, 'coupled': 1, 'sensations': 5, 'appearing': 2, 'timed': 1, 'polite': 1, 'substance': 4, 'saddle': 1, 'released': 1, 'assented': 1, 'sacrifices': 2, 'january': 5, 'secrets': 1, 'stir': 2, 'issue': 1, 'nodding': 1, 'vagaries': 1, 'calculate': 2, 'whims': 4, 'caprices': 1, 'stone': 1, 'devil': 1, 'wishing': 5, 'undergoing': 1, 'sanguine': 5, 'stands': 1, 'spare': 4, 'rules': 3, 'blessing': 3, 'instinctive': 1, 'confinement': 2, 'gladly': 2, 'apprehensive': 2, 'delays': 2, 'braithwaites': 1, 'jealousy': 1, 'jealous': 1, 'teazed': 1, 'decides': 1, 'individual': 2, 'caution': 5, 'nephew': 4, 'owes': 1, 'exercises': 1, 'xv': 1, 'lateness': 1, 'separations': 1, 'chatty': 2, 'convivial': 1, 'augmentation': 1, 'improprieties': 1, 'awake': 1, 'terror': 1, 'perverse': 1, 'infection': 2, 'learnt': 2, 'earnestness': 1, 'chamber': 1, 'inconstancy': 2, 'concealing': 2, 'abominable': 1, 'behaving': 1, 'disorder': 1, 'persuasions': 1, 'implore': 1, 'scrupulous': 1, 'careless': 1, 'ulcerated': 1, 'catching': 2, 'nurse': 2, 'complain': 3, 'assuming': 3, 'offended': 2, 'removing': 1, 'covered': 3, 'reproof': 1, 'opened': 3, 'succeed': 2, 'examining': 1, 'drifting': 1, 'wind': 2, 'prove': 5, 'engagements': 3, 'storm': 1, 'consternation': 1, 'pursuing': 1, 'unfeelingly': 1, 'blown': 1, 'impassable': 2, 'bleak': 1, 'midnight': 1, 'hurrying': 5, 'confessing': 1, 'lest': 1, 'impede': 2, 'lodged': 2, 'accommodation': 3, 'contrivance': 1, 'exclamation': 1, 'representation': 1, 'revived': 3, 'accumulations': 1, 'drifted': 1, 'adventurous': 1, 'blocked': 1, 'along': 3, 'shod': 1, 'discussing': 1, 'whiten': 1, 'clouds': 1, 'nowhere': 2, 'coachmen': 1, 'appeased': 1, 'tidings': 2, 'brief': 1, 'urging': 1, 'recommending': 2, 'bell': 2, 'ring': 1, 'rung': 1, 'recover': 1, 'cool': 1, 'deposited': 1, 'carefully': 2, 'discovery': 3, 'darker': 1, 'lawfully': 1, 'shut': 2, 'escorted': 1, 'tete': 1, 'stept': 2, 'quarters': 2, 'suspicions': 6, 'availing': 1, 'fearing': 1, 'seriously': 6, 'adoring': 1, 'hoping': 2, 'unexampled': 1, 'unequalled': 1, 'declaring': 1, 'ardent': 1, 'restrain': 2, 'violent': 1, 'seized': 3, 'gravity': 1, 'demanded': 1, 'resolved': 10, 'professing': 1, 'apology': 1, 'diffidence': 2, 'vainly': 1, 'resolve': 2, 'drunkenness': 1, 'deliver': 1, 'boastful': 1, 'accent': 2, 'amazement': 1, 'confuse': 1, 'elevate': 1, 'drunk': 1, 'slightly': 2, 'resumed': 2, 'urgent': 2, 'acknowledging': 1, 'protested': 2, 'suspicion': 6, 'injurious': 1, 'fewer': 2, 'struggles': 1, 'inebriety': 1, 'presumption': 4, 'politeness': 3, 'unsteadiness': 2, 'witnessed': 1, 'professions': 4, 'alive': 2, 'dead': 1, 'misled': 2, 'sole': 1, 'marking': 2, 'adoration': 2, 'insinuating': 1, 'uppermost': 1, 'joyously': 1, 'interpret': 1, 'confesses': 2, 'error': 4, 'attraction': 5, 'affronted': 1, 'respectably': 1, 'ends': 1, 'inequality': 2, 'misconception': 1, 'swelling': 2, 'supplication': 1, 'resentment': 4, 'embarrassment': 2, 'zigzags': 1, 'emotions': 1, 'indispensable': 1, 'coldly': 1, 'proudly': 1, 'irritation': 2, 'indescribable': 1, 'solicitous': 2, 'dangers': 1, 'needed': 2, 'perturbation': 2, 'separating': 1, 'trembling': 2, 'xvi': 1, 'curled': 1, 'blow': 2, 'overthrow': 1, 'development': 1, 'mis': 2, 'humiliation': 2, 'doubled': 1, 'unmarked': 1, 'dubious': 1, 'jumble': 1, 'headed': 1, 'thick': 2, 'instant': 3, 'unnecessarily': 1, 'start': 2, 'indebted': 2, 'indiscreetly': 1, 'shewn': 5, 'mortifying': 2, 'respects': 2, 'sunk': 2, 'proposals': 2, 'insulted': 1, 'pretended': 1, 'arrogance': 1, 'abundance': 1, 'sighs': 1, 'devise': 1, 'allied': 1, 'aggrandise': 1, 'enrich': 1, 'heiress': 1, 'gradations': 1, 'ancient': 1, 'younger': 1, 'ordinary': 1, 'alliances': 1, 'raving': 1, 'observation': 5, 'belonged': 4, 'incongruity': 1, 'courtesy': 1, 'landed': 1, 'inconsiderable': 2, 'honesty': 1, 'motive': 2, 'secondary': 1, 'complaisant': 1, 'sources': 1, 'warrant': 1, 'notch': 1, 'misinterpreted': 1, 'trick': 1, 'adventuring': 1, 'introducing': 2, 'william': 2, 'coxe': 2, 'pert': 1, 'relapse': 1, 'cogitation': 1, 'dispiriting': 1, 'unmirthful': 1, 'explanation': 3, 'future': 4, 'eclat': 1, 'discontinuing': 1, 'continuing': 2, 'blundered': 1, 'subduing': 1, 'temporary': 1, 'gloom': 1, 'analogy': 1, 'unclosed': 1, 'operation': 2, 'poignant': 1, 'brighter': 1, 'softened': 3, 'alleviations': 2, 'acute': 2, 'disappoint': 2, 'retentive': 1, 'principals': 1, 'asunder': 1, 'further': 1, 'unfriendly': 1, 'unsettled': 1, 'atmosphere': 1, 'frost': 1, 'freeze': 1, 'prisoner': 1, 'thaw': 1, 'excuses': 4, 'absenting': 2, 'confine': 1, 'wise': 1, 'amiableness': 1, 'cleared': 1, 'seclusion': 1, 'hanging': 1, 'xvii': 1, 'innocently': 1, 'lamentations': 1, 'feminine': 1, 'doated': 1, 'regretted': 2, 'bath': 9, 'impossibility': 1, 'compliance': 2, 'proposing': 1, 'commands': 1, 'ceremonious': 2, 'retain': 1, 'agreeably': 3, 'announced': 1, 'pointedly': 1, 'acknowledgments': 1, 'solemnity': 1, 'lonely': 1, 'promptitude': 1, 'recovered': 3, 'industriously': 2, 'convictions': 1, 'destroy': 2, 'prophecies': 1, 'undergo': 1, 'penance': 4, 'grossly': 1, 'feeding': 1, 'confession': 1, 'renewed': 1, 'lowly': 1, 'testifying': 1, 'blaming': 1, 'ingenuousness': 1, 'attaching': 1, 'modesty': 1, 'abundantly': 1, 'console': 1, 'artless': 2, 'resemble': 1, 'dignity': 4, 'welfare': 2, 'minded': 2, 'repressing': 1, 'discreet': 1, 'promote': 2, 'method': 3, 'striving': 2, 'unvarying': 1, 'inadequate': 1, 'sympathise': 1, 'extinction': 1, 'composure': 1, 'routine': 1, 'betraying': 1, 'strive': 1, 'non': 1, 'inevitable': 1, 'maintained': 1, 'unrequited': 1, 'resolutely': 2, 'persisting': 1, 'evident': 2, 'effecting': 1, 'removal': 1, 'moderation': 2, 'repellent': 1, 'cooling': 1, 'cure': 4, 'wound': 2, 'xviii': 1, 'distant': 2, 'proportionate': 1, 'occurs': 1, 'depression': 1, 'flies': 1, 'begins': 2, 'suffered': 3, 'restored': 3, 'suffer': 4, 'foresaw': 1, 'temptation': 3, 'announce': 2, 'perceived': 1, 'gala': 1, 'ending': 1, 'arguments': 1, 'unnatural': 2, 'luxurious': 2, 'contrived': 2, 'tempers': 1, 'conceived': 1, 'amount': 1, 'limb': 1, 'idlest': 1, 'rid': 2, 'haunts': 1, 'watering': 2, 'proves': 1, 'unfair': 3, 'interior': 1, 'chuses': 2, 'finessing': 1, 'vigour': 1, 'manoeuvring': 1, 'messages': 1, 'simply': 1, 'rightly': 2, 'mark': 1, 'opposition': 1, 'situations': 3, 'loud': 1, 'provide': 2, 'expedients': 1, 'shifts': 1, 'exerting': 1, 'meanly': 1, 'hearts': 1, 'principle': 1, 'consistently': 1, 'bending': 1, 'unmanageable': 1, 'knack': 1, 'transported': 1, 'observance': 1, 'obedience': 1, 'nought': 1, 'burst': 5, 'roused': 1, 'opposed': 1, 'yielding': 1, 'notions': 3, 'expert': 1, 'hit': 1, 'falsehoods': 1, 'preventing': 1, 'preserving': 1, 'flourishing': 1, 'singular': 1, 'doubly': 1, 'omission': 2, 'signified': 2, 'behindhand': 1, 'french': 1, 'aimable': 1, 'plausible': 1, 'treasure': 1, 'virtues': 2, 'throughout': 2, 'parishes': 2, 'powered': 2, 'chattering': 1, 'coxcomb': 3, 'enable': 1, 'farming': 1, 'require': 3, 'breathing': 1, 'practised': 1, 'king': 1, 'display': 1, 'flatteries': 1, 'dispensing': 1, 'politician': 1, 'conduce': 2, 'puppy': 1, 'prejudiced': 3, 'sins': 1, 'scanty': 1, 'imperfection': 2, 'contributing': 1, 'presumed': 1, 'counteract': 1, 'waste': 1, 'floor': 1, 'sized': 2, 'cordially': 2, 'beaufet': 1, 'knitting': 1, 'apartment': 1, 'thanks': 5, 'warmest': 1, 'coles': 9, 'commendation': 2, 'ceremonies': 1, 'ball': 3, 'wander': 1, 'misses': 1, 'handsomely': 2, 'mistresses': 1, 'usher': 1, 'jumped': 1, 'inquiring': 3, 'dancing': 4, 'unexpected': 2, 'eagerly': 3, 'hunting': 1, 'hid': 1, 'huswife': 2, 'apologise': 1, 'fills': 1, 'crosses': 1, 'ma': 2, 'checker': 1, 'hetty': 1, 'pore': 1, 'amazingly': 1, 'god': 1, 'spectacles': 1, 'handwriting': 2, 'beautifully': 1, 'deaf': 3, 'twice': 3, 'pondering': 2, 'meanwhile': 1, 'deafness': 1, 'raising': 1, 'remarkable': 2, 'deafer': 1, 'saturday': 3, 'friday': 3, 'tuesday': 3, 'wednesday': 1, 'ireland': 10, 'campbells': 13, 'dixon': 34, 'baly': 1, 'declare': 3, 'craig': 1, 'kingdoms': 1, 'impatient': 2, 'countries': 1, 'dublin': 1, 'press': 2, 'blame': 1, 'insidious': 2, 'animating': 1, 'excused': 1, 'accompanying': 2, 'joint': 3, 'backward': 1, 'presence': 2, 'sails': 1, 'whirling': 1, 'dashed': 2, 'prefers': 1, 'devoting': 1, 'wisely': 1, '7th': 1, 'hang': 1, 'unwell': 2, 'considerate': 2, 'holyhead': 1, 'monday': 1, 'flurry': 1, 'drawback': 3, 'poorly': 1, 'unlucky': 1, 'bless': 1, 'guard': 1, 'story': 4, 'glancing': 3, 'detain': 1, 'regained': 1, 'orphan': 1, 'lieut': 1, 'save': 2, 'fame': 3, 'consumption': 1, 'dying': 1, 'action': 1, 'sinking': 1, 'infantry': 1, 'regiment': 1, 'limited': 1, 'fondling': 1, 'engrafted': 1, 'saved': 3, 'deserving': 2, 'officer': 1, 'camp': 1, 'england': 1, 'fondness': 1, 'guest': 2, 'educating': 1, 'subsistence': 1, 'hereafter': 1, 'appointments': 1, 'discipline': 1, 'lighter': 1, 'culture': 1, 'masters': 1, 'nineteen': 1, 'instruction': 1, 'qualified': 1, 'abilities': 1, 'sharing': 1, 'judicious': 1, 'suggestions': 1, 'sobering': 1, 'remind': 1, 'unfelt': 1, 'unseen': 1, 'unabated': 1, 'defies': 1, 'eligibly': 1, 'bread': 2, 'earn': 1, 'novitiate': 1, 'retire': 1, 'fortitude': 1, 'retained': 1, 'resisted': 1, 'wiser': 1, 'relinquished': 1, 'discharged': 1, 'varying': 1, 'weakened': 1, 'human': 3, 'compatible': 1, 'truths': 1, 'double': 1, 'recovery': 1, 'treble': 1, 'novelty': 1, 'welcoming': 1, 'acquit': 2, 'refuted': 1, 'accusation': 1, 'examination': 1, 'eternal': 2, 'fuss': 1, 'reasons': 1, 'imputed': 1, 'injured': 1, 'depreciating': 1, 'magnified': 1, 'medium': 2, 'likeliest': 1, 'fat': 1, 'colour': 1, 'grey': 1, 'lashes': 1, 'fuller': 1, 'cavil': 1, 'skin': 2, 'denied': 2, 'admire': 4, 'reigning': 1, 'complacency': 2, 'rendering': 1, 'twofold': 1, 'determining': 1, 'entitling': 1, 'started': 2, 'pitiable': 1, 'mischievous': 1, 'actions': 1, 'suggested': 2, 'seduced': 1, 'successless': 1, 'effectually': 2, 'resolving': 1, 'sharer': 1, 'sucking': 1, 'career': 1, 'poison': 1, 'laborious': 1, 'purest': 1, 'prejudices': 1, 'recantation': 1, 'relapsing': 1, 'provocations': 1, 'reappeared': 2, 'ate': 1, 'workbags': 1, 'description': 2, 'exhibitions': 1, 'caps': 1, 'offences': 1, 'performance': 6, 'affectation': 1, 'necessarily': 1, 'greatness': 1, 'cloak': 1, 'suspiciously': 2, 'disgustingly': 1, 'dixons': 2, 'suitableness': 1, 'insight': 1, 'bent': 2, 'distinguished': 3, 'smoothness': 2, 'delineated': 1, 'artifice': 1, 'surmises': 1, 'changing': 1, 'procure': 3, 'forgive': 2, 'provocation': 1, 'openly': 1, 'papers': 1, 'swept': 1, 'entertained': 2, 'undone': 1, 'indulgence': 1, 'instrument': 11, 'deficient': 3, 'handed': 2, 'muffin': 1, 'arch': 1, 'arises': 1, 'discretion': 1, 'perseverance': 2, 'appease': 1, 'grease': 1, 'loin': 3, 'leg': 4, 'fried': 1, 'porker': 1, 'steaks': 1, 'pork': 6, 'hind': 2, 'salted': 2, 'boils': 1, 'carrot': 1, 'salt': 1, 'turnip': 1, 'parsnip': 1, 'hither': 2, 'quickest': 1, 'bountiful': 2, 'sound': 3, 'implied': 1, 'spencer': 1, 'bonnet': 1, 'pan': 1, 'salting': 1, 'patty': 2, 'kitchen': 1, 'washing': 1, 'hawkins': 16, 'oppress': 1, 'regards': 1, 'desires': 1, 'lot': 1, 'goodly': 1, 'heritage': 1, 'sly': 1, 'precise': 1, 'neighbour': 4, 'joyfully': 1, 'absorbing': 1, 'starting': 1, 'appeal': 1, 'standard': 1, 'pew': 1, 'wonderings': 1, 'worn': 2, 'discoveries': 4, 'whispered': 1, 'lets': 1, 'chatter': 1, 'aspired': 1, 'humouredly': 1, 'talkative': 1, 'runs': 1, 'strictly': 1, 'shower': 2, 'strangers': 1, 'lamented': 2, 'detaining': 2, 'rush': 1, 'thither': 2, 'heated': 2, 'evidence': 1, 'corresponding': 1, 'unchecked': 1, 'pour': 1, 'ford': 7, 'gown': 2, 'shop': 4, 'woollen': 1, 'haberdasher': 1, 'dealt': 1, 'fainted': 1, 'umbrella': 1, 'whispering': 1, 'buyings': 1, 'tremble': 1, 'courage': 2, 'stables': 2, 'floated': 1, 'kindly': 3, 'sincerely': 2, 'described': 2, 'genuine': 3, 'wounded': 1, 'disturbed': 3, 'discerning': 1, 'trifle': 1, 'exerted': 1, 'rejoice': 4, 'subordination': 1, 'learned': 1, 'serviceable': 1, 'retaining': 1, 'deadening': 1, 'shock': 2, 'seeking': 1, 'condescension': 1, 'dies': 1, 'christian': 1, 'circulate': 1, 'series': 1, 'debased': 1, 'deeply': 1, 'caring': 1, 'defying': 1, 'gay': 1, 'rencontre': 1, 'richly': 1, 'brown': 1, 'l': 2, 'scattered': 1, 'green': 1, 'rapidity': 2, 'augusta': 1, 'sweetly': 1, 'thousands': 1, 'steps': 1, 'glorious': 1, 'thereabouts': 1, 'blushes': 1, '10': 2, '000': 2, 'distinguishing': 1, 'accidental': 1, 'congratulated': 2, 'cautiously': 1, 'fearless': 1, 'preparations': 1, 'spread': 1, 'pretension': 1, 'pique': 1, 'moral': 1, 'lesson': 2, 'profitable': 1, 'inseparably': 1, 'administer': 1, 'lessened': 1, 'awkwardnesses': 1, 'solicitudes': 1, 'individually': 1, 'vaunted': 1, 'disdain': 1, 'attainable': 1, 'uncertain': 1, 'blood': 1, 'profits': 2, 'merchant': 1, 'mercantile': 1, 'bristol': 3, 'hazarded': 1, 'attorney': 1, 'stupid': 1, 'drudge': 1, 'guessed': 5, 'grandeur': 2, 'alas': 1, 'vacancies': 1, 'reappearance': 1, 'glimpse': 1, 'somewhere': 1, 'warmth': 2, 'conjecture': 1, 'favouring': 2, 'shoulder': 1, 'furniture': 1, 'perpetually': 1, 'hat': 1, 'invariable': 1, 'irritated': 1, 'repetitions': 2, 'ceaseless': 1, 'variations': 1, 'entertainment': 1, 'waverings': 1, 'allowable': 1, 'check': 1, 'predominated': 1, 'unhappiness': 1, 'dared': 2, 'driven': 1, 'occasioned': 2, 'dissipate': 1, 'absolute': 1, 'neglect': 1, 'ingratitude': 2, 'determine': 1, 'formal': 2, 'drove': 1, 'applications': 1, 'recurrences': 1, 'glossed': 1, 'cart': 1, 'hart': 1, 'trunk': 1, 'stars': 1, 'philip': 1, 'lifted': 1, 'rev': 1, 'coaches': 1, 'butcher': 1, 'revive': 1, 'espalier': 1, 'gravel': 2, 'trees': 1, 'portion': 1, 'unattended': 1, 'summons': 1, 'solitarily': 1, 'collected': 1, 'commonplace': 1, 'merest': 1, 'measured': 1, 'marks': 2, 'memorandums': 1, 'wainscot': 1, 'pencilled': 1, 'shortness': 1, 'justly': 1, 'thankfully': 2, 'resent': 2, 'separated': 1, 'process': 2, 'refreshment': 1, 'leaned': 1, 'commonest': 1, 'murmurs': 1, 'accosted': 1, 'oxford': 2, 'dry': 1, 'quieter': 1, 'resisting': 1, 'exhausted': 1, 'reanimation': 1, 'route': 1, 'sparkling': 1, 'innocent': 1, 'unconscious': 1, 'injunction': 1, 'amendment': 1, 'sluggish': 1, 'mounted': 1, 'wore': 1, 'augur': 2, 'geography': 1, 'tranquillity': 1, 'eleven': 1, 'faithful': 1, 'pupil': 1, 'fidgets': 1, 'downstairs': 1, 'soliloquy': 1, 'overcareful': 1, 'hall': 1, 'midst': 2, 'liveliness': 1, 'earlier': 2, 'quicker': 1, 'alter': 1, 'creep': 1, 'faster': 1, 'needs': 1, 'presume': 2, 'admirably': 1, 'falsehood': 1, 'handled': 1, 'exaggeration': 1, 'musical': 5, 'rides': 1, 'horsewoman': 1, 'balls': 2, 'fathers': 1, 'proportionably': 1, 'reception': 1, 'wisest': 1, 'conferred': 1, 'thanking': 2, 'qualify': 1, 'using': 1, 'extravagant': 1, 'acquiescence': 3, 'detected': 1, 'exemption': 1, 'objecting': 1, 'foreseeing': 1, 'treachery': 1, 'unmixed': 1, 'nights': 2, 'errands': 1, 'hay': 1, 'crown': 5, 'yours': 1, 'barnes': 1, 'mixed': 2, 'fashionable': 1, 'gifted': 1, 'concurrence': 1, 'ordinarily': 1, 'tongue': 1, 'hearty': 1, 'sees': 1, 'puddle': 1, 'hop': 1, 'nod': 1, 'permitted': 1, 'engage': 1, 'companionably': 1, 'constant': 1, 'construction': 1, 'bearing': 2, 'amends': 4, 'securing': 1, 'hyperbolical': 1, 'confessed': 1, 'oftener': 2, 'quest': 1, 'positive': 1, 'insincere': 1, 'built': 1, 'inn': 1, 'post': 1, 'contemplate': 1, 'capabilities': 1, 'sashed': 1, 'environs': 1, 'furnish': 1, 'particulars': 1, 'prevail': 1, 'argued': 1, 'inclinations': 1, 'inelegance': 1, 'cheap': 1, 'holding': 1, 'facing': 1, 'recollected': 1, 'preparatory': 1, 'successful': 2, 'betrayed': 2, 'utter': 1, 'deplorable': 1, 'defence': 1, 'hue': 1, 'peculiar': 4, 'disputing': 1, 'attends': 1, 'informs': 1, 'citizen': 1, 'buy': 1, 'sell': 1, 'gloves': 3, 'patriotism': 1, 'adored': 1, 'guinea': 1, 'popular': 1, 'sleek': 1, 'patriae': 1, 'amor': 1, 'tan': 1, 'tied': 1, 'york': 1, 'displaying': 1, 'beavers': 1, 'counter': 1, 'parcels': 1, 'stretch': 1, 'pronounce': 1, 'commit': 1, 'claiming': 1, 'discreetly': 1, 'leaves': 1, 'conclude': 3, 'hesitatingly': 1, 'plays': 2, 'vouchsafed': 1, 'sounds': 2, 'sensibility': 1, 'recur': 1, 'oneself': 2, 'stupidity': 1, 'improper': 1, 'scenes': 1, 'quickly': 2, 'checking': 1, 'outwardly': 1, 'critical': 1, 'wickedness': 2, 'idolized': 1, 'prone': 1, 'repulsive': 1, 'quality': 1, 'oftentimes': 1, 'conquering': 1, 'cautiousness': 1, 'perpetual': 1, 'pitied': 2, 'shared': 1, 'blockhead': 1, 'accommodations': 1, 'inevitably': 1, 'butler': 2, 'pantry': 1, 'willingly': 1, 'inroads': 1, 'chaise': 1, 'freak': 1, 'foppery': 1, 'accord': 1, 'rationality': 1, 'unselfish': 1, 'heedlessness': 1, 'extravagance': 1, 'charges': 1, 'restlessness': 1, 'comment': 1, 'blot': 1, 'marked': 2, 'harshly': 1, 'leniently': 1, 'allowances': 1, 'excesses': 1, 'bows': 1, 'bowed': 1, 'hum': 1, 'newspaper': 1, 'provoke': 1, 'relieve': 1, 'opportune': 1, 'bearers': 1, 'although': 1, 'unpretending': 1, 'occurrence': 1, 'unexpensively': 1, 'yielded': 1, 'larger': 2, 'expenses': 1, 'insult': 1, 'accounting': 1, 'assembled': 1, 'consisting': 1, 'dance': 2, 'acted': 1, 'bare': 1, 'owned': 2, 'screen': 1, 'draught': 1, 'readily': 2, 'solicited': 1, 'folding': 1, 'persuadable': 1, 'briefly': 1, 'neglecting': 1, 'numerous': 2, 'resigned': 1, 'dews': 1, 'desirous': 1, 'incumbent': 1, 'lessening': 1, 'allay': 1, 'deliberately': 1, 'treatment': 1, 'decline': 1, 'breaks': 1, 'mortify': 1, 'reminding': 1, 'touches': 1, 'liquor': 1, 'malt': 1, 'hurting': 1, 'risk': 1, 'piquet': 1, 'hungry': 1, 'concealed': 1, 'unspent': 1, 'undaunted': 1, 'moralised': 1, 'impudent': 1, 'handle': 1, 'achievement': 1, 'gloried': 1, 'ostentation': 1, 'vanities': 1, 'evasions': 1, 'defend': 1, 'inference': 1, 'failings': 1, 'propensity': 1, 'helping': 1, 'practise': 1, 'plentiful': 1, 'slices': 1, 'amply': 1, 'noticing': 2, 'owner': 1, 'bravado': 1, 'unconcern': 1, 'taller': 1, 'nonsensical': 1, 'dexterity': 1, 'strongest': 1, 'unobjectionable': 1, 'male': 1, 'cox': 2, 'surrender': 2, 'pleasantness': 1, 'politics': 1, 'females': 1, 'remote': 1, 'relating': 1, 'broadwood': 1, 'pianoforte': 9, 'dialogue': 1, 'bewildered': 1, 'ensued': 1, 'rejoiced': 1, 'delightfully': 1, 'instruments': 1, 'slap': 1, 'spinet': 1, 'pitifullest': 1, 'indulging': 1, 'entrapped': 1, 'nay': 2, 'untouched': 1, 'testifies': 1, 'acuteness': 1, 'mode': 1, 'elderly': 1, 'guide': 1, 'extend': 1, 'reflect': 1, 'privation': 1, 'trying': 2, 'february': 1, 'march': 1, 'cases': 1, 'adopt': 2, 'honestly': 1, 'noble': 1, 'accident': 1, 'overboard': 1, 'vessel': 1, 'observable': 1, 'durable': 1, 'consequent': 1, 'interrupted': 1, 'orderly': 1, 'dish': 1, 'courses': 1, 'unconvinced': 1, 'injure': 2, 'reasonings': 1, 'paternal': 1, 'giver': 1, 'remarks': 1, 'amid': 1, 'everyday': 1, 'jokes': 1, 'exult': 1, 'entree': 1, 'pangs': 1, 'blooming': 1, 'heartily': 1, 'unsentimental': 1, 'shedding': 1, 'purchased': 1, 'guilt': 1, 'pedal': 1, 'dwelling': 1, 'unsuspicious': 1, 'heroine': 1, 'en': 1, 'passant': 1, 'divined': 1, 'restrained': 1, 'hated': 1, 'abundant': 1, 'despise': 1, 'visitings': 1, 'questioned': 1, 'reasonably': 1, 'retirement': 1, 'boast': 1, 'across': 1, 'rousing': 1, 'curls': 1, 'outree': 1, 'irish': 1, 'distinguish': 1, 'improvidently': 1, 'soul': 1, 'thoughtful': 1, 'assisting': 1, 'unostentatious': 1, 'humane': 1, 'humanity': 2, 'disinterested': 1, 'consent': 1, 'amazed': 1, 'supplanted': 1, 'imprudence': 1, 'revolts': 1, 'mad': 3, 'sheep': 1, 'library': 1, 'shameful': 1, 'haunting': 1, 'petticoat': 2, 'petticoats': 1, 'mimic': 1, 'divert': 1, 'irritate': 1, 'louder': 1, 'drown': 1, 'mysteriously': 1, 'lamenting': 1, 'reproached': 1, 'sign': 1, 'gaining': 1, 'yield': 1, 'combated': 1, 'limitations': 1, 'perform': 1, 'song': 5, 'correctly': 1, 'accompaniment': 1, 'duly': 1, 'roundly': 1, 'accused': 1, 'asserted': 1, 'vocal': 1, 'instrumental': 1, 'resign': 1, 'sung': 2, 'interruptions': 1, 'voices': 1, 'momentary': 1, 'objections': 1, 'subside': 1, 'injury': 1, 'deduction': 1, 'disinclination': 1, 'indicate': 1, 'dwell': 1, 'cutting': 1, 'touchstone': 1, 'conveying': 1, 'surprizes': 1, 'enhanced': 1, 'oath': 1, 'fatigue': 1, 'falls': 1, 'indignantly': 1, 'touching': 1, 'mercy': 1, 'originating': 1, 'performers': 1, 'concert': 1, 'space': 1, 'waltz': 1, 'top': 1, 'dances': 2, 'dancer': 1, 'suddenness': 1, 'rarity': 1, 'matched': 1, 'partner': 1, 'mustered': 1})\n"
          ]
        }
      ]
    },
    {
      "cell_type": "markdown",
      "source": [
        "### Modelo"
      ],
      "metadata": {
        "id": "w6QJWD-J1MEZ"
      }
    },
    {
      "cell_type": "code",
      "source": [
        "# Para definir el tamaño del embedding\n",
        "vocab_size**(1/4)"
      ],
      "metadata": {
        "colab": {
          "base_uri": "https://localhost:8080/"
        },
        "id": "VoDEaBWs1DxY",
        "outputId": "fdb00a66-5cef-413c-8836-1cc107ada6d6"
      },
      "execution_count": 30,
      "outputs": [
        {
          "output_type": "execute_result",
          "data": {
            "text/plain": [
              "8.444476653057208"
            ]
          },
          "metadata": {},
          "execution_count": 30
        }
      ]
    },
    {
      "cell_type": "code",
      "source": [
        "model = Sequential()\n",
        "\n",
        "\n",
        "model.add(Embedding(input_dim=vocab_size+1, output_dim=10, input_shape=(None,)))\n",
        "model.add(LSTM(50, return_sequences=True))\n",
        "model.add(LSTM(25, return_sequences=True))\n",
        "\n",
        "# Predicción de clasificación con softmax --> la salida es del tamaño del vocabulario\n",
        "model.add(Dense(vocab_size+1, activation='softmax'))\n",
        "\n",
        "# Clasificación multiple categórica --> loss = categorical_crossentropy\n",
        "model.compile(loss=SparseCategoricalCrossentropy(), optimizer='rmsprop')\n",
        "\n",
        "model.summary()"
      ],
      "metadata": {
        "colab": {
          "base_uri": "https://localhost:8080/",
          "height": 320
        },
        "id": "9iTkpjql1DuS",
        "outputId": "70497345-2cbc-4f9e-8e02-cadf5731f813"
      },
      "execution_count": 31,
      "outputs": [
        {
          "output_type": "stream",
          "name": "stderr",
          "text": [
            "/usr/local/lib/python3.10/dist-packages/keras/src/layers/core/embedding.py:93: UserWarning: Do not pass an `input_shape`/`input_dim` argument to a layer. When using Sequential models, prefer using an `Input(shape)` object as the first layer in the model instead.\n",
            "  super().__init__(**kwargs)\n"
          ]
        },
        {
          "output_type": "display_data",
          "data": {
            "text/plain": [
              "\u001b[1mModel: \"sequential\"\u001b[0m\n"
            ],
            "text/html": [
              "<pre style=\"white-space:pre;overflow-x:auto;line-height:normal;font-family:Menlo,'DejaVu Sans Mono',consolas,'Courier New',monospace\"><span style=\"font-weight: bold\">Model: \"sequential\"</span>\n",
              "</pre>\n"
            ]
          },
          "metadata": {}
        },
        {
          "output_type": "display_data",
          "data": {
            "text/plain": [
              "┏━━━━━━━━━━━━━━━━━━━━━━━━━━━━━━━━━━━━━━┳━━━━━━━━━━━━━━━━━━━━━━━━━━━━━┳━━━━━━━━━━━━━━━━━┓\n",
              "┃\u001b[1m \u001b[0m\u001b[1mLayer (type)                        \u001b[0m\u001b[1m \u001b[0m┃\u001b[1m \u001b[0m\u001b[1mOutput Shape               \u001b[0m\u001b[1m \u001b[0m┃\u001b[1m \u001b[0m\u001b[1m        Param #\u001b[0m\u001b[1m \u001b[0m┃\n",
              "┡━━━━━━━━━━━━━━━━━━━━━━━━━━━━━━━━━━━━━━╇━━━━━━━━━━━━━━━━━━━━━━━━━━━━━╇━━━━━━━━━━━━━━━━━┩\n",
              "│ embedding (\u001b[38;5;33mEmbedding\u001b[0m)                │ (\u001b[38;5;45mNone\u001b[0m, \u001b[38;5;45mNone\u001b[0m, \u001b[38;5;34m10\u001b[0m)            │          \u001b[38;5;34m50,860\u001b[0m │\n",
              "├──────────────────────────────────────┼─────────────────────────────┼─────────────────┤\n",
              "│ lstm (\u001b[38;5;33mLSTM\u001b[0m)                          │ (\u001b[38;5;45mNone\u001b[0m, \u001b[38;5;45mNone\u001b[0m, \u001b[38;5;34m50\u001b[0m)            │          \u001b[38;5;34m12,200\u001b[0m │\n",
              "├──────────────────────────────────────┼─────────────────────────────┼─────────────────┤\n",
              "│ lstm_1 (\u001b[38;5;33mLSTM\u001b[0m)                        │ (\u001b[38;5;45mNone\u001b[0m, \u001b[38;5;45mNone\u001b[0m, \u001b[38;5;34m25\u001b[0m)            │           \u001b[38;5;34m7,600\u001b[0m │\n",
              "├──────────────────────────────────────┼─────────────────────────────┼─────────────────┤\n",
              "│ dense (\u001b[38;5;33mDense\u001b[0m)                        │ (\u001b[38;5;45mNone\u001b[0m, \u001b[38;5;45mNone\u001b[0m, \u001b[38;5;34m5086\u001b[0m)          │         \u001b[38;5;34m132,236\u001b[0m │\n",
              "└──────────────────────────────────────┴─────────────────────────────┴─────────────────┘\n"
            ],
            "text/html": [
              "<pre style=\"white-space:pre;overflow-x:auto;line-height:normal;font-family:Menlo,'DejaVu Sans Mono',consolas,'Courier New',monospace\">┏━━━━━━━━━━━━━━━━━━━━━━━━━━━━━━━━━━━━━━┳━━━━━━━━━━━━━━━━━━━━━━━━━━━━━┳━━━━━━━━━━━━━━━━━┓\n",
              "┃<span style=\"font-weight: bold\"> Layer (type)                         </span>┃<span style=\"font-weight: bold\"> Output Shape                </span>┃<span style=\"font-weight: bold\">         Param # </span>┃\n",
              "┡━━━━━━━━━━━━━━━━━━━━━━━━━━━━━━━━━━━━━━╇━━━━━━━━━━━━━━━━━━━━━━━━━━━━━╇━━━━━━━━━━━━━━━━━┩\n",
              "│ embedding (<span style=\"color: #0087ff; text-decoration-color: #0087ff\">Embedding</span>)                │ (<span style=\"color: #00d7ff; text-decoration-color: #00d7ff\">None</span>, <span style=\"color: #00d7ff; text-decoration-color: #00d7ff\">None</span>, <span style=\"color: #00af00; text-decoration-color: #00af00\">10</span>)            │          <span style=\"color: #00af00; text-decoration-color: #00af00\">50,860</span> │\n",
              "├──────────────────────────────────────┼─────────────────────────────┼─────────────────┤\n",
              "│ lstm (<span style=\"color: #0087ff; text-decoration-color: #0087ff\">LSTM</span>)                          │ (<span style=\"color: #00d7ff; text-decoration-color: #00d7ff\">None</span>, <span style=\"color: #00d7ff; text-decoration-color: #00d7ff\">None</span>, <span style=\"color: #00af00; text-decoration-color: #00af00\">50</span>)            │          <span style=\"color: #00af00; text-decoration-color: #00af00\">12,200</span> │\n",
              "├──────────────────────────────────────┼─────────────────────────────┼─────────────────┤\n",
              "│ lstm_1 (<span style=\"color: #0087ff; text-decoration-color: #0087ff\">LSTM</span>)                        │ (<span style=\"color: #00d7ff; text-decoration-color: #00d7ff\">None</span>, <span style=\"color: #00d7ff; text-decoration-color: #00d7ff\">None</span>, <span style=\"color: #00af00; text-decoration-color: #00af00\">25</span>)            │           <span style=\"color: #00af00; text-decoration-color: #00af00\">7,600</span> │\n",
              "├──────────────────────────────────────┼─────────────────────────────┼─────────────────┤\n",
              "│ dense (<span style=\"color: #0087ff; text-decoration-color: #0087ff\">Dense</span>)                        │ (<span style=\"color: #00d7ff; text-decoration-color: #00d7ff\">None</span>, <span style=\"color: #00d7ff; text-decoration-color: #00d7ff\">None</span>, <span style=\"color: #00af00; text-decoration-color: #00af00\">5086</span>)          │         <span style=\"color: #00af00; text-decoration-color: #00af00\">132,236</span> │\n",
              "└──────────────────────────────────────┴─────────────────────────────┴─────────────────┘\n",
              "</pre>\n"
            ]
          },
          "metadata": {}
        },
        {
          "output_type": "display_data",
          "data": {
            "text/plain": [
              "\u001b[1m Total params: \u001b[0m\u001b[38;5;34m202,896\u001b[0m (792.56 KB)\n"
            ],
            "text/html": [
              "<pre style=\"white-space:pre;overflow-x:auto;line-height:normal;font-family:Menlo,'DejaVu Sans Mono',consolas,'Courier New',monospace\"><span style=\"font-weight: bold\"> Total params: </span><span style=\"color: #00af00; text-decoration-color: #00af00\">202,896</span> (792.56 KB)\n",
              "</pre>\n"
            ]
          },
          "metadata": {}
        },
        {
          "output_type": "display_data",
          "data": {
            "text/plain": [
              "\u001b[1m Trainable params: \u001b[0m\u001b[38;5;34m202,896\u001b[0m (792.56 KB)\n"
            ],
            "text/html": [
              "<pre style=\"white-space:pre;overflow-x:auto;line-height:normal;font-family:Menlo,'DejaVu Sans Mono',consolas,'Courier New',monospace\"><span style=\"font-weight: bold\"> Trainable params: </span><span style=\"color: #00af00; text-decoration-color: #00af00\">202,896</span> (792.56 KB)\n",
              "</pre>\n"
            ]
          },
          "metadata": {}
        },
        {
          "output_type": "display_data",
          "data": {
            "text/plain": [
              "\u001b[1m Non-trainable params: \u001b[0m\u001b[38;5;34m0\u001b[0m (0.00 B)\n"
            ],
            "text/html": [
              "<pre style=\"white-space:pre;overflow-x:auto;line-height:normal;font-family:Menlo,'DejaVu Sans Mono',consolas,'Courier New',monospace\"><span style=\"font-weight: bold\"> Non-trainable params: </span><span style=\"color: #00af00; text-decoration-color: #00af00\">0</span> (0.00 B)\n",
              "</pre>\n"
            ]
          },
          "metadata": {}
        }
      ]
    },
    {
      "cell_type": "markdown",
      "source": [
        "Utilizamos el callback que vimos en clase"
      ],
      "metadata": {
        "id": "-02giXMfrfo3"
      }
    },
    {
      "cell_type": "code",
      "source": [
        "class PplCallback(keras.callbacks.Callback):\n",
        "\n",
        "    '''\n",
        "    Este callback es una solución ad-hoc para calcular al final de cada epoch de\n",
        "    entrenamiento la métrica de Perplejidad sobre un conjunto de datos de validación.\n",
        "    La perplejidad es una métrica cuantitativa para evaluar la calidad de la generación de secuencias.\n",
        "    Además implementa la finalización del entrenamiento (Early Stopping)\n",
        "    si la perplejidad no mejora después de `patience` epochs.\n",
        "    '''\n",
        "\n",
        "    def __init__(self, val_data, history_ppl, patience=5):\n",
        "      # El callback lo inicializamos con secuencias de validación sobre las cuales\n",
        "      # mediremos la perplejidad y la paciencia para detener el entrenamiento.\n",
        "      self.val_data = val_data\n",
        "\n",
        "      self.target = []\n",
        "      self.padded = []\n",
        "\n",
        "      count = 0\n",
        "      self.info = []\n",
        "      self.history_ppl = []\n",
        "      self.min_score = np.inf\n",
        "      self.patience_counter = 0\n",
        "      self.patience = patience\n",
        "\n",
        "      # nos movemos en todas las secuencias de los datos de validación\n",
        "      for seq in self.val_data:\n",
        "\n",
        "        len_seq = len(seq)\n",
        "        # armamos todas las subsecuencias\n",
        "        subseq = [seq[:i] for i in range(len_seq)]\n",
        "        self.target.extend([seq[i] for i in range(len_seq)])\n",
        "\n",
        "        if len(subseq)!=0:\n",
        "\n",
        "          self.padded.append(pad_sequences(subseq, maxlen=max_context_size, padding='pre'))\n",
        "\n",
        "          self.info.append((count,count+len_seq))\n",
        "          count += len_seq\n",
        "\n",
        "      self.padded = np.vstack(self.padded)\n",
        "\n",
        "\n",
        "    def on_epoch_end(self, epoch, logs=None):\n",
        "\n",
        "        # en `scores` iremos guardando la perplejidad de cada secuencia\n",
        "        scores = []\n",
        "\n",
        "        predictions = self.model.predict(self.padded,verbose=0)\n",
        "\n",
        "        # para cada secuencia de validación\n",
        "        for start,end in self.info:\n",
        "\n",
        "          # en `probs` iremos guardando las probabilidades de los términos target\n",
        "          probs = [predictions[idx_seq,-1,idx_vocab] for idx_seq, idx_vocab in zip(range(start,end),self.target[start:end])]\n",
        "\n",
        "          # calculamos la perplejidad por medio de logaritmos\n",
        "          scores.append(np.exp(-np.sum(np.log(probs))/(end-start)))\n",
        "\n",
        "        # promediamos todos los scores e imprimimos el valor promedio\n",
        "        current_score = np.mean(scores)\n",
        "        history_ppl.append(current_score)\n",
        "        print(f'\\n mean perplexity: {current_score} \\n')\n",
        "\n",
        "        # chequeamos si tenemos que detener el entrenamiento\n",
        "        if current_score < self.min_score:\n",
        "          self.min_score = current_score\n",
        "          self.model.save(\"my_model2.keras\")\n",
        "          print(\"Saved new model!\")\n",
        "          self.patience_counter = 0\n",
        "        else:\n",
        "          self.patience_counter += 1\n",
        "          if self.patience_counter == self.patience:\n",
        "            print(\"Stopping training...\")\n",
        "            self.model.stop_training = True\n"
      ],
      "metadata": {
        "id": "PJ2uQNOD1Szo"
      },
      "execution_count": 32,
      "outputs": []
    },
    {
      "cell_type": "code",
      "source": [
        "# Entrenamos\n",
        "history_ppl = []\n",
        "hist = model.fit(X, y, epochs=10, callbacks=[PplCallback(tokenized_sentences_val,history_ppl)], batch_size=100)"
      ],
      "metadata": {
        "colab": {
          "base_uri": "https://localhost:8080/"
        },
        "id": "UsHr6iCA1Sww",
        "outputId": "b6e5c8d8-8e15-4da9-a493-25264b35272d"
      },
      "execution_count": 33,
      "outputs": [
        {
          "output_type": "stream",
          "name": "stdout",
          "text": [
            "Epoch 1/10\n",
            "\u001b[1m5193/5195\u001b[0m \u001b[32m━━━━━━━━━━━━━━━━━━━\u001b[0m\u001b[37m━\u001b[0m \u001b[1m0s\u001b[0m 11ms/step - loss: 4.7088\n",
            " mean perplexity: 7226.634886493427 \n",
            "\n",
            "Saved new model!\n",
            "\u001b[1m5195/5195\u001b[0m \u001b[32m━━━━━━━━━━━━━━━━━━━━\u001b[0m\u001b[37m\u001b[0m \u001b[1m70s\u001b[0m 13ms/step - loss: 4.7086\n",
            "Epoch 2/10\n",
            "\u001b[1m5192/5195\u001b[0m \u001b[32m━━━━━━━━━━━━━━━━━━━\u001b[0m\u001b[37m━\u001b[0m \u001b[1m0s\u001b[0m 10ms/step - loss: 4.3333\n",
            " mean perplexity: 8045.308632655162 \n",
            "\n",
            "\u001b[1m5195/5195\u001b[0m \u001b[32m━━━━━━━━━━━━━━━━━━━━\u001b[0m\u001b[37m\u001b[0m \u001b[1m60s\u001b[0m 11ms/step - loss: 4.3333\n",
            "Epoch 3/10\n",
            "\u001b[1m5195/5195\u001b[0m \u001b[32m━━━━━━━━━━━━━━━━━━━━\u001b[0m\u001b[37m\u001b[0m \u001b[1m0s\u001b[0m 10ms/step - loss: 4.3073\n",
            " mean perplexity: 14150.400195072234 \n",
            "\n",
            "\u001b[1m5195/5195\u001b[0m \u001b[32m━━━━━━━━━━━━━━━━━━━━\u001b[0m\u001b[37m\u001b[0m \u001b[1m60s\u001b[0m 11ms/step - loss: 4.3073\n",
            "Epoch 4/10\n",
            "\u001b[1m5194/5195\u001b[0m \u001b[32m━━━━━━━━━━━━━━━━━━━\u001b[0m\u001b[37m━\u001b[0m \u001b[1m0s\u001b[0m 11ms/step - loss: 3.5392\n",
            " mean perplexity: 8109.381597873087 \n",
            "\n",
            "\u001b[1m5195/5195\u001b[0m \u001b[32m━━━━━━━━━━━━━━━━━━━━\u001b[0m\u001b[37m\u001b[0m \u001b[1m82s\u001b[0m 12ms/step - loss: 3.5391\n",
            "Epoch 5/10\n",
            "\u001b[1m5195/5195\u001b[0m \u001b[32m━━━━━━━━━━━━━━━━━━━━\u001b[0m\u001b[37m\u001b[0m \u001b[1m0s\u001b[0m 10ms/step - loss: 3.2916\n",
            " mean perplexity: 6564.836115724999 \n",
            "\n",
            "Saved new model!\n",
            "\u001b[1m5195/5195\u001b[0m \u001b[32m━━━━━━━━━━━━━━━━━━━━\u001b[0m\u001b[37m\u001b[0m \u001b[1m87s\u001b[0m 12ms/step - loss: 3.2915\n",
            "Epoch 6/10\n",
            "\u001b[1m5192/5195\u001b[0m \u001b[32m━━━━━━━━━━━━━━━━━━━\u001b[0m\u001b[37m━\u001b[0m \u001b[1m0s\u001b[0m 11ms/step - loss: 3.1469\n",
            " mean perplexity: 4519.299428952855 \n",
            "\n",
            "Saved new model!\n",
            "\u001b[1m5195/5195\u001b[0m \u001b[32m━━━━━━━━━━━━━━━━━━━━\u001b[0m\u001b[37m\u001b[0m \u001b[1m77s\u001b[0m 12ms/step - loss: 3.1469\n",
            "Epoch 7/10\n",
            "\u001b[1m5191/5195\u001b[0m \u001b[32m━━━━━━━━━━━━━━━━━━━\u001b[0m\u001b[37m━\u001b[0m \u001b[1m0s\u001b[0m 10ms/step - loss: 3.0483\n",
            " mean perplexity: 5170.518798562433 \n",
            "\n",
            "\u001b[1m5195/5195\u001b[0m \u001b[32m━━━━━━━━━━━━━━━━━━━━\u001b[0m\u001b[37m\u001b[0m \u001b[1m82s\u001b[0m 12ms/step - loss: 3.0483\n",
            "Epoch 8/10\n",
            "\u001b[1m5191/5195\u001b[0m \u001b[32m━━━━━━━━━━━━━━━━━━━\u001b[0m\u001b[37m━\u001b[0m \u001b[1m0s\u001b[0m 10ms/step - loss: 2.9785\n",
            " mean perplexity: 3930.047897648737 \n",
            "\n",
            "Saved new model!\n",
            "\u001b[1m5195/5195\u001b[0m \u001b[32m━━━━━━━━━━━━━━━━━━━━\u001b[0m\u001b[37m\u001b[0m \u001b[1m82s\u001b[0m 11ms/step - loss: 2.9785\n",
            "Epoch 9/10\n",
            "\u001b[1m5190/5195\u001b[0m \u001b[32m━━━━━━━━━━━━━━━━━━━\u001b[0m\u001b[37m━\u001b[0m \u001b[1m0s\u001b[0m 11ms/step - loss: 2.9227\n",
            " mean perplexity: 4300.136698718116 \n",
            "\n",
            "\u001b[1m5195/5195\u001b[0m \u001b[32m━━━━━━━━━━━━━━━━━━━━\u001b[0m\u001b[37m\u001b[0m \u001b[1m82s\u001b[0m 11ms/step - loss: 2.9226\n",
            "Epoch 10/10\n",
            "\u001b[1m5193/5195\u001b[0m \u001b[32m━━━━━━━━━━━━━━━━━━━\u001b[0m\u001b[37m━\u001b[0m \u001b[1m0s\u001b[0m 11ms/step - loss: 2.8794\n",
            " mean perplexity: 6122.227874201752 \n",
            "\n",
            "\u001b[1m5195/5195\u001b[0m \u001b[32m━━━━━━━━━━━━━━━━━━━━\u001b[0m\u001b[37m\u001b[0m \u001b[1m60s\u001b[0m 12ms/step - loss: 2.8794\n"
          ]
        }
      ]
    },
    {
      "cell_type": "code",
      "source": [
        "# Graficamos la evolución de la perplejidad con las épocas.\n",
        "epoch_count = range(1, len(history_ppl) + 1)\n",
        "sns.lineplot(x=epoch_count,  y=history_ppl)\n",
        "plt.show()"
      ],
      "metadata": {
        "colab": {
          "base_uri": "https://localhost:8080/",
          "height": 430
        },
        "id": "m6C7Ah1yeacX",
        "outputId": "5f90fba2-7473-4b08-961a-9f3900f5cf7b"
      },
      "execution_count": 34,
      "outputs": [
        {
          "output_type": "display_data",
          "data": {
            "text/plain": [
              "<Figure size 640x480 with 1 Axes>"
            ],
            "image/png": "[encoded data removed]"
          },
          "metadata": {}
        }
      ]
    },
    {
      "cell_type": "markdown",
      "source": [
        "Aca podemos observar que salvo entre la segunda y tercer época, la perplejidad fue bajando y que en la época 9 ya comenzó a subir nuevamente"
      ],
      "metadata": {
        "id": "IR9jAzukr1em"
      }
    },
    {
      "cell_type": "code",
      "source": [
        "# Cargamos el mejor modelo guardado del entrenamiento para hacer inferencia\n",
        "model = keras.models.load_model('my_model2.keras')"
      ],
      "metadata": {
        "id": "hgC1eLhdeaZP"
      },
      "execution_count": 35,
      "outputs": []
    },
    {
      "cell_type": "markdown",
      "source": [
        "Predicción de la próxima palabra utilizando la interfaz de gradio"
      ],
      "metadata": {
        "id": "2qWWJDU3oQNH"
      }
    },
    {
      "cell_type": "code",
      "source": [
        "import gradio as gr\n",
        "\n",
        "def model_response(human_text):\n",
        "\n",
        "    # Encodeamos\n",
        "    encoded = tok.texts_to_sequences([human_text])[0]\n",
        "    # Si tienen distinto largo\n",
        "    encoded = pad_sequences([encoded], maxlen=max_context_size, padding='pre')\n",
        "\n",
        "    # Predicción softmax\n",
        "    y_hat = np.argmax(model.predict(encoded)[0,-1,:])\n",
        "\n",
        "\n",
        "    # Debemos buscar en el vocabulario la palabra\n",
        "    # que corresopnde al indice (y_hat) predicho por le modelo\n",
        "    out_word = ''\n",
        "    for word, index in tok.word_index.items():\n",
        "        if index == y_hat:\n",
        "            out_word = word\n",
        "            break\n",
        "\n",
        "    # Agrego la palabra a la frase predicha\n",
        "    return human_text + ' ' + out_word\n",
        "\n",
        "iface = gr.Interface(\n",
        "    fn=model_response,\n",
        "    inputs=[\"textbox\"],\n",
        "    outputs=\"text\")\n",
        "\n",
        "iface.launch(debug=True)"
      ],
      "metadata": {
        "colab": {
          "base_uri": "https://localhost:8080/",
          "height": 737
        },
        "id": "aMielVoDeaVm",
        "outputId": "e1adf9b6-8b94-4633-f72d-cd067f6582aa"
      },
      "execution_count": 49,
      "outputs": [
        {
          "output_type": "stream",
          "name": "stdout",
          "text": [
            "Running Gradio in a Colab notebook requires sharing enabled. Automatically setting `share=True` (you can turn this off by setting `share=False` in `launch()` explicitly).\n",
            "\n",
            "Colab notebook detected. This cell will run indefinitely so that you can see errors and logs. To turn off, set debug=False in launch().\n",
            "* Running on public URL: https://6355442a564e3e5fc4.gradio.live\n",
            "\n",
            "This share link expires in 72 hours. For free permanent hosting and GPU upgrades, run `gradio deploy` from the terminal in the working directory to deploy to Hugging Face Spaces (https://huggingface.co/spaces)\n"
          ]
        },
        {
          "output_type": "display_data",
          "data": {
            "text/plain": [
              "<IPython.core.display.HTML object>"
            ],
            "text/html": [
              "<div><iframe src=\"https://6355442a564e3e5fc4.gradio.live\" width=\"100%\" height=\"500\" allow=\"autoplay; camera; microphone; clipboard-read; clipboard-write;\" frameborder=\"0\" allowfullscreen></iframe></div>"
            ]
          },
          "metadata": {}
        },
        {
          "output_type": "stream",
          "name": "stdout",
          "text": [
            "\u001b[1m1/1\u001b[0m \u001b[32m━━━━━━━━━━━━━━━━━━━━\u001b[0m\u001b[37m\u001b[0m \u001b[1m0s\u001b[0m 19ms/step\n",
            "\u001b[1m1/1\u001b[0m \u001b[32m━━━━━━━━━━━━━━━━━━━━\u001b[0m\u001b[37m\u001b[0m \u001b[1m0s\u001b[0m 17ms/step\n",
            "\u001b[1m1/1\u001b[0m \u001b[32m━━━━━━━━━━━━━━━━━━━━\u001b[0m\u001b[37m\u001b[0m \u001b[1m0s\u001b[0m 17ms/step\n",
            "Keyboard interruption in main thread... closing server.\n",
            "Killing tunnel 127.0.0.1:7860 <> https://6355442a564e3e5fc4.gradio.live\n"
          ]
        },
        {
          "output_type": "execute_result",
          "data": {
            "text/plain": []
          },
          "metadata": {},
          "execution_count": 49
        }
      ]
    },
    {
      "cell_type": "markdown",
      "source": [
        "Generación de secuencias"
      ],
      "metadata": {
        "id": "N7BzJvB2my8W"
      }
    },
    {
      "cell_type": "code",
      "source": [
        "def generate_seq(model, tokenizer, seed_text, max_length, n_words):\n",
        "    \"\"\"\n",
        "        Exec model sequence prediction\n",
        "\n",
        "        Args:\n",
        "            model (keras): modelo entrenado\n",
        "            tokenizer (keras tokenizer): tonenizer utilizado en el preprocesamiento\n",
        "            seed_text (string): texto de entrada (input_seq)\n",
        "            max_length (int): máxima longitud de la sequencia de entrada\n",
        "            n_words (int): números de palabras a agregar a la sequencia de entrada\n",
        "        returns:\n",
        "            output_text (string): sentencia con las \"n_words\" agregadas\n",
        "    \"\"\"\n",
        "    output_text = seed_text\n",
        "\t  # generate a fixed number of words\n",
        "    for _ in range(n_words):\n",
        "\t\t  # Tokenizamos\n",
        "      encoded = tokenizer.texts_to_sequences([output_text])[0]\n",
        "\n",
        "\t\t  # Si tienen distinto largo\n",
        "      encoded = pad_sequences([encoded], maxlen=max_length, padding='pre')\n",
        "\n",
        "\t\t  # Predicción softmax\n",
        "      y_hat = np.argmax(model.predict(encoded)[0,-1,:])\n",
        "\n",
        "      # Vamos concatenando las predicciones\n",
        "      out_word = ''\n",
        "\n",
        "      # Debemos buscar en el vocabulario la palabra\n",
        "      # que corresopnde al indice (y_hat) predicho por le modelo\n",
        "      for word, index in tokenizer.word_index.items():\n",
        "        if index == y_hat:\n",
        "          out_word = word\n",
        "          break\n",
        "\n",
        "\t\t  # Agrego las palabras a la frase predicha\n",
        "      output_text += ' ' + out_word\n",
        "\n",
        "    return output_text"
      ],
      "metadata": {
        "id": "sV5CC91QeaR8"
      },
      "execution_count": 51,
      "outputs": []
    },
    {
      "cell_type": "code",
      "execution_count": 55,
      "metadata": {
        "colab": {
          "base_uri": "https://localhost:8080/",
          "height": 125
        },
        "outputId": "977c6c95-98e9-42ff-cb6f-94c5104d3939",
        "id": "UmFkShcWfG5N"
      },
      "outputs": [
        {
          "output_type": "stream",
          "name": "stdout",
          "text": [
            "\u001b[1m1/1\u001b[0m \u001b[32m━━━━━━━━━━━━━━━━━━━━\u001b[0m\u001b[37m\u001b[0m \u001b[1m0s\u001b[0m 31ms/step\n",
            "\u001b[1m1/1\u001b[0m \u001b[32m━━━━━━━━━━━━━━━━━━━━\u001b[0m\u001b[37m\u001b[0m \u001b[1m0s\u001b[0m 72ms/step\n",
            "\u001b[1m1/1\u001b[0m \u001b[32m━━━━━━━━━━━━━━━━━━━━\u001b[0m\u001b[37m\u001b[0m \u001b[1m0s\u001b[0m 35ms/step\n",
            "\u001b[1m1/1\u001b[0m \u001b[32m━━━━━━━━━━━━━━━━━━━━\u001b[0m\u001b[37m\u001b[0m \u001b[1m0s\u001b[0m 44ms/step\n",
            "\u001b[1m1/1\u001b[0m \u001b[32m━━━━━━━━━━━━━━━━━━━━\u001b[0m\u001b[37m\u001b[0m \u001b[1m0s\u001b[0m 43ms/step\n"
          ]
        },
        {
          "output_type": "execute_result",
          "data": {
            "text/plain": [
              "'she said that she was not so much'"
            ],
            "application/vnd.google.colaboratory.intrinsic+json": {
              "type": "string"
            }
          },
          "metadata": {},
          "execution_count": 55
        }
      ],
      "source": [
        "input_text='she said that'\n",
        "\n",
        "generate_seq(model, tok, input_text, max_length=max_context_size, n_words=5)"
      ]
    },
    {
      "cell_type": "markdown",
      "metadata": {
        "id": "0KBUyBDkfG5O"
      },
      "source": [
        "Beam search y muestreo aleatorio"
      ]
    },
    {
      "cell_type": "code",
      "execution_count": 43,
      "metadata": {
        "id": "6fm1pQ6KfG5O"
      },
      "outputs": [],
      "source": [
        "# funcionalidades para hacer encoding y decoding\n",
        "\n",
        "def encode(text,max_length=max_context_size):\n",
        "\n",
        "    encoded = tok.texts_to_sequences([text])[0]\n",
        "    encoded = pad_sequences([encoded], maxlen=max_length, padding='pre')\n",
        "\n",
        "    return encoded\n",
        "\n",
        "def decode(seq):\n",
        "    return tok.sequences_to_texts([seq])"
      ]
    },
    {
      "cell_type": "code",
      "execution_count": 56,
      "metadata": {
        "id": "khqMn2b_fG5O"
      },
      "outputs": [],
      "source": [
        "from scipy.special import softmax\n",
        "\n",
        "# función que selecciona candidatos para el beam search\n",
        "def select_candidates(pred,num_beams,vocab_size,history_probs,history_tokens,temp,mode):\n",
        "\n",
        "  # colectar todas las probabilidades para la siguiente búsqueda\n",
        "  pred_large = []\n",
        "\n",
        "  for idx,pp in enumerate(pred):\n",
        "    pred_large.extend(np.log(pp+1E-10)+history_probs[idx])\n",
        "\n",
        "  pred_large = np.array(pred_large)\n",
        "\n",
        "  # criterio de selección\n",
        "  if mode == 'det':\n",
        "    idx_select = np.argsort(pred_large)[::-1][:num_beams] # beam search determinista\n",
        "  elif mode == 'sto':\n",
        "    idx_select = np.random.choice(np.arange(pred_large.shape[0]), num_beams, p=softmax(pred_large/temp)) # beam search con muestreo aleatorio\n",
        "  else:\n",
        "    raise ValueError(f'Wrong selection mode. {mode} was given. det and sto are supported.')\n",
        "\n",
        "  # traducir a índices de token en el vocabulario\n",
        "  new_history_tokens = np.concatenate((np.array(history_tokens)[idx_select//vocab_size],\n",
        "                        np.array([idx_select%vocab_size]).T),\n",
        "                      axis=1)\n",
        "\n",
        "  # devolver el producto de las probabilidades (log) y la secuencia de tokens seleccionados\n",
        "  return pred_large[idx_select.astype(int)], new_history_tokens.astype(int)\n",
        "\n",
        "\n",
        "def beam_search(model,num_beams,num_words,input,temp=1,mode='det'):\n",
        "\n",
        "    # first iteration\n",
        "\n",
        "    # encode\n",
        "    encoded = encode(input)\n",
        "\n",
        "    # first prediction\n",
        "    y_hat = model.predict(encoded,verbose=0)[0,-1,:]\n",
        "\n",
        "    # get vocabulary size\n",
        "    vocab_size = y_hat.shape[0]\n",
        "\n",
        "    # initialize history\n",
        "    history_probs = [0]*num_beams\n",
        "    history_tokens = [encoded[0]]*num_beams\n",
        "\n",
        "    # select num_beams candidates\n",
        "    history_probs, history_tokens = select_candidates([y_hat],\n",
        "                                        num_beams,\n",
        "                                        vocab_size,\n",
        "                                        history_probs,\n",
        "                                        history_tokens,\n",
        "                                        temp,\n",
        "                                        mode)\n",
        "\n",
        "    # beam search loop\n",
        "    for i in range(num_words-1):\n",
        "\n",
        "      preds = []\n",
        "\n",
        "      for hist in history_tokens:\n",
        "\n",
        "        # actualizar secuencia de tokens\n",
        "        input_update = np.array([hist[i+1:]]).copy()\n",
        "\n",
        "        # predicción\n",
        "        y_hat = model.predict(input_update,verbose=0)[0,-1,:]\n",
        "\n",
        "        preds.append(y_hat)\n",
        "\n",
        "      history_probs, history_tokens = select_candidates(preds,\n",
        "                                                        num_beams,\n",
        "                                                        vocab_size,\n",
        "                                                        history_probs,\n",
        "                                                        history_tokens,\n",
        "                                                        temp,\n",
        "                                                        mode)\n",
        "\n",
        "    return history_tokens"
      ]
    },
    {
      "cell_type": "code",
      "execution_count": 74,
      "metadata": {
        "id": "fMjyJSRxfG5O"
      },
      "outputs": [],
      "source": [
        "# predicción con beam search utilizando el modo estocastico\n",
        "salidas = beam_search(model,num_beams=10,num_words=5,input=\"tomorrow i will\",temp=1,mode='sto')"
      ]
    },
    {
      "cell_type": "code",
      "execution_count": 75,
      "metadata": {
        "colab": {
          "base_uri": "https://localhost:8080/"
        },
        "outputId": "6f96bceb-60a9-44e9-9474-e575defa1772",
        "id": "6jdCwOnAfG5O"
      },
      "outputs": [
        {
          "output_type": "execute_result",
          "data": {
            "text/plain": [
              "['i will be so much at some']"
            ]
          },
          "metadata": {},
          "execution_count": 75
        }
      ],
      "source": [
        "# veamos las salidas\n",
        "decode(salidas[0])"
      ]
    },
    {
      "cell_type": "code",
      "source": [
        "# predicción con beam search utilizando el modo deterministico\n",
        "salidas = beam_search(model,num_beams=10,num_words=5,input=\"tomorrow i will\",temp=1,mode='det')"
      ],
      "metadata": {
        "id": "xbkyVnBzfG5O"
      },
      "execution_count": 66,
      "outputs": []
    },
    {
      "cell_type": "code",
      "source": [
        "# veamos las salidas\n",
        "decode(salidas[0])"
      ],
      "metadata": {
        "colab": {
          "base_uri": "https://localhost:8080/"
        },
        "outputId": "81737878-5f8e-490d-aeac-004aeb984c80",
        "id": "U9y8egusfG5O"
      },
      "execution_count": 67,
      "outputs": [
        {
          "output_type": "execute_result",
          "data": {
            "text/plain": [
              "['i will be so much of the']"
            ]
          },
          "metadata": {},
          "execution_count": 67
        }
      ]
    },
    {
      "cell_type": "code",
      "source": [
        "# predicción con beam search modificando la temperatura\n",
        "salidas = beam_search(model,num_beams=10,num_words=5,input=\"tomorrow i will\",temp=2,mode='sto')\n",
        "# veamos las salidas\n",
        "decode(salidas[0])"
      ],
      "metadata": {
        "colab": {
          "base_uri": "https://localhost:8080/"
        },
        "outputId": "fc330961-c83b-4c95-ccd0-a5289084e443",
        "id": "Mmrs2T1ifG5P"
      },
      "execution_count": 77,
      "outputs": [
        {
          "output_type": "execute_result",
          "data": {
            "text/plain": [
              "['i will feel the mr sensible every']"
            ]
          },
          "metadata": {},
          "execution_count": 77
        }
      ]
    },
    {
      "cell_type": "markdown",
      "source": [
        "Conclusion:\n",
        "Cuando intentamos predecir la siguiente palabra funcionó relativamente bien: yo puse \"i went\" y respondió \"i went to\".\n",
        "Cuando intentamos que prediga toda la oración, ahi empezamos a ver que comienza a fallar y generar oraciones que no hacen sentido."
      ],
      "metadata": {
        "id": "stEy-g34oZs5"
      }
    }
  ],
  "metadata": {
    "colab": {
      "provenance": [],
      "gpuType": "T4"
    },
    "kernelspec": {
      "display_name": "Python 3",
      "name": "python3"
    },
    "language_info": {
      "name": "python"
    },
    "accelerator": "GPU"
  },
  "nbformat": 4,
  "nbformat_minor": 0
}